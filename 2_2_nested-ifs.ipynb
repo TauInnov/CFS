{
 "cells": [
  {
   "cell_type": "code",
   "execution_count": null,
   "id": "9ce324cd-a8f2-427d-8357-48a383eae9fc",
   "metadata": {
    "tags": [
     "remove-cell"
    ]
   },
   "outputs": [],
   "source": [
    "%%html\n",
    "<script>\n",
    "(function() {\n",
    "  // Create the toggle button\n",
    "  const rtlButton = document.createElement(\"button\");\n",
    "  rtlButton.textContent = \"Toggle LTR\";\n",
    "  rtlButton.id = \"top-rtl-toggle\";\n",
    "  rtlButton.style.marginLeft = \"8px\";\n",
    "  rtlButton.style.padding = \"4px 10px\";\n",
    "  rtlButton.style.fontSize = \"14px\";\n",
    "  rtlButton.style.cursor = \"pointer\";\n",
    "\n",
    "  // State\n",
    "  var rtlActive = false;\n",
    "\n",
    "  // Styling function\n",
    "  var applyStyleToEditor = (editor) => {\n",
    "    if (!editor) return;\n",
    "    var direction = getComputedStyle(editor).getPropertyValue('direction')=='rtl' ? 'ltr' : 'rtl';\n",
    "    var text_align = getComputedStyle(editor).getPropertyValue('text-align')=='right' ? 'left' : 'right';\n",
    "    editor.style.setProperty('direction', direction, 'important');\n",
    "    editor.style.setProperty('text-align', text_align, 'important');\n",
    "  };\n",
    "\n",
    "  // Toggle logic\n",
    "  rtlButton.onclick = () => {\n",
    "    rtlActive = !rtlActive;\n",
    "    rtlButton.textContent = rtlActive ? \"Toggle LTR\" : \"Toggle RTL\";\n",
    "    document.querySelectorAll('.jp-MarkdownCell .jp-InputArea-editor').forEach(applyStyleToEditor);\n",
    "    document.querySelectorAll('.jp-RenderedHTMLCommon code, .jp-RenderedHTMLCommon code span').forEach(applyStyleToEditor);\n",
    "    document.querySelectorAll('jp-RenderedHTMLCommon, .jp-RenderedHTMLCommon *').forEach(applyStyleToEditor);\n",
    "  };\n",
    "\n",
    "  // Watch for focus into editing Markdown cells\n",
    "  // document.addEventListener('focusin', (event) => {\n",
    "  //   const editor = event.target.closest('.jp-MarkdownCell .jp-InputArea-editor');\n",
    "  //    if (editor) applyStyleToEditor(editor);\n",
    "  // });\n",
    "\n",
    "  // Insert into top toolbar if not already present\n",
    "  var insertIntoToolbar = () => {\n",
    "    const toolbar = document.querySelector('.jp-NotebookPanel-toolbar');\n",
    "    if (toolbar && !document.getElementById(\"top-rtl-toggle\")) {\n",
    "      toolbar.appendChild(rtlButton);\n",
    "    } else {\n",
    "      // Try again in a moment if toolbar isn't ready yet\n",
    "      setTimeout(insertIntoToolbar, 300);\n",
    "    }\n",
    "  };\n",
    "\n",
    "  insertIntoToolbar();\n",
    "})();\n",
    "</script>"
   ]
  },
  {
   "cell_type": "code",
   "execution_count": null,
   "id": "2d7af840",
   "metadata": {
    "slideshow": {
     "slide_type": "skip"
    },
    "tags": [
     "remove-cell"
    ]
   },
   "outputs": [],
   "source": [
    "%%html\n",
    "<!-- <style>\n",
    "  table {display: inline-block}\n",
    "</style> -->\n"
   ]
  },
  {
   "cell_type": "markdown",
   "id": "cc1594a4-5188-4a99-a49b-55aecd3852c6",
   "metadata": {},
   "source": [
    "# תנאים מקוננים (nested ifs) - תנאי בתוך תנאי"
   ]
  },
  {
   "cell_type": "markdown",
   "id": "6cbcc609-fc0d-4c4d-aacc-71e7855211e7",
   "metadata": {},
   "source": [
    "צפו בסרטון הבא המסביר איך ניתן לממש תנאים שתלויים אחד בשני:"
   ]
  },
  {
   "cell_type": "code",
   "execution_count": 2,
   "id": "ce16cf7f-30ed-4ac9-ba81-b601c7f18e0a",
   "metadata": {
    "tags": [
     "remove-input"
    ]
   },
   "outputs": [
    {
     "data": {
      "text/html": [
       "<iframe width=\"560\" height=\"315\" src=\"https://www.youtube.com/embed/qoQ7wxMXMvc?si=JF1Z6pv5U9j-hUnl\" title=\"YouTube video player\" frameborder=\"0\" allow=\"accelerometer; autoplay; clipboard-write; encrypted-media; gyroscope; picture-in-picture; web-share\" referrerpolicy=\"strict-origin-when-cross-origin\" allowfullscreen></iframe>\n"
      ],
      "text/plain": [
       "<IPython.core.display.HTML object>"
      ]
     },
     "metadata": {},
     "output_type": "display_data"
    }
   ],
   "source": [
    "%%html\n",
    "<iframe width=\"560\" height=\"315\" src=\"https://www.youtube.com/embed/qoQ7wxMXMvc?si=JF1Z6pv5U9j-hUnl\" title=\"YouTube video player\" frameborder=\"0\" allow=\"accelerometer; autoplay; clipboard-write; encrypted-media; gyroscope; picture-in-picture; web-share\" referrerpolicy=\"strict-origin-when-cross-origin\" allowfullscreen></iframe>"
   ]
  },
  {
   "cell_type": "markdown",
   "id": "fb1c79bd-c756-45a5-a0b9-54d52d73620e",
   "metadata": {},
   "source": [
    "**לנוחותכם חלונית עם הקוד שראינו בסרטון. מוזמנים להריץ בעצמכם:**"
   ]
  },
  {
   "cell_type": "code",
   "execution_count": null,
   "id": "966c5bb3-a5d0-4553-b9ce-c79acde8a381",
   "metadata": {},
   "outputs": [],
   "source": [
    "temp = 25\n",
    "wait = 60\n",
    "\n",
    "if temp < 20:\n",
    "    print(\"Eat soup!\")\n",
    "    print(\"Enjoy!\")\n",
    "    if wait >= 40:\n",
    "        print(\"Order a delivery\")\n",
    "    else:\n",
    "        print(\"Prepare dinner yourself\")\n",
    "else:\n",
    "    print(\"Eat a salad!\")\n",
    "print(\"Bon appetit!\")"
   ]
  },
  {
   "cell_type": "markdown",
   "id": "dcf402cf-8af7-4822-aef3-eec35d56f17d",
   "metadata": {},
   "source": [
    "<h4 style=\"color:purple\">\n",
    "נסו בעצמכם\n",
    "</h4>"
   ]
  },
  {
   "cell_type": "markdown",
   "id": "debbadbd-40cc-412b-9fa4-31e6d1e40f7a",
   "metadata": {},
   "source": [
    "הקוד הבא בודק עבור מספר השמור ב`n` האם הוא מתחלק ב2, 3 ו6 ומדפיס את הטקסט המתאים"
   ]
  },
  {
   "cell_type": "code",
   "execution_count": null,
   "id": "02bf2451-a6c2-4884-8217-fd39a9f1266f",
   "metadata": {},
   "outputs": [],
   "source": [
    "n=12\n",
    "\n",
    "if n % 3 == 0: \n",
    "    if n % 2 == 0: # NESTED if\n",
    "        print('divisible by 2,3,6')\n",
    "    else: # NESTED else, pertains to INNER if.\n",
    "        print('divisible by 3')\n",
    "else: # Not nested, thus pertains to OUTER if.\n",
    "    if n % 2 == 0: # NESTED if\n",
    "        print('divisible by 2')\n",
    "    else:\n",
    "        print(n + ' is not divisible by 3.')"
   ]
  }
 ],
 "metadata": {
  "celltoolbar": "Slideshow",
  "kernelspec": {
   "display_name": "Python 3 (ipykernel)",
   "language": "python",
   "name": "python3"
  },
  "language_info": {
   "codemirror_mode": {
    "name": "ipython",
    "version": 3
   },
   "file_extension": ".py",
   "mimetype": "text/x-python",
   "name": "python",
   "nbconvert_exporter": "python",
   "pygments_lexer": "ipython3",
   "version": "3.11.12"
  }
 },
 "nbformat": 4,
 "nbformat_minor": 5
}
