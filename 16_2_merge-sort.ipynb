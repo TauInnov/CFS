{
 "cells": [
  {
   "cell_type": "code",
   "execution_count": null,
   "id": "29182871",
   "metadata": {
    "execution": {
     "iopub.execute_input": "2025-03-19T10:53:14.214185Z",
     "iopub.status.busy": "2025-03-19T10:53:14.213860Z",
     "iopub.status.idle": "2025-03-19T10:53:14.231829Z",
     "shell.execute_reply": "2025-03-19T10:53:14.230845Z"
    },
    "slideshow": {
     "slide_type": "skip"
    },
    "tags": [
     "remove-cell"
    ]
   },
   "outputs": [],
   "source": [
    "%%html\n",
    "<style>\n",
    "table {display: inline-block}\n",
    "td {text-align:left}\n",
    "</style>\n"
   ]
  },
  {
   "cell_type": "markdown",
   "id": "1b7148eb",
   "metadata": {
    "slideshow": {
     "slide_type": "slide"
    }
   },
   "source": [
    "# מיון מיזוג - Merge sort"
   ]
  },
  {
   "cell_type": "markdown",
   "id": "e09d09f0",
   "metadata": {
    "slideshow": {
     "slide_type": "fragment"
    }
   },
   "source": [
    "Merge Sort הוא אחד מאלגוריתמי המיון הקלאסיים והחשובים במדעי המחשב.  \n",
    "הייחוד שלו הוא בכך שהוא מבוסס על רעיון פשוט אך עוצמתי: במקום למיין רשימה שלמה בבת אחת, מפרקים אותה באמצעות רקורסיה לבעיות מיון קטנות יותר - תתי-רשימות - שקל יותר למיין בנפרד, ולמזג בצורה יעילה.  "
   ]
  },
  {
   "cell_type": "markdown",
   "id": "5412c880-613d-4232-b154-4757825d3479",
   "metadata": {},
   "source": [
    "### עקרונות הפתרון"
   ]
  },
  {
   "cell_type": "markdown",
   "id": "5c6dbaa4-daaf-423e-9bb0-4c740e0ae529",
   "metadata": {},
   "source": [
    "  \n",
    "- נפרק את רשימת הקלט לשני חצאים, ונמיין כל אחד מהם בנפרד   \n",
    "    - כל תתרשימה היא למעשה תת בעיה ולכן נבצע את המין באמצעות קריאה רקורסיבית **באמצעות הקריאה הרקורסיבית**  \n",
    "- לאחר מכן, נרכיב את שתי הרשימות **הממויינות** ביחד כדי ליצור רשימה ממויינת אחת שלמה   "
   ]
  },
  {
   "cell_type": "markdown",
   "id": "134484d7-8bd5-4d4a-89cc-ddc643243629",
   "metadata": {},
   "source": [
    "#### מה היתרון במיזוג שתי רשימות ממוינות?\n",
    "\n",
    "אם כבר יש לנו שתי רשימות ממוינות, הרבה יותר יעיל לאחד אותן לרשימה אחת ממוינת. \n",
    "נתחיל מהגדרת  **האיבר המוביל** ברשימה האיבר הראשון שעדיין לא נבחר בכל רשימה ממוינת.\n",
    "נעבור בלולאת `while`, ובכל איטרציה ניקח בכל שלב את האיבר הקטן ביותר מבין שני ה\"איברים המובילים\" (הראשונים שעדיין לא נלקחו) בכל רשימה, ולהעביר אותו לרשימה החדשה.   לאחר מכן איבר המוביל \"מתקדם\" לאינדקס הבא באותה הרשימה שממנה נלקח האיבר. התהליך נמשך עד שכל האיברים מאחת הרשימות הועתקו לרשימה המאוחדת, ואז להעתיק את שארית האיבורים מהרשימה השניה. \n",
    "\n",
    "היתרון הגדול במיון כזה הוא שאין צורך להשוות כל איבר לכל האחרים. למעשה, מספר האיטרציות הדרושות הן לכל היותר סכום אורכי הרשימות. זו בדיוק הסיבה ש־Merge Sort משתמש במיזוג רשימות ממוינות כצעד מרכזי: הוא הופך את מלאכת בניית הרשימה הממוינת הגדולה לבעיה פשוטה של חיבור שתי רשימות שכבר ממוינות, בצורה מהירה ויעילה."
   ]
  },
  {
   "cell_type": "markdown",
   "id": "844e7008",
   "metadata": {
    "slideshow": {
     "slide_type": "subslide"
    }
   },
   "source": [
    "### מימוש מיזוג שתי רשימות ממויינות בפייתון"
   ]
  },
  {
   "cell_type": "code",
   "execution_count": null,
   "id": "3602ad55",
   "metadata": {
    "execution": {
     "iopub.execute_input": "2025-03-19T10:53:14.477651Z",
     "iopub.status.busy": "2025-03-19T10:53:14.477106Z",
     "iopub.status.idle": "2025-03-19T10:53:14.482608Z",
     "shell.execute_reply": "2025-03-19T10:53:14.481949Z"
    },
    "slideshow": {
     "slide_type": "fragment"
    }
   },
   "outputs": [],
   "source": [
    "def merge(left, right):\n",
    "    merged_list = []\n",
    "    left_i, right_i = 0, 0\n",
    "    while left_i < len(left) and right_i < len(right):\n",
    "        if left[left_i] <= right[right_i]:\n",
    "            merged_list.append(left[left_i])\n",
    "            left_i += 1\n",
    "        else:\n",
    "            merged_list.append(right[right_i])\n",
    "            right_i += 1\n",
    "\n",
    "    # copy remaining:\n",
    "    merged_list += left[left_i:] + right[right_i:]\n",
    "    return merged_list "
   ]
  },
  {
   "cell_type": "markdown",
   "id": "513cbd7c-3d81-4a35-9fda-ee69b0ad085d",
   "metadata": {
    "slideshow": {
     "slide_type": "fragment"
    }
   },
   "source": [
    "<span style='color:purple'><b>נניח ש-`len(right)=5`, ו־-`len(left)=3`. כמה איטרציות תתבצענה לכל היותר בתוך לולאת ה-`while`?</b></span>  \n"
   ]
  },
  {
   "cell_type": "markdown",
   "id": "f9b29c60",
   "metadata": {
    "slideshow": {
     "slide_type": "subslide"
    }
   },
   "source": [
    "כעת נשתמש בפונקצית `merge` כדי לממש את הפתרון הרקורסיבי של Merge Sort "
   ]
  },
  {
   "cell_type": "markdown",
   "id": "b4eb4278-eb53-4ae8-be46-bef1de0af9b0",
   "metadata": {},
   "source": [
    "נתחיל מהגדרת שלושת חלקי הרקורסיה בפתרון:"
   ]
  },
  {
   "cell_type": "markdown",
   "id": "8e961420",
   "metadata": {
    "slideshow": {
     "slide_type": "fragment"
    }
   },
   "source": [
    "- **תנאי עצירה (stop):** רשימה עם איבר אחד  \n",
    "- **פירוק לתתי בעיות (decomposition):** חלוקת הרשימה לשני חצאים, מיון כל חצי רקורסיבית  \n",
    "- **הרכבת תתי הבעיות לפתרון (aggregation):** מיזוג תתי-הרשימות הממוינות לרשימה אחת ממוינת (באמצעות פונקצית `merge` שכתבתו למעלה) \n"
   ]
  },
  {
   "cell_type": "markdown",
   "id": "1e9a850b",
   "metadata": {
    "slideshow": {
     "slide_type": "subslide"
    }
   },
   "source": [
    "### מימוש Merge Sort בפייתון"
   ]
  },
  {
   "cell_type": "code",
   "execution_count": null,
   "id": "f5c814c9",
   "metadata": {
    "execution": {
     "iopub.execute_input": "2025-03-19T10:53:14.486045Z",
     "iopub.status.busy": "2025-03-19T10:53:14.485480Z",
     "iopub.status.idle": "2025-03-19T10:53:14.490361Z",
     "shell.execute_reply": "2025-03-19T10:53:14.489669Z"
    },
    "slideshow": {
     "slide_type": "fragment"
    }
   },
   "outputs": [],
   "source": [
    "def mergesort(lst):\n",
    "    if len(lst) <= 1: # STOP\n",
    "        return lst\n",
    "\n",
    "    middle = len(lst) // 2 \n",
    "    left = mergesort(lst[ : middle]) # DECOMPOSITION\n",
    "    right = mergesort(lst[middle : ]) # DECOMPOSITION\n",
    "    merged_list = merge(left, right) # USE\n",
    "    return merged_list "
   ]
  },
  {
   "cell_type": "code",
   "execution_count": null,
   "id": "32d44063",
   "metadata": {
    "execution": {
     "iopub.execute_input": "2025-03-19T10:53:14.493227Z",
     "iopub.status.busy": "2025-03-19T10:53:14.492885Z",
     "iopub.status.idle": "2025-03-19T10:53:14.497186Z",
     "shell.execute_reply": "2025-03-19T10:53:14.496378Z"
    },
    "slideshow": {
     "slide_type": "fragment"
    }
   },
   "outputs": [],
   "source": [
    "print(mergesort([3,1,7,137,132,731]))"
   ]
  },
  {
   "cell_type": "markdown",
   "id": "dfa52386-d443-41d8-ae8b-b94484d03e1c",
   "metadata": {
    "slideshow": {
     "slide_type": "fragment"
    }
   },
   "source": [
    "<span style='color:purple'><b> נניח ש-`len(lst)=16`. מהו ה\"עומק\" של עץ הרקורסיה?</b></span>  "
   ]
  }
 ],
 "metadata": {
  "celltoolbar": "Slideshow",
  "kernelspec": {
   "display_name": "Python 3 (ipykernel)",
   "language": "python",
   "name": "python3"
  },
  "language_info": {
   "codemirror_mode": {
    "name": "ipython",
    "version": 3
   },
   "file_extension": ".py",
   "mimetype": "text/x-python",
   "name": "python",
   "nbconvert_exporter": "python",
   "pygments_lexer": "ipython3",
   "version": "3.11.12"
  }
 },
 "nbformat": 4,
 "nbformat_minor": 5
}
