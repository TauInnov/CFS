{
 "cells": [
  {
   "cell_type": "markdown",
   "id": "62ddb10f",
   "metadata": {},
   "source": [
    "## Datatypes (טיפוסי נתונים)\n",
    "כל מערך ב־NumPy מכיל איברים מאותו טיפוס.\n",
    "ספריית NumPy מספקת מגוון טיפוסים מספריים, לרוב היא תנחש את הטיפוס בעת יצירה, אך ניתן גם לציין טיפוס במפורש.\n",
    "\n",
    "כאשר יוצרים מערך ממספרים שלמים רגילים, NumPy בוחר טיפוס שלם (int):"
   ]
  },
  {
   "cell_type": "code",
   "execution_count": null,
   "id": "579e8028",
   "metadata": {},
   "outputs": [],
   "source": [
    "import numpy as np\n",
    "x = np.array([1, 2])       # NumPy infers integer type\n",
    "print(x.dtype)             # Usually int32 or int64 depending on the system"
   ]
  },
  {
   "cell_type": "markdown",
   "id": "2842f256",
   "metadata": {},
   "source": [
    "כאשר יוצרים מערך ממספרים ממשיים (עם נקודה עשרונית), NumPy בוחר טיפוס נקודה צפה (float).  "
   ]
  },
  {
   "cell_type": "code",
   "execution_count": null,
   "id": "5c5c41c7",
   "metadata": {},
   "outputs": [],
   "source": [
    "x = np.array([1.0, 2.0])   # NumPy infers float type\n",
    "print(x.dtype)             # Usually float64"
   ]
  },
  {
   "cell_type": "markdown",
   "id": "f022983e",
   "metadata": {},
   "source": [
    "ניתן גם להכריח שימוש בטיפוס מסוים בזמן יצירת המערך, באמצעות הפרמטר `dtype`.  "
   ]
  },
  {
   "cell_type": "code",
   "execution_count": null,
   "id": "c9312bec",
   "metadata": {},
   "outputs": [],
   "source": [
    "x = np.array([1, 2], dtype=np.int64)   # Force explicit integer type (int64)\n",
    "print(x.dtype)"
   ]
  },
  {
   "cell_type": "markdown",
   "id": "0cf5c34a",
   "metadata": {},
   "source": [
    "מעבר לטיפוסים בסיסיים כמו int ו־float, NumPy תומך גם בטיפוסים נוספים:  \n",
    "- **מספרים מרוכבים** (`complex64`, `complex128`) – שימושי במכניקה קוונטית ובעיבוד אותות.  \n",
    "- **טיפוסי נקודה צפה מדויקים יותר או פחות** (`float32`, `float64`) – בחירה בהתאם לאיזון בין דיוק למהירות/זיכרון.  \n",
    "- **טיפוסי שלם שונים** (`int8`, `int16`, `int32`, `int64`) – שימושי כשיש מגבלות זיכרון או צורך ביעילות.  \n",
    "\n",
    "יכולת השליטה בטיפוס הנתונים מאפשרת גם חיסכון במשאבים וגם התאמה לצרכים המדעיים הספציפיים של החישוב."
   ]
  },
  {
   "cell_type": "code",
   "execution_count": null,
   "id": "e06f1dfe",
   "metadata": {},
   "outputs": [],
   "source": [
    "# Example with complex numbers\n",
    "z = np.array([1+2j, 3+4j])    # Complex array\n",
    "print(z.dtype)                # complex128 by default\n",
    "\n",
    "# Example with lower precision floats\n",
    "f = np.array([1.5, 2.5], dtype=np.float32)  # Explicit float32\n",
    "print(f.dtype)"
   ]
  }
 ],
 "metadata": {
  "celltoolbar": "Slideshow",
  "kernelspec": {
   "display_name": "Python 3",
   "language": "python",
   "name": "python3"
  },
  "language_info": {
   "codemirror_mode": {
    "name": "ipython",
    "version": 3
   },
   "file_extension": ".py",
   "mimetype": "text/x-python",
   "name": "python",
   "nbconvert_exporter": "python",
   "pygments_lexer": "ipython3",
   "version": "3.12.1"
  }
 },
 "nbformat": 4,
 "nbformat_minor": 5
}
