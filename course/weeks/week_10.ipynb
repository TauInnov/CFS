{
 "cells": [
  {
   "cell_type": "code",
   "execution_count": null,
   "id": "7e548e8d-cb63-4291-855a-e784ac8f74c5",
   "metadata": {
    "slideshow": {
     "slide_type": "skip"
    },
    "tags": [
     "remove-cell"
    ]
   },
   "outputs": [
    {
     "data": {
      "text/html": [
       "<!-- RTL Fix the jupyter notebook 7  -->\n",
       "<style>\n",
       "    .jp-RenderedHTMLCommon {\n",
       "        padding-top: 2em !important;\n",
       "  }   \n",
       "    .jp-RenderedHTMLCommon, .jp-RenderedHTMLCommon * {\n",
       "        direction: rtl !important;\n",
       "        text-align:right !important;\n",
       "  }\n",
       "    .jp-MarkdownCell .jp-InputArea-editor {\n",
       "        direction: rtl !important; \n",
       "        text-align:right !important;\n",
       "        padding-top: 2em !important;\n",
       "  } \n",
       "\n",
       " .jp-RenderedHTMLCommon code, .jp-RenderedHTMLCommon code span {\n",
       "        text-align:left !important;\n",
       "        direction: ltr !important;\n",
       "        unicode-bidi: embed !important;\n",
       "\n",
       "    }\n",
       "    .jp-RenderedHTMLCommon pre:has(code) {\n",
       "      direction: ltr !important;\n",
       "      text-align: left!important;\n",
       "    }\n",
       "\n",
       "</style> \n"
      ],
      "text/plain": [
       "<IPython.core.display.HTML object>"
      ]
     },
     "metadata": {},
     "output_type": "display_data"
    }
   ],
   "source": [
    "%%html\n",
    "<script>\n",
    "(function() {\n",
    "  // Create the toggle button\n",
    "  const rtlButton = document.createElement(\"button\");\n",
    "  rtlButton.textContent = \"Toggle LTR\";\n",
    "  rtlButton.id = \"top-rtl-toggle\";\n",
    "  rtlButton.style.marginLeft = \"8px\";\n",
    "  rtlButton.style.padding = \"4px 10px\";\n",
    "  rtlButton.style.fontSize = \"14px\";\n",
    "  rtlButton.style.cursor = \"pointer\";\n",
    "\n",
    "  // State\n",
    "  var rtlActive = false;\n",
    "\n",
    "  // Styling function\n",
    "  var applyStyleToEditor = (editor) => {\n",
    "    if (!editor) return;\n",
    "    var direction = getComputedStyle(editor).getPropertyValue('direction')=='rtl' ? 'ltr' : 'rtl';\n",
    "    var text_align = getComputedStyle(editor).getPropertyValue('text-align')=='right' ? 'left' : 'right';\n",
    "    editor.style.setProperty('direction', direction, 'important');\n",
    "    editor.style.setProperty('text-align', text_align, 'important');\n",
    "  };\n",
    "\n",
    "  // Toggle logic\n",
    "  rtlButton.onclick = () => {\n",
    "    rtlActive = !rtlActive;\n",
    "    rtlButton.textContent = rtlActive ? \"Toggle LTR\" : \"Toggle RTL\";\n",
    "    document.querySelectorAll('.jp-MarkdownCell .jp-InputArea-editor').forEach(applyStyleToEditor);\n",
    "    document.querySelectorAll('.jp-RenderedHTMLCommon code, .jp-RenderedHTMLCommon code span').forEach(applyStyleToEditor);\n",
    "    document.querySelectorAll('jp-RenderedHTMLCommon, .jp-RenderedHTMLCommon *').forEach(applyStyleToEditor);\n",
    "  };\n",
    "\n",
    "  // Watch for focus into editing Markdown cells\n",
    "  // document.addEventListener('focusin', (event) => {\n",
    "  //   const editor = event.target.closest('.jp-MarkdownCell .jp-InputArea-editor');\n",
    "  //    if (editor) applyStyleToEditor(editor);\n",
    "  // });\n",
    "\n",
    "  // Insert into top toolbar if not already present\n",
    "  var insertIntoToolbar = () => {\n",
    "    const toolbar = document.querySelector('.jp-NotebookPanel-toolbar');\n",
    "    if (toolbar && !document.getElementById(\"top-rtl-toggle\")) {\n",
    "      toolbar.appendChild(rtlButton);\n",
    "    } else {\n",
    "      // Try again in a moment if toolbar isn't ready yet\n",
    "      setTimeout(insertIntoToolbar, 300);\n",
    "    }\n",
    "  };\n",
    "\n",
    "  insertIntoToolbar();\n",
    "})();\n",
    "</script>"
   ]
  },
  {
   "cell_type": "code",
   "execution_count": null,
   "id": "2f2d03fd-729e-439a-9ab0-de58c598e9ca",
   "metadata": {
    "tags": [
     "remove-cell"
    ]
   },
   "outputs": [
    {
     "data": {
      "text/html": [
       "<script>\n",
       "(function() {\n",
       "  // Create the toggle button\n",
       "  const rtlButton = document.createElement(\"button\");\n",
       "  rtlButton.textContent = \"Toggle LTR\";\n",
       "  rtlButton.id = \"top-rtl-toggle\";\n",
       "  rtlButton.style.marginLeft = \"8px\";\n",
       "  rtlButton.style.padding = \"4px 10px\";\n",
       "  rtlButton.style.fontSize = \"14px\";\n",
       "  rtlButton.style.cursor = \"pointer\";\n",
       "\n",
       "  // State\n",
       "  var rtlActive = false;\n",
       "\n",
       "  // Styling function\n",
       "  var applyStyleToEditor = (editor) => {\n",
       "    if (!editor) return;\n",
       "    var direction = getComputedStyle(editor).getPropertyValue('direction')=='rtl' ? 'ltr' : 'rtl';\n",
       "    var text_align = getComputedStyle(editor).getPropertyValue('text-align')=='right' ? 'left' : 'right';\n",
       "    editor.style.setProperty('direction', direction, 'important');\n",
       "    editor.style.setProperty('text-align', text_align, 'important');\n",
       "  };\n",
       "\n",
       "  // Toggle logic\n",
       "  rtlButton.onclick = () => {\n",
       "    rtlActive = !rtlActive;\n",
       "    rtlButton.textContent = rtlActive ? \"Toggle LTR\" : \"Toggle RTL\";\n",
       "    document.querySelectorAll('.jp-MarkdownCell .jp-InputArea-editor').forEach(applyStyleToEditor);\n",
       "    document.querySelectorAll('.jp-RenderedHTMLCommon code, .jp-RenderedHTMLCommon code span').forEach(applyStyleToEditor);\n",
       "    document.querySelectorAll('jp-RenderedHTMLCommon, .jp-RenderedHTMLCommon *').forEach(applyStyleToEditor);\n",
       "  };\n",
       "\n",
       "  // Watch for focus into editing Markdown cells\n",
       "  // document.addEventListener('focusin', (event) => {\n",
       "  //   const editor = event.target.closest('.jp-MarkdownCell .jp-InputArea-editor');\n",
       "  //    if (editor) applyStyleToEditor(editor);\n",
       "  // });\n",
       "\n",
       "  // Insert into top toolbar if not already present\n",
       "  var insertIntoToolbar = () => {\n",
       "    const toolbar = document.querySelector('.jp-NotebookPanel-toolbar');\n",
       "    if (toolbar && !document.getElementById(\"top-rtl-toggle\")) {\n",
       "      toolbar.appendChild(rtlButton);\n",
       "    } else {\n",
       "      // Try again in a moment if toolbar isn't ready yet\n",
       "      setTimeout(insertIntoToolbar, 300);\n",
       "    }\n",
       "  };\n",
       "\n",
       "  insertIntoToolbar();\n",
       "})();\n",
       "</script>\n"
      ],
      "text/plain": [
       "<IPython.core.display.HTML object>"
      ]
     },
     "metadata": {},
     "output_type": "display_data"
    }
   ],
   "source": [
    "%%html\n",
    "<!-- <style>\n",
    "  table {display: inline-block}\n",
    "</style> -->"
   ]
  },
  {
   "cell_type": "markdown",
   "id": "17764da7",
   "metadata": {},
   "source": [
    "# שבוע 10 — חישובים מדעיים עם SciPy\n",
    "\n",
    "בשבוע העשירי נצלול אל הספרייה **SciPy**, אחת מאבני היסוד של מדעי הנתונים והחישוב הפיזיקלי בפייתון.  \n",
    "נלמד כיצד לבצע אינטגרציה, אופטימיזציה, אינטרפולציה, ולעבוד עם קבועים פיזיקליים –  \n",
    "כלים קריטיים לכל פיזיקאי, מהנדס או חוקר העוסק בנתונים אמפיריים ובמודלים מתמטיים.\n",
    "\n",
    "נבין כיצד ניתן להשתמש ב־SciPy כדי:\n",
    "- לגשת לקבועים פיזיקליים מדויקים (כמו \\( c, G, h \\)) ולתרגם יחידות בין מערכות שונות  \n",
    "- לחשב אינטגרלים של פונקציות (חד־ממדיים ורב־ממדיים) בצורה נומרית  \n",
    "- למצוא מינימום ומקסימום של פונקציות באמצעות שיטות אופטימיזציה מתקדמות  \n",
    "- לבצע אינטרפולציה על נתונים ניסיוניים ולבנות מהם פונקציות רציפות  \n",
    "\n",
    "בסוף השבוע תדעו:\n",
    "- להשתמש במודול `scipy.constants` לקבועים ויחידות פיזיקליות  \n",
    "- לבצע אינטגרציה נומרית עם `scipy.integrate`  \n",
    "- לפתור בעיות אופטימיזציה עם `scipy.optimize`  \n",
    "- לבנות מודלים של אינטרפולציה עם `scipy.interpolate`  \n",
    "\n",
    "## Materials\n",
    "- {doc}`10_1 • קבועים פיזיקליים ויחידות <../../course/weeks/week_10/10_1_physical_consts>`  \n",
    "- {doc}`10_2 • אינטגרציה נומרית <../../course/weeks/week_10/10_2_integration>`  \n",
    "- {doc}`10_3 • אופטימיזציה <../../course/weeks/week_10/10_3_optimization>`  \n",
    "- {doc}`10_4 • אינטרפולציה <../../course/weeks/week_10/10_4_interpolation>`  \n"
   ]
  }
 ],
 "metadata": {
  "celltoolbar": "Slideshow",
  "kernelspec": {
   "display_name": "Python 3",
   "language": "python",
   "name": "python3"
  },
  "language_info": {
   "codemirror_mode": {
    "name": "ipython",
    "version": 3
   },
   "file_extension": ".py",
   "mimetype": "text/x-python",
   "name": "python",
   "nbconvert_exporter": "python",
   "pygments_lexer": "ipython3",
   "version": "3.12.1"
  }
 },
 "nbformat": 4,
 "nbformat_minor": 5
}
