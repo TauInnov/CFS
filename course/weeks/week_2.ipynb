{
 "cells": [
  {
   "cell_type": "markdown",
   "id": "1120400d",
   "metadata": {},
   "source": [
    "# שבוע 2 — תנאים ופונקציות\n",
    "\n",
    "בשבוע השני נעמיק את ההבנה שלנו בזרימת הבקרה ובבניית מבנים לוגיים בתכנית.  \n",
    "נלמד כיצד לגרום לקוד שלנו \"לקבל החלטות\" ולפעול בצורה חכמה בהתאם לנתונים שהוא מקבל,  \n",
    "ולאחר מכן נתקדם לנושא חשוב במיוחד — **פונקציות**, הלב של כל תכנית מאורגנת.\n",
    "\n",
    "בתחילת השבוע נתרגל תנאים מקוננים ושימושים מתקדמים בפקודות `if`, `elif` ו־`else`,  \n",
    "ונבין כיצד להשתמש באופרטורים לוגיים (`and`, `or`, `not`) כדי לחבר בין תנאים שונים.  \n",
    "בהמשך נלמד לבנות פונקציות משלנו, להבין את ההבדל בין פרמטרים לבין ארגומנטים,  \n",
    "ולראות כיצד פונקציות מאפשרות לנו לכתוב קוד קריא, גמיש וחוזר לשימוש.\n",
    "\n",
    "בסוף השבוע תדעו:\n",
    "- לכתוב ביטויים לוגיים מורכבים ולשלב תנאים בצורה יעילה  \n",
    "- להשתמש במבני `if` ו־`elif` לקבלת החלטות מרובות  \n",
    "- להגדיר פונקציות משלכם ולקרוא להן מתוך הקוד  \n",
    "- להבין את ההבדל בין משתנים מקומיים וגלובליים  \n",
    "- להעביר ערכים ולקבל תוצאות בצורה נכונה וברורה  \n",
    "\n",
    "---\n",
    "\n",
    "## Materials\n",
    "- {doc}`01 • מבוא לתנאים <../../vendor/virtual-pyprog/2_0_intro-conditions>`\n",
    "- {doc}`02 • פקודות if ו־else <../../vendor/virtual-pyprog/2_1_if-else-statements>`\n",
    "- {doc}`03 • תנאים מקוננים <../../vendor/virtual-pyprog/2_2_nested-ifs>`\n",
    "- {doc}`04 • elif ותנאים מרובים <../../vendor/virtual-pyprog/2_3_elif>`\n",
    "- {doc}`05 • אופרטורים לוגיים בתנאים <../../vendor/virtual-pyprog/2_4_logical-operators-in-ifs>`\n",
    "- {doc}`06 • מבוא לפונקציות <../../vendor/virtual-pyprog/3_0_intro-functions>`\n",
    "- {doc}`07 • פונקציות מובנות בפייתון <../../vendor/virtual-pyprog/3_1_builtin-functions>`\n",
    "- {doc}`08 • בניית פונקציות משלכם <../../vendor/virtual-pyprog/3_2_building-functions>`\n",
    "- {doc}`09 • פרמטרים וארגומנטים <../../vendor/virtual-pyprog/3_3_formal-and-actual-variables>`\n",
    "- {doc}`10 • קריאה הדדית בין פונקציות <../../vendor/virtual-pyprog/3_5_caller-callee>`\n",
    "- {doc}`11 • דוגמאות מתקדמות <../../vendor/virtual-pyprog/3_4_advanced-examples>`\n"
   ]
  }
 ],
 "metadata": {
  "language_info": {
   "name": "python"
  }
 },
 "nbformat": 4,
 "nbformat_minor": 5
}
