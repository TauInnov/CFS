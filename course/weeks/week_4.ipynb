{
 "cells": [
  {
   "cell_type": "markdown",
   "id": "f819ad66",
   "metadata": {},
   "source": [
    "# שבוע 4 — לולאות וזרימת בקרה\n",
    "\n",
    "בשבוע הרביעי נלמד כיצד לגרום לקוד שלנו **לחזור על פעולות** באופן אוטומטי ויעיל באמצעות לולאות.  \n",
    "לולאות מאפשרות לנו לבצע סדרת פקודות שוב ושוב, עד שיתקיים תנאי מסוים — כלי חיוני בכל תוכנית אמיתית.  \n",
    "נכיר את סוגי הלולאות המרכזיים בפייתון, נלמד על ההבדלים ביניהן, ונראה כיצד לשלב אותן יחד עם תנאים ורשימות.\n",
    "\n",
    "נפתח בהבנה רעיונית של הצורך בלולאות, ולאחר מכן נעמיק בלולאת `for`,  \n",
    "נראה כיצד להשתמש בטווחים (`range`) כדי לחזור על סדרות של ערכים,  \n",
    "ונעבור ללולאת `while`, המאפשרת ביצוע חוזר כל עוד תנאי מתקיים.  \n",
    "נכיר גם פקודות חשובות לשליטה בזרימה — `break` ו־`continue`,  \n",
    "ולבסוף נלמד כיצד לשלב לולאות זו בתוך זו וליצור **הבנות רשימה (list comprehensions)** לכתיבה תמציתית ואלגנטית של קוד.\n",
    "\n",
    "בסוף השבוע תדעו:\n",
    "- מתי ולמה להשתמש בלולאות `for` ו־`while`  \n",
    "- כיצד לקבוע את תנאי העצירה ולמנוע לולאות אינסופיות  \n",
    "- איך להשתמש ב־`break` ו־`continue` לשליטה מדויקת בזרימה  \n",
    "- כיצד לקנן לולאות כדי לעבור על מבנים מורכבים  \n",
    "- ואיך ליצור רשימות חדשות בצורה קומפקטית עם list comprehensions  \n",
    "\n",
    "## Materials\n",
    "- {doc}`01 • מבוא ללולאות <../../vendor/virtual-pyprog/5_0_intro-loops>`\n",
    "- {doc}`02 • לולאת for – מבוא <../../vendor/virtual-pyprog/6_0_for_loops>`\n",
    "- {doc}`03 • שימוש ב־range בלולאות for <../../vendor/virtual-pyprog/6_1_ranges-and-for>`\n",
    "- {doc}`04 • דוגמאות ללולאות for <../../vendor/virtual-pyprog/6_2_for-examples>`\n",
    "- {doc}`05 • סיכום לולאות for <../../vendor/virtual-pyprog/6_3_for-summary>`\n",
    "- {doc}`06 • לולאת while – מבוא <../../vendor/virtual-pyprog/7_0_while_loops>`\n",
    "- {doc}`07 • דוגמאות ללולאות while <../../vendor/virtual-pyprog/7_1_while-examples>`\n",
    "- {doc}`08 • השוואה בין while ל־for <../../vendor/virtual-pyprog/8_0_while_vs_for>`\n",
    "- {doc}`09 • שליטה בזרימה עם break ו־continue <../../vendor/virtual-pyprog/8_1_break_and_continue>`\n",
    "- {doc}`10 • לולאות מקוננות <../../vendor/virtual-pyprog/8_2_nested_loops>`\n",
    "- {doc}`11 • הבנות רשימה (List Comprehensions) <../../vendor/virtual-pyprog/8_3_list-comprehensions>`\n"
   ]
  },
  {
   "cell_type": "markdown",
   "id": "543bd981",
   "metadata": {},
   "source": []
  }
 ],
 "metadata": {
  "language_info": {
   "name": "python"
  }
 },
 "nbformat": 4,
 "nbformat_minor": 5
}
