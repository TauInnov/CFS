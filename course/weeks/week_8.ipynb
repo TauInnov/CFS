{
 "cells": [
  {
   "cell_type": "markdown",
   "id": "7f35c175",
   "metadata": {},
   "source": [
    "# שבוע 8 — ויזואליזציה וניתוח התפלגויות עם Matplotlib ו־NumPy\n",
    "\n",
    "בשבוע השמיני נעמיק בעולם הוויזואליזציה המדעית ונלמד כיצד להשתמש בספרייה **Matplotlib**  \n",
    "כדי לייצג נתונים בצורה ברורה, מדויקת ומשמעותית.  \n",
    "נראה כיצד לשלב בין Matplotlib לבין **NumPy** ליצירת גרפים, ניתוח התפלגויות,  \n",
    "והפקת תובנות חזותיות מתוך נתונים ניסיוניים או סימולציות פיזיקליות.\n",
    "\n",
    "נלמד לבנות גרפים בסיסיים ומתקדמים, לשלב שכבות מידע (labels, legends, grids),  \n",
    "וליצור ויזואליזציות שמציגות תופעות פיזיקליות בצורה ברורה ואלגנטית.  \n",
    "בהמשך נתרגל יצירת **היסטוגרמות הסתברות** וניתוח **התפלגויות נפוצות** (כמו נורמלית, אחידה ופואסון)  \n",
    "באמצעות NumPy ו־Matplotlib יחד — שילוב מרכזי בכל מחקר או ניסוי מדעי.\n",
    "\n",
    "בסוף השבוע תדעו:\n",
    "- ליצור גרפים דו־ממדיים עם Matplotlib ולהתאים את העיצוב שלהם  \n",
    "- לשלב בין NumPy ל־Matplotlib כדי להציג נתונים מחושבים  \n",
    "- להוסיף מקראים, כותרות וטקסטים לגרפים מדעיים  \n",
    "- לייצר היסטוגרמות הסתברות ממדידות או סימולציות  \n",
    "- ליצור ולהציג התפלגויות נפוצות (Normal, Uniform, Poisson) בעזרת NumPy  \n",
    "- להשוות בין התפלגויות אמפיריות לתאורטיות בגרף אחד  \n",
    "\n",
    "## Materials\n",
    "- {doc}`8_1 • מבוא לשרטוטים עם Matplotlib <../../course/weeks/week_8/8_1_matplotlib>`  \n",
    "- {doc}`8_2 • דוגמה מלאה: שימוש ב־Matplotlib לניתוח נתונים <../../course/weeks/week_8/8_2_example_matplotlib>`  \n",
    "- {doc}`8_3 • התפלגויות נפוצות והיסטוגרמות עם NumPy ו־Matplotlib <../../course/weeks/week_8/8_3_prob_hists>`  \n"
   ]
  }
 ],
 "metadata": {
  "celltoolbar": "Slideshow",
  "kernelspec": {
   "display_name": "Python 3",
   "language": "python",
   "name": "python3"
  },
  "language_info": {
   "codemirror_mode": {
    "name": "ipython",
    "version": 3
   },
   "file_extension": ".py",
   "mimetype": "text/x-python",
   "name": "python",
   "nbconvert_exporter": "python",
   "pygments_lexer": "ipython3",
   "version": "3.12.1"
  }
 },
 "nbformat": 4,
 "nbformat_minor": 5
}
