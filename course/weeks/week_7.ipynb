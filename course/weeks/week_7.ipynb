{
 "cells": [
  {
   "cell_type": "markdown",
   "id": "6a75b33d",
   "metadata": {},
   "source": [
    "# שבוע 7 — יסודות NumPy: מבוא לעבודה עם מערכים מדעיים\n",
    "\n",
    "בשבוע השביעי נצלול אל אחת הספריות החשובות ביותר בפייתון לעולם המדעי — **NumPy**.  \n",
    "נלמד כיצד לעבוד עם מערכים (ndarray), לבנות עליהם חישובים יעילים,  \n",
    "ולנצל את הכוח של עיבוד וקטורי (Vectorized Computing) שמאפשר לפייתון לחשב במהירות כמו שפות נמוכות־רמה.  \n",
    "\n",
    "נבין כיצד להגדיר, לאנדקס, ולשנות מערכים, כיצד מטפלים בסוגי נתונים שונים בתוך מערכים,  \n",
    "ונראה כיצד לבצע פעולות מתמטיות שלמות על מערכים שלמים בפקודה אחת בלבד.  \n",
    "בנוסף, נלמד על מנגנון השידור (Broadcasting) — אחת התכונות החשובות של NumPy,  \n",
    "שמאפשרת עבודה נוחה בין מערכים בעלי ממדים שונים בצורה חכמה ואוטומטית.\n",
    "\n",
    "בסוף השבוע תדעו:\n",
    "- לייבא ולהשתמש בספריית NumPy ביעילות  \n",
    "- ליצור מערכים (`ndarray`) ממקורות שונים (רשימות, טווחים, פונקציות)  \n",
    "- לבצע אינדוקס, חיתוך ושינוי נתונים במערכים  \n",
    "- להבין ולעבוד עם סוגי נתונים (Data Types)  \n",
    "- לבצע פעולות מתמטיות ווקטוריות על מערכים  \n",
    "- להשתמש במנגנון השידור (Broadcasting) לפעולות בין מערכים בממדים שונים  \n",
    "\n",
    "## Materials\n",
    "- {doc}`7_0 • מבוא לספריות מדעיות ו־NumPy <../../course/weeks/week_7/7_0_intro_libs>`  \n",
    "- {doc}`7_1 • יצירה והגדרה של מערכים (Arrays) <../../course/weeks/week_7/7_1_arrays>`  \n",
    "- {doc}`7_2 • אינדוקס, חיתוך ובחירה ממערכים <../../course/weeks/week_7/7_2_arrays_indexing>`  \n",
    "- {doc}`7_3 • סוגי נתונים במערכים (Data Types) <../../course/weeks/week_7/7_3_datatypes>`  \n",
    "- {doc}`7_4 • פעולות מתמטיות על מערכים <../../course/weeks/week_7/7_4_array_math>`  \n",
    "- {doc}`7_5 • שידור (Broadcasting) ועיבוד וקטורי מתקדם <../../course/weeks/week_7/7_5_broadcasting>`  \n"
   ]
  }
 ],
 "metadata": {
  "celltoolbar": "Slideshow",
  "kernelspec": {
   "display_name": "Python 3",
   "language": "python",
   "name": "python3"
  },
  "language_info": {
   "codemirror_mode": {
    "name": "ipython",
    "version": 3
   },
   "file_extension": ".py",
   "mimetype": "text/x-python",
   "name": "python",
   "nbconvert_exporter": "python",
   "pygments_lexer": "ipython3",
   "version": "3.12.1"
  }
 },
 "nbformat": 4,
 "nbformat_minor": 5
}
