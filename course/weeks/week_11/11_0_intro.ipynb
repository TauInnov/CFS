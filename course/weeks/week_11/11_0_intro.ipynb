{
 "cells": [
  {
   "cell_type": "code",
   "execution_count": null,
   "id": "7e548e8d-cb63-4291-855a-e784ac8f74c5",
   "metadata": {
    "slideshow": {
     "slide_type": "skip"
    },
    "tags": [
     "remove-cell"
    ]
   },
   "outputs": [
    {
     "data": {
      "text/html": [
       "<!-- RTL Fix the jupyter notebook 7  -->\n",
       "<style>\n",
       "    .jp-RenderedHTMLCommon {\n",
       "        padding-top: 2em !important;\n",
       "  }   \n",
       "    .jp-RenderedHTMLCommon, .jp-RenderedHTMLCommon * {\n",
       "        direction: rtl !important;\n",
       "        text-align:right !important;\n",
       "  }\n",
       "    .jp-MarkdownCell .jp-InputArea-editor {\n",
       "        direction: rtl !important; \n",
       "        text-align:right !important;\n",
       "        padding-top: 2em !important;\n",
       "  } \n",
       "\n",
       " .jp-RenderedHTMLCommon code, .jp-RenderedHTMLCommon code span {\n",
       "        text-align:left !important;\n",
       "        direction: ltr !important;\n",
       "        unicode-bidi: embed !important;\n",
       "\n",
       "    }\n",
       "    .jp-RenderedHTMLCommon pre:has(code) {\n",
       "      direction: ltr !important;\n",
       "      text-align: left!important;\n",
       "    }\n",
       "\n",
       "</style> \n"
      ],
      "text/plain": [
       "<IPython.core.display.HTML object>"
      ]
     },
     "metadata": {},
     "output_type": "display_data"
    }
   ],
   "source": [
    "%%html\n",
    "<script>\n",
    "(function() {\n",
    "  // Create the toggle button\n",
    "  const rtlButton = document.createElement(\"button\");\n",
    "  rtlButton.textContent = \"Toggle LTR\";\n",
    "  rtlButton.id = \"top-rtl-toggle\";\n",
    "  rtlButton.style.marginLeft = \"8px\";\n",
    "  rtlButton.style.padding = \"4px 10px\";\n",
    "  rtlButton.style.fontSize = \"14px\";\n",
    "  rtlButton.style.cursor = \"pointer\";\n",
    "\n",
    "  // State\n",
    "  var rtlActive = false;\n",
    "\n",
    "  // Styling function\n",
    "  var applyStyleToEditor = (editor) => {\n",
    "    if (!editor) return;\n",
    "    var direction = getComputedStyle(editor).getPropertyValue('direction')=='rtl' ? 'ltr' : 'rtl';\n",
    "    var text_align = getComputedStyle(editor).getPropertyValue('text-align')=='right' ? 'left' : 'right';\n",
    "    editor.style.setProperty('direction', direction, 'important');\n",
    "    editor.style.setProperty('text-align', text_align, 'important');\n",
    "  };\n",
    "\n",
    "  // Toggle logic\n",
    "  rtlButton.onclick = () => {\n",
    "    rtlActive = !rtlActive;\n",
    "    rtlButton.textContent = rtlActive ? \"Toggle LTR\" : \"Toggle RTL\";\n",
    "    document.querySelectorAll('.jp-MarkdownCell .jp-InputArea-editor').forEach(applyStyleToEditor);\n",
    "    document.querySelectorAll('.jp-RenderedHTMLCommon code, .jp-RenderedHTMLCommon code span').forEach(applyStyleToEditor);\n",
    "    document.querySelectorAll('jp-RenderedHTMLCommon, .jp-RenderedHTMLCommon *').forEach(applyStyleToEditor);\n",
    "  };\n",
    "\n",
    "  // Watch for focus into editing Markdown cells\n",
    "  // document.addEventListener('focusin', (event) => {\n",
    "  //   const editor = event.target.closest('.jp-MarkdownCell .jp-InputArea-editor');\n",
    "  //    if (editor) applyStyleToEditor(editor);\n",
    "  // });\n",
    "\n",
    "  // Insert into top toolbar if not already present\n",
    "  var insertIntoToolbar = () => {\n",
    "    const toolbar = document.querySelector('.jp-NotebookPanel-toolbar');\n",
    "    if (toolbar && !document.getElementById(\"top-rtl-toggle\")) {\n",
    "      toolbar.appendChild(rtlButton);\n",
    "    } else {\n",
    "      // Try again in a moment if toolbar isn't ready yet\n",
    "      setTimeout(insertIntoToolbar, 300);\n",
    "    }\n",
    "  };\n",
    "\n",
    "  insertIntoToolbar();\n",
    "})();\n",
    "</script>"
   ]
  },
  {
   "cell_type": "code",
   "execution_count": null,
   "id": "2f2d03fd-729e-439a-9ab0-de58c598e9ca",
   "metadata": {
    "tags": [
     "remove-cell"
    ]
   },
   "outputs": [
    {
     "data": {
      "text/html": [
       "<script>\n",
       "(function() {\n",
       "  // Create the toggle button\n",
       "  const rtlButton = document.createElement(\"button\");\n",
       "  rtlButton.textContent = \"Toggle LTR\";\n",
       "  rtlButton.id = \"top-rtl-toggle\";\n",
       "  rtlButton.style.marginLeft = \"8px\";\n",
       "  rtlButton.style.padding = \"4px 10px\";\n",
       "  rtlButton.style.fontSize = \"14px\";\n",
       "  rtlButton.style.cursor = \"pointer\";\n",
       "\n",
       "  // State\n",
       "  var rtlActive = false;\n",
       "\n",
       "  // Styling function\n",
       "  var applyStyleToEditor = (editor) => {\n",
       "    if (!editor) return;\n",
       "    var direction = getComputedStyle(editor).getPropertyValue('direction')=='rtl' ? 'ltr' : 'rtl';\n",
       "    var text_align = getComputedStyle(editor).getPropertyValue('text-align')=='right' ? 'left' : 'right';\n",
       "    editor.style.setProperty('direction', direction, 'important');\n",
       "    editor.style.setProperty('text-align', text_align, 'important');\n",
       "  };\n",
       "\n",
       "  // Toggle logic\n",
       "  rtlButton.onclick = () => {\n",
       "    rtlActive = !rtlActive;\n",
       "    rtlButton.textContent = rtlActive ? \"Toggle LTR\" : \"Toggle RTL\";\n",
       "    document.querySelectorAll('.jp-MarkdownCell .jp-InputArea-editor').forEach(applyStyleToEditor);\n",
       "    document.querySelectorAll('.jp-RenderedHTMLCommon code, .jp-RenderedHTMLCommon code span').forEach(applyStyleToEditor);\n",
       "    document.querySelectorAll('jp-RenderedHTMLCommon, .jp-RenderedHTMLCommon *').forEach(applyStyleToEditor);\n",
       "  };\n",
       "\n",
       "  // Watch for focus into editing Markdown cells\n",
       "  // document.addEventListener('focusin', (event) => {\n",
       "  //   const editor = event.target.closest('.jp-MarkdownCell .jp-InputArea-editor');\n",
       "  //    if (editor) applyStyleToEditor(editor);\n",
       "  // });\n",
       "\n",
       "  // Insert into top toolbar if not already present\n",
       "  var insertIntoToolbar = () => {\n",
       "    const toolbar = document.querySelector('.jp-NotebookPanel-toolbar');\n",
       "    if (toolbar && !document.getElementById(\"top-rtl-toggle\")) {\n",
       "      toolbar.appendChild(rtlButton);\n",
       "    } else {\n",
       "      // Try again in a moment if toolbar isn't ready yet\n",
       "      setTimeout(insertIntoToolbar, 300);\n",
       "    }\n",
       "  };\n",
       "\n",
       "  insertIntoToolbar();\n",
       "})();\n",
       "</script>\n"
      ],
      "text/plain": [
       "<IPython.core.display.HTML object>"
      ]
     },
     "metadata": {},
     "output_type": "display_data"
    }
   ],
   "source": [
    "%%html\n",
    "<!-- <style>\n",
    "  table {display: inline-block}\n",
    "</style> -->"
   ]
  },
  {
   "cell_type": "markdown",
   "id": "17764da7",
   "metadata": {},
   "source": [
    "## מבוא - Pandas\n",
    "![Alt text](https://upload.wikimedia.org/wikipedia/commons/thumb/e/ed/Pandas_logo.svg/1200px-Pandas_logo.svg.png)\n",
    "\n",
    "**Pandas** היא ספרייה לעיבוד וניתוח נתונים (Data Analysis Library) המבוססת על **NumPy**.  \n",
    "היא מספקת מבנים נוחים, יעילים וגמישים לעבודה עם נתונים טבלאיים —  \n",
    "בדומה לגיליונות Excel או למסדי נתונים — אך בעוצמה, מהירות ויכולות תכנותיות של שפת **Python**.\n",
    "\n",
    "**Pandas** מאפשרת לבצע שלבי עיבוד וניתוח נתונים בצורה שיטתית,  \n",
    "ומספקת ממשק אחיד לעבודה עם נתונים ממקורות מגוונים: קבצי CSV, Excel, JSON, SQL או הזרמה של נתונים מניסויים.  \n",
    "הספרייה נועדה להתמודד עם כמויות גדולות של נתונים אמפיריים ולספק כלים נומריים וסטטיסטיים ברמת דיוק גבוהה.\n",
    "\n",
    "### יכולות עיקריות\n",
    "- יצירה וניהול של מבני נתונים מרכזיים: **Series** ו־**DataFrame**  \n",
    "- קריאה וכתיבה של נתונים מקבצים ומכשירי מדידה (CSV, Excel, JSON, SQL)  \n",
    "- סינון, מיון, אינדוקס ובחירה של תתי־קבוצות נתונים  \n",
    "- חישובים מתמטיים וסטטיסטיים, פונקציות מצטברות (Aggregations) ונורמליזציה  \n",
    "- טיפול בערכים חסרים, החלקת נתונים והמרת יחידות מידה  \n",
    "- קיבוץ וניתוח נתונים לפי קטגוריות (`groupby`)  \n",
    "- שינוי מבנה הנתונים (Pivot, Melt, Reshape) להתאמה לניסויים מרובי פרמטרים  \n",
    "\n",
    "\n",
    "**Pandas** מהווה שכבת יסוד בכל סביבת עבודה מדעית בפייתון.  \n",
    "היא משתלבת ישירות עם ספריות נומריות כמו **NumPy**,  \n",
    "עם ספריות ניתוח מתקדמות כמו **SciPy** ו־**scikit-learn**,  \n",
    "ועם כלים ויזואליים כגון **Matplotlib** ו־**Seaborn**.  \n",
    "\n",
    "שילוב זה מאפשר לבנות זרימת עבודה מלאה —  \n",
    "מהקריאה של נתוני מדידה גולמיים, דרך ניקוי ועיבוד הנתונים,  \n",
    "ועד הצגת התוצאות והסקת מסקנות פיזיקליות, כגון מציאת קבועים ניסויים, התאמות עקומה או השוואת מודלים תאורטיים.\n",
    "\n",
    "\n",
    "`````{admonition} היבט פיזיקלי ויישומים מעשיים\n",
    ":class: tip\n",
    "ניתוח נתונים ממכשירי מדידה הוא חלק בלתי נפרד מהתהליך הניסויי.  \n",
    "**Pandas** מאפשרת לייבא נתונים ממדידות חוזרות, לאחד טבלאות של תוצאות מניסויים שונים,  \n",
    "לבצע סינון של מדידות חריגות (Outliers), לחשב ממוצעים, סטיות תקן ואי־ודאויות ניסוייות,  \n",
    "ולהכין את הנתונים לניתוח נוסף באמצעות ספריות כמו `NumPy`, `SciPy` או להצגה גרפית באמצעות `Matplotlib`.  \n",
    "\n",
    "לדוגמה, חוקר יכול להשתמש ב־**Pandas** כדי:\n",
    "\n",
    "- לעבד נתוני טמפרטורה ולחץ מניסוי תרמודינמי  \n",
    "- לחשב שיפועי גרפים של תנועה ולבחון תאוצה מניסוי דינמיקה  \n",
    "- לשלב נתוני ספקטרום מניסויי אופטיקה ולחשב אורכי גל ממוצעים  \n",
    "- לבצע חישובי אנרגיה, התנגדות, זרם או שטף מגנטי מתוך סדרות מדידה ארוכות  \n",
    "`````\n",
    "\n",
    "\n"
   ]
  },
  {
   "cell_type": "markdown",
   "id": "71124762",
   "metadata": {},
   "source": [
    "## התקנה והיכרות ראשונית\n",
    "\n",
    "לפני שנתחיל לעבוד עם Pandas, נוודא שסביבת העבודה שלנו מוכנה.  \n",
    "אם אתה עובד ב־Jupyter Notebook, מומלץ להריץ את השורה הבאה כדי לייבא את הספריות הדרושות:"
   ]
  },
  {
   "cell_type": "code",
   "execution_count": null,
   "id": "f773a54c",
   "metadata": {},
   "outputs": [],
   "source": [
    "import pandas as pd\n",
    "import numpy as np"
   ]
  },
  {
   "cell_type": "markdown",
   "id": "7be81782",
   "metadata": {},
   "source": [
    "במהלך השבוע נשתמש גם ב־NumPy לחישובים נומריים, ובמקרים מסוימים נוסיף ספריות נוספות להצגה גרפית (כגון Matplotlib).\n",
    "המטרה היא ליצור סביבת עבודה נוחה שבה נוכל לטעון, לעבד ולנתח נתונים בקלות."
   ]
  }
 ],
 "metadata": {
  "celltoolbar": "Slideshow",
  "kernelspec": {
   "display_name": "Python 3",
   "language": "python",
   "name": "python3"
  },
  "language_info": {
   "codemirror_mode": {
    "name": "ipython",
    "version": 3
   },
   "file_extension": ".py",
   "mimetype": "text/x-python",
   "name": "python",
   "nbconvert_exporter": "python",
   "pygments_lexer": "ipython3",
   "version": "3.12.1"
  }
 },
 "nbformat": 4,
 "nbformat_minor": 5
}
