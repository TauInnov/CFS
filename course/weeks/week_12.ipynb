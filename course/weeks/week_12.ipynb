{
 "cells": [
  {
   "cell_type": "markdown",
   "id": "fd4fc700",
   "metadata": {},
   "source": [
    "# שבוע 12 — תכנות מונחה־עצמים (OOP) ובדיקות יחידה (Unit Testing) בפיזיקה\n",
    "\n",
    "בשבוע השנים־עשר נשלב בין שני עקרונות יסוד חשובים בתכנות מדעי:  \n",
    "**תכנות מונחה־עצמים (Object-Oriented Programming)** ו־**בדיקות יחידה (Unit Testing)**.\n",
    "\n",
    "בחלק הראשון של השבוע נלמד את עקרונות ה־OOP — אחת מתפיסות היסוד בתכנות מודרני.  \n",
    "נראה כיצד ניתן לארגן קוד סביב **אובייקטים**, **מחלקות** ו־**ירושה**,  \n",
    "כדי לייצג תופעות ומכשירים פיזיקליים (למשל מטוטלת, חיישן או מד־טמפרטורה)  \n",
    "בצורה אינטואיטיבית, הניתנת להרחבה ולשימוש חוזר.  \n",
    "\n",
    "בחלק השני נצלול לעולם **בדיקות היחידה** בפייתון בעזרת המודול `unittest`.  \n",
    "נראה כיצד לבדוק את המחלקות והפונקציות שלנו באופן שיטתי:  \n",
    "נשתמש ב־`assertEqual`, `assertAlmostEqual`, `assertRaises` ועוד,  \n",
    "נגדיר תרחישים עם `setUp` ו־`tearDown`, ונלמד כיצד לבדוק מקרי קצה (Edge Cases).  \n",
    "בהמשך נתרגל גם בדיקות לקוד פיזיקלי — חישובי אנרגיה, ניסויי מטוטלת, רעש מדידה והמרות יחידות —  \n",
    "תוך הקפדה על טולרנסים נומריים (`delta`, `places`) וערכים פיזיקליים תקפים בלבד.\n",
    "\n",
    "בסוף השבוע תדעו:\n",
    "- להגדיר וליישם מחלקות (Classes) ואובייקטים (Objects) בפייתון  \n",
    "- לכתוב בדיקות יחידה שיטתיות ומובנות לפי עקרון AAA (Arrange–Act–Assert)  \n",
    "- להשתמש במחזור החיים של בדיקות (`setUp` / `tearDown`)  \n",
    "- לבדוק קוד נומרי רגיש בעזרת `assertAlmostEqual` ו־`delta`  \n",
    "- לבדוק מחלקות OOP מורכבות עם `mock.patch` לבידוד תלות חיצונית  \n",
    "- לפתח חשיבה ביקורתית על אמינות חישובים וניסויים מדעיים באמצעות בדיקות אוטומטיות\n",
    "\n",
    "## Materials\n",
    "- {doc}`17_0 • מבוא לתכנות מונחה־עצמים (OOP) <../../vendor/virtual-pyprog/17_0_oop-intro>`  \n",
    "- {doc}`17_1 • מימוש עקרונות OOP בפייתון <../../vendor/virtual-pyprog/17_1_oop-implementation>`  \n",
    "- {doc}`12_1 • מבוא ל־Unit Testing <../../course/weeks/week_12/12_1_unittesting_intro>`  \n",
    "- {doc}`12_2 • עבודה עם setUp, tearDown ובדיקות שוליים <../../course/weeks/week_12/12_2_setup_teardown_edges>`  \n",
    "- {doc}`12_3 • בדיקות למחלקות ו־OOP <../../course/weeks/week_12/12_3_unittesting_oop>`  \n",
    "- {doc}`12_4 • בדיקות נומריות בפיזיקה <../../course/weeks/week_12/12_4_physicsl_unittesting>`  \n"
   ]
  },
  {
   "cell_type": "markdown",
   "id": "4e98160e",
   "metadata": {},
   "source": []
  }
 ],
 "metadata": {
  "celltoolbar": "Slideshow",
  "kernelspec": {
   "display_name": "Python 3",
   "language": "python",
   "name": "python3"
  },
  "language_info": {
   "codemirror_mode": {
    "name": "ipython",
    "version": 3
   },
   "file_extension": ".py",
   "mimetype": "text/x-python",
   "name": "python",
   "nbconvert_exporter": "python",
   "pygments_lexer": "ipython3",
   "version": "3.12.1"
  }
 },
 "nbformat": 4,
 "nbformat_minor": 5
}
