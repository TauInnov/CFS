{
 "cells": [
  {
   "cell_type": "code",
   "execution_count": null,
   "id": "b95b5fb4",
   "metadata": {
    "execution": {
     "iopub.execute_input": "2025-03-10T07:47:50.850590Z",
     "iopub.status.busy": "2025-03-10T07:47:50.850261Z",
     "iopub.status.idle": "2025-03-10T07:47:50.867220Z",
     "shell.execute_reply": "2025-03-10T07:47:50.866344Z"
    },
    "slideshow": {
     "slide_type": "skip"
    },
    "tags": [
     "remove-cell"
    ]
   },
   "outputs": [],
   "source": [
    "%%html\n",
    "<style>\n",
    "table {display: inline-block}\n",
    "td {text-align:left}\n",
    ".consoleMachineFont {color:blue;font-family:Courier}\n",
    ".consoleUserFont {font-family:Courier}\n",
    "</style>"
   ]
  },
  {
   "cell_type": "markdown",
   "id": "85d6931f",
   "metadata": {
    "slideshow": {
     "slide_type": "slide"
    }
   },
   "source": [
    "# פורמט מחרוזות (`\"\"f`)"
   ]
  },
  {
   "cell_type": "markdown",
   "id": "ad99a469",
   "metadata": {
    "slideshow": {
     "slide_type": "subslide"
    }
   },
   "source": [
    "### עריכת מחרוזות לפני פורמט: String Formatting"
   ]
  },
  {
   "cell_type": "markdown",
   "id": "fd9178c3-7b13-4453-977c-bd25af08afa4",
   "metadata": {},
   "source": [
    "עד כה למדנו על סוגי טיפוסים שונים, החל מטיפוסים פשוטים כמו `int` ו`float` עד טיפוסים אשר יכולים להכיל מספר טיפוסים שונים כמו רשימות ומילונים.\n",
    "לעיתים קרובות נרצה לייצג את הטיפוסים הללו באמצעות מחרוזת. אבל רגע, למה שנרצה בעצם לעשות דבר כזה?\n",
    "\n",
    "הדוגמא הכי פשוטה היא הדפסה. על מנת להדפיס את האובייקט למסך, הפונקציה `print` ממירה מאחורי הקלעים את הקלט שניתן לה לטיפוס מטיפוס `str` ומדפיסה אותו למסך.\n",
    "\n",
    "כך, למשל, המספר `3` עובר המרה ל`\"3\"`, שלאחר מכן מודפס למסך"
   ]
  },
  {
   "cell_type": "code",
   "execution_count": 2,
   "id": "427e27cf-30a8-4b5b-8c69-dcaead272884",
   "metadata": {},
   "outputs": [
    {
     "name": "stdout",
     "output_type": "stream",
     "text": [
      "3\n"
     ]
    }
   ],
   "source": [
    "print(3)"
   ]
  },
  {
   "cell_type": "markdown",
   "id": "7947d136-f399-4dbb-8113-21fc24bed556",
   "metadata": {},
   "source": [
    "שימו לב כי למרות שמדובר במחרוזת, איינו רואים את המירכאות שמקיפות אותה בעת ההדפסה "
   ]
  },
  {
   "cell_type": "markdown",
   "id": "3aa99f91-4470-4237-a322-4e71a3b27e15",
   "metadata": {},
   "source": [
    "מה יקרה כאשר נרצה להדפיס חיבור של מספר ומחרוזת? כפי שראינו במודולים הקודמים, נוכל להשתמש בסימן `+` כל מנת לייצג את החיבור של שני האלמנטי הללו כמחרוזת, אך עלינו תחילה **לבצע המרה** של המספר למחרוזת.\n",
    "\n",
    "לדוגמא, בהנתן 2 משתנים המחזיקים את שם הסטודנט וציונו, אם נרצה להדפיס מחרוזת שמייצגת ציון לי סטודנט בפורמט name-grade נוכל לעשות זאת באופן הבא:"
   ]
  },
  {
   "cell_type": "code",
   "execution_count": 4,
   "id": "36dd38e9-0db8-4c6f-90a8-b497567c2784",
   "metadata": {},
   "outputs": [
    {
     "name": "stdout",
     "output_type": "stream",
     "text": [
      "Avi-90\n"
     ]
    }
   ],
   "source": [
    "name=\"Avi\"\n",
    "grade=90\n",
    "print(name+\"-\"+str(grade))"
   ]
  },
  {
   "cell_type": "markdown",
   "id": "1a65ca4b-d182-4699-ab77-8c5460db12d5",
   "metadata": {},
   "source": [
    "ואם היה לנו מילון של סטודנטים עם ציונים כמו שראינו במודול על מילונים? במקרה, זה היינו יכולים לעבור גם בלולאה ולהדפיס את כל הסטודנטים באותו הפורמט:"
   ]
  },
  {
   "cell_type": "code",
   "execution_count": 5,
   "id": "97e4aa12-05f9-4338-a345-71f49114afc2",
   "metadata": {},
   "outputs": [
    {
     "name": "stdout",
     "output_type": "stream",
     "text": [
      "Avi-90\n",
      "Moshe-80\n",
      "Adam-70\n"
     ]
    }
   ],
   "source": [
    "studs = {\"Avi\": 90, \"Moshe\": 80, \"Adam\": 70}\n",
    "\n",
    "for name, grade in studs.items():\n",
    "    print(name+\"-\"+str(grade))"
   ]
  },
  {
   "cell_type": "markdown",
   "id": "26c1f67e-4dcf-4fc8-b4bd-2512140eaf27",
   "metadata": {},
   "source": [
    "נשים לב שהקוד שכתבנו כאן מעט מסורבל. מעבר לפעולת החיבור בין השם לציון, היינו צריכים לחבר גם את המקף ביניהם, ולבצע המרה של ערך מטיפוס `int` ל`str`. הרבה פעולות בשביל מטרה מאוד פשוטה. כמובן שהקוד כזה יהפוך אף ליותר מסורבל ולא קריא ככל שמחברים יותר ערכים מטיפוסים שונים ומגוונים.\n",
    "\n",
    "כדי למנוע את הבעיות הללו, יצרנו עבורנו בפייתון כלי שנקרא String format, או `''f\"\"`/`f`.   \n",
    "באמצעות String format, ניתן לייצר את פורמט מחרוזת שאנו רוצים באמצעותה לייצג את האובייקטים שלנו כמחרוזת מיוחדת, שהיא בעצם שבלונה, או טמפלייט, המכיל נקודות כניסה לקוד המסומנות באמצעות סוגריים מסולסלים `{}`. הקוד שבתוך הסוגריים הללו זה ירוץ באופן אוטומטי, יומר למחרוזת ויחובר למחרוזת בדיוק במקום בו נכתב.\n",
    "\n",
    "נדגים זאת באמצעות שכתוב הקוד שלעיל עם String format:"
   ]
  },
  {
   "cell_type": "code",
   "execution_count": 6,
   "id": "a2541406-7c90-4533-b7c5-22bf1a9ba0ab",
   "metadata": {},
   "outputs": [
    {
     "name": "stdout",
     "output_type": "stream",
     "text": [
      "Avi-90\n",
      "Moshe-80\n",
      "Adam-70\n"
     ]
    }
   ],
   "source": [
    "studs = {\"Avi\": 90, \"Moshe\": 80, \"Adam\": 70}\n",
    "\n",
    "for name, grade in studs.items():\n",
    "    print(f\"{name}-{grade}\")"
   ]
  },
  {
   "cell_type": "markdown",
   "id": "ee5755d8-2576-4d24-93a6-f3d29a54830c",
   "metadata": {},
   "source": [
    "\n",
    "שימו לב כי שבסה\"כ לשים את המשתנים בתוך הסוגריים המסולסלים המתאימים, והString format כבר דאג לחבר אותם ביחד.  "
   ]
  },
  {
   "cell_type": "markdown",
   "id": "cbbd592e-672b-4ed2-9615-42d2a288cca2",
   "metadata": {},
   "source": [
    "```{admonition} **נסו בעצמכם**\n",
    ":class:  caution\n",
    "מה לגבי פעולות קוד יותר מורכבות בתוך הString format? נניח כעת כי נרצה להדפיס את הציון לאחר פקטור של תוספת 10 נקודות. על מנת בצע זאת, הוסיפו `10+` בתוך הסוגריים המסולסלים המכילים את המשתנה grade. \n",
    "\n",
    "אחרי שהצלחתם, נסו \"לשחק\" עם הפורמט: להוסיף פעולות יותר מורכבות בתוך הסוגריים המסולסלים, להוסיף זוגות של סוגריים מסולסלים נוספים וכו' \n",
    "```\n",
    "  "
   ]
  },
  {
   "cell_type": "markdown",
   "id": "52b53376-92b4-47d2-843f-e9e3bad29117",
   "metadata": {},
   "source": [
    "String format מגיע עם מגוון פעולות ייעודיות לעריכת קוד עבור מחרוזת המייצגות מספרים. לדוגמא, נניח כי נרצה לייצג את המספר פאי "
   ]
  },
  {
   "cell_type": "code",
   "execution_count": null,
   "id": "5f60700b-b49f-49c8-83cc-3471ab51e38f",
   "metadata": {},
   "outputs": [],
   "source": [
    "pi = 3.14159265359 "
   ]
  },
  {
   "cell_type": "markdown",
   "id": "71435d52-cda0-4677-a7be-8926f2ca0418",
   "metadata": {},
   "source": [
    "זהו כמובן אינו המספר המלא, הנמשך למעשה אינסוף ספרות לאחר הנקודה. דוגמא נוספת למספר המכיל אינסוף ספרות לאחר הנקודה הוא `2/3`.  \n",
    "מובן שמספרים כאלו לא נרצה להדפיס במלואם. אפילו מספרים עם 5 או 10 ספרות אחר הנקודה נרצה לעיתים קרובות \"לקצץ\" לדיוק של 2 או 3 ספרות שלאחר הנקודה.\n",
    "\n",
    "ישנה כמובן דרך תכנותית פשוטה לעשות זאת באמצעות הפונקציה `round` (קראו עליה!). אך בדומה להמרות, אנחנו כאן מעוניינים לקצר את השימוש בפונקציות.  \n",
    "ומכיוון ש\"קיצוץ\" מספרים כזה היא פעולה נפוצה כאשר רוצים להדפיס מספר, או לייצג אותו כמחרוזת קריאה, יצרו עבורנו בString format פעולות המאפשרות קריאות נוחה יותר למספרים שנמצאים בתוך הסוגריים המסולסלים.\n",
    "\n",
    "נתבונן בדוגמא הבאה"
   ]
  },
  {
   "cell_type": "code",
   "execution_count": null,
   "id": "fde1152a-0f77-42ed-97ac-82ec22a7ac5d",
   "metadata": {
    "slideshow": {
     "slide_type": "fragment"
    }
   },
   "outputs": [],
   "source": [
    "name = 'Avi'\n",
    "pi = 3.14159265359\n",
    "print(f\"My name is {name} and I like {pi}\")"
   ]
  },
  {
   "cell_type": "markdown",
   "id": "f27ec4e9-b51d-4f62-9963-1d4774a312a6",
   "metadata": {},
   "source": [
    "נרצה כעת \"לקצץ\" את הדיוק של מספר הפאי ל2 ספרות לאחר הנקודה. על מנת לממש זאת, נוכל להוסיף בסוף הסוגריים המסולסלים נקודותיים (`:`) עם רמת הדיוק הנדרשת (`2.`) והדרך בה נרצה שמספר יוצג (`f`, כמו `float`/עשרוני) "
   ]
  },
  {
   "cell_type": "code",
   "execution_count": 13,
   "id": "d7b4d052-fa49-4a4b-af2c-33168b4e8e75",
   "metadata": {},
   "outputs": [
    {
     "name": "stdout",
     "output_type": "stream",
     "text": [
      "My name is Avi and I like 3.14\n"
     ]
    }
   ],
   "source": [
    "print(f\"My name is {name} and I like {pi:.2f}\")"
   ]
  },
  {
   "cell_type": "markdown",
   "id": "5bd831d7-d8e6-4acd-829b-15339a32e412",
   "metadata": {},
   "source": [
    "באופן כללי, קיימות מגוון אפשרות לתצוגות מספריות עבור `int` ו-`float` בString format, שניתן להפעיל עם <code><span style='color:green'>S</span><span style='color:blue'>.d</span><span style='color:red'>:</span></code> בסוף הסוגריים המסולסלים, כאשר:"
   ]
  },
  {
   "cell_type": "markdown",
   "id": "d2b5c85f-87dd-43d3-994c-61c54b410cd2",
   "metadata": {
    "slideshow": {
     "slide_type": "fragment"
    }
   },
   "source": [
    "- <code><span style='color:red'>:</span></code> מציין היכן מתחילה עריכת התצוגה  \n",
    "- <code><span style='color:blue'>.d</span></code> רמת הדיוק — כמה ספרות אחרי הנקודה העשרונית  \n",
    "- <code><span style='color:green'>S</span></code> סגנון מספרי (נקודה עשרונית, מדעי וכו')\n"
   ]
  },
  {
   "cell_type": "markdown",
   "id": "6ca27ea7-9c12-4693-b4b7-386cb3afaaf9",
   "metadata": {},
   "source": [
    "נבחן כעת תצוגה מספרית נוספת - תצוגה מדעית - בה המספר מוכפל בחזקה של 10. תצוגה זו נועדה כדי לייצג באמצעות מחרוזת מספרים מאוד קטנים (כלומר, הרבה אפסים אחר הנקודה) מבלי להחשיבם פשוט כ-0.\n",
    "\n",
    "לדוגמא, נניח שנרצה לייצג כמחרוזת את המספר 0.0000000314159265359 . על מנת להציגו באמצעות מספר תווים מצומצם, נוכל להשתמש בString format כפי שעשינו קודם: "
   ]
  },
  {
   "cell_type": "code",
   "execution_count": 19,
   "id": "82a7ed0f-676d-4eff-9669-a26194635924",
   "metadata": {},
   "outputs": [
    {
     "name": "stdout",
     "output_type": "stream",
     "text": [
      "My name is Avi and I like 0.00\n"
     ]
    }
   ],
   "source": [
    "name = 'Avi'\n",
    "small_pi=0.0000000314159265359\n",
    "print(f\"My name is {name} and I like {small_pi:.2f}\")"
   ]
  },
  {
   "cell_type": "markdown",
   "id": "fb1e8644-3137-4b95-8b6c-1cd9fae33ab3",
   "metadata": {},
   "source": [
    "אבל כך נקבל פשוט 0, וזה כמובן לא ייצוג אינפורמטיבי. \n",
    "\n",
    "לעומת זאת, באמצעות תצוגה מדעית (`e` כמו אקספוננט) אנו יכולים \"לחתוך\" את כל האפסים שנמצאים בתחילת המספר עד שנגיע למספר שאינו 0  "
   ]
  },
  {
   "cell_type": "code",
   "execution_count": 20,
   "id": "749f999d-dd3f-4336-ae59-f56b292212f7",
   "metadata": {},
   "outputs": [
    {
     "name": "stdout",
     "output_type": "stream",
     "text": [
      "My name is Avi and I like 3.14e-08\n"
     ]
    }
   ],
   "source": [
    "print(f\"My name is {name} and I like {small_pi:.2e}\")"
   ]
  },
  {
   "cell_type": "markdown",
   "id": "d9b0438e-cc3c-4a2a-99a9-c1a7cdea9b78",
   "metadata": {},
   "source": [
    "התצוגה המדעית זו בעצם אומרת לנו שלפני שנראה את ספרות 314, נראה גם 8 אפסים.   \n",
    "שימו לב שגם פה חתכנו את כל הספרות בדיוק של 2 לאחר הנקודה, לאחר ההמרה לתצוגה המדעית."
   ]
  },
  {
   "cell_type": "markdown",
   "id": "2e851880-8d3f-42a1-a410-96c87a2946c1",
   "metadata": {},
   "source": [
    "```{admonition} **נסו בעצמכם**\n",
    ":class:  caution\n",
    "\n",
    "נסו להשתמש בתצוגה מדעית על מנת לייצג גם מספרים מאוד גדולים, כמו 31415926535900000 \n",
    "\n",
    "```\n",
    "  "
   ]
  },
  {
   "cell_type": "markdown",
   "id": "2ed4ee57-c220-42c3-a2ed-3abf02022acd",
   "metadata": {},
   "source": [
    "לסיכום, תצוגות מספריות שונות בString format מאוד שימושיות בייצוג מספרים ארוכים כמחרוזת. קיימות תצוגות מספריות שימושיות נוספות, כמו תצוגה באחוזים.\n",
    "\n",
    "אנו מזמינים אתכם לקרוא עוד על String format [בתיעוד הרשמי של פייתון](https://docs.python.org/3/library/string.html#format-examples)."
   ]
  }
 ],
 "metadata": {
  "celltoolbar": "Slideshow",
  "kernelspec": {
   "display_name": "Python 3 (ipykernel)",
   "language": "python",
   "name": "python3"
  },
  "language_info": {
   "codemirror_mode": {
    "name": "ipython",
    "version": 3
   },
   "file_extension": ".py",
   "mimetype": "text/x-python",
   "name": "python",
   "nbconvert_exporter": "python",
   "pygments_lexer": "ipython3",
   "version": "3.13.5"
  }
 },
 "nbformat": 4,
 "nbformat_minor": 5
}
