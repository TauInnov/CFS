{
 "cells": [
  {
   "cell_type": "code",
   "execution_count": null,
   "id": "0f1738ed",
   "metadata": {
    "execution": {
     "iopub.execute_input": "2025-03-19T10:54:03.393054Z",
     "iopub.status.busy": "2025-03-19T10:54:03.392720Z",
     "iopub.status.idle": "2025-03-19T10:54:03.408609Z",
     "shell.execute_reply": "2025-03-19T10:54:03.407797Z"
    },
    "id": "d8dd8f67",
    "slideshow": {
     "slide_type": "skip"
    },
    "tags": [
     "remove-cell"
    ]
   },
   "outputs": [],
   "source": [
    "%%html\n",
    "<style>\n",
    "table {display: inline-block}\n",
    "td {text-align:left}\n",
    ".consoleMachineFont {color:blue;font-family:Courier}\n",
    ".consoleUserFont {font-family:Courier}\n",
    "</style>"
   ]
  },
  {
   "cell_type": "markdown",
   "id": "e082af05-901f-4b93-a4e9-ef17745db5d4",
   "metadata": {},
   "source": [
    "# מתודות קסם"
   ]
  },
  {
   "cell_type": "markdown",
   "id": "e1ce1dff-1f16-492c-adf1-9b324d040c07",
   "metadata": {},
   "source": [
    "כבר מהשלבים הראשונים בלימוד פייתון ראינו שטיפוסים קיימים בפייתון כמו int, str, ו־list מתנהגים בצורה מאוד טבעית: אנחנו יכולים להשתמש בהם באופרטורים (+, *, ==), להדפיס אותם ישירות עם `print`, לחשב את אורכם עם `len` או לבדוק הכלה בעזרת `in`. למשל, הפקודה `len([1,2,3])` מחזירה את אורך הרשימה. טיפוסים הקיימים בפייתון עובדים בצורה טבעית עם פונקציות מובנות מבלי שנצטרך לחשוב מה מתרחש \"מאחורי הקלעים\".\n",
    "\n",
    "הסיבה לכך שהפונקציות המובנות עובדות כך היא שבפייתון ניתן לכתוב עבור כל מחלקה **מתודות קסם, או dunder methods**, שמאפשרות לטיפוסים להתנהג כאילו היו חלק מובנה מהשפה. מתודות אלו מגדירות כיצד האובייקט מגיב למצבים שונים: יצירה, הדפסה, בדיקות אורך או בדיקת הכלה. כשאנחנו מגדירים מחלקה משלנו, אנחנו יכולים לממש את אותן מתודות ובכך לגרום לאובייקטים מותאמים אישית להתנהג באותה הצורה הטבעית שראינו עם טיפוסים מובנים.   \n",
    "למעשה, מאחורי הקלעים **הפונקציות המובנות נעזרות במתודות הקסם על מנת לבצע את פעולתן**.  \n",
    "\n",
    "קיים מספר רב של מתודות קסם. ביחידה זו נתמקד בשלוש:\n",
    "\n",
    "- `__repr__(self)`  \n",
    "  - מחזירה מחרוזת שמייצגת את האובייקט.  \n",
    "  - משמשת בין השאר את הפונקציה `print` כדי לקבל מחרוזת שניתן להדפיס.   \n",
    "\n",
    "- `__len__(self)`  \n",
    "  - מחזירה מספר שלם המייצג את האורך של האובייקט.  \n",
    "  - מופעלת כאשר משתמשים בפונקציה המובנית `len(obj)`.  \n",
    "\n",
    "- `__contains__(self, item)`  \n",
    "  - קובעת האם איבר מסוים נמצא בתוך האובייקט.  \n",
    "  - מופעלת כאשר משתמשים באופרטור `in` (למשל: `x in obj`).  \n",
    "  - מחזירה `True` או `False` בהתאם לתוצאה.  \n",
    "\n",
    "\n",
    " בבעיה הבאה שנציג, נדגים את השימוש בשלושת המתודות המיוחדות הללו"
   ]
  },
  {
   "cell_type": "markdown",
   "id": "3740b771-987a-4915-aef7-4f5a89a28f1a",
   "metadata": {},
   "source": [
    "```{admonition} **כדאי  לדעת**\n",
    ":class: tip\n",
    "\n",
    "גם `__init__` (הבנאי) היא למעשה סוג של מתודת קסם מיוחדת, אשר נקראת בכל פעם שאנו קוראים למחלקה עם סוגריים עגולים  \n",
    "\n",
    "```"
   ]
  },
  {
   "cell_type": "markdown",
   "id": "b3bda30e",
   "metadata": {
    "id": "9f3630b2",
    "slideshow": {
     "slide_type": "subslide"
    }
   },
   "source": [
    "### הבעית ה-LUD – Least Used Dictionary"
   ]
  },
  {
   "cell_type": "markdown",
   "id": "84e68b06",
   "metadata": {
    "id": "c803b60a",
    "slideshow": {
     "slide_type": "fragment"
    }
   },
   "source": [
    "LUD הוא מילון מיוחד בגודל מוגבל, שמנהל לא רק זוגות של מפתחות וערכים אלא גם עוקב אחרי מספר הפעמים שכל מפתח נשלף ממנו. כלומר, בכל פעם שניגשים לערך באמצעות get(key), המילון מעלה את מונה הגישות לאותו מפתח. בדרך זו נשמרת היסטוריה של תדירות השימוש בכל ערך במבנה.\n",
    "\n",
    "כאשר המילון מגיע לגודל המקסימלי שלו, והמשתמש מנסה להוסיף זוג חדש של מפתח-ערך, המילון חייב \"לזרוק\" זוג מפתח-ערך קיים על מנת לשמור את הזוג החדש. המילון יבחור איזה מפתח לזרוק לפי **תדירות הגישה למפתח-ערך**: הזוג שהיה בשימוש המועט ביותר (כלומר בעל מספר הגישות הנמוך ביותר) יוסר מהמילון, ורק לאחר מכן יתווסף את הזוג החדש. כך מבטיחים שמצד אחד המילון ישמור על גודל מוגבל, אך גם יכיל את הערכים השימושיים ביותר, ויפנה מקום באופן חכם כאשר נדרשת הוספה של פריטים חדשים."
   ]
  },
  {
   "cell_type": "markdown",
   "id": "6dd53022",
   "metadata": {
    "id": "31c20cb1",
    "slideshow": {
     "slide_type": "slide"
    }
   },
   "source": [
    "נבחן כעת מחלקה המממשת את LUD, אשר תכיל את המתודות הבאות:\n",
    "\n",
    "- `__init__(self, memory_size)`:\n",
    "  - מאתחלת את המילון וקובעת את הגודל המקסימלי שלו ל־`memory_size`.  \n",
    "  - אם הערך של `memory_size` קטן מ־1, תודפס אזהרה: `\"Error in memory size\"`.  \n",
    "\n",
    "- `__len__(self)`:\n",
    "  - מחזירה את מספר האיברים שנמצאים כרגע במילון LUD.  \n",
    "\n",
    "- `__contains__(self, key)`:\n",
    "  - מחזירה `True` אם המפתח נמצא במילון, אחרת `False`.  \n",
    "\n",
    "- `__repr__(self)`:\n",
    "  - מחזירה מחרוזת המכילה את כל מפתחות המילון מופרדים ע\"י מקף. \n",
    "\n",
    "- `get(self, key)`:\n",
    "  - מחזירה את הערך המתאים למפתח. בנוסף, הפעולה מעדכנת את מונה הגישות לאותו מפתח.  \n",
    "  - אם המפתח לא קיים במילון, המתודה מחזירה `None`.  \n",
    "\n",
    "- `put(self, key, value)`:\n",
    "  - מוסיפה זוג חדש של מפתח וערך למילון.  \n"
   ]
  },
  {
   "cell_type": "markdown",
   "id": "9fcb0653-c62a-4b6f-b1ab-e7af8e04de3b",
   "metadata": {},
   "source": [
    "#### הסבר על המימוש, שלב אחר שלב:"
   ]
  },
  {
   "cell_type": "markdown",
   "id": "313db178-c9a8-4681-a02b-c6b76664d6f4",
   "metadata": {},
   "source": [
    "```python\n",
    "    def __init__(self, memory_size):\n",
    "        if memory_size < 1:\n",
    "            print('Error memory size')\n",
    "        self.memory_size = memory_size\n",
    "        self.data, self.usage = {}, {}\n",
    "```\n",
    "הבנאי (`__init__`)  מתבצע אתחול של האובייקט: אם המשתמש העביר גודל זיכרון קטן מ־1, תודפס הודעת שגיאה. לאחר מכן נשמר הערך של `memory_size` ומאותחלים שני מילונים פנימיים: `data` לשמירת המפתחות והערכים בפועל, ו-`usage` למעקב אחר מספר הפעמים שכל מפתח נשלף."
   ]
  },
  {
   "cell_type": "markdown",
   "id": "fa86aaac-5044-48e1-aa8c-7dc56c557a1a",
   "metadata": {},
   "source": [
    "\n",
    "```python\n",
    "    def __len__(self):\n",
    "        return len(self.data) \n",
    "```\n",
    "מתודה זו מחזירה את מספר האיברים במילון, על ידי קריאה לפונקציה len על המילון data. בצורה זו יאפשר לנו בהמשך להשתמש בפונקציה המובנית `len` ישירות על אובייקטים מטיפוס LUD."
   ]
  },
  {
   "cell_type": "markdown",
   "id": "4eaef767-85b6-4edb-9cc5-340b51a3d6b9",
   "metadata": {},
   "source": [
    "\n",
    "```python\n",
    "    def __contains__(self, key):\n",
    "        return key in self.data\n",
    "```\n",
    "מתודה זו מתבצעת בדיקת שייכות: האם מפתח מסוים מוכל במילון. זה יאפשר לנו בהמשך להשתמש בתחביר הטבעי `key in lud` במקום לקרוא לפונקציה נפרדת.\n"
   ]
  },
  {
   "cell_type": "markdown",
   "id": "379b88c7-a417-4131-b825-10517ace1679",
   "metadata": {},
   "source": [
    "\n",
    "```python\n",
    "    def __repr__(self):\n",
    "        return \"-\".join(self.data)\n",
    "```\n",
    "מתודה זו מחזירה מחרוזת שמייצגת את המילון – כאן נעשה שימוש פשוט שמחבר את המפתחות בעזרת מקפים, כך שהאובייקט יודפס בצורה קריאה ולא ככתובת בזיכרון."
   ]
  },
  {
   "cell_type": "markdown",
   "id": "09eff42d-bfd6-4d15-92c9-a9f7c62a876c",
   "metadata": {},
   "source": [
    "```python\n",
    "    def get(self, key):\n",
    "        val = self.data.get(key)\n",
    "        if val != None:\n",
    "            self.usage[key] += 1\n",
    "        return val\n",
    "```\n",
    "מתודה זו אחראית להחזרת הערך השייך למפתח. היא משתמשת במתודת `get` של מילון רגיל, ואם הערך נמצא, מגדילה ב־1 את מונה הגישות לאותו מפתח במילון usage. אם המפתח לא קיים, מוחזר `None`.\n"
   ]
  },
  {
   "cell_type": "markdown",
   "id": "d20c4f00-5ddb-427c-9b0b-169eab389539",
   "metadata": {},
   "source": [
    "```python\n",
    "    def put(self, key, value):\n",
    "        if len(self) == self.memory_size and key not in self:\n",
    "            mkey, mval = min(self.usage.items(), key=lambda key_value: key_value[1])\n",
    "            self.data.pop(mkey)\n",
    "            self.usage.pop(mkey)\n",
    "        self.data[key] = value\n",
    "        self.usage[key] = 0\n",
    "```\n",
    "מתודה זו מוסיפה זוג מפתח-ערך חדש. \n",
    "\n",
    "תחילה, מתבצעת בדיקה אם המילון כבר הגיע לגודל המקסימלי והמפתח החדש עדיין לא קיים: `if len(self) == self.memory_size and key not in self`.   \n",
    "שימו לב כי הפקודות `len` ו`in` מופעלות ישירות על `self`. דבר זה מתאפשר בזכות המימוש שכתבנו למתודות הקסם שכתבנו: `__len__` ו-`__contains__`.\n",
    "\n",
    "במידה והמילון כבר הגיע למקסימום זוגות מפתח-ערך שהוא יכול להכיל (לפי `memory_size`), יש להסיר משני המילונים (`data` ו-`usage`) את המפתח שהשתמשו בו הכי מעט.   \n",
    "על מנת לגלות מי המפתח בו השתמשו הכי מעט משתמשים ב-`mkey, mval = min(self.usage.items(), key=lambda key_value: key_value[1])`.   \n",
    "\n",
    "נסביר פקודה זו מעט בהרחבה:  \n",
    "זכרו כי `()dict.items` מחזירה אובייקט איטרציה של זוגות (key, value) — כלומר צדים של מפתח-ערך.   \n",
    "אנו עושים שימוש בפרמטר `key`, אשר מגדיר יחס סדר חדש לפונקציה `min`. יחס סדר ,תלוי בערך של כל מפתח (שהוא האיבר השני בכל tuple): `lambda key_value: key_value[1]`, כלומר עבור כל זוג (key, count) נסתכל דווקא על האיבר השני — מונה השימוש — ונבחר את המינימום על פי הערך הזה.   \n",
    "התוצאה של `min` היא הזוג מפתח-ערך עם הערך המינימלי. במקרה שלנו, הערך הוא מספר הפעמים שניגשו למפתח זה.   \n",
    "את הזוג מפתח-ערך, ואנחנו מפרקים אותו ל־mkey (המפתח להסרה) ו־mval (מספר הגישות שלו).\n",
    "\n",
    "לאחר שחילצנו את המפתח בעל מספר הגישות המינימלי, נסיר אותו משני המילונים שלנו (`data` ו-`usage`), ונוסיף את מפתח החדש נוסף עם הערך המתאים, ובמקביל מאופס מונה השימוש שלו (0). \n",
    "\n",
    "בצורה זו מובטחת התנהגות של Least Used Dictionary – בכל הוספה כשהמילון מלא, המפתח בעל השימוש המועט ביותר מוסר."
   ]
  },
  {
   "cell_type": "markdown",
   "id": "d04c3430-2226-4cd7-a10e-5c5c81167881",
   "metadata": {},
   "source": [
    "```{admonition} **הרחבה**\n",
    ":class: info\n",
    "\n",
    "ברירת המחדל של min היא להשוות ישירות בין הזוגות (טאפלים). בפייתון, ההשוואה בין טאפלים נעשית בצורה לקסיקוגרפית:\n",
    "קודם משווים את האיבר הראשון (המפתח).\n",
    "אם הם שונים – ההשוואה מוכרעת לפי המפתחות.\n",
    "אם הם שווים – רק אז משווים את האיבר השני (הערך).\n",
    "\n",
    "```\n",
    "\n",
    "\n"
   ]
  },
  {
   "cell_type": "markdown",
   "id": "4f429f52-54c5-4607-8a5b-79ced245f338",
   "metadata": {},
   "source": [
    "כעת נצרף את כלל המימושים למחלקה שלמה:"
   ]
  },
  {
   "cell_type": "code",
   "execution_count": 5,
   "id": "dbc39bdd",
   "metadata": {
    "id": "acd991c6",
    "slideshow": {
     "slide_type": "subslide"
    }
   },
   "outputs": [],
   "source": [
    "class LUD:\n",
    "    def __init__(self, memory_size):\n",
    "        if memory_size < 1:\n",
    "            print('Error memory size')\n",
    "        self.memory_size = memory_size\n",
    "        self.data, self.usage = {}, {}\n",
    "        \n",
    "    def __len__(self):\n",
    "        return len(self.data) \n",
    "\n",
    "    def __contains__(self, key):\n",
    "        return key in self.data\n",
    "\n",
    "    def __repr__(self):\n",
    "        return \"-\".join(self.data.keys())\n",
    "\n",
    "    def get(self, key):\n",
    "        val = self.data.get(key)\n",
    "        if val != None:\n",
    "            self.usage[key] += 1\n",
    "        return val\n",
    "\n",
    "    def put(self, key, value):\n",
    "        if len(self) == self.memory_size and key not in self:\n",
    "            mkey, mval = min(self.usage.items(), key=lambda key_value: key_value[1])\n",
    "            self.data.pop(mkey)\n",
    "            self.usage.pop(mkey)\n",
    "        self.data[key] = value\n",
    "        self.usage[key] = 0"
   ]
  },
  {
   "cell_type": "markdown",
   "id": "e7b0a59f-038e-4af7-b237-51ae6c4ab057",
   "metadata": {},
   "source": [
    "כעת, לאחר שמימשנו את המחלקה, נדגים את השימוש בה.   \n",
    "נסו להוסיף ולשנות קריאות למחלקה, ולראות את אתם התוצאה שהתקבלה היא מה שאתם מצפים לראות "
   ]
  },
  {
   "cell_type": "code",
   "execution_count": 11,
   "id": "0b746a28-82ae-4751-baa8-3721cba0952d",
   "metadata": {},
   "outputs": [
    {
     "name": "stdout",
     "output_type": "stream",
     "text": [
      "Hi-Bye\n",
      "False\n",
      "True\n",
      "Hi-Hi again\n"
     ]
    }
   ],
   "source": [
    "lud_dict = LUD(2)\n",
    "lud_dict.put('Hi', 2)\n",
    "lud_dict.put('Bye', 2)\n",
    "print(lud_dict)\n",
    "a = lud_dict.get('Hi')\n",
    "lud_dict.put('Hi again', 1)\n",
    "print('Bye' in lud_dict)\n",
    "print('Hi' in lud_dict)\n",
    "print(lud_dict)"
   ]
  }
 ],
 "metadata": {
  "celltoolbar": "Slideshow",
  "colab": {
   "provenance": []
  },
  "kernelspec": {
   "display_name": "Python 3 (ipykernel)",
   "language": "python",
   "name": "python3"
  },
  "language_info": {
   "codemirror_mode": {
    "name": "ipython",
    "version": 3
   },
   "file_extension": ".py",
   "mimetype": "text/x-python",
   "name": "python",
   "nbconvert_exporter": "python",
   "pygments_lexer": "ipython3",
   "version": "3.11.12"
  }
 },
 "nbformat": 4,
 "nbformat_minor": 5
}
