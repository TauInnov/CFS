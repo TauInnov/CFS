{
 "cells": [
  {
   "cell_type": "code",
   "execution_count": 8,
   "id": "7e548e8d-cb63-4291-855a-e784ac8f74c5",
   "metadata": {
    "slideshow": {
     "slide_type": "skip"
    },
    "tags": [
     "remove-cell"
    ]
   },
   "outputs": [
    {
     "data": {
      "text/html": [
       "<!-- RTL Fix the jupyter notebook 7  -->\n",
       "<style>\n",
       "    .jp-RenderedHTMLCommon {\n",
       "        padding-top: 2em !important;\n",
       "  }   \n",
       "    .jp-RenderedHTMLCommon, .jp-RenderedHTMLCommon * {\n",
       "        direction: rtl !important;\n",
       "        text-align:right !important;\n",
       "  }\n",
       "    .jp-MarkdownCell .jp-InputArea-editor {\n",
       "        direction: rtl !important; \n",
       "        text-align:right !important;\n",
       "        padding-top: 2em !important;\n",
       "  } \n",
       "\n",
       " .jp-RenderedHTMLCommon code, .jp-RenderedHTMLCommon code span {\n",
       "        text-align:left !important;\n",
       "        direction: ltr !important;\n",
       "        unicode-bidi: embed !important;\n",
       "\n",
       "    }\n",
       "    .jp-RenderedHTMLCommon pre:has(code) {\n",
       "      direction: ltr !important;\n",
       "      text-align: left!important;\n",
       "    }\n",
       "\n",
       "</style> \n"
      ],
      "text/plain": [
       "<IPython.core.display.HTML object>"
      ]
     },
     "metadata": {},
     "output_type": "display_data"
    }
   ],
   "source": [
    "%%html\n",
    "<!-- RTL Fix the jupyter notebook 7  -->\n",
    "<style>\n",
    "    .jp-RenderedHTMLCommon {\n",
    "        padding-top: 2em !important;\n",
    "  }   \n",
    "    .jp-RenderedHTMLCommon, .jp-RenderedHTMLCommon * {\n",
    "        direction: rtl !important;\n",
    "        text-align:right !important;\n",
    "  }\n",
    "    .jp-MarkdownCell .jp-InputArea-editor {\n",
    "        direction: rtl !important; \n",
    "        text-align:right !important;\n",
    "        padding-top: 2em !important;\n",
    "  } \n",
    "\n",
    " .jp-RenderedHTMLCommon code, .jp-RenderedHTMLCommon code span {\n",
    "        text-align:left !important;\n",
    "        direction: ltr !important;\n",
    "        unicode-bidi: embed !important;\n",
    "\n",
    "    }\n",
    "    .jp-RenderedHTMLCommon pre:has(code) {\n",
    "      direction: ltr !important;\n",
    "      text-align: left!important;\n",
    "    }\n",
    "\n",
    "</style> "
   ]
  },
  {
   "cell_type": "code",
   "execution_count": 12,
   "id": "2f2d03fd-729e-439a-9ab0-de58c598e9ca",
   "metadata": {
    "tags": [
     "remove-cell"
    ]
   },
   "outputs": [
    {
     "data": {
      "text/html": [
       "<script>\n",
       "(function() {\n",
       "  // Create the toggle button\n",
       "  const rtlButton = document.createElement(\"button\");\n",
       "  rtlButton.textContent = \"Toggle LTR\";\n",
       "  rtlButton.id = \"top-rtl-toggle\";\n",
       "  rtlButton.style.marginLeft = \"8px\";\n",
       "  rtlButton.style.padding = \"4px 10px\";\n",
       "  rtlButton.style.fontSize = \"14px\";\n",
       "  rtlButton.style.cursor = \"pointer\";\n",
       "\n",
       "  // State\n",
       "  var rtlActive = false;\n",
       "\n",
       "  // Styling function\n",
       "  var applyStyleToEditor = (editor) => {\n",
       "    if (!editor) return;\n",
       "    var direction = getComputedStyle(editor).getPropertyValue('direction')=='rtl' ? 'ltr' : 'rtl';\n",
       "    var text_align = getComputedStyle(editor).getPropertyValue('text-align')=='right' ? 'left' : 'right';\n",
       "    editor.style.setProperty('direction', direction, 'important');\n",
       "    editor.style.setProperty('text-align', text_align, 'important');\n",
       "  };\n",
       "\n",
       "  // Toggle logic\n",
       "  rtlButton.onclick = () => {\n",
       "    rtlActive = !rtlActive;\n",
       "    rtlButton.textContent = rtlActive ? \"Toggle LTR\" : \"Toggle RTL\";\n",
       "    document.querySelectorAll('.jp-MarkdownCell .jp-InputArea-editor').forEach(applyStyleToEditor);\n",
       "    document.querySelectorAll('.jp-RenderedHTMLCommon code, .jp-RenderedHTMLCommon code span').forEach(applyStyleToEditor);\n",
       "    document.querySelectorAll('jp-RenderedHTMLCommon, .jp-RenderedHTMLCommon *').forEach(applyStyleToEditor);\n",
       "  };\n",
       "\n",
       "  // Watch for focus into editing Markdown cells\n",
       "  // document.addEventListener('focusin', (event) => {\n",
       "  //   const editor = event.target.closest('.jp-MarkdownCell .jp-InputArea-editor');\n",
       "  //    if (editor) applyStyleToEditor(editor);\n",
       "  // });\n",
       "\n",
       "  // Insert into top toolbar if not already present\n",
       "  var insertIntoToolbar = () => {\n",
       "    const toolbar = document.querySelector('.jp-NotebookPanel-toolbar');\n",
       "    if (toolbar && !document.getElementById(\"top-rtl-toggle\")) {\n",
       "      toolbar.appendChild(rtlButton);\n",
       "    } else {\n",
       "      // Try again in a moment if toolbar isn't ready yet\n",
       "      setTimeout(insertIntoToolbar, 300);\n",
       "    }\n",
       "  };\n",
       "\n",
       "  insertIntoToolbar();\n",
       "})();\n",
       "</script>\n"
      ],
      "text/plain": [
       "<IPython.core.display.HTML object>"
      ]
     },
     "metadata": {},
     "output_type": "display_data"
    }
   ],
   "source": [
    "%%html\n",
    "<script>\n",
    "(function() {\n",
    "  // Create the toggle button\n",
    "  const rtlButton = document.createElement(\"button\");\n",
    "  rtlButton.textContent = \"Toggle LTR\";\n",
    "  rtlButton.id = \"top-rtl-toggle\";\n",
    "  rtlButton.style.marginLeft = \"8px\";\n",
    "  rtlButton.style.padding = \"4px 10px\";\n",
    "  rtlButton.style.fontSize = \"14px\";\n",
    "  rtlButton.style.cursor = \"pointer\";\n",
    "\n",
    "  // State\n",
    "  var rtlActive = false;\n",
    "\n",
    "  // Styling function\n",
    "  var applyStyleToEditor = (editor) => {\n",
    "    if (!editor) return;\n",
    "    var direction = getComputedStyle(editor).getPropertyValue('direction')=='rtl' ? 'ltr' : 'rtl';\n",
    "    var text_align = getComputedStyle(editor).getPropertyValue('text-align')=='right' ? 'left' : 'right';\n",
    "    editor.style.setProperty('direction', direction, 'important');\n",
    "    editor.style.setProperty('text-align', text_align, 'important');\n",
    "  };\n",
    "\n",
    "  // Toggle logic\n",
    "  rtlButton.onclick = () => {\n",
    "    rtlActive = !rtlActive;\n",
    "    rtlButton.textContent = rtlActive ? \"Toggle LTR\" : \"Toggle RTL\";\n",
    "    document.querySelectorAll('.jp-MarkdownCell .jp-InputArea-editor').forEach(applyStyleToEditor);\n",
    "    document.querySelectorAll('.jp-RenderedHTMLCommon code, .jp-RenderedHTMLCommon code span').forEach(applyStyleToEditor);\n",
    "    document.querySelectorAll('jp-RenderedHTMLCommon, .jp-RenderedHTMLCommon *').forEach(applyStyleToEditor);\n",
    "  };\n",
    "\n",
    "  // Watch for focus into editing Markdown cells\n",
    "  // document.addEventListener('focusin', (event) => {\n",
    "  //   const editor = event.target.closest('.jp-MarkdownCell .jp-InputArea-editor');\n",
    "  //    if (editor) applyStyleToEditor(editor);\n",
    "  // });\n",
    "\n",
    "  // Insert into top toolbar if not already present\n",
    "  var insertIntoToolbar = () => {\n",
    "    const toolbar = document.querySelector('.jp-NotebookPanel-toolbar');\n",
    "    if (toolbar && !document.getElementById(\"top-rtl-toggle\")) {\n",
    "      toolbar.appendChild(rtlButton);\n",
    "    } else {\n",
    "      // Try again in a moment if toolbar isn't ready yet\n",
    "      setTimeout(insertIntoToolbar, 300);\n",
    "    }\n",
    "  };\n",
    "\n",
    "  insertIntoToolbar();\n",
    "})();\n",
    "</script>"
   ]
  },
  {
   "cell_type": "markdown",
   "id": "c584c1d9",
   "metadata": {
    "slideshow": {
     "slide_type": "slide"
    }
   },
   "source": [
    "# שימוש מתקדם בפונקציות"
   ]
  },
  {
   "cell_type": "markdown",
   "id": "87ef5a78-038e-43f9-aba0-7f41fc178419",
   "metadata": {},
   "source": [
    "### אג'נדה\n",
    "- ערכי ברירת מחדל לפונקציות\n",
    "- פונקציות שמקבלות פונקציות\n",
    "- פונקציות אנונימיות (`lambda`)"
   ]
  },
  {
   "cell_type": "markdown",
   "id": "d5d1201c-9598-46b0-9048-9b943ed8b48d",
   "metadata": {},
   "source": [
    "עד כה הרחבנו את ההבנה שלנו באיך פונקציות מתנהלות מאחורי הקלעים. בחלק זה נרחיב את היכרותנו עם פרמטרים בפונקציות, מעבר לשימושים הבסיסיים שכבר פגשנו. האפשרויות המתקדמות שנלמד יאפשרו לכתוב פונקציות גמישות ועוצמתיות יותר: פרמטרים עם ערכי ברירת מחדל, קבלת פונקציה כפרמטר, ושימוש בפונקציות אנונימיות. כל אלה יאפשרו לנו להתאים את הפונקציות לצרכים מגוונים ולצמצם חזרתיות בקוד."
   ]
  },
  {
   "cell_type": "markdown",
   "id": "e880bf7d",
   "metadata": {
    "slideshow": {
     "slide_type": "subslide"
    }
   },
   "source": [
    "## פרמטרים לפונקציות עם ערכי ברירת מחדל"
   ]
  },
  {
   "cell_type": "markdown",
   "id": "55e75f15",
   "metadata": {
    "slideshow": {
     "slide_type": "fragment"
    }
   },
   "source": [
    "לפעמים נרצה להגדיר לפונקציה ערכי ברירת מחדל לפרמטרים שלה - כלומר, ערכים שהפונקציה תשתמש בהם באופן אוטומטי אם המשתמש לא מספק ערך אחר בזמן הקריאה. ברגע שכן מועבר ערך, הוא \"מחליף\" את ברירת המחדל. \n",
    "\n",
    "**שימו לב**: פרמטרים עם ערכי ברירת מחדל תמיד צריכים להופיע אחרי פרמטרים רגילים (בלי ברירת מחדל). אחרת פייתון לא ידע איזה ערך לשייך למה."
   ]
  },
  {
   "cell_type": "markdown",
   "id": "c9daec24-daea-4d9f-80df-a7ec39ca4d3b",
   "metadata": {},
   "source": [
    "#### דוגמאות"
   ]
  },
  {
   "cell_type": "markdown",
   "id": "d78d766a-8657-43fe-9124-7e28783284ea",
   "metadata": {},
   "source": [
    "**דוגמה:** לפונקציה f1 יש שני משתנים פורמליים.   \n",
    "הפרמטר x הוא משתנה ללא ערך ברירת מחדל, ולכן בכל קריאה לf1 המשתמש יצטרך לתת לx ערך.  \n",
    "לפרמטר y יש ערך ברירת מחדל של 1. אם המשתמש יקרא לפונקציה בלי להגדיר ערך לy, ההצבה בהתחלה תשים בy את הערך 1."
   ]
  },
  {
   "cell_type": "code",
   "execution_count": 17,
   "id": "e7f57e4c",
   "metadata": {
    "slideshow": {
     "slide_type": "fragment"
    }
   },
   "outputs": [],
   "source": [
    "def f1(x, y=1):\n",
    "    return x+y"
   ]
  },
  {
   "cell_type": "markdown",
   "id": "b2b3e3b3-37f4-4bff-acb1-eaba62b253fa",
   "metadata": {},
   "source": [
    "במקרה הזה, המשתמש דורס את ערך ברירת המחדל של y, ולכן y יהיה שווה 2."
   ]
  },
  {
   "cell_type": "code",
   "execution_count": null,
   "id": "5df109e7",
   "metadata": {
    "execution": {
     "iopub.execute_input": "2025-03-10T07:47:03.992284Z",
     "iopub.status.busy": "2025-03-10T07:47:03.991855Z",
     "iopub.status.idle": "2025-03-10T07:47:03.999604Z",
     "shell.execute_reply": "2025-03-10T07:47:03.998872Z"
    },
    "slideshow": {
     "slide_type": "fragment"
    }
   },
   "outputs": [],
   "source": [
    "f1(1, 2)"
   ]
  },
  {
   "cell_type": "markdown",
   "id": "1e93b4ae-84f9-45f6-9c73-725423867497",
   "metadata": {},
   "source": [
    "במקרה הזה המשתמש לא הגדיר ערך לy, ולכן y יקבל את ערך ברירת המחדל 1."
   ]
  },
  {
   "cell_type": "code",
   "execution_count": null,
   "id": "22d88202",
   "metadata": {
    "execution": {
     "iopub.execute_input": "2025-03-10T07:47:04.002696Z",
     "iopub.status.busy": "2025-03-10T07:47:04.002120Z",
     "iopub.status.idle": "2025-03-10T07:47:04.007418Z",
     "shell.execute_reply": "2025-03-10T07:47:04.006691Z"
    },
    "slideshow": {
     "slide_type": "fragment"
    }
   },
   "outputs": [],
   "source": [
    "f1(3)"
   ]
  },
  {
   "cell_type": "markdown",
   "id": "ad582ed8-10be-40f7-94c8-1e70b10499db",
   "metadata": {},
   "source": [
    "מאחר שלx אין ערך ברירת מחדל, לא ניתן לקרוא לפונקציה f1 מבלי לספק ערך לx."
   ]
  },
  {
   "cell_type": "code",
   "execution_count": null,
   "id": "3c63dd9a",
   "metadata": {
    "execution": {
     "iopub.execute_input": "2025-03-10T07:47:04.010219Z",
     "iopub.status.busy": "2025-03-10T07:47:04.009905Z",
     "iopub.status.idle": "2025-03-10T07:47:04.027816Z",
     "shell.execute_reply": "2025-03-10T07:47:04.027092Z"
    },
    "slideshow": {
     "slide_type": "fragment"
    },
    "tags": [
     "raises-exception"
    ]
   },
   "outputs": [],
   "source": [
    "f1()"
   ]
  },
  {
   "cell_type": "markdown",
   "id": "d73cb5d2",
   "metadata": {
    "slideshow": {
     "slide_type": "subslide"
    }
   },
   "source": [
    "**דוגמה:** הפעם לכל המשתנים הפורמליים יש ערך ברירת מחדל!"
   ]
  },
  {
   "cell_type": "code",
   "execution_count": 13,
   "id": "ffac08d0",
   "metadata": {
    "slideshow": {
     "slide_type": "fragment"
    }
   },
   "outputs": [],
   "source": [
    "def f2(x=1, y=2, z=3):\n",
    "    return x+y+z"
   ]
  },
  {
   "cell_type": "markdown",
   "id": "8b4c4027-30ce-46dc-8999-04aab3f38417",
   "metadata": {},
   "source": [
    "זאת אומרת שניתן לא לתת לפונקציה אף משתנה אקטואלי, והיא תציב ערכי ברירת מחדל לכל אחד מהמשתנים."
   ]
  },
  {
   "cell_type": "code",
   "execution_count": null,
   "id": "f94a3229",
   "metadata": {
    "execution": {
     "iopub.execute_input": "2025-03-10T07:47:04.037737Z",
     "iopub.status.busy": "2025-03-10T07:47:04.037226Z",
     "iopub.status.idle": "2025-03-10T07:47:04.041882Z",
     "shell.execute_reply": "2025-03-10T07:47:04.041048Z"
    },
    "slideshow": {
     "slide_type": "fragment"
    }
   },
   "outputs": [],
   "source": [
    "f2()"
   ]
  },
  {
   "cell_type": "markdown",
   "id": "1e5b425f-1886-41cb-b53c-54220fef93bc",
   "metadata": {},
   "source": [
    "ומה אם היינו רוצים לדרוס רק את הערך של y? מה היה קורה אם נקרא לפונקציה עם ערך אחד?"
   ]
  },
  {
   "cell_type": "code",
   "execution_count": 15,
   "id": "50c06504",
   "metadata": {
    "slideshow": {
     "slide_type": "fragment"
    }
   },
   "outputs": [
    {
     "data": {
      "text/plain": [
       "15"
      ]
     },
     "execution_count": 15,
     "metadata": {},
     "output_type": "execute_result"
    }
   ],
   "source": [
    "f2(10)"
   ]
  },
  {
   "cell_type": "markdown",
   "id": "fe531035-2ff1-423a-8bbb-64db378dda77",
   "metadata": {},
   "source": [
    "פייתון (עדיין) לא קורא מחשבות. אם מוצב רק ערך אחד, הוא יניח שאנחנו מתכוונים לדרוס את המשתנה **הראשון** של הפונקציה.\n",
    "כדי לשנות ערכים אחרים ניתן להגדיר מפורשות איזה מהערכים אנחנו מציבים, בצורה הבאה:"
   ]
  },
  {
   "cell_type": "code",
   "execution_count": 14,
   "id": "0be394b1",
   "metadata": {
    "slideshow": {
     "slide_type": "fragment"
    }
   },
   "outputs": [
    {
     "data": {
      "text/plain": [
       "9"
      ]
     },
     "execution_count": 14,
     "metadata": {},
     "output_type": "execute_result"
    }
   ],
   "source": [
    "f2(y=5)   # in this call: x = 1, y = 5, z = 3"
   ]
  },
  {
   "cell_type": "markdown",
   "id": "7333be7b-3e24-4e71-b034-949f2a9a24d9",
   "metadata": {},
   "source": [
    "אגב, ניתן להשתמש בהצבה הישירה הזו גם עבור משתנים ללא ערך ברירת מחדל. זה יכול להפוך את הקוד ליותר קריא כשקוראים לפונקציה עם הרבה פרמטרים."
   ]
  },
  {
   "cell_type": "code",
   "execution_count": 19,
   "id": "37eb5a5f-f8e2-478d-8d35-4596d053ca3e",
   "metadata": {},
   "outputs": [
    {
     "data": {
      "text/plain": [
       "8"
      ]
     },
     "execution_count": 19,
     "metadata": {},
     "output_type": "execute_result"
    }
   ],
   "source": [
    "f1(x=5, y=3) # x does not have a default value"
   ]
  },
  {
   "cell_type": "markdown",
   "id": "ee9c58d2-ae5a-422a-b902-f7176a1de71d",
   "metadata": {},
   "source": [
    "**דוגמה:** זוכרים שאמרנו שפרמטרים עם ערכי ברירת מחדל תמיד צריכים להופיע אחרי פרמטרים רגילים? האם פייתון ירשה לנו לשבור את החוקים?"
   ]
  },
  {
   "cell_type": "code",
   "execution_count": 16,
   "id": "9beb65a4",
   "metadata": {
    "execution": {
     "iopub.execute_input": "2025-03-10T07:47:04.059678Z",
     "iopub.status.busy": "2025-03-10T07:47:04.059365Z",
     "iopub.status.idle": "2025-03-10T07:47:04.064314Z",
     "shell.execute_reply": "2025-03-10T07:47:04.063608Z"
    },
    "slideshow": {
     "slide_type": "fragment"
    },
    "tags": [
     "raises-exception"
    ]
   },
   "outputs": [
    {
     "ename": "SyntaxError",
     "evalue": "parameter without a default follows parameter with a default (1762615068.py, line 1)",
     "output_type": "error",
     "traceback": [
      "  \u001b[36mCell\u001b[39m\u001b[36m \u001b[39m\u001b[32mIn[16]\u001b[39m\u001b[32m, line 1\u001b[39m\n\u001b[31m    \u001b[39m\u001b[31mdef f2(x=1, y, z):   # Invalid syntax\u001b[39m\n                ^\n\u001b[31mSyntaxError\u001b[39m\u001b[31m:\u001b[39m parameter without a default follows parameter with a default\n"
     ]
    }
   ],
   "source": [
    "def f2(x=1, y, z):   # Invalid syntax\n",
    "    return x+y+z"
   ]
  },
  {
   "cell_type": "markdown",
   "id": "5b4ecb42",
   "metadata": {
    "slideshow": {
     "slide_type": "subslide"
    }
   },
   "source": [
    "## פונקציה כפרמטר"
   ]
  },
  {
   "cell_type": "markdown",
   "id": "3b0ec700-62af-4b20-a190-e7816575df27",
   "metadata": {},
   "source": [
    "בפייתון, פונקציות הן אובייקטים לכל דבר - אפשר לשמור אותן במשתנים, להעביר אותן לפונקציות אחרות, ואפילו להחזיר אותן כתוצאה. זה שימושי במיוחד כשאנחנו רוצים לכתוב קוד כללי וגמיש, שמבצע פעולה מסוימת אך מאפשר למשתמש לבחור את האופן המדויק שבו הפעולה תתבצע. במקום \"לקבע\" את הלוגיקה בתוך הפונקציה, אנחנו נותנים לה לקבל פונקציה אחרת שתגדיר מה לעשות."
   ]
  },
  {
   "cell_type": "markdown",
   "id": "2f606e87-3d15-4457-b905-5028e8e2f285",
   "metadata": {},
   "source": [
    "בואו נסתכל על דוגמה: אנחנו רוצים לכתוב פונקציה כללית שמקבלת רשימה של מספרים, ומבצעת על כל זוג שכנים פעולה מסוימת - כפל או חיבור.\n",
    "השלב הראשון זה להגדיר מראש את פונקציות העזר שלנו - שמבצעות את הפעולה עבור שני מספרים. קל למימוש:"
   ]
  },
  {
   "cell_type": "code",
   "execution_count": 4,
   "id": "ec04d353-2725-4486-8b84-d67d616678fa",
   "metadata": {},
   "outputs": [],
   "source": [
    "def add(x, y):\n",
    "    return x + y\n",
    "\n",
    "def multiply(x, y):\n",
    "    return x * y"
   ]
  },
  {
   "cell_type": "markdown",
   "id": "27d3b728-dc97-4a5c-bec6-7ed24a407950",
   "metadata": {},
   "source": [
    "עכשיו נרצה לממש את הפונקציה הכללית שלנו. דרך שיכולנו לעשות זאת עד כה, היה להעביר לפונקציה משתנה שמסמן לה איזה פעולה רצינו לעשות."
   ]
  },
  {
   "cell_type": "code",
   "execution_count": 5,
   "id": "d6b92172-f022-4d03-a20e-71fcb9d5b491",
   "metadata": {},
   "outputs": [],
   "source": [
    "def pairs_op_long(lst, op):\n",
    "    results = []\n",
    "    for i in range(len(lst)-1):\n",
    "        if op == \"add\":\n",
    "            answer = add(lst[i], lst[i+1])\n",
    "        elif op == \"multiply\":\n",
    "            answer = multiply(lst[i], lst[i+1])\n",
    "        else:\n",
    "            print(\"not legal operation\")\n",
    "            return\n",
    "        results.append(answer)\n",
    "    return results"
   ]
  },
  {
   "cell_type": "markdown",
   "id": "7d3d9316-adc4-4276-87d1-f95b48f41d46",
   "metadata": {},
   "source": [
    "להלן דוגמא לשימוש בפונקציה זו: "
   ]
  },
  {
   "cell_type": "code",
   "execution_count": 6,
   "id": "7b34c8b4-7854-4ea9-82e8-a592e5cc71a9",
   "metadata": {},
   "outputs": [
    {
     "name": "stdout",
     "output_type": "stream",
     "text": [
      "[3, 5, 7]\n",
      "[2, 6, 12]\n"
     ]
    }
   ],
   "source": [
    "nums = [1, 2, 3, 4]\n",
    "print(pairs_op_long(nums, \"add\"))\n",
    "print(pairs_op_long(nums, \"multiply\"))"
   ]
  },
  {
   "cell_type": "markdown",
   "id": "7dde3332-7ea2-436c-b8ad-b865ef1aeba7",
   "metadata": {},
   "source": [
    "זה עובד, אבל יש לזה כמה חסרונות. קודם כול, הקוד יוצא ארוך ומסורבל. אם נרצה להוסיף פעולה נוספת, כמו למשל לקחת את הערך המקסימלי של כל זוג, נצטרך להוסיף עוד קוד ייעודי. ככל שנוסיף עוד ועוד פעולות, הפונקציה תתנפח ותהיה קשה יותר לתחזוקה. נוסף על כך, אם נרצה לשנות משהו קטן בלוגיקה של מעבר על הרשימה – למשל לעבור בקפיצות של 2 במקום בקפיצות של 1 – נצטרך לשכפל את השינוי הזה בכל אחת מהפונקציות, מה שמגביר את הסיכוי לטעויות.\n",
    "\n",
    "כדי לפתור את הבעיה, נשתמש בגישה הרבה יותר אלגנטית: במקום להעביר את **השם** של הפעולה שאנו רוצים, ולהפריד בין המקרים ע\"י השוואה בין מחרוזות, **נעביר את הפונקציה הרצויה כפרמטר**."
   ]
  },
  {
   "cell_type": "code",
   "execution_count": 23,
   "id": "6f61427f",
   "metadata": {
    "slideshow": {
     "slide_type": "fragment"
    }
   },
   "outputs": [],
   "source": [
    "def pairs_op(lst, op):\n",
    "    results = []\n",
    "    for i in range(len(lst)-1):\n",
    "        results.append(op(lst[i], lst[i+1]))\n",
    "    return results"
   ]
  },
  {
   "cell_type": "markdown",
   "id": "4b2bf4ff-a840-4ff6-b41c-f3f668f3c253",
   "metadata": {},
   "source": [
    "עכשיו הפונקציה שלנו קצרה, גמישה ויעילה. היא לא צריכה לדעת שום דבר על סוג הפעולה - כל עוד מדובר בפונקציה שמקבלת שני מספרים ומחזירה תוצאה, היא תעבוד.\n",
    "\n",
    "מה שעשינו כאן הוא גם **הפרדה של תחומי אחריות** - הפונקציה שמבצעת פעולה מסוימת על שני איברים לא יודעת כלום על הרשימה, והפונקציה שמריצה פעולות על כל הזוגות ברשימה לא יודעת מהי הפעולה. כל אחת מהפונקציות יכולה לפעול באופן עצמאי, בלי \"לדאוג\" או להיות תלויה במה שהפונקציה השנייה עושה."
   ]
  },
  {
   "cell_type": "markdown",
   "id": "686b0070-6e59-4a7d-abd6-5589e203face",
   "metadata": {},
   "source": [
    "כדי לקרוא לפונקציות כאלה, חשוב לזכור: מעבירים את שם הפונקציה בלבד כפרמטר. אם נצמיד לסוגריים את שם הפונקציה, זה אומר שאנחנו מפעילים אותה ברגע זה. כאן אנחנו לא רוצים את זה, אלא רק להעביר את הפונקציה עצמה כדי שהקוד יקרא לה מאוחר יותר."
   ]
  },
  {
   "cell_type": "code",
   "execution_count": 24,
   "id": "507ab7b9-18b8-4218-a766-63dcf311e44d",
   "metadata": {},
   "outputs": [
    {
     "name": "stdout",
     "output_type": "stream",
     "text": [
      "[3, 5, 7]\n",
      "[2, 6, 12]\n"
     ]
    }
   ],
   "source": [
    "nums = [1, 2, 3, 4]\n",
    "print(pairs_op(nums, add))\n",
    "print(pairs_op(nums, multiply))"
   ]
  },
  {
   "cell_type": "markdown",
   "id": "36f18e8a",
   "metadata": {
    "slideshow": {
     "slide_type": "subslide"
    }
   },
   "source": [
    "## פונקציות אנונימיות (`lambda`)"
   ]
  },
  {
   "cell_type": "markdown",
   "id": "6d4f4980",
   "metadata": {
    "slideshow": {
     "slide_type": "fragment"
    }
   },
   "source": [
    "פונקציות אנונימיות, או פונקציות `lambda`, הן פונקציות קצרות שאין להן שם רשמי. הן שימושיות במצב שבו אנחנו צריכים פונקציה של שורה לשימוש חד פעמי, וככה לא צריך לבזבז מלא מקום עם `def` ורווחים.\n",
    "התחביר שלהן פשוט:\n",
    "``` python\n",
    "lambda params: the_return_value\n",
    "```\n",
    "כך אנחנו חוסכים גם ירידות שורה, אבל אפילו את הפקודה `return`!"
   ]
  },
  {
   "cell_type": "markdown",
   "id": "e212791c",
   "metadata": {
    "slideshow": {
     "slide_type": "subslide"
    }
   },
   "source": [
    "### דוגמא: מחשבון"
   ]
  },
  {
   "cell_type": "markdown",
   "id": "092f8de5-1b76-4fa6-8cd8-eb89f2c0a0c5",
   "metadata": {},
   "source": [
    "הפעם נגדיר את הפונקציות `add` ו`multiply` בתור פונקציות `lambda`. עדיין ניתן לתת לפונקציות הללו שם - על-ידי השמה."
   ]
  },
  {
   "cell_type": "code",
   "execution_count": null,
   "id": "112790e6",
   "metadata": {
    "execution": {
     "iopub.execute_input": "2025-03-10T07:47:04.067395Z",
     "iopub.status.busy": "2025-03-10T07:47:04.067098Z",
     "iopub.status.idle": "2025-03-10T07:47:04.071936Z",
     "shell.execute_reply": "2025-03-10T07:47:04.071263Z"
    },
    "slideshow": {
     "slide_type": "fragment"
    }
   },
   "outputs": [],
   "source": [
    "add = lambda x, y: x+y\n",
    "add(1,2)"
   ]
  },
  {
   "cell_type": "code",
   "execution_count": null,
   "id": "c5e44655",
   "metadata": {
    "execution": {
     "iopub.execute_input": "2025-03-10T07:47:04.074787Z",
     "iopub.status.busy": "2025-03-10T07:47:04.074500Z",
     "iopub.status.idle": "2025-03-10T07:47:04.079324Z",
     "shell.execute_reply": "2025-03-10T07:47:04.078652Z"
    },
    "slideshow": {
     "slide_type": "fragment"
    }
   },
   "outputs": [],
   "source": [
    "multiply = lambda x, y:  x*y\n",
    "multiply(2,4)"
   ]
  },
  {
   "cell_type": "markdown",
   "id": "58fcf5b2-fb95-49ad-a89c-709268932dc3",
   "metadata": {},
   "source": [
    "ונניח שהיינו רוצים באופן חד פעמי לקרוא לפונקציה `pairs_op` עם פונקציית חיסור. במקום לרשום עכשיו את כל ההגדרה, יכולנו פשוט להעביר את הפונקציה ללא השם בכלל.\n",
    "\n",
    "תזכורת לפונקציה `pairs_op`:"
   ]
  },
  {
   "cell_type": "code",
   "execution_count": null,
   "id": "5310ffd4-aaa9-491e-b94c-89793637769f",
   "metadata": {},
   "outputs": [],
   "source": [
    "def pairs_op(lst, op):\n",
    "    results = []\n",
    "    for i in range(len(lst)-1):\n",
    "        results.append(op(lst[i], lst[i+1]))\n",
    "    return results"
   ]
  },
  {
   "cell_type": "markdown",
   "id": "83e0a501-4805-4f33-b580-d0b3d58cb4ef",
   "metadata": {},
   "source": [
    "עכשיו נעביר לה פונקציה אשר מחסרת בין שני איברים, **הפעם מבלי לתת לה שם**."
   ]
  },
  {
   "cell_type": "code",
   "execution_count": null,
   "id": "7f19f0c2",
   "metadata": {
    "execution": {
     "iopub.execute_input": "2025-03-10T07:47:04.082399Z",
     "iopub.status.busy": "2025-03-10T07:47:04.081968Z",
     "iopub.status.idle": "2025-03-10T07:47:04.085562Z",
     "shell.execute_reply": "2025-03-10T07:47:04.084881Z"
    },
    "slideshow": {
     "slide_type": "fragment"
    }
   },
   "outputs": [],
   "source": [
    "pairs_op([1,2,3,4], lambda x, y: x - y)"
   ]
  },
  {
   "cell_type": "markdown",
   "id": "36c04546-4eb6-4129-bc8d-05fc76bb11ec",
   "metadata": {},
   "source": [
    "החיסרון המרכזי בשימוש בפונקציות אנונימיות הוא שהן עלולות להקשות על הקריאה וההבנה של הקוד, במיוחד אם הביטוי מורכב או ארוך. עם זאת, בעולם התכנות לעיתים נדרש איזון בין קריאות הקוד לבין קיצורו ויעילותו, ופונקציות `lambda` מספקות כלי נוח מאוד במצבים כאלה, כאשר רוצים להגדיר פונקציה קטנה ומהירה לשימוש רגעי."
   ]
  },
  {
   "cell_type": "markdown",
   "id": "f1678953-1ff5-4b01-83bb-d05bb4f07040",
   "metadata": {
    "slideshow": {
     "slide_type": "subslide"
    }
   },
   "source": [
    "### שימוש בפרמטר `key` על מנת להגדיר יחס סדר בפונקציות מובנות"
   ]
  },
  {
   "cell_type": "markdown",
   "id": "cc79dfd5-6a5e-4990-b6d6-c8edd4caa713",
   "metadata": {},
   "source": [
    "עד כה ראינו מספר דוגמאות לפנוקציות מובנות בשפת פייתון המשתמשות ביחס סדר על איברים באוסף על מנת להחזיר תוצאה. לדוגמא, הפונקציה `sorted` משתמשת ביחס הסדר בין האיברים כדי להחזירם באופן סדור.  \n",
    "דוגמא נוספת היא הפונקציה `max`, המחזירה את האיבר המקסימלי, כלומר, האיבר שמבחינת הסדר שהוגדר, הוא גדול (או שווה) ביחס לשאר האיברים באוסף.\n"
   ]
  },
  {
   "cell_type": "markdown",
   "id": "6e1079db-a9cf-492b-83ce-70900ec1f549",
   "metadata": {},
   "source": [
    "נתחיל מלבחון את הפונקציה `sorted`. עד עכשיו השתמשנו בה בסדר פשוט, לדוגמא:"
   ]
  },
  {
   "cell_type": "code",
   "execution_count": null,
   "id": "d2aea241-7b97-4ce6-9eab-752e011f2623",
   "metadata": {},
   "outputs": [],
   "source": [
    "numbers = [10, 3, 7, 1]\n",
    "sorted_numbers = sorted(numbers)\n",
    "print(sorted_numbers)"
   ]
  },
  {
   "cell_type": "markdown",
   "id": "73b3b0f6-549e-4b4c-bd02-beb443bfec5d",
   "metadata": {},
   "source": [
    "כפי שראינו, `sorted` מחזירה רשימה ממוינת מהקטן לגדול.\n",
    "\n",
    "אבל מה אם נרצה למיין רשימה של מחרוזות לפי יחס סדר אחר? לדוגמא, במקום מיון לקסיקוגרפי, נרצה למיין את הרשימה לפי **אורך המחרוזות**? כאן נכנס שימוש בארגומנט `key`, שיכול לקבל פונקציה שמגדירה את יחס הסדר בין האיברים, או את **קריטריון המיון**:"
   ]
  },
  {
   "cell_type": "code",
   "execution_count": 2,
   "id": "6833a9f5-ef50-4eae-ba71-8e9d02fb5b64",
   "metadata": {},
   "outputs": [
    {
     "name": "stdout",
     "output_type": "stream",
     "text": [
      "['fig', 'kiwi', 'apple', 'banana']\n"
     ]
    }
   ],
   "source": [
    "words = [\"apple\", \"kiwi\", \"banana\", \"fig\"]\n",
    "sorted_words = sorted(words, key=lambda a: len(a)) # Notice that we don't give \"len()\"\n",
    "print(sorted_words)"
   ]
  },
  {
   "cell_type": "markdown",
   "id": "c5fd1c85-6742-44e0-87f6-41a3dccc686b",
   "metadata": {},
   "source": [
    "כאן העברנו פונקצית `lambda` כפרמטר ל-`key`. \n",
    "עבור כל איבר ברשימה פונקצית ה`lambda` תשתמש בפונקציה `len` כדי להחזיר או אורכו, והמיון מתבצע לפי ערכים האלו."
   ]
  },
  {
   "cell_type": "markdown",
   "id": "cf723c35-7b31-43f0-9c77-9ba4208432f3",
   "metadata": {},
   "source": [
    "באופן דומה, ניתן להשתמש בפרמטר `key` כדי להגדיר יחס סדר עבור הפונקציות `min` ו-`max`.  \n",
    "בנוסף, שימו לב שמכיוון ש-`len` מקבלת פרמטר אחד בלבד (בדיוק כמו פונקצית הlambda שהגדרנו למעלה) ניתן להעבירה ישירות כפונקציה ל-`key`: "
   ]
  },
  {
   "cell_type": "code",
   "execution_count": 6,
   "id": "db11b6a3-87ff-4c78-9d35-6240d6d9912a",
   "metadata": {},
   "outputs": [
    {
     "name": "stdout",
     "output_type": "stream",
     "text": [
      "fig\n"
     ]
    }
   ],
   "source": [
    "print(min(words, key=len))"
   ]
  },
  {
   "cell_type": "code",
   "execution_count": 7,
   "id": "c5e778e2-c977-4b08-8406-f32ff8a8ee69",
   "metadata": {},
   "outputs": [
    {
     "name": "stdout",
     "output_type": "stream",
     "text": [
      "banana\n"
     ]
    }
   ],
   "source": [
    "print(max(words, key=len))"
   ]
  },
  {
   "cell_type": "markdown",
   "id": "b327bf92-f88f-4f03-8db6-cb61e7ccecfd",
   "metadata": {},
   "source": [
    "נסו כעת לכתוב שורת קוד בודדת, המדפיסה את האיבר ה**מינימלי** מבחינה לקסיקוגרפית, תוך שימוש בפונקציה המובנית `max` (זו לא טעות!) עם הארגומנט `key`:"
   ]
  },
  {
   "cell_type": "markdown",
   "id": "e462fa9a-c226-4ff6-be63-c54befbdb290",
   "metadata": {},
   "source": [
    "```{admonition} **רמז**\n",
    ":class: tip\n",
    "\n",
    "השתמשו בlambda על מנת להגדיר פונקציה חדשה אשר מבצעת את הנדרש בעזרת הפונקציה `len`\n",
    "\n",
    "```"
   ]
  },
  {
   "cell_type": "code",
   "execution_count": 2,
   "id": "3deb410e-5e3f-4a9c-b3c9-a31b7440e497",
   "metadata": {},
   "outputs": [],
   "source": [
    "words = [\"apple\", \"kiwi\", \"banana\", \"fig\"]\n",
    "## Write your code here"
   ]
  }
 ],
 "metadata": {
  "celltoolbar": "Slideshow",
  "kernelspec": {
   "display_name": "Python 3 (ipykernel)",
   "language": "python",
   "name": "python3"
  },
  "language_info": {
   "codemirror_mode": {
    "name": "ipython",
    "version": 3
   },
   "file_extension": ".py",
   "mimetype": "text/x-python",
   "name": "python",
   "nbconvert_exporter": "python",
   "pygments_lexer": "ipython3",
   "version": "3.11.12"
  }
 },
 "nbformat": 4,
 "nbformat_minor": 5
}
