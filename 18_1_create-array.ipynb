{
 "cells": [
  {
   "cell_type": "code",
   "execution_count": 5,
   "id": "940f98a5",
   "metadata": {
    "executionInfo": {
     "elapsed": 6214,
     "status": "ok",
     "timestamp": 1710688603534,
     "user": {
      "displayName": "Thomy Margalit",
      "userId": "18352331978920977690"
     },
     "user_tz": -120
    },
    "id": "940f98a5",
    "outputId": "5aad3b06-b8c2-450f-80a8-f243d9d5de27",
    "slideshow": {
     "slide_type": "skip"
    },
    "tags": [
     "remove_cell"
    ]
   },
   "outputs": [
    {
     "name": "stdout",
     "output_type": "stream",
     "text": [
      "['baby.png', 'countries-of-the-world.csv', 'dialation.png', 'dialation_2.png', 'dog.png', 'dog_noised.png', 'erosion.png', 'erosion_2.png', 'evil_morty_1.png', 'evil_morty_change.png', 'evil_morty_change_3.png', 'evil_morty_change_noised.png', 'evil_morty_segmentation.png', 'ex1.csv', 'ex2.csv', 'koala.png', 'notebook_resources.zip', 'orders_2_2024.csv', 'orders_3_2024.csv', 'orders_4_2024.csv', 'products2.csv', 'ship.png', 'StudentsGrades.csv', 'witcher_1.csv', 'witcher_2.csv', 'woman_noised.png', '__MACOSX']\n"
     ]
    }
   ],
   "source": [
    "import urllib.request\n",
    "import zipfile\n",
    "import os\n",
    "import ssl \n",
    "\n",
    "try:\n",
    "    os.mkdir(\"files\")\n",
    "except:\n",
    "    pass\n",
    "\n",
    "ssl._create_default_https_context = ssl._create_unverified_context\n",
    "\n",
    "with urllib.request.urlopen('https://courses.cs.tau.ac.il/pyProg/2425a/resources/notebook_resources.zip') as f:\n",
    "    content = f.read()\n",
    "\n",
    "with open('files/notebook_resources.zip', 'wb') as f:\n",
    "    f.write(content)\n",
    "\n",
    "with zipfile.ZipFile('files/notebook_resources.zip', 'r') as zip_ref:\n",
    "    zip_ref.extractall('files')\n",
    "\n",
    "print(os.listdir('files'))\n",
    "\n",
    "import numpy as np"
   ]
  },
  {
   "cell_type": "markdown",
   "id": "c00e5519-4361-4b52-8b12-e58c1a3c3364",
   "metadata": {},
   "source": [
    "# יצירת מערך חדש"
   ]
  },
  {
   "cell_type": "markdown",
   "id": "bbae631b",
   "metadata": {
    "execution": {
     "iopub.execute_input": "2024-01-25T21:57:36.595139Z",
     "iopub.status.busy": "2024-01-25T21:57:36.594409Z",
     "iopub.status.idle": "2024-01-25T21:57:36.597679Z",
     "shell.execute_reply": "2024-01-25T21:57:36.598377Z"
    },
    "id": "bbae631b",
    "slideshow": {
     "slide_type": "slide"
    }
   },
   "source": [
    "## ייצוג מערכים בNumpy באמצעות ndarray/`np.array`"
   ]
  },
  {
   "cell_type": "markdown",
   "id": "b2321427",
   "metadata": {
    "id": "b2321427",
    "slideshow": {
     "slide_type": "fragment"
    }
   },
   "source": [
    "האובייקט המרכזי בספריית Numpy הוא **מערך רב־ממדי (ndarray), או `np.array`**. זהו מבנה נתונים הומוגני, **כלומר כל האיברים שבו הם מאותו טיפוס**. למשל, כולם מספרים שלמים או כולם שברים עשרוניים). ניתן לחשוב עליו גם כוקטור חד מימדי או מטריצה של איברים (בדרך כלל מספרים). ניתן לייצג במערכי Numpy גם מבנים רב מימדיים כמו מטריצה תלת מימדית, אך לא נעסוק בכך במסגרת נושא זה.\n",
    "\n",
    "באופן אינטואיטיבי, ניתן ליצור מערך מרשימה (וקטור חד מימדי) או מרשימה מקוננת (מטריצה):"
   ]
  },
  {
   "cell_type": "code",
   "execution_count": 5,
   "id": "0557ee0d",
   "metadata": {
    "executionInfo": {
     "elapsed": 9,
     "status": "ok",
     "timestamp": 1710688641824,
     "user": {
      "displayName": "Thomy Margalit",
      "userId": "18352331978920977690"
     },
     "user_tz": -120
    },
    "id": "0557ee0d",
    "outputId": "f50efcbc-69a1-457c-96ae-4d9e7ab13c01",
    "slideshow": {
     "slide_type": "fragment"
    }
   },
   "outputs": [
    {
     "name": "stdout",
     "output_type": "stream",
     "text": [
      "a is [0 1]\n",
      "b is \n",
      " [[1 2 3]\n",
      " [4 5 6]]\n",
      "c is \n",
      " [[0.1 0.2 0.3]\n",
      " [0.4 0.5 0.6]]\n"
     ]
    }
   ],
   "source": [
    "a = np.array([0, 1])\n",
    "print('a is' , a)\n",
    "b = np.array([[1, 2 , 3], [4, 5, 6]])\n",
    "print('b is \\n' , b)\n",
    "c = np.array([[0.1, 0.2, 0.3], [0.4, 0.5, 0.6]])\n",
    "print('c is \\n' , c)\n"
   ]
  },
  {
   "cell_type": "markdown",
   "id": "68360eae-65f9-4428-9da0-86d2240f6ab8",
   "metadata": {},
   "source": [
    "```{admonition} **שימו לב**\n",
    ":class: warning\n",
    "\n",
    "אם יוצרים מטריצה, אורכי הרשימות המקוננות צריכים להיות זהים (אחרת זו אינה מטריצה)\n",
    "\n",
    "```\n",
    "\n",
    "\n",
    "\n",
    " "
   ]
  },
  {
   "cell_type": "markdown",
   "id": "07b5b4c1-a0b9-4aa0-bc60-dfc0019a42fa",
   "metadata": {
    "slideshow": {
     "slide_type": "subslide"
    }
   },
   "source": [
    "בהנתן 2 מטריצות בעלות אותה הצורה ניתן להפעיל עליהן פעולות אריתמטיות  "
   ]
  },
  {
   "cell_type": "code",
   "execution_count": 121,
   "id": "5257ac6e-bbe0-46c6-a999-af2076eeb36d",
   "metadata": {
    "slideshow": {
     "slide_type": "fragment"
    }
   },
   "outputs": [
    {
     "name": "stdout",
     "output_type": "stream",
     "text": [
      "[[1.1 2.2 3.3]\n",
      " [4.4 5.5 6.6]]\n"
     ]
    }
   ],
   "source": [
    "print(b+c)"
   ]
  },
  {
   "cell_type": "markdown",
   "id": "94fb2e55-9597-4642-aba7-1504e80c60d0",
   "metadata": {},
   "source": [
    "אך אם המימדים אינם זהים, הפעולה תכשל"
   ]
  },
  {
   "cell_type": "code",
   "execution_count": 122,
   "id": "28d832c8-0bd8-43d7-89e1-3fb230f16eac",
   "metadata": {
    "slideshow": {
     "slide_type": "fragment"
    }
   },
   "outputs": [
    {
     "ename": "ValueError",
     "evalue": "operands could not be broadcast together with shapes (2,) (2,3) ",
     "output_type": "error",
     "traceback": [
      "\u001b[31m---------------------------------------------------------------------------\u001b[39m",
      "\u001b[31mValueError\u001b[39m                                Traceback (most recent call last)",
      "\u001b[36mCell\u001b[39m\u001b[36m \u001b[39m\u001b[32mIn[122]\u001b[39m\u001b[32m, line 1\u001b[39m\n\u001b[32m----> \u001b[39m\u001b[32m1\u001b[39m \u001b[38;5;28mprint\u001b[39m(\u001b[43ma\u001b[49m\u001b[43m+\u001b[49m\u001b[43mb\u001b[49m)\n",
      "\u001b[31mValueError\u001b[39m: operands could not be broadcast together with shapes (2,) (2,3) "
     ]
    }
   ],
   "source": [
    "print(a+b)"
   ]
  },
  {
   "cell_type": "markdown",
   "id": "fa041b2e-1d4f-46ae-99c0-50933a1843d9",
   "metadata": {},
   "source": [
    "יוצא דופן לכך הוא מקרה בו מחברים וקטור חד מימדי עם מטריצה שאורך שורותיה (כלומר, מס' העמודות) זהה לאורך הוקטור:"
   ]
  },
  {
   "cell_type": "code",
   "execution_count": 6,
   "id": "b8c73133-5267-4463-9630-206b3643ec75",
   "metadata": {
    "slideshow": {
     "slide_type": "fragment"
    },
    "tags": [
     "raises-exception"
    ]
   },
   "outputs": [
    {
     "name": "stdout",
     "output_type": "stream",
     "text": [
      "[[11 12 13]\n",
      " [14 15 16]]\n"
     ]
    }
   ],
   "source": [
    "print(b+np.array([10,10,10]))"
   ]
  },
  {
   "cell_type": "markdown",
   "id": "c0dc42cb",
   "metadata": {
    "id": "c0dc42cb",
    "slideshow": {
     "slide_type": "subslide"
    }
   },
   "source": [
    "בנוסף, קיימות פונקציות שמסייעות לנו לאתחל מערך חדש בצורה פשוטה.   \n",
    "שתי פונקציות נפוצות המשמשות לצורך זה הן `zeros` ו-`ones`, המקבלות כארגומנט ראשון את מימדי הוקטור או המטריצה שרוצים לאתחל."
   ]
  },
  {
   "cell_type": "code",
   "execution_count": 8,
   "id": "9bbcd834",
   "metadata": {
    "executionInfo": {
     "elapsed": 325,
     "status": "ok",
     "timestamp": 1710682138877,
     "user": {
      "displayName": "Arielle Arabov",
      "userId": "02375953330854429968"
     },
     "user_tz": 240
    },
    "id": "9bbcd834",
    "outputId": "fecb10ae-4b5a-4079-8d7b-9a713f53e6ee",
    "slideshow": {
     "slide_type": "fragment"
    }
   },
   "outputs": [
    {
     "name": "stdout",
     "output_type": "stream",
     "text": [
      "[0. 0. 0. 0. 0. 0. 0.]\n"
     ]
    }
   ],
   "source": [
    "print(np.zeros(7))"
   ]
  },
  {
   "cell_type": "markdown",
   "id": "5b23d506-b691-414d-8161-8f2a4521abe9",
   "metadata": {},
   "source": [
    "שימו לב בהדפסה לעיל לנקודות שבאות לאחר האפסים. נקודות אלו באות לרמוז לנו שהערכים במטריצה הם מטיפוס `float`.   \n",
    "אם נרצה לשנות את איתחול המטריצה, כך שיהיה עם טיפוס אחר, נוכל לעשות זאת באמצעות הפרמטר `dtype`. לדוגמא, באתחול המטריצה להלן:"
   ]
  },
  {
   "cell_type": "code",
   "execution_count": 9,
   "id": "b43ef501",
   "metadata": {
    "executionInfo": {
     "elapsed": 328,
     "status": "ok",
     "timestamp": 1710682158550,
     "user": {
      "displayName": "Arielle Arabov",
      "userId": "02375953330854429968"
     },
     "user_tz": 240
    },
    "id": "b43ef501",
    "outputId": "cb817c17-18c5-4038-c51b-457827cf5e20",
    "slideshow": {
     "slide_type": "fragment"
    }
   },
   "outputs": [
    {
     "name": "stdout",
     "output_type": "stream",
     "text": [
      "[[1 1 1]\n",
      " [1 1 1]]\n"
     ]
    }
   ],
   "source": [
    "print(np.ones((2,3), dtype=int))"
   ]
  },
  {
   "cell_type": "markdown",
   "id": "fcb76e54-62a6-42b3-b1b5-ace389848ded",
   "metadata": {},
   "source": [
    "ומה אם נרצה לאתחל את המטריצה במספר שאינו 0 או 1? ישנן מספר דרכים לעשות זאת בNumpy. אך הדרך הכי אינטואיטיבית למי שלמד אלגברה ליניארית ומבצע אנליזות נומריות באמצעות הספריה הוא כפל מטריצה במספר (סקלאר): "
   ]
  },
  {
   "cell_type": "code",
   "execution_count": 12,
   "id": "48ffa20a",
   "metadata": {
    "executionInfo": {
     "elapsed": 362,
     "status": "ok",
     "timestamp": 1710682206756,
     "user": {
      "displayName": "Arielle Arabov",
      "userId": "02375953330854429968"
     },
     "user_tz": 240
    },
    "id": "48ffa20a",
    "outputId": "84fbb9b4-7b68-4736-cc94-ebc52bc55730",
    "slideshow": {
     "slide_type": "fragment"
    }
   },
   "outputs": [
    {
     "name": "stdout",
     "output_type": "stream",
     "text": [
      "[[3.17 3.17]\n",
      " [3.17 3.17]\n",
      " [3.17 3.17]]\n"
     ]
    }
   ],
   "source": [
    "print(3.17*np.ones((3,2)))"
   ]
  },
  {
   "cell_type": "markdown",
   "id": "978a648e",
   "metadata": {
    "id": "978a648e",
    "slideshow": {
     "slide_type": "subslide"
    }
   },
   "source": [
    "ומה אם נרצה לאתחל מערך בצורה לא אחידה? לדוגמא, בסדרה של מספרים?\n",
    "\n",
    "נוכל ליצור רשימה המכילה סדרה זו ולהעביר אותה ל`np.array`. \n",
    "\n",
    "כיצד הייתם יוצרים סדרה ארוכה כזו? לדוגמא, של כל המספרים מ0 עד 1000? באמצעות `range` כמובן!\n",
    "\n",
    "נזכיר כי הקלט ל`range` הוא אינדקס ההתחלה (כולל), אינדקס הסיום (לא כולל) והקפיצה של כל צעד בסדרה\n",
    "\n",
    "מסתבר ש`numpy` מימשו עבורנו כבר פונקציה דומה בשם `arange` המבצעת פעולה דומה וחוסכת לנו את פעולת ההמרה:"
   ]
  },
  {
   "cell_type": "code",
   "execution_count": 15,
   "id": "132d7f64",
   "metadata": {
    "executionInfo": {
     "elapsed": 470,
     "status": "ok",
     "timestamp": 1710682466416,
     "user": {
      "displayName": "Arielle Arabov",
      "userId": "02375953330854429968"
     },
     "user_tz": 240
    },
    "id": "132d7f64",
    "outputId": "8504e214-f8eb-4de5-8910-114f01199bcd",
    "slideshow": {
     "slide_type": "fragment"
    }
   },
   "outputs": [
    {
     "name": "stdout",
     "output_type": "stream",
     "text": [
      "[1 2 3 4 5 6 7 8 9]\n"
     ]
    }
   ],
   "source": [
    "print(np.arange(1, 10, 1))"
   ]
  },
  {
   "cell_type": "markdown",
   "id": "096bea19-154e-4463-8514-62b02515dd8f",
   "metadata": {},
   "source": [
    "כשדרוג נוסף לפונקצית `range` שראינו, ניתן באמצעות `arange` ליצור סדרות עם מספרים שבריים (`float`): "
   ]
  },
  {
   "cell_type": "code",
   "execution_count": 16,
   "id": "b67bef0f-371f-443c-83ba-91d5ccbe6936",
   "metadata": {
    "executionInfo": {
     "elapsed": 470,
     "status": "ok",
     "timestamp": 1710682466416,
     "user": {
      "displayName": "Arielle Arabov",
      "userId": "02375953330854429968"
     },
     "user_tz": 240
    },
    "id": "132d7f64",
    "outputId": "8504e214-f8eb-4de5-8910-114f01199bcd",
    "slideshow": {
     "slide_type": "fragment"
    }
   },
   "outputs": [
    {
     "name": "stdout",
     "output_type": "stream",
     "text": [
      "[1.5 1.6 1.7 1.8 1.9 2.  2.1 2.2 2.3 2.4]\n"
     ]
    }
   ],
   "source": [
    "print(np.arange(1.5, 2.5, 0.1))"
   ]
  },
  {
   "cell_type": "markdown",
   "id": "228af6c9",
   "metadata": {
    "id": "228af6c9",
    "slideshow": {
     "slide_type": "subslide"
    }
   },
   "source": [
    "לבסוף, נראה איתחול של וקטורים ומטריצות ב**ערכים אקראיים**.\n",
    "\n",
    "באמצעות `np.random.random`, בהנתן מימדי המטריצה, ניתן לאתחל ערכים אקראיים שבריים בין 0 ל-1"
   ]
  },
  {
   "cell_type": "code",
   "execution_count": 19,
   "id": "a0a98d6b",
   "metadata": {
    "executionInfo": {
     "elapsed": 475,
     "status": "ok",
     "timestamp": 1710682841283,
     "user": {
      "displayName": "Arielle Arabov",
      "userId": "02375953330854429968"
     },
     "user_tz": 240
    },
    "id": "a0a98d6b",
    "outputId": "e74965e5-8e24-4875-ba9b-62a424542a00",
    "slideshow": {
     "slide_type": "fragment"
    }
   },
   "outputs": [
    {
     "name": "stdout",
     "output_type": "stream",
     "text": [
      "[[0.60736756 0.68662925 0.26965962 0.95609409 0.66257245]\n",
      " [0.51312364 0.62507254 0.20818247 0.52921081 0.00230717]]\n"
     ]
    }
   ],
   "source": [
    "rand_arr=np.random.random((2,5))\n",
    "print(rand_arr)"
   ]
  },
  {
   "cell_type": "markdown",
   "id": "6a8655c3",
   "metadata": {
    "id": "6a8655c3",
    "slideshow": {
     "slide_type": "fragment"
    }
   },
   "source": [
    "באמצעות כפל בסקלאר ניתן \"למתוח\" או \"לכווץ\" את הטווח"
   ]
  },
  {
   "cell_type": "code",
   "execution_count": 20,
   "id": "88c90761",
   "metadata": {
    "executionInfo": {
     "elapsed": 308,
     "status": "ok",
     "timestamp": 1710682882967,
     "user": {
      "displayName": "Arielle Arabov",
      "userId": "02375953330854429968"
     },
     "user_tz": 240
    },
    "id": "88c90761",
    "outputId": "011d4211-cb39-4cbd-db00-b720774bee28",
    "slideshow": {
     "slide_type": "fragment"
    }
   },
   "outputs": [
    {
     "name": "stdout",
     "output_type": "stream",
     "text": [
      "[[1.21473511 1.37325849 0.53931923 1.91218818 1.32514489]\n",
      " [1.02624728 1.25014508 0.41636494 1.05842162 0.00461433]]\n",
      "[[0.30368378 0.34331462 0.13482981 0.47804704 0.33128622]\n",
      " [0.25656182 0.31253627 0.10409123 0.2646054  0.00115358]]\n"
     ]
    }
   ],
   "source": [
    "print(rand_arr*2) # ranging between 0 to 2"
   ]
  },
  {
   "cell_type": "code",
   "execution_count": null,
   "id": "8dc6512b-2d3e-4bba-8793-f610e879af00",
   "metadata": {
    "execution": {
     "iopub.execute_input": "2025-03-10T07:50:22.742430Z",
     "iopub.status.busy": "2025-03-10T07:50:22.741916Z",
     "iopub.status.idle": "2025-03-10T07:50:22.746332Z",
     "shell.execute_reply": "2025-03-10T07:50:22.745586Z"
    },
    "executionInfo": {
     "elapsed": 470,
     "status": "ok",
     "timestamp": 1710682466416,
     "user": {
      "displayName": "Arielle Arabov",
      "userId": "02375953330854429968"
     },
     "user_tz": 240
    },
    "id": "132d7f64",
    "outputId": "8504e214-f8eb-4de5-8910-114f01199bcd",
    "slideshow": {
     "slide_type": "fragment"
    }
   },
   "outputs": [],
   "source": [
    "print(rand_arr*0.5) # ranging between 0 to 0.5"
   ]
  },
  {
   "cell_type": "markdown",
   "id": "50349be9",
   "metadata": {
    "id": "50349be9",
    "slideshow": {
     "slide_type": "fragment"
    }
   },
   "source": [
    "ובאמצעות הוספת סקלאר ניתן \"להזיז\" את טווח הערכים "
   ]
  },
  {
   "cell_type": "code",
   "execution_count": null,
   "id": "320dac16",
   "metadata": {
    "execution": {
     "iopub.execute_input": "2025-03-10T07:50:22.763360Z",
     "iopub.status.busy": "2025-03-10T07:50:22.762869Z",
     "iopub.status.idle": "2025-03-10T07:50:22.767127Z",
     "shell.execute_reply": "2025-03-10T07:50:22.766401Z"
    },
    "executionInfo": {
     "elapsed": 353,
     "status": "ok",
     "timestamp": 1710682921332,
     "user": {
      "displayName": "Arielle Arabov",
      "userId": "02375953330854429968"
     },
     "user_tz": 240
    },
    "id": "320dac16",
    "outputId": "53ac7144-b161-462b-e8ef-4c907418b604",
    "slideshow": {
     "slide_type": "fragment"
    }
   },
   "outputs": [],
   "source": [
    "print(4+rand_arr) # ranging between 4 to 5"
   ]
  },
  {
   "cell_type": "code",
   "execution_count": 21,
   "id": "7f2a27a9-f4fd-4ce2-aaad-b420dba03091",
   "metadata": {},
   "outputs": [
    {
     "name": "stdout",
     "output_type": "stream",
     "text": [
      "[[-3.39263244 -3.31337075 -3.73034038 -3.04390591 -3.33742755]\n",
      " [-3.48687636 -3.37492746 -3.79181753 -3.47078919 -3.99769283]]\n"
     ]
    }
   ],
   "source": [
    "print(-4+rand_arr) # ranging between -4 to -3"
   ]
  },
  {
   "cell_type": "markdown",
   "id": "d3cce849-eec5-4003-b3f5-87b029f0f60d",
   "metadata": {},
   "source": [
    "למעשה, ע\"י הוספת והכפלה ניתן להגיע לכל טווח שנרצה. לדוגמא:"
   ]
  },
  {
   "cell_type": "code",
   "execution_count": null,
   "id": "44ab7846-1a1a-427c-bf10-a95c4a6104e7",
   "metadata": {},
   "outputs": [],
   "source": [
    "print(3+rand_arr*0.2) # ranging between 3 to 3.2 "
   ]
  },
  {
   "cell_type": "markdown",
   "id": "6cfb04ef",
   "metadata": {
    "id": "6cfb04ef",
    "slideshow": {
     "slide_type": "subslide"
    }
   },
   "source": [
    "ואם נרצה ערכים רנדומליים שלמים? לצורך כך, נוכל להשתמש `np.random.randint`. \n",
    "כאן, הערכים הראשונים שנעביר מייצגים את טווח המספרים השלמים מהם נרצה להגריל את המספר האקראי שלנו: המספר הראשון הוא תחילת הטווח (כולל), והשני סוף הטווח (לא כולל).   \n",
    "הפרמטר השלישי הוא מימדי הוקטור/מטריצה"
   ]
  },
  {
   "cell_type": "code",
   "execution_count": 22,
   "id": "adfdb566",
   "metadata": {
    "executionInfo": {
     "elapsed": 340,
     "status": "ok",
     "timestamp": 1710682960840,
     "user": {
      "displayName": "Arielle Arabov",
      "userId": "02375953330854429968"
     },
     "user_tz": 240
    },
    "id": "adfdb566",
    "outputId": "1dc83f15-f0c9-43f9-be3f-f48428790ac2",
    "slideshow": {
     "slide_type": "fragment"
    }
   },
   "outputs": [
    {
     "name": "stdout",
     "output_type": "stream",
     "text": [
      "[[6 2]\n",
      " [2 1]\n",
      " [6 1]\n",
      " [0 6]\n",
      " [1 2]]\n"
     ]
    }
   ],
   "source": [
    "print(np.random.randint(0,7,(5,2)))"
   ]
  }
 ],
 "metadata": {
  "celltoolbar": "Slideshow",
  "colab": {
   "provenance": []
  },
  "kernelspec": {
   "display_name": "Python 3 (ipykernel)",
   "language": "python",
   "name": "python3"
  },
  "language_info": {
   "codemirror_mode": {
    "name": "ipython",
    "version": 3
   },
   "file_extension": ".py",
   "mimetype": "text/x-python",
   "name": "python",
   "nbconvert_exporter": "python",
   "pygments_lexer": "ipython3",
   "version": "3.11.12"
  }
 },
 "nbformat": 4,
 "nbformat_minor": 5
}
