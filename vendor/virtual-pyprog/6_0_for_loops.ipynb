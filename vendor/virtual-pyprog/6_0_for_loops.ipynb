{
 "cells": [
  {
   "cell_type": "code",
   "execution_count": 7,
   "id": "3018be7d-8134-4a5a-981d-289f2a7cdfc7",
   "metadata": {
    "tags": [
     "remove-cell"
    ]
   },
   "outputs": [
    {
     "data": {
      "text/html": [
       "<script>\n",
       "(function() {\n",
       "  // Create the toggle button\n",
       "  const rtlButton = document.createElement(\"button\");\n",
       "  rtlButton.textContent = \"Toggle LTR\";\n",
       "  rtlButton.id = \"top-rtl-toggle\";\n",
       "  rtlButton.style.marginLeft = \"8px\";\n",
       "  rtlButton.style.padding = \"4px 10px\";\n",
       "  rtlButton.style.fontSize = \"14px\";\n",
       "  rtlButton.style.cursor = \"pointer\";\n",
       "\n",
       "  // State\n",
       "  var rtlActive = false;\n",
       "\n",
       "  // Styling function\n",
       "  var applyStyleToEditor = (editor) => {\n",
       "    if (!editor) return;\n",
       "    var direction = getComputedStyle(editor).getPropertyValue('direction')=='rtl' ? 'ltr' : 'rtl';\n",
       "    var text_align = getComputedStyle(editor).getPropertyValue('text-align')=='right' ? 'left' : 'right';\n",
       "    editor.style.setProperty('direction', direction, 'important');\n",
       "    editor.style.setProperty('text-align', text_align, 'important');\n",
       "  };\n",
       "\n",
       "  // Toggle logic\n",
       "  rtlButton.onclick = () => {\n",
       "    rtlActive = !rtlActive;\n",
       "    rtlButton.textContent = rtlActive ? \"Toggle LTR\" : \"Toggle RTL\";\n",
       "    document.querySelectorAll('.jp-MarkdownCell .jp-InputArea-editor').forEach(applyStyleToEditor);\n",
       "    document.querySelectorAll('.jp-RenderedHTMLCommon code, .jp-RenderedHTMLCommon code span').forEach(applyStyleToEditor);\n",
       "    document.querySelectorAll('jp-RenderedHTMLCommon, .jp-RenderedHTMLCommon *').forEach(applyStyleToEditor);\n",
       "  };\n",
       "\n",
       "  // Watch for focus into editing Markdown cells\n",
       "  // document.addEventListener('focusin', (event) => {\n",
       "  //   const editor = event.target.closest('.jp-MarkdownCell .jp-InputArea-editor');\n",
       "  //    if (editor) applyStyleToEditor(editor);\n",
       "  // });\n",
       "\n",
       "  // Insert into top toolbar if not already present\n",
       "  var insertIntoToolbar = () => {\n",
       "    const toolbar = document.querySelector('.jp-NotebookPanel-toolbar');\n",
       "    if (toolbar && !document.getElementById(\"top-rtl-toggle\")) {\n",
       "      toolbar.appendChild(rtlButton);\n",
       "    } else {\n",
       "      // Try again in a moment if toolbar isn't ready yet\n",
       "      setTimeout(insertIntoToolbar, 300);\n",
       "    }\n",
       "  };\n",
       "\n",
       "  insertIntoToolbar();\n",
       "})();\n",
       "</script>\n"
      ],
      "text/plain": [
       "<IPython.core.display.HTML object>"
      ]
     },
     "metadata": {},
     "output_type": "display_data"
    }
   ],
   "source": [
    "%%html\n",
    "<script>\n",
    "(function() {\n",
    "  // Create the toggle button\n",
    "  const rtlButton = document.createElement(\"button\");\n",
    "  rtlButton.textContent = \"Toggle LTR\";\n",
    "  rtlButton.id = \"top-rtl-toggle\";\n",
    "  rtlButton.style.marginLeft = \"8px\";\n",
    "  rtlButton.style.padding = \"4px 10px\";\n",
    "  rtlButton.style.fontSize = \"14px\";\n",
    "  rtlButton.style.cursor = \"pointer\";\n",
    "\n",
    "  // State\n",
    "  var rtlActive = false;\n",
    "\n",
    "  // Styling function\n",
    "  var applyStyleToEditor = (editor) => {\n",
    "    if (!editor) return;\n",
    "    var direction = getComputedStyle(editor).getPropertyValue('direction')=='rtl' ? 'ltr' : 'rtl';\n",
    "    var text_align = getComputedStyle(editor).getPropertyValue('text-align')=='right' ? 'left' : 'right';\n",
    "    editor.style.setProperty('direction', direction, 'important');\n",
    "    editor.style.setProperty('text-align', text_align, 'important');\n",
    "  };\n",
    "\n",
    "  // Toggle logic\n",
    "  rtlButton.onclick = () => {\n",
    "    rtlActive = !rtlActive;\n",
    "    rtlButton.textContent = rtlActive ? \"Toggle LTR\" : \"Toggle RTL\";\n",
    "    document.querySelectorAll('.jp-MarkdownCell .jp-InputArea-editor').forEach(applyStyleToEditor);\n",
    "    document.querySelectorAll('.jp-RenderedHTMLCommon code, .jp-RenderedHTMLCommon code span').forEach(applyStyleToEditor);\n",
    "    document.querySelectorAll('jp-RenderedHTMLCommon, .jp-RenderedHTMLCommon *').forEach(applyStyleToEditor);\n",
    "  };\n",
    "\n",
    "  // Watch for focus into editing Markdown cells\n",
    "  // document.addEventListener('focusin', (event) => {\n",
    "  //   const editor = event.target.closest('.jp-MarkdownCell .jp-InputArea-editor');\n",
    "  //    if (editor) applyStyleToEditor(editor);\n",
    "  // });\n",
    "\n",
    "  // Insert into top toolbar if not already present\n",
    "  var insertIntoToolbar = () => {\n",
    "    const toolbar = document.querySelector('.jp-NotebookPanel-toolbar');\n",
    "    if (toolbar && !document.getElementById(\"top-rtl-toggle\")) {\n",
    "      toolbar.appendChild(rtlButton);\n",
    "    } else {\n",
    "      // Try again in a moment if toolbar isn't ready yet\n",
    "      setTimeout(insertIntoToolbar, 300);\n",
    "    }\n",
    "  };\n",
    "\n",
    "  insertIntoToolbar();\n",
    "})();\n",
    "</script>"
   ]
  },
  {
   "cell_type": "markdown",
   "id": "51e3a945-2a0f-46b3-b9b2-02f86b9deeda",
   "metadata": {},
   "source": [
    "# לולאת `for`"
   ]
  },
  {
   "cell_type": "code",
   "execution_count": 3,
   "id": "80c56d47-0fc3-4e83-981a-8c4d5139b06d",
   "metadata": {
    "tags": [
     "remove-input"
    ]
   },
   "outputs": [
    {
     "data": {
      "text/html": [
       "<iframe width=\"560\" height=\"315\" src=\"https://www.youtube.com/embed/l6xoRiJsq2k?si=goTJYDXHsSJ6i_S3\" title=\"YouTube video player\" frameborder=\"0\" allow=\"accelerometer; autoplay; clipboard-write; encrypted-media; gyroscope; picture-in-picture; web-share\" referrerpolicy=\"strict-origin-when-cross-origin\" allowfullscreen></iframe>\n"
      ],
      "text/plain": [
       "<IPython.core.display.HTML object>"
      ]
     },
     "metadata": {},
     "output_type": "display_data"
    }
   ],
   "source": [
    "%%html\n",
    "<iframe width=\"560\" height=\"315\" src=\"https://www.youtube.com/embed/l6xoRiJsq2k?si=goTJYDXHsSJ6i_S3\" title=\"YouTube video player\" frameborder=\"0\" allow=\"accelerometer; autoplay; clipboard-write; encrypted-media; gyroscope; picture-in-picture; web-share\" referrerpolicy=\"strict-origin-when-cross-origin\" allowfullscreen></iframe>"
   ]
  },
  {
   "cell_type": "markdown",
   "id": "b5a07fea-8861-4b29-a3ad-6507289273ed",
   "metadata": {},
   "source": [
    "בסרטון זה הוצג שימוש קלאסי בלולאת `for`: מציאת הערך המקסימלי בתוך רשימת מספרים. תוך כדי למדנו את התחביר של לולאת `for` בפייתון:\n",
    "\n",
    "### תחביר\n",
    "```python\n",
    "for elem in elements:\n",
    "    statement1\n",
    "    statement2\n",
    "    …\n",
    "rest of code…\n",
    "```\n",
    "\n",
    "**איך זה עובד?**\n",
    "בשורה הראשונה, מופיעה לולאת `for` עוברת איבר-איבר באובייקטים מטיפוסים המייצגים אוסף איברים (elements), כמו רשימה או מחרוזת. בכל מעבר על איבר בודד, או **איטרציה**, הלולאה מחלצת איבר בודד מהאוסף ושמה אותו במשתנה המצביע את לאיבר הנוכחי  (elem).\n",
    "נגדיר את השורות הבאות הנמצאות **בהזחה** מוגדרות כ**בלוק של קוד של הלולאה.** והוא ירוץ בכל איטרציה.\n",
    "לאחר שיסתיימו כל האיטרציות של הלולאה, ירוצו השורות הנמצאות לאחר בלוק הקוד של הלולאה (rest of code), כלומר, אלו שנמצאות מחוץ להזחה.\n",
    "\n",
    "\n",
    "אז כיצד תתבצע הריצה בדגומא לעיל?\n",
    "- באיטרציה הראשונה יישמר האיבר הראשון של elements במשתנה elem, ואז ירוצו הפקודות שבגוף הלולאה.\n",
    "- באיטרציה השנייה, יישמר האיבר השני במשתנה elem, ושוב ירוצו הפקודות.\n",
    "- כך נמשיך עד שייגמרו האיברים, ואז הלולאה מסתיימת ועוברים להמשך הקוד (rest of code)."
   ]
  },
  {
   "cell_type": "markdown",
   "id": "e1bbb49c-e163-4c10-b345-81613126ff16",
   "metadata": {},
   "source": [
    "```{admonition} **כדאי לדעת!**   .\n",
    ":class: note\n",
    "טיפוסים המייצגים אוסף איברים שניתן לעבור עליהם אחד לאחר השני נקראים גם iterables. בהמשך, נרחיב על המשמעות של iterables בהקשר של לולאות\n",
    "\n",
    "```"
   ]
  },
  {
   "cell_type": "markdown",
   "id": "372e9d4f-b59a-43cc-85bc-45b6c436078b",
   "metadata": {},
   "source": [
    "### תרגול"
   ]
  },
  {
   "cell_type": "markdown",
   "id": "b04a2441-4275-4141-9468-46b7113bbbae",
   "metadata": {},
   "source": [
    "1. ממשו באמצעות לולאת `for` את הפונקציה `count_spaces(s)`, אשר מקבלת מחרוזת s ומחזירה כמה פעמים מופיע התו רווח (`\" \"`)."
   ]
  },
  {
   "cell_type": "code",
   "execution_count": null,
   "id": "54b7cdda-d25b-4860-a982-f2e9c8adb666",
   "metadata": {},
   "outputs": [],
   "source": [
    "def count_spaces(s):\n",
    "    # Add your code here\n",
    "    pass"
   ]
  },
  {
   "cell_type": "markdown",
   "id": "9554e30d-f6fa-4c16-9832-c66656f3551c",
   "metadata": {},
   "source": [
    "```{admonition} **רמז:** מה היינו רוצים לעשות?\n",
    ":class: dropdown, tip\n",
    "\n",
    "\n",
    "1. להתחיל ספירה כלשהיא באפס.\n",
    "2. לעבור על כל תו במחרוזת.\n",
    "3. כל פעם שאנחנו רואים את התו רווח, להוסיף 1 לספירה.\n",
    "\n",
    "כך, בסוף המחרוזת, נקבל את כמות הרווחים המופיעים במחרוזת."
   ]
  },
  {
   "cell_type": "markdown",
   "id": "23145517-763d-4d5d-959f-86dcfdb33999",
   "metadata": {},
   "source": [
    "```{admonition} **לחצו כאן כדי לצפות בפתרון**\n",
    ":class: dropdown, tip\n",
    "\n",
    "```python\n",
    "def count_spaces(s):\n",
    "    cnt = 0\n",
    "    for char in s:\n",
    "        if char == \" \":\n",
    "            cnt = cnt+1\n",
    "    return cnt\n",
    "```"
   ]
  },
  {
   "cell_type": "markdown",
   "id": "80e559bd-81cd-4cbe-8752-59eb2eb3b02e",
   "metadata": {},
   "source": [
    "2. ממשו את הפונקציה count_char המופיעה בחלונית הקוד. הפונקציה מקבלת כקלט מחרוזת s ותו c. הפונקציה תעבור על תווי המחרוזת s, תספור כמה פעמים מופיע בה התו c, ותחזיר את מספר זה.  \n",
    "רמז: ניתו להיעזר בפונקציה הקודמת.\n",
    "\n",
    "לאחר שפתרתם את התרגיל, הריצו את הקוד וצפו בתוצאות בחלונית הפלט."
   ]
  },
  {
   "cell_type": "code",
   "execution_count": 1,
   "id": "fcdb2abf-8664-4067-a645-a864013d16a3",
   "metadata": {},
   "outputs": [
    {
     "name": "stdout",
     "output_type": "stream",
     "text": [
      "********************\n",
      "Starting the test:\n",
      "********************\n",
      "Counting spaces in 'Hello world!'\n",
      "WRONG: 'Hello world!' has one space but the code returned None\n",
      "********************\n",
      "Counting 'a' in 'I hate bananas'\n",
      "WRONG: 'I hate bananas' has 4 a's but the code returned None\n",
      "********************\n",
      "Counting 'z' in 'it's not here'\n",
      "WRONG: 'it's not here' has no z's but the code returned None\n",
      "********************\n",
      "Tests concluded, add more tests of your own below!\n",
      "********************\n"
     ]
    }
   ],
   "source": [
    "def count_char(s, c):\n",
    "    # delete pass and fill in your code below\n",
    "    pass\n",
    "\n",
    "### TESTS ###\n",
    "\n",
    "print(\"********************\")\n",
    "print(\"Starting the test:\")\n",
    "\n",
    "print(\"********************\")\n",
    "print(\"Counting spaces in 'Hello world!'\")\n",
    "ans = count_char(\"Hello world!\", \" \")\n",
    "if ans == 1:\n",
    "    print(\"CORRECT: Very good, 'Hello world!' has one space\")\n",
    "else:\n",
    "    print(\"WRONG: 'Hello world!' has one space but the code returned\", ans)\n",
    "\n",
    "print(\"********************\")\n",
    "print(\"Counting 'a' in 'I hate bananas'\")\n",
    "ans = count_char(\"I hate bananas\", \"a\")\n",
    "if ans == 4:\n",
    "    print(\"CORRECT: Very good, 'I hate bananas' has 4 a's\")\n",
    "else:\n",
    "    print(\"WRONG: 'I hate bananas' has 4 a's but the code returned\", ans)\n",
    "\n",
    "print(\"********************\")\n",
    "print(\"Counting 'z' in 'it's not here'\")\n",
    "ans = count_char(\"it's not here\", \"z\")\n",
    "if ans == 0:\n",
    "    print(\"CORRECT: Very good, 'it's not here' has no z's\")\n",
    "else:\n",
    "    print(\"WRONG: 'it's not here' has no z's but the code returned\", ans)\n",
    "    \n",
    "print(\"********************\")    \n",
    "print(\"Tests concluded, add more tests of your own below!\")\n",
    "print(\"********************\")\n",
    "\n"
   ]
  },
  {
   "cell_type": "markdown",
   "id": "f1f52d1a-d9c1-4246-9fb6-7561b41b12e8",
   "metadata": {},
   "source": [
    "עכשיו כשאנחנו יודעים איך נראית לולאת `for`, בואו נממש בעצמנו את הפונקציה שמוצאת מקסימום של רשימה."
   ]
  },
  {
   "cell_type": "code",
   "execution_count": 1,
   "id": "4fdb4fc0-4e0c-49ff-892b-23bc1260f7c3",
   "metadata": {
    "tags": [
     "remove-input"
    ]
   },
   "outputs": [
    {
     "data": {
      "text/html": [
       "<iframe width=\"560\" height=\"315\" src=\"https://www.youtube.com/embed/tTy4ZxSliJQ?si=sSHuhJmfaeOjDSd8\" title=\"YouTube video player\" frameborder=\"0\" allow=\"accelerometer; autoplay; clipboard-write; encrypted-media; gyroscope; picture-in-picture; web-share\" referrerpolicy=\"strict-origin-when-cross-origin\" allowfullscreen></iframe>\n"
      ],
      "text/plain": [
       "<IPython.core.display.HTML object>"
      ]
     },
     "metadata": {},
     "output_type": "display_data"
    }
   ],
   "source": [
    "%%html\n",
    "<iframe width=\"560\" height=\"315\" src=\"https://www.youtube.com/embed/tTy4ZxSliJQ?si=sSHuhJmfaeOjDSd8\" title=\"YouTube video player\" frameborder=\"0\" allow=\"accelerometer; autoplay; clipboard-write; encrypted-media; gyroscope; picture-in-picture; web-share\" referrerpolicy=\"strict-origin-when-cross-origin\" allowfullscreen></iframe>"
   ]
  },
  {
   "cell_type": "markdown",
   "id": "a3c89052-5403-4ea8-84a5-a694bef694b6",
   "metadata": {},
   "source": [
    "לפניכם הקוד שראינו בסרטון. נסו לשנות אותו כך שהפונקציה תחזיר את האיבר המינימלי ברשימה. אל תשכחו לשנות את שם הפונקציה כך שתשקף את השינוי!"
   ]
  },
  {
   "cell_type": "code",
   "execution_count": null,
   "id": "32c8c0cc-98da-4695-ba49-02a4751bb823",
   "metadata": {},
   "outputs": [],
   "source": [
    "def my_max(lst):\n",
    "    maximum = lst[0]\n",
    "    for x in lst:\n",
    "        if x > maximum:\n",
    "            maximum = x\n",
    "    return maximum"
   ]
  }
 ],
 "metadata": {
  "kernelspec": {
   "display_name": "Python 3 (ipykernel)",
   "language": "python",
   "name": "python3"
  },
  "language_info": {
   "codemirror_mode": {
    "name": "ipython",
    "version": 3
   },
   "file_extension": ".py",
   "mimetype": "text/x-python",
   "name": "python",
   "nbconvert_exporter": "python",
   "pygments_lexer": "ipython3",
   "version": "3.11.12"
  }
 },
 "nbformat": 4,
 "nbformat_minor": 5
}
