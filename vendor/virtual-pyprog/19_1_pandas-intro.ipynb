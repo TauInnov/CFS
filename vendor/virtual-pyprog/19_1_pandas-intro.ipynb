{
 "cells": [
  {
   "cell_type": "code",
   "execution_count": 35,
   "id": "f9e99179",
   "metadata": {
    "id": "f9e99179",
    "slideshow": {
     "slide_type": "notes"
    },
    "tags": [
     "remove_cell"
    ]
   },
   "outputs": [
    {
     "name": "stdout",
     "output_type": "stream",
     "text": [
      "['baby.png', 'countries-of-the-world.csv', 'dialation.png', 'dialation_2.png', 'dog.png', 'dog_noised.png', 'erosion.png', 'erosion_2.png', 'evil_morty_1.png', 'evil_morty_change.png', 'evil_morty_change_3.png', 'evil_morty_change_noised.png', 'evil_morty_segmentation.png', 'ex1.csv', 'ex2.csv', 'koala.png', 'notebook_resources.zip', 'orders_2_2024.csv', 'orders_3_2024.csv', 'orders_4_2024.csv', 'products2.csv', 'ship.png', 'StudentsGrades.csv', 'witcher_1.csv', 'witcher_2.csv', 'woman_noised.png', '__MACOSX']\n"
     ]
    }
   ],
   "source": [
    "import urllib.request\n",
    "import zipfile\n",
    "import os\n",
    "import ssl\n",
    "\n",
    "try:\n",
    "    os.mkdir(\"files\")\n",
    "except:\n",
    "    pass\n",
    "\n",
    "ssl._create_default_https_context = ssl._create_unverified_context\n",
    "\n",
    "with urllib.request.urlopen('https://courses.cs.tau.ac.il/pyProg/2425a/resources/notebook_resources.zip') as f:\n",
    "    content = f.read()\n",
    "\n",
    "with open('files/notebook_resources.zip', 'wb') as f:\n",
    "    f.write(content)\n",
    "\n",
    "with zipfile.ZipFile('files/notebook_resources.zip', 'r') as zip_ref:\n",
    "    zip_ref.extractall('files')\n",
    "\n",
    "print(os.listdir('files'))\n",
    "\n",
    "import pandas as pd\n",
    "pd.options.display.max_rows=5\n"
   ]
  },
  {
   "cell_type": "markdown",
   "id": "6e194dba",
   "metadata": {
    "id": "6e194dba",
    "slideshow": {
     "slide_type": "slide"
    }
   },
   "source": [
    "# ניתוח נתונים באמצעות ספרית Pandas"
   ]
  },
  {
   "cell_type": "markdown",
   "id": "c0274e4e",
   "metadata": {
    "slideshow": {
     "slide_type": "subslide"
    }
   },
   "source": [
    "### מהי ספרית Pandas?"
   ]
  },
  {
   "cell_type": "markdown",
   "id": "3ee03d40",
   "metadata": {
    "id": "3ee03d40",
    "slideshow": {
     "slide_type": "fragment"
    }
   },
   "source": [
    "\n",
    "פנדס (Pandas) היא ספרייה בפייתון שעוזרת לנו לעבוד עם **נתונים טבלאיים** בצורה נוחה. אפשר לחשוב עליה כמו אקסל בתוך פייתון – היא מאפשרת לשמור, לקרוא ולערוך נתונים שמסודרים בטבלה של שורות ועמודות. למשל, אם יש לנו קובץ עם ציונים של סטודנטים או נתונים על מחירים של מוצרים, אפשר בעזרת פנדס לנתח אותם בקלות.\n",
    "\n",
    "ברמה הטכנית, פנדס מאפשרת לעשות הרבה דברים חשובים במעט מאוד שורות קוד: למיין נתונים, לסנן רק את מה שמעניין אותנו, לחשב ממוצעים, לשלב בין כמה טבלאות ולנקות נתונים בעייתיים. זהו למעשה כלי בסיסי לאנליזות הנמצא בשימוש רחב במדעי נתונים."
   ]
  },
  {
   "cell_type": "markdown",
   "id": "eaeff8d7",
   "metadata": {
    "execution": {
     "iopub.execute_input": "2024-01-25T21:57:36.595139Z",
     "iopub.status.busy": "2024-01-25T21:57:36.594409Z",
     "iopub.status.idle": "2024-01-25T21:57:36.597679Z",
     "shell.execute_reply": "2024-01-25T21:57:36.598377Z"
    },
    "id": "eaeff8d7",
    "slideshow": {
     "slide_type": "subslide"
    }
   },
   "source": [
    "### ייצוג טבלאות בPandas באמצעות המחלקה `DataFrame`"
   ]
  },
  {
   "cell_type": "markdown",
   "id": "88b4206a",
   "metadata": {
    "id": "88b4206a",
    "slideshow": {
     "slide_type": "fragment"
    }
   },
   "source": [
    "ב-Pandas המבנה המרכזי לעבודה עם נתונים נקרא `DataFrame`. מדובר מחלקה המייצגת טבלה דו־ממדית שמורכבת משורות ועמודות, בדומה לגיליון אקסל.\n",
    "\n",
    "כל עמודה או שורה בודדת מיוצגת באמצעות אובייקט מטיפוס `Series` - מחלקה המייצגת סדרה חד-מימדית של נתונים.\n",
    "\n",
    "בהרבה מובנים, ניתן לחשוב על `Series` כמערך חד-מימדי, ועל`DataFrame` כמערך דו-מימדי, כאשר המימד/הציר הראשון (`axis=0`) הוא השורות והציר השני (`axis=1`) הוא העמודות. \n",
    "\n",
    "בניגוד לבסיסי נתונים אחרים המייצגים מטריצות, ב`Pandas` קיים הבדל מהותי בין כל עמודה וכל שורה: כיחידת נתונים, כל שורה וכל עמודה יכולה להתקיים באופן יותר טבעי בזכות עצמה. \n",
    "לכן, **רוב הפעולות שנבצע על טבלה יהיו, כברירת מחדל לאורך אחד מהצירים האלה - השורות או העמודות**, כמו חישוב ממוצעים בעמודות או סינון של שורות לפי תנאי מסוים.\n"
   ]
  },
  {
   "cell_type": "markdown",
   "id": "d1a69287-f4af-4228-9e6f-b6847974ef70",
   "metadata": {},
   "source": [
    "### היתרונות של `DataFrame` לייצוג טבלה"
   ]
  },
  {
   "cell_type": "markdown",
   "id": "8c32b8ec-cfdc-43f5-836f-1a7c4de4c063",
   "metadata": {},
   "source": [
    "כבר למדנו כיצד לייצג טבלאות באמצעות מבני נתונים בפייתון. מדוע צריך כעת מבנה נתונים חדש?\n",
    "\n",
    "נחשוב רגע על ההבדל בין מטריצה לטבלה. **הערכים במטריצה הם מטיפוס נתונים אחד בלבד (בד\"כ מספרים)**. לעומת זאת, כל עמודה בטבלה יכולה להכיל סוג נתונים שונה: עמודה אחת יכולה להיות מספרית (לדוגמא, ציון), אחרת טקסטואלית (לדוגמא, שם), וכו'. \n",
    "\n",
    "בנוסף, במטריצה אין ייחודיות לכל שורה ועמודה – ההתייחסות לערכים נעשית אך ורק לפי המיקום שלהם (אינדקס מספרי). לעומת זאת, בטבלה יש משמעות נוספת לכל עמודה, מעבר למיקום. במילים אחרות, אפשר לחשוב גם על כך שבטבלת אקסל גם אחרי שנחליף סדר עמודות בטבלת אקסל, המשמעות של על עמודה תשאר בעינה. לעומת זאת, אם נחליף את סדר עמודות במטריצה נקבל משמעותי מתמטית שונה לחלוטין. \n",
    "\n",
    "המשמעותית הייחודית של כל שורה ועמודה באה לידי ביטוי, בין השאר, ב**שם ייחודי שיש לכל שורה ועמודה. לשמות השורות קוראים גם אינדקס, והן שמורות בשדה `index`. שמות העמודות (או כותרת הטבלה) שמורות בשדה `columns`.**\n",
    "\n",
    "ניתן למעשה, להסתכל על טבלה כמבנה מאוד ייחודי וגמיש, הנוצר מ\"הכלאה\" בין רשימות למילונים. מצד אחד היא דומה לרשימה דו־ממדית – יש בה שורות ועמודות, ואף ניתן לגשת לתאים שונים לפי המיקום שלהם (כפי שנראה בהמשך). מצד שני, לכל שורה ועמודה יש שם - כמו במילון שיש בו מפתח - וזה מאפשר לגשת לאותם הנתונים נתונים לא רק לפי מיקום אלא גם לפי שם זה.\n",
    "\n",
    "לסיכום:"
   ]
  },
  {
   "cell_type": "markdown",
   "id": "8676aa10-1009-4762-9250-267d79684d1e",
   "metadata": {},
   "source": [
    "| מאפיין            | מטריצה                           | טבלה (DataFrame / טבלה כללית)              |\n",
    "|--------------------|----------------------------------|---------------------------------------------|\n",
    "| **שמות לעמודות/שורות** | אין שמות, רק מיקום מספרי       | יש כותרות לעמודות ואינדקסים לשורות       |\n",
    "| **סוגי נתונים**        | אחיד – כל הערכים מאותו סוג נתונים | מגוון – לכל עמודה יכול להיות סוג נתונים שונה |\n",
    "| **שימוש עיקרי**        | חישובים מתמטיים ואלגברה ליניארית | ניתוח וארגון נתונים מהעולם האמיתי           |\n",
    "| **גמישות**             | מוגבלת – כל המטריצה מכילה טיפוס בודד        | גבוהה – אפשר לשלב מספרים, טקסט, תאריכים וכו’|\n",
    "| **גישה לערכים**        | לפי מיקום (שורה, עמודה)          | לפי מיקום **או** לפי שם עמודה/שורה          |"
   ]
  },
  {
   "cell_type": "markdown",
   "id": "a11b4160-2c09-4a31-80ee-0b1c9dd8cd1c",
   "metadata": {},
   "source": [
    "### כיצד ניתן להשתמש בPandas?"
   ]
  },
  {
   "cell_type": "markdown",
   "id": "d6011f1a-7dcc-4a1d-968f-286b011e4f64",
   "metadata": {},
   "source": [
    "\n",
    "הספרייה היא קוד פתוח, כלומר כל אחד יכול לראות את הקוד שלה ולהשתמש בה בחינם. \n",
    "\n",
    "אם אתם משתמשים בסביבות כמו Anaconda ודומיה, הספרייה כבר מותקנת מראש. ולכן, על מנת להשתמש בספריה, כל שעלינו לעשות הוא **לייבא** אותה בתחילת התוכנית באופן הבא:"
   ]
  },
  {
   "cell_type": "code",
   "execution_count": 4,
   "id": "bb3e21f2",
   "metadata": {
    "executionInfo": {
     "elapsed": 1002,
     "status": "ok",
     "timestamp": 1710177630585,
     "user": {
      "displayName": "Arielle Arabov",
      "userId": "02375953330854429968"
     },
     "user_tz": -120
    },
    "id": "bb3e21f2",
    "slideshow": {
     "slide_type": "fragment"
    }
   },
   "outputs": [],
   "source": [
    "import pandas as pd"
   ]
  },
  {
   "cell_type": "markdown",
   "id": "6c8cd8d2-41ac-4c94-bbb0-e163a6d5157a",
   "metadata": {},
   "source": [
    "לאחר הרצת שורה זו, נוכל לגשת לכל הפונקציות והיכולות של הספרייה דרך הקיצור `pd` כפי שנראה ביחידות הבאות."
   ]
  }
 ],
 "metadata": {
  "celltoolbar": "Slideshow",
  "colab": {
   "provenance": []
  },
  "kernelspec": {
   "display_name": "Python 3 (ipykernel)",
   "language": "python",
   "name": "python3"
  },
  "language_info": {
   "codemirror_mode": {
    "name": "ipython",
    "version": 3
   },
   "file_extension": ".py",
   "mimetype": "text/x-python",
   "name": "python",
   "nbconvert_exporter": "python",
   "pygments_lexer": "ipython3",
   "version": "3.11.12"
  }
 },
 "nbformat": 4,
 "nbformat_minor": 5
}
