{
 "cells": [
  {
   "cell_type": "code",
   "execution_count": 35,
   "id": "f9e99179",
   "metadata": {
    "id": "f9e99179",
    "slideshow": {
     "slide_type": "notes"
    },
    "tags": [
     "remove_cell"
    ]
   },
   "outputs": [
    {
     "name": "stdout",
     "output_type": "stream",
     "text": [
      "['baby.png', 'countries-of-the-world.csv', 'dialation.png', 'dialation_2.png', 'dog.png', 'dog_noised.png', 'erosion.png', 'erosion_2.png', 'evil_morty_1.png', 'evil_morty_change.png', 'evil_morty_change_3.png', 'evil_morty_change_noised.png', 'evil_morty_segmentation.png', 'ex1.csv', 'ex2.csv', 'koala.png', 'notebook_resources.zip', 'orders_2_2024.csv', 'orders_3_2024.csv', 'orders_4_2024.csv', 'products2.csv', 'ship.png', 'StudentsGrades.csv', 'witcher_1.csv', 'witcher_2.csv', 'woman_noised.png', '__MACOSX']\n"
     ]
    }
   ],
   "source": [
    "import urllib.request\n",
    "import zipfile\n",
    "import os\n",
    "import ssl\n",
    "\n",
    "try:\n",
    "    os.mkdir(\"files\")\n",
    "except:\n",
    "    pass\n",
    "\n",
    "ssl._create_default_https_context = ssl._create_unverified_context\n",
    "\n",
    "with urllib.request.urlopen('https://courses.cs.tau.ac.il/pyProg/2425a/resources/notebook_resources.zip') as f:\n",
    "    content = f.read()\n",
    "\n",
    "with open('files/notebook_resources.zip', 'wb') as f:\n",
    "    f.write(content)\n",
    "\n",
    "with zipfile.ZipFile('files/notebook_resources.zip', 'r') as zip_ref:\n",
    "    zip_ref.extractall('files')\n",
    "\n",
    "print(os.listdir('files'))\n",
    "\n",
    "import pandas as pd\n",
    "pd.options.display.max_rows=5\n"
   ]
  },
  {
   "cell_type": "markdown",
   "id": "ae455d57-ecd9-46c1-890e-c6f35584235e",
   "metadata": {},
   "source": [
    "# גישה בסיסית לטבלה "
   ]
  },
  {
   "cell_type": "markdown",
   "id": "3306d119",
   "metadata": {
    "id": "3306d119",
    "slideshow": {
     "slide_type": "subslide"
    }
   },
   "source": [
    "נתחיל מטעינת טבלת הציונים שלנו מהקובץ files/StudentsGrades.csv לתוך `df`:"
   ]
  },
  {
   "cell_type": "code",
   "execution_count": 112,
   "id": "8b7c7d55-7355-42a8-8c8a-646b14ec0f41",
   "metadata": {
    "id": "6d6c6f39",
    "slideshow": {
     "slide_type": "fragment"
    }
   },
   "outputs": [
    {
     "data": {
      "text/html": [
       "<div>\n",
       "<style scoped>\n",
       "    .dataframe tbody tr th:only-of-type {\n",
       "        vertical-align: middle;\n",
       "    }\n",
       "\n",
       "    .dataframe tbody tr th {\n",
       "        vertical-align: top;\n",
       "    }\n",
       "\n",
       "    .dataframe thead th {\n",
       "        text-align: right;\n",
       "    }\n",
       "</style>\n",
       "<table border=\"1\" class=\"dataframe\">\n",
       "  <thead>\n",
       "    <tr style=\"text-align: right;\">\n",
       "      <th></th>\n",
       "      <th>Name</th>\n",
       "      <th>Programming</th>\n",
       "      <th>Marine Biology</th>\n",
       "      <th>Stellar Cartography</th>\n",
       "      <th>Math</th>\n",
       "      <th>History</th>\n",
       "      <th>Planet Survival</th>\n",
       "      <th>Art</th>\n",
       "    </tr>\n",
       "  </thead>\n",
       "  <tbody>\n",
       "    <tr>\n",
       "      <th>0</th>\n",
       "      <td>Yael</td>\n",
       "      <td>50</td>\n",
       "      <td>56</td>\n",
       "      <td>70</td>\n",
       "      <td>60</td>\n",
       "      <td>87</td>\n",
       "      <td>65</td>\n",
       "      <td>91</td>\n",
       "    </tr>\n",
       "    <tr>\n",
       "      <th>1</th>\n",
       "      <td>Nadav</td>\n",
       "      <td>61</td>\n",
       "      <td>77</td>\n",
       "      <td>75</td>\n",
       "      <td>75</td>\n",
       "      <td>63</td>\n",
       "      <td>52</td>\n",
       "      <td>88</td>\n",
       "    </tr>\n",
       "    <tr>\n",
       "      <th>...</th>\n",
       "      <td>...</td>\n",
       "      <td>...</td>\n",
       "      <td>...</td>\n",
       "      <td>...</td>\n",
       "      <td>...</td>\n",
       "      <td>...</td>\n",
       "      <td>...</td>\n",
       "      <td>...</td>\n",
       "    </tr>\n",
       "    <tr>\n",
       "      <th>11</th>\n",
       "      <td>Tom</td>\n",
       "      <td>98</td>\n",
       "      <td>76</td>\n",
       "      <td>98</td>\n",
       "      <td>100</td>\n",
       "      <td>98</td>\n",
       "      <td>92</td>\n",
       "      <td>80</td>\n",
       "    </tr>\n",
       "    <tr>\n",
       "      <th>12</th>\n",
       "      <td>Adi</td>\n",
       "      <td>76</td>\n",
       "      <td>87</td>\n",
       "      <td>34</td>\n",
       "      <td>90</td>\n",
       "      <td>88</td>\n",
       "      <td>84</td>\n",
       "      <td>70</td>\n",
       "    </tr>\n",
       "  </tbody>\n",
       "</table>\n",
       "<p>13 rows × 8 columns</p>\n",
       "</div>"
      ],
      "text/plain": [
       "     Name  Programming  Marine Biology  Stellar Cartography  Math  History  \\\n",
       "0    Yael           50              56                   70    60       87   \n",
       "1   Nadav           61              77                   75    75       63   \n",
       "..    ...          ...             ...                  ...   ...      ...   \n",
       "11    Tom           98              76                   98   100       98   \n",
       "12    Adi           76              87                   34    90       88   \n",
       "\n",
       "    Planet Survival  Art  \n",
       "0                65   91  \n",
       "1                52   88  \n",
       "..              ...  ...  \n",
       "11               92   80  \n",
       "12               84   70  \n",
       "\n",
       "[13 rows x 8 columns]"
      ]
     },
     "metadata": {},
     "output_type": "display_data"
    }
   ],
   "source": [
    "inputFileName = \"files/StudentsGrades.csv\"\n",
    "df = pd.read_csv(inputFileName)\n",
    "display(df)"
   ]
  },
  {
   "cell_type": "markdown",
   "id": "01563554-1186-46f4-8a31-9529daf01a4e",
   "metadata": {},
   "source": [
    "לפני שנתחיל לנתח את הנתונים של הטבלה, ייתכן כי נרצה לדעת עליה כמה נתונים כללים את הטבלה."
   ]
  },
  {
   "cell_type": "markdown",
   "id": "da183715-ab1c-4c55-8806-a4d108edd45a",
   "metadata": {},
   "source": [
    "נניח כי נרצה להחזיר את מספר השורות בטבלה. נוכל לעשות זאת באמצעות פונקציה שכבר הזכרנו בעבר: `len`:"
   ]
  },
  {
   "cell_type": "code",
   "execution_count": 28,
   "id": "722535ab-427e-4cc0-a453-234dbcdaee74",
   "metadata": {},
   "outputs": [
    {
     "data": {
      "text/plain": [
       "13"
      ]
     },
     "execution_count": 28,
     "metadata": {},
     "output_type": "execute_result"
    }
   ],
   "source": [
    "print(len(df))"
   ]
  },
  {
   "cell_type": "markdown",
   "id": "df03f5b8-32b3-4be5-aa1a-abeb30edb088",
   "metadata": {},
   "source": [
    "מה לגבי מספר העמודות?   \n",
    "מסתבר שיש שדה מיוחדת ב`DataFrame` הנקראת `shape`, והיא מחזירה גם את מספר השורות וגם את מספר בעמודות כ`tuple`: "
   ]
  },
  {
   "cell_type": "code",
   "execution_count": 30,
   "id": "3af00a61-6068-4024-b4c0-b0456255282c",
   "metadata": {},
   "outputs": [
    {
     "name": "stdout",
     "output_type": "stream",
     "text": [
      "(13, 8)\n"
     ]
    }
   ],
   "source": [
    "print(df.shape)"
   ]
  },
  {
   "cell_type": "markdown",
   "id": "34593ea7-5e5c-4de5-bf67-9d5b6f8a6491",
   "metadata": {},
   "source": [
    "כפי שהזכרנו ביחידה הקודמת, לכל עמודה יש טיפוס משלה. כדי לקבל את הטיפוס של כל עמודה ניתן להשתמש בשדה `dtypes`"
   ]
  },
  {
   "cell_type": "code",
   "execution_count": 36,
   "id": "a3edccb8",
   "metadata": {
    "id": "a3edccb8",
    "slideshow": {
     "slide_type": "fragment"
    }
   },
   "outputs": [
    {
     "name": "stdout",
     "output_type": "stream",
     "text": [
      "Name               object\n",
      "Programming         int64\n",
      "                    ...  \n",
      "Planet Survival     int64\n",
      "Art                 int64\n",
      "Length: 8, dtype: object\n"
     ]
    }
   ],
   "source": [
    "print(df.dtypes)"
   ]
  },
  {
   "cell_type": "markdown",
   "id": "5c63ceed",
   "metadata": {
    "id": "5c63ceed",
    "slideshow": {
     "slide_type": "fragment"
    }
   },
   "source": [
    "```{admonition} **שימו לב**\n",
    ":class: warning\n",
    "\n",
    "עמודות מחרוזת (כמו Name בדוגמא לעיל) מיוצגות בPandas ע\"י הטיפוס `object` \n",
    "```"
   ]
  },
  {
   "cell_type": "markdown",
   "id": "92d7f170",
   "metadata": {
    "id": "92d7f170",
    "slideshow": {
     "slide_type": "subslide"
    }
   },
   "source": [
    "### גישה לערכים בטבלאות וסדרות: `[]`, `iloc[,]` ו-`loc[,]`"
   ]
  },
  {
   "cell_type": "markdown",
   "id": "d73dfac0-e353-4481-b7ea-3d2055865f71",
   "metadata": {},
   "source": [
    "בדומה לרשימות, גם ב-Pandas ניתן לגשת לערכים ספציפיים בתמונה, כולל Slicing. \n",
    "\n",
    "ב-Pandas קיימות מספר דרכים לגשת לנתונים מטבלה. השיטה הפשוטה ביותר היא `df[x]`, שמחזירה עמודה לפי השם שלה. אם נפעיל את `[]` על סדרה (`Series`), לדוגמא, `s[x]`,  נקבל ערך שנמצא בתא בשם `x`.  \n",
    "\n",
    "אבל מה אם נרצה להחזיר תת-טבלה מסוימת?   \n",
    "\n",
    "לצורך כך קיימות שתי מתודות עיקריות: `df.loc[x,y]` שמבוססת על **שמות** השורות (`x`) ועמודות (`y`), ו־`df.iloc[x,y]` שמבוססת על **המיקומי** של השורות והעמודות (`x` ו-`y`) בהתאמה. באמצעות מתודות אלו, ניתן לבצע חיתוך על השורות והעמודות יחדיו בתוך הסוגריים המרובעים. \n",
    "\n",
    "בכל אחת משלושת האופציות הללו, `x` יכול לייצג: \n",
    "- שורה בודדת\n",
    "- Slicing של שמות/מיקומי שורות\n",
    "- רשימה של שמות/מיקומי שורות.\n",
    "\n",
    "באופן דומה ניתן לגשת לעמודת או מספר עמודות באמצעות `y`.   \n",
    "\n",
    "**חשוב להבחין בין שלושת הדרכים הללו, משום שכל אחת מהן מתנהגת אחרת**.  \n"
   ]
  },
  {
   "cell_type": "markdown",
   "id": "63fae058-1a0b-419b-9ca4-979755e5d1c2",
   "metadata": {},
   "source": [
    "```{admonition} **שימו לב**\n",
    ":class: warning\n",
    "\n",
    "בניגוד לסדרות מספריות כפי שראינו עד כה בקורס, Slicing לפי שמות (ב`[]` ו-`loc[]`) רץ מהשם בראשון **כולל* עד השם האחרון **כולל**, לפי סדר הופעת השורות/העמודות.  \n",
    "\n",
    "שימוש בSlicing ב`iloc[]` מתנהג כפי שראינו עד כה בSlicing: כלומר, רץ מהמספר הראשון **כולל** עד האחרון **לא כולל**\n",
    "\n",
    "```"
   ]
  },
  {
   "cell_type": "markdown",
   "id": "98e7bfee-5789-41f9-b612-668f8caf7bcf",
   "metadata": {},
   "source": [
    "\n",
    "כאשר ניגשים לערכים בטבלה, סוג האובייקט שניגשים אליו תלוי בכמות השורות והעמודות שנבחרו: \n",
    "- גישה לתא יחיד מחזירה ערך בודד בהתאם לטיפוס הנתונים של העמודה.\n",
    "- גישה לעמודה אחת או שורה אחת מחזירה אובייקט מסוג `Series`, שהוא וקטור חד-ממדי.  \n",
    "- גישה למספר עמודות ומספר שורות, התוצאה היא `DataFrame`, כלומר טבלה דו-ממדית. \n"
   ]
  },
  {
   "cell_type": "markdown",
   "id": "7d8b99d0",
   "metadata": {
    "id": "7d8b99d0",
    "slideshow": {
     "slide_type": "fragment"
    }
   },
   "source": [
    "למטה מופיעות מספר דוגמאות. ודאו שאתה מבינים מדוע מתקבלים הערכים המודפסים."
   ]
  },
  {
   "cell_type": "markdown",
   "id": "95293131",
   "metadata": {
    "id": "92d7f170",
    "slideshow": {
     "slide_type": "subslide"
    }
   },
   "source": [
    "#### חילוץ ערכים מטבלה"
   ]
  },
  {
   "cell_type": "code",
   "execution_count": null,
   "id": "b12c8ec6",
   "metadata": {
    "execution": {
     "iopub.execute_input": "2025-03-10T07:51:25.906203Z",
     "iopub.status.busy": "2025-03-10T07:51:25.905695Z",
     "iopub.status.idle": "2025-03-10T07:51:25.915353Z",
     "shell.execute_reply": "2025-03-10T07:51:25.914577Z"
    },
    "slideshow": {
     "slide_type": "fragment"
    }
   },
   "outputs": [],
   "source": [
    "df_first3=df.iloc[0:3,0:3]\n",
    "print(type(df_first3))\n",
    "display(df_first3)"
   ]
  },
  {
   "cell_type": "code",
   "execution_count": null,
   "id": "2912a2a8",
   "metadata": {
    "execution": {
     "iopub.execute_input": "2025-03-10T07:51:25.918497Z",
     "iopub.status.busy": "2025-03-10T07:51:25.918163Z",
     "iopub.status.idle": "2025-03-10T07:51:25.924107Z",
     "shell.execute_reply": "2025-03-10T07:51:25.923133Z"
    },
    "slideshow": {
     "slide_type": "fragment"
    }
   },
   "outputs": [],
   "source": [
    "print(df_first3.iloc[0])\n",
    "print(df_first3.iloc[:,0])"
   ]
  },
  {
   "cell_type": "markdown",
   "id": "48b8c633",
   "metadata": {
    "id": "92d7f170",
    "slideshow": {
     "slide_type": "subslide"
    }
   },
   "source": [
    "#### חילוץ ערכים מסדרה"
   ]
  },
  {
   "cell_type": "code",
   "execution_count": null,
   "id": "d9495073",
   "metadata": {
    "execution": {
     "iopub.execute_input": "2025-03-10T07:51:25.927735Z",
     "iopub.status.busy": "2025-03-10T07:51:25.927029Z",
     "iopub.status.idle": "2025-03-10T07:51:25.934387Z",
     "shell.execute_reply": "2025-03-10T07:51:25.933570Z"
    },
    "slideshow": {
     "slide_type": "fragment"
    }
   },
   "outputs": [],
   "source": [
    "df_first1=df.iloc[0,0:3]\n",
    "print(type(df_first1))\n",
    "display(df_first1)"
   ]
  },
  {
   "cell_type": "code",
   "execution_count": null,
   "id": "e9c4e66b",
   "metadata": {
    "execution": {
     "iopub.execute_input": "2025-03-10T07:51:25.937485Z",
     "iopub.status.busy": "2025-03-10T07:51:25.937133Z",
     "iopub.status.idle": "2025-03-10T07:51:28.442582Z",
     "shell.execute_reply": "2025-03-10T07:51:28.441769Z"
    },
    "slideshow": {
     "slide_type": "fragment"
    },
    "tags": [
     "raises-exception"
    ]
   },
   "outputs": [],
   "source": [
    "print(df_first1.iloc[0])\n",
    "print(df_first1.iloc[:,0])"
   ]
  },
  {
   "cell_type": "markdown",
   "id": "e5f1676e",
   "metadata": {
    "id": "e5f1676e",
    "slideshow": {
     "slide_type": "subslide"
    }
   },
   "source": [
    "### תרגול: `iloc`  vs. `loc` "
   ]
  },
  {
   "cell_type": "markdown",
   "id": "50e957c9",
   "metadata": {
    "slideshow": {
     "slide_type": "fragment"
    }
   },
   "source": [
    "1. נראה כעת שלוש דרכים לחלץ חלצו את השורה הראשונה, השלישית והחמישית מתוך `df`:"
   ]
  },
  {
   "cell_type": "code",
   "execution_count": 43,
   "id": "f409bec9",
   "metadata": {
    "slideshow": {
     "slide_type": "fragment"
    }
   },
   "outputs": [
    {
     "data": {
      "text/html": [
       "<div>\n",
       "<style scoped>\n",
       "    .dataframe tbody tr th:only-of-type {\n",
       "        vertical-align: middle;\n",
       "    }\n",
       "\n",
       "    .dataframe tbody tr th {\n",
       "        vertical-align: top;\n",
       "    }\n",
       "\n",
       "    .dataframe thead th {\n",
       "        text-align: right;\n",
       "    }\n",
       "</style>\n",
       "<table border=\"1\" class=\"dataframe\">\n",
       "  <thead>\n",
       "    <tr style=\"text-align: right;\">\n",
       "      <th></th>\n",
       "      <th>Name</th>\n",
       "      <th>Programming</th>\n",
       "      <th>Marine Biology</th>\n",
       "      <th>Stellar Cartography</th>\n",
       "      <th>Math</th>\n",
       "      <th>History</th>\n",
       "      <th>Planet Survival</th>\n",
       "      <th>Art</th>\n",
       "    </tr>\n",
       "  </thead>\n",
       "  <tbody>\n",
       "    <tr>\n",
       "      <th>0</th>\n",
       "      <td>Yael</td>\n",
       "      <td>50</td>\n",
       "      <td>56</td>\n",
       "      <td>70</td>\n",
       "      <td>60</td>\n",
       "      <td>87</td>\n",
       "      <td>65</td>\n",
       "      <td>91</td>\n",
       "    </tr>\n",
       "    <tr>\n",
       "      <th>2</th>\n",
       "      <td>Michal</td>\n",
       "      <td>81</td>\n",
       "      <td>72</td>\n",
       "      <td>76</td>\n",
       "      <td>94</td>\n",
       "      <td>67</td>\n",
       "      <td>81</td>\n",
       "      <td>78</td>\n",
       "    </tr>\n",
       "    <tr>\n",
       "      <th>4</th>\n",
       "      <td>Danielle</td>\n",
       "      <td>36</td>\n",
       "      <td>74</td>\n",
       "      <td>82</td>\n",
       "      <td>40</td>\n",
       "      <td>78</td>\n",
       "      <td>86</td>\n",
       "      <td>65</td>\n",
       "    </tr>\n",
       "  </tbody>\n",
       "</table>\n",
       "</div>"
      ],
      "text/plain": [
       "       Name  Programming  Marine Biology  Stellar Cartography  Math  History  \\\n",
       "0      Yael           50              56                   70    60       87   \n",
       "2    Michal           81              72                   76    94       67   \n",
       "4  Danielle           36              74                   82    40       78   \n",
       "\n",
       "   Planet Survival  Art  \n",
       "0               65   91  \n",
       "2               81   78  \n",
       "4               86   65  "
      ]
     },
     "metadata": {},
     "output_type": "display_data"
    }
   ],
   "source": [
    "display(df.iloc[[0,2,4]]) "
   ]
  },
  {
   "cell_type": "code",
   "execution_count": 45,
   "id": "b38a1558-de31-4c2b-a305-57093543de74",
   "metadata": {},
   "outputs": [
    {
     "data": {
      "text/html": [
       "<div>\n",
       "<style scoped>\n",
       "    .dataframe tbody tr th:only-of-type {\n",
       "        vertical-align: middle;\n",
       "    }\n",
       "\n",
       "    .dataframe tbody tr th {\n",
       "        vertical-align: top;\n",
       "    }\n",
       "\n",
       "    .dataframe thead th {\n",
       "        text-align: right;\n",
       "    }\n",
       "</style>\n",
       "<table border=\"1\" class=\"dataframe\">\n",
       "  <thead>\n",
       "    <tr style=\"text-align: right;\">\n",
       "      <th></th>\n",
       "      <th>Name</th>\n",
       "      <th>Programming</th>\n",
       "      <th>Marine Biology</th>\n",
       "      <th>Stellar Cartography</th>\n",
       "      <th>Math</th>\n",
       "      <th>History</th>\n",
       "      <th>Planet Survival</th>\n",
       "      <th>Art</th>\n",
       "    </tr>\n",
       "  </thead>\n",
       "  <tbody>\n",
       "    <tr>\n",
       "      <th>0</th>\n",
       "      <td>Yael</td>\n",
       "      <td>50</td>\n",
       "      <td>56</td>\n",
       "      <td>70</td>\n",
       "      <td>60</td>\n",
       "      <td>87</td>\n",
       "      <td>65</td>\n",
       "      <td>91</td>\n",
       "    </tr>\n",
       "    <tr>\n",
       "      <th>2</th>\n",
       "      <td>Michal</td>\n",
       "      <td>81</td>\n",
       "      <td>72</td>\n",
       "      <td>76</td>\n",
       "      <td>94</td>\n",
       "      <td>67</td>\n",
       "      <td>81</td>\n",
       "      <td>78</td>\n",
       "    </tr>\n",
       "    <tr>\n",
       "      <th>4</th>\n",
       "      <td>Danielle</td>\n",
       "      <td>36</td>\n",
       "      <td>74</td>\n",
       "      <td>82</td>\n",
       "      <td>40</td>\n",
       "      <td>78</td>\n",
       "      <td>86</td>\n",
       "      <td>65</td>\n",
       "    </tr>\n",
       "  </tbody>\n",
       "</table>\n",
       "</div>"
      ],
      "text/plain": [
       "       Name  Programming  Marine Biology  Stellar Cartography  Math  History  \\\n",
       "0      Yael           50              56                   70    60       87   \n",
       "2    Michal           81              72                   76    94       67   \n",
       "4  Danielle           36              74                   82    40       78   \n",
       "\n",
       "   Planet Survival  Art  \n",
       "0               65   91  \n",
       "2               81   78  \n",
       "4               86   65  "
      ]
     },
     "metadata": {},
     "output_type": "display_data"
    }
   ],
   "source": [
    "display(df.iloc[0:5:2])"
   ]
  },
  {
   "cell_type": "code",
   "execution_count": 49,
   "id": "275dd641-9b7b-43d2-be49-07ca37b44b58",
   "metadata": {},
   "outputs": [
    {
     "data": {
      "text/html": [
       "<div>\n",
       "<style scoped>\n",
       "    .dataframe tbody tr th:only-of-type {\n",
       "        vertical-align: middle;\n",
       "    }\n",
       "\n",
       "    .dataframe tbody tr th {\n",
       "        vertical-align: top;\n",
       "    }\n",
       "\n",
       "    .dataframe thead th {\n",
       "        text-align: right;\n",
       "    }\n",
       "</style>\n",
       "<table border=\"1\" class=\"dataframe\">\n",
       "  <thead>\n",
       "    <tr style=\"text-align: right;\">\n",
       "      <th></th>\n",
       "      <th>Name</th>\n",
       "      <th>Programming</th>\n",
       "      <th>Marine Biology</th>\n",
       "      <th>Stellar Cartography</th>\n",
       "      <th>Math</th>\n",
       "      <th>History</th>\n",
       "      <th>Planet Survival</th>\n",
       "      <th>Art</th>\n",
       "    </tr>\n",
       "  </thead>\n",
       "  <tbody>\n",
       "    <tr>\n",
       "      <th>0</th>\n",
       "      <td>Yael</td>\n",
       "      <td>50</td>\n",
       "      <td>56</td>\n",
       "      <td>70</td>\n",
       "      <td>60</td>\n",
       "      <td>87</td>\n",
       "      <td>65</td>\n",
       "      <td>91</td>\n",
       "    </tr>\n",
       "    <tr>\n",
       "      <th>2</th>\n",
       "      <td>Michal</td>\n",
       "      <td>81</td>\n",
       "      <td>72</td>\n",
       "      <td>76</td>\n",
       "      <td>94</td>\n",
       "      <td>67</td>\n",
       "      <td>81</td>\n",
       "      <td>78</td>\n",
       "    </tr>\n",
       "    <tr>\n",
       "      <th>4</th>\n",
       "      <td>Danielle</td>\n",
       "      <td>36</td>\n",
       "      <td>74</td>\n",
       "      <td>82</td>\n",
       "      <td>40</td>\n",
       "      <td>78</td>\n",
       "      <td>86</td>\n",
       "      <td>65</td>\n",
       "    </tr>\n",
       "  </tbody>\n",
       "</table>\n",
       "</div>"
      ],
      "text/plain": [
       "       Name  Programming  Marine Biology  Stellar Cartography  Math  History  \\\n",
       "0      Yael           50              56                   70    60       87   \n",
       "2    Michal           81              72                   76    94       67   \n",
       "4  Danielle           36              74                   82    40       78   \n",
       "\n",
       "   Planet Survival  Art  \n",
       "0               65   91  \n",
       "2               81   78  \n",
       "4               86   65  "
      ]
     },
     "metadata": {},
     "output_type": "display_data"
    }
   ],
   "source": [
    "display(df.loc[0:4:2])"
   ]
  },
  {
   "cell_type": "markdown",
   "id": "7c8b18c1-7ca6-474d-ba41-4278a49a4e64",
   "metadata": {},
   "source": [
    "שימו לב שבגלל שבדגומא האחרונה אנו משתמשים ב`loc` ולכן הגדרנו את הטווח עד `4` ולא `5`.    \n",
    "אם היינו מנסים להפעיל אותו Slicing על iloc, לא היינו מקבלים את הערך החמישי:"
   ]
  },
  {
   "cell_type": "code",
   "execution_count": 51,
   "id": "ac4304d7-e90b-4fb5-b362-039356f8a495",
   "metadata": {},
   "outputs": [
    {
     "data": {
      "text/html": [
       "<div>\n",
       "<style scoped>\n",
       "    .dataframe tbody tr th:only-of-type {\n",
       "        vertical-align: middle;\n",
       "    }\n",
       "\n",
       "    .dataframe tbody tr th {\n",
       "        vertical-align: top;\n",
       "    }\n",
       "\n",
       "    .dataframe thead th {\n",
       "        text-align: right;\n",
       "    }\n",
       "</style>\n",
       "<table border=\"1\" class=\"dataframe\">\n",
       "  <thead>\n",
       "    <tr style=\"text-align: right;\">\n",
       "      <th></th>\n",
       "      <th>Name</th>\n",
       "      <th>Programming</th>\n",
       "      <th>Marine Biology</th>\n",
       "      <th>Stellar Cartography</th>\n",
       "      <th>Math</th>\n",
       "      <th>History</th>\n",
       "      <th>Planet Survival</th>\n",
       "      <th>Art</th>\n",
       "    </tr>\n",
       "  </thead>\n",
       "  <tbody>\n",
       "    <tr>\n",
       "      <th>0</th>\n",
       "      <td>Yael</td>\n",
       "      <td>50</td>\n",
       "      <td>56</td>\n",
       "      <td>70</td>\n",
       "      <td>60</td>\n",
       "      <td>87</td>\n",
       "      <td>65</td>\n",
       "      <td>91</td>\n",
       "    </tr>\n",
       "    <tr>\n",
       "      <th>2</th>\n",
       "      <td>Michal</td>\n",
       "      <td>81</td>\n",
       "      <td>72</td>\n",
       "      <td>76</td>\n",
       "      <td>94</td>\n",
       "      <td>67</td>\n",
       "      <td>81</td>\n",
       "      <td>78</td>\n",
       "    </tr>\n",
       "  </tbody>\n",
       "</table>\n",
       "</div>"
      ],
      "text/plain": [
       "     Name  Programming  Marine Biology  Stellar Cartography  Math  History  \\\n",
       "0    Yael           50              56                   70    60       87   \n",
       "2  Michal           81              72                   76    94       67   \n",
       "\n",
       "   Planet Survival  Art  \n",
       "0               65   91  \n",
       "2               81   78  "
      ]
     },
     "metadata": {},
     "output_type": "display_data"
    }
   ],
   "source": [
    "display(df.iloc[0:4:2])"
   ]
  },
  {
   "cell_type": "markdown",
   "id": "d701bcd1-0a4d-4dc2-b0a8-43a38b6eb881",
   "metadata": {},
   "source": [
    "נסו כעת בעצמכם לחלץ מהטבלה `df` את ארבעת השורות האחרונות בכל אחת השלושת השיטות שהדגמנו למעלה **תוך שימוש באינקסים שליליים**"
   ]
  },
  {
   "cell_type": "code",
   "execution_count": null,
   "id": "1c6c18af-cca6-4689-aba7-65beb0d9c28e",
   "metadata": {},
   "outputs": [],
   "source": [
    "# Write your code here"
   ]
  },
  {
   "cell_type": "markdown",
   "id": "0419f9cc",
   "metadata": {
    "slideshow": {
     "slide_type": "fragment"
    }
   },
   "source": [
    "2. בשורה להלן בוצע ניסון לחלץ את השורה האחרונה מהטבלה"
   ]
  },
  {
   "cell_type": "code",
   "execution_count": null,
   "id": "da48af7a",
   "metadata": {
    "execution": {
     "iopub.execute_input": "2025-03-10T07:51:28.492259Z",
     "iopub.status.busy": "2025-03-10T07:51:28.491541Z",
     "iopub.status.idle": "2025-03-10T07:51:29.927316Z",
     "shell.execute_reply": "2025-03-10T07:51:29.926558Z"
    },
    "id": "da48af7a",
    "slideshow": {
     "slide_type": "fragment"
    },
    "tags": [
     "raises-exception"
    ]
   },
   "outputs": [],
   "source": [
    "print(df.loc[-1])"
   ]
  },
  {
   "cell_type": "markdown",
   "id": "f2ee8e53",
   "metadata": {
    "id": "f2ee8e53",
    "slideshow": {
     "slide_type": "subslide"
    }
   },
   "source": [
    "מדוע התגבלה שגיאה?"
   ]
  },
  {
   "cell_type": "markdown",
   "id": "6dcdc100-d4dc-415e-a01a-d0c20528a319",
   "metadata": {},
   "source": [
    "```{admonition} **פתרון**\n",
    ":class: dropdown, tip\n",
    "\n",
    "המתודה `loc` ניגשת לשורות לפי השמות שלהן. על מנת לגשת לפי מיקום (-1), יש להשתמש ב`iloc`\n",
    "```"
   ]
  },
  {
   "cell_type": "markdown",
   "id": "31c3cd65",
   "metadata": {
    "id": "92d7f170",
    "slideshow": {
     "slide_type": "subslide"
    }
   },
   "source": [
    "### שמות שורות ועמודות בטבלאות וסדרות"
   ]
  },
  {
   "cell_type": "markdown",
   "id": "516bf2bd-7045-4b49-94be-0c39588864be",
   "metadata": {},
   "source": [
    "ב-DataFrame שמות השורות ושמות העמודות נשמרים בשדות ייעודיים: \n",
    " - שמות השורות נשמרים בשדה `index`\n",
    " - שמות העמודות נשמרים במאפיין `columns`\n",
    " \n",
    "שני השדות הם מסוג המחלקה **Index**, שניתן לראות בה מחלקה כללית לייצוג שמות. "
   ]
  },
  {
   "cell_type": "markdown",
   "id": "34f4b573",
   "metadata": {
    "id": "92d7f170",
    "slideshow": {
     "slide_type": "subslide"
    }
   },
   "source": [
    "שמות התאים בתוך `Series` נקראים גם הם `index`, ללא קשר אם ה-`Series` מייצגת מעמודה או משורה.   \n",
    "זכרו כי `Series` היא **חד-מימדית** בעוד הקונספט של שורה ועמודה נגזר מכך קיים רק בהקשר של `DataFrame` - באיך שה-`Series` ממקום בו (בדומה לשורה או עמודה בודדת במטריצה)."
   ]
  },
  {
   "cell_type": "code",
   "execution_count": 60,
   "id": "823a5d14",
   "metadata": {
    "slideshow": {
     "slide_type": "fragment"
    }
   },
   "outputs": [
    {
     "name": "stdout",
     "output_type": "stream",
     "text": [
      "<class 'pandas.core.series.Series'>\n",
      "Index(['Name', 'Programming', 'Marine Biology', 'Stellar Cartography', 'Math',\n",
      "       'History', 'Planet Survival', 'Art'],\n",
      "      dtype='object')\n"
     ]
    }
   ],
   "source": [
    "s=df.loc[0]\n",
    "print(type(s))\n",
    "print(s.index)"
   ]
  },
  {
   "cell_type": "markdown",
   "id": "9d6584c4-0e66-4fe0-adbb-883a25cb972e",
   "metadata": {},
   "source": [
    "לסדרה גם יכול להיות שם, השמור בשדה `name`. אם הסדרה נגזרה משורה/עמודה בטבלה, הערך של `name`יהיה שם השורה או העמודה כפי שהופיע במקור בטבלה:"
   ]
  },
  {
   "cell_type": "code",
   "execution_count": 61,
   "id": "526e7620-302f-453d-bd37-5cb7aa96a05f",
   "metadata": {},
   "outputs": [
    {
     "name": "stdout",
     "output_type": "stream",
     "text": [
      "0\n"
     ]
    }
   ],
   "source": [
    "print(s.name)"
   ]
  }
 ],
 "metadata": {
  "celltoolbar": "Slideshow",
  "colab": {
   "provenance": []
  },
  "kernelspec": {
   "display_name": "Python 3 (ipykernel)",
   "language": "python",
   "name": "python3"
  },
  "language_info": {
   "codemirror_mode": {
    "name": "ipython",
    "version": 3
   },
   "file_extension": ".py",
   "mimetype": "text/x-python",
   "name": "python",
   "nbconvert_exporter": "python",
   "pygments_lexer": "ipython3",
   "version": "3.11.12"
  }
 },
 "nbformat": 4,
 "nbformat_minor": 5
}
