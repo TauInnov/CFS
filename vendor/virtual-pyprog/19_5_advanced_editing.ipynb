{
 "cells": [
  {
   "cell_type": "code",
   "execution_count": 35,
   "id": "f9e99179",
   "metadata": {
    "id": "f9e99179",
    "slideshow": {
     "slide_type": "notes"
    },
    "tags": [
     "remove_cell"
    ]
   },
   "outputs": [
    {
     "name": "stdout",
     "output_type": "stream",
     "text": [
      "['baby.png', 'countries-of-the-world.csv', 'dialation.png', 'dialation_2.png', 'dog.png', 'dog_noised.png', 'erosion.png', 'erosion_2.png', 'evil_morty_1.png', 'evil_morty_change.png', 'evil_morty_change_3.png', 'evil_morty_change_noised.png', 'evil_morty_segmentation.png', 'ex1.csv', 'ex2.csv', 'koala.png', 'notebook_resources.zip', 'orders_2_2024.csv', 'orders_3_2024.csv', 'orders_4_2024.csv', 'products2.csv', 'ship.png', 'StudentsGrades.csv', 'witcher_1.csv', 'witcher_2.csv', 'woman_noised.png', '__MACOSX']\n"
     ]
    }
   ],
   "source": [
    "import urllib.request\n",
    "import zipfile\n",
    "import os\n",
    "import ssl\n",
    "\n",
    "try:\n",
    "    os.mkdir(\"files\")\n",
    "except:\n",
    "    pass\n",
    "\n",
    "ssl._create_default_https_context = ssl._create_unverified_context\n",
    "\n",
    "with urllib.request.urlopen('https://courses.cs.tau.ac.il/pyProg/2425a/resources/notebook_resources.zip') as f:\n",
    "    content = f.read()\n",
    "\n",
    "with open('files/notebook_resources.zip', 'wb') as f:\n",
    "    f.write(content)\n",
    "\n",
    "with zipfile.ZipFile('files/notebook_resources.zip', 'r') as zip_ref:\n",
    "    zip_ref.extractall('files')\n",
    "\n",
    "print(os.listdir('files'))\n",
    "\n",
    "import pandas as pd\n",
    "pd.options.display.max_rows=5\n"
   ]
  },
  {
   "cell_type": "markdown",
   "id": "6c9a32ce-11f6-4bd8-a9ab-3b92bd1a12f9",
   "metadata": {},
   "source": [
    "# עריכת טבלאות מתקדמת"
   ]
  },
  {
   "cell_type": "markdown",
   "id": "fcc72514",
   "metadata": {
    "id": "fcc72514",
    "slideshow": {
     "slide_type": "subslide"
    }
   },
   "source": [
    "### מיסוך (Masking) בPandas"
   ]
  },
  {
   "cell_type": "code",
   "execution_count": 122,
   "id": "969b238e-9c07-457f-8482-787c21ca759a",
   "metadata": {},
   "outputs": [
    {
     "data": {
      "text/html": [
       "<div>\n",
       "<style scoped>\n",
       "    .dataframe tbody tr th:only-of-type {\n",
       "        vertical-align: middle;\n",
       "    }\n",
       "\n",
       "    .dataframe tbody tr th {\n",
       "        vertical-align: top;\n",
       "    }\n",
       "\n",
       "    .dataframe thead th {\n",
       "        text-align: right;\n",
       "    }\n",
       "</style>\n",
       "<table border=\"1\" class=\"dataframe\">\n",
       "  <thead>\n",
       "    <tr style=\"text-align: right;\">\n",
       "      <th></th>\n",
       "      <th>Name</th>\n",
       "      <th>Programming</th>\n",
       "      <th>Marine Biology</th>\n",
       "      <th>Stellar Cartography</th>\n",
       "      <th>Math</th>\n",
       "      <th>History</th>\n",
       "      <th>Planet Survival</th>\n",
       "      <th>Art</th>\n",
       "      <th>Surfing</th>\n",
       "      <th>Average</th>\n",
       "    </tr>\n",
       "  </thead>\n",
       "  <tbody>\n",
       "    <tr>\n",
       "      <th>0</th>\n",
       "      <td>Yael</td>\n",
       "      <td>50</td>\n",
       "      <td>56</td>\n",
       "      <td>70</td>\n",
       "      <td>60</td>\n",
       "      <td>87</td>\n",
       "      <td>65</td>\n",
       "      <td>91</td>\n",
       "      <td>60</td>\n",
       "      <td>67.375</td>\n",
       "    </tr>\n",
       "    <tr>\n",
       "      <th>1</th>\n",
       "      <td>Nadav</td>\n",
       "      <td>61</td>\n",
       "      <td>77</td>\n",
       "      <td>75</td>\n",
       "      <td>75</td>\n",
       "      <td>63</td>\n",
       "      <td>52</td>\n",
       "      <td>88</td>\n",
       "      <td>65</td>\n",
       "      <td>69.500</td>\n",
       "    </tr>\n",
       "    <tr>\n",
       "      <th>...</th>\n",
       "      <td>...</td>\n",
       "      <td>...</td>\n",
       "      <td>...</td>\n",
       "      <td>...</td>\n",
       "      <td>...</td>\n",
       "      <td>...</td>\n",
       "      <td>...</td>\n",
       "      <td>...</td>\n",
       "      <td>...</td>\n",
       "      <td>...</td>\n",
       "    </tr>\n",
       "    <tr>\n",
       "      <th>11</th>\n",
       "      <td>Tom</td>\n",
       "      <td>98</td>\n",
       "      <td>76</td>\n",
       "      <td>98</td>\n",
       "      <td>100</td>\n",
       "      <td>98</td>\n",
       "      <td>92</td>\n",
       "      <td>80</td>\n",
       "      <td>52</td>\n",
       "      <td>86.750</td>\n",
       "    </tr>\n",
       "    <tr>\n",
       "      <th>12</th>\n",
       "      <td>Adi</td>\n",
       "      <td>76</td>\n",
       "      <td>87</td>\n",
       "      <td>34</td>\n",
       "      <td>90</td>\n",
       "      <td>88</td>\n",
       "      <td>84</td>\n",
       "      <td>70</td>\n",
       "      <td>70</td>\n",
       "      <td>74.875</td>\n",
       "    </tr>\n",
       "  </tbody>\n",
       "</table>\n",
       "<p>13 rows × 10 columns</p>\n",
       "</div>"
      ],
      "text/plain": [
       "     Name  Programming  Marine Biology  Stellar Cartography  Math  History  \\\n",
       "0    Yael           50              56                   70    60       87   \n",
       "1   Nadav           61              77                   75    75       63   \n",
       "..    ...          ...             ...                  ...   ...      ...   \n",
       "11    Tom           98              76                   98   100       98   \n",
       "12    Adi           76              87                   34    90       88   \n",
       "\n",
       "    Planet Survival  Art  Surfing  Average  \n",
       "0                65   91       60   67.375  \n",
       "1                52   88       65   69.500  \n",
       "..              ...  ...      ...      ...  \n",
       "11               92   80       52   86.750  \n",
       "12               84   70       70   74.875  \n",
       "\n",
       "[13 rows x 10 columns]"
      ]
     },
     "metadata": {},
     "output_type": "display_data"
    }
   ],
   "source": [
    "```{admonition} **שימו לב**\n",
    ":class: warning\n",
    "\n",
    "במקרה זה אין צורך לפרט `ignore_index=True` מכיוון שאנו מוסיפים עמודה, ואנו מניחים שאין עמודה בעלת שם זהה בטבלה.\n",
    "\n",
    "```"
   ]
  },
  {
   "cell_type": "markdown",
   "id": "910e2111-2755-49cd-be3c-c2db129d746a",
   "metadata": {},
   "source": [
    "הפעולות להלן יודגמו טבלת הציונים `\"files/StudentsGrades.csv\"`:"
   ]
  },
  {
   "cell_type": "code",
   "execution_count": 128,
   "id": "c2153c84-9aaf-41f1-b499-0d8e3807880e",
   "metadata": {},
   "outputs": [
    {
     "data": {
      "text/html": [
       "<div>\n",
       "<style scoped>\n",
       "    .dataframe tbody tr th:only-of-type {\n",
       "        vertical-align: middle;\n",
       "    }\n",
       "\n",
       "    .dataframe tbody tr th {\n",
       "        vertical-align: top;\n",
       "    }\n",
       "\n",
       "    .dataframe thead th {\n",
       "        text-align: right;\n",
       "    }\n",
       "</style>\n",
       "<table border=\"1\" class=\"dataframe\">\n",
       "  <thead>\n",
       "    <tr style=\"text-align: right;\">\n",
       "      <th></th>\n",
       "      <th>Name</th>\n",
       "      <th>Programming</th>\n",
       "      <th>Marine Biology</th>\n",
       "      <th>Stellar Cartography</th>\n",
       "      <th>Math</th>\n",
       "      <th>History</th>\n",
       "      <th>Planet Survival</th>\n",
       "      <th>Art</th>\n",
       "    </tr>\n",
       "  </thead>\n",
       "  <tbody>\n",
       "    <tr>\n",
       "      <th>0</th>\n",
       "      <td>Yael</td>\n",
       "      <td>50</td>\n",
       "      <td>56</td>\n",
       "      <td>70</td>\n",
       "      <td>60</td>\n",
       "      <td>87</td>\n",
       "      <td>65</td>\n",
       "      <td>91</td>\n",
       "    </tr>\n",
       "    <tr>\n",
       "      <th>1</th>\n",
       "      <td>Nadav</td>\n",
       "      <td>61</td>\n",
       "      <td>77</td>\n",
       "      <td>75</td>\n",
       "      <td>75</td>\n",
       "      <td>63</td>\n",
       "      <td>52</td>\n",
       "      <td>88</td>\n",
       "    </tr>\n",
       "    <tr>\n",
       "      <th>...</th>\n",
       "      <td>...</td>\n",
       "      <td>...</td>\n",
       "      <td>...</td>\n",
       "      <td>...</td>\n",
       "      <td>...</td>\n",
       "      <td>...</td>\n",
       "      <td>...</td>\n",
       "      <td>...</td>\n",
       "    </tr>\n",
       "    <tr>\n",
       "      <th>11</th>\n",
       "      <td>Tom</td>\n",
       "      <td>98</td>\n",
       "      <td>76</td>\n",
       "      <td>98</td>\n",
       "      <td>100</td>\n",
       "      <td>98</td>\n",
       "      <td>92</td>\n",
       "      <td>80</td>\n",
       "    </tr>\n",
       "    <tr>\n",
       "      <th>12</th>\n",
       "      <td>Adi</td>\n",
       "      <td>76</td>\n",
       "      <td>87</td>\n",
       "      <td>34</td>\n",
       "      <td>90</td>\n",
       "      <td>88</td>\n",
       "      <td>84</td>\n",
       "      <td>70</td>\n",
       "    </tr>\n",
       "  </tbody>\n",
       "</table>\n",
       "<p>13 rows × 8 columns</p>\n",
       "</div>"
      ],
      "text/plain": [
       "     Name  Programming  Marine Biology  Stellar Cartography  Math  History  \\\n",
       "0    Yael           50              56                   70    60       87   \n",
       "1   Nadav           61              77                   75    75       63   \n",
       "..    ...          ...             ...                  ...   ...      ...   \n",
       "11    Tom           98              76                   98   100       98   \n",
       "12    Adi           76              87                   34    90       88   \n",
       "\n",
       "    Planet Survival  Art  \n",
       "0                65   91  \n",
       "1                52   88  \n",
       "..              ...  ...  \n",
       "11               92   80  \n",
       "12               84   70  \n",
       "\n",
       "[13 rows x 8 columns]"
      ]
     },
     "metadata": {},
     "output_type": "display_data"
    }
   ],
   "source": [
    "inputFileName = \"files/StudentsGrades.csv\"\n",
    "df = pd.read_csv(inputFileName)\n",
    "display(df)"
   ]
  },
  {
   "cell_type": "markdown",
   "id": "da34b025-bacb-48e4-ae65-6a39dc66aac7",
   "metadata": {},
   "source": [
    "Mask (מסכה) היא **טבלה או סדרה בוליאנית** המסמנת אילו **תאים** ב**טבלה (או סדרה) אחרת** רלוונטיים לשימוש ואילו תאים צריכים להישאר מוסתרים או מחוץ לחישוב. אפשר לדמיין מערך זה כמו מסננת או שכבה אטומה עם חורים : החורים חושפים חלק מהמידע, בעוד שאר האזורים מכוסים. לדוגמא, עבור הטבלה שלנו `df` ניתן לייצר מסיכה מאחת העמודות  (לדוגמא, `m=df[\"Art\"]>90`)' ולבצע מיסוך `df[m]` או `df.loc[m]`. משמעות מיסוך זה הוא ששורות בהם קיים הערך `True` להכלל בחישוב וערכי `False` תואמים לשורות שיש להתעלם מהם.\n",
    "\n",
    "ביצוע הMasking יכול לשמש אותנו כדי להחזיר תת-טבלה , או כדי לבצע פעולה על תת-טבלה.\n",
    "\n",
    "נבחן למטה כמה דוגמאות:"
   ]
  },
  {
   "cell_type": "markdown",
   "id": "e0d8ef3f",
   "metadata": {
    "execution": {
     "iopub.execute_input": "2024-02-20T15:56:04.746799Z",
     "iopub.status.busy": "2024-02-20T15:56:04.746257Z",
     "iopub.status.idle": "2024-02-20T15:56:04.751797Z",
     "shell.execute_reply": "2024-02-20T15:56:04.750681Z"
    },
    "id": "e0d8ef3f",
    "slideshow": {
     "slide_type": "fragment"
    }
   },
   "source": [
    "נניח כי נרצה להסיר את כל הסטודנטיות ששמן יעל.\n",
    "\n",
    "תחילה ניצור מסיכה:"
   ]
  },
  {
   "cell_type": "code",
   "execution_count": 134,
   "id": "38d18c7e",
   "metadata": {
    "id": "38d18c7e",
    "slideshow": {
     "slide_type": "fragment"
    }
   },
   "outputs": [
    {
     "data": {
      "text/plain": [
       "0     False\n",
       "1      True\n",
       "      ...  \n",
       "11     True\n",
       "12     True\n",
       "Name: Name, Length: 13, dtype: bool"
      ]
     },
     "metadata": {},
     "output_type": "display_data"
    }
   ],
   "source": [
    "msk=df['Name'] != 'Yael'\n",
    "display(msk)"
   ]
  },
  {
   "cell_type": "markdown",
   "id": "94b701c6-c770-4415-9d20-b86e34fa8fee",
   "metadata": {},
   "source": [
    "ולאחר מכן נסנן את הטבלה:"
   ]
  },
  {
   "cell_type": "code",
   "execution_count": 133,
   "id": "eb03a631-1eea-4da4-be04-ad4463cfe896",
   "metadata": {},
   "outputs": [
    {
     "data": {
      "text/html": [
       "<div>\n",
       "<style scoped>\n",
       "    .dataframe tbody tr th:only-of-type {\n",
       "        vertical-align: middle;\n",
       "    }\n",
       "\n",
       "    .dataframe tbody tr th {\n",
       "        vertical-align: top;\n",
       "    }\n",
       "\n",
       "    .dataframe thead th {\n",
       "        text-align: right;\n",
       "    }\n",
       "</style>\n",
       "<table border=\"1\" class=\"dataframe\">\n",
       "  <thead>\n",
       "    <tr style=\"text-align: right;\">\n",
       "      <th></th>\n",
       "      <th>Name</th>\n",
       "      <th>Programming</th>\n",
       "      <th>Marine Biology</th>\n",
       "      <th>Stellar Cartography</th>\n",
       "      <th>Math</th>\n",
       "      <th>History</th>\n",
       "      <th>Planet Survival</th>\n",
       "      <th>Art</th>\n",
       "    </tr>\n",
       "  </thead>\n",
       "  <tbody>\n",
       "    <tr>\n",
       "      <th>0</th>\n",
       "      <td>Yael</td>\n",
       "      <td>50</td>\n",
       "      <td>56</td>\n",
       "      <td>70</td>\n",
       "      <td>60</td>\n",
       "      <td>87</td>\n",
       "      <td>65</td>\n",
       "      <td>91</td>\n",
       "    </tr>\n",
       "    <tr>\n",
       "      <th>2</th>\n",
       "      <td>Michal</td>\n",
       "      <td>81</td>\n",
       "      <td>72</td>\n",
       "      <td>76</td>\n",
       "      <td>94</td>\n",
       "      <td>67</td>\n",
       "      <td>81</td>\n",
       "      <td>78</td>\n",
       "    </tr>\n",
       "    <tr>\n",
       "      <th>...</th>\n",
       "      <td>...</td>\n",
       "      <td>...</td>\n",
       "      <td>...</td>\n",
       "      <td>...</td>\n",
       "      <td>...</td>\n",
       "      <td>...</td>\n",
       "      <td>...</td>\n",
       "      <td>...</td>\n",
       "    </tr>\n",
       "    <tr>\n",
       "      <th>11</th>\n",
       "      <td>Tom</td>\n",
       "      <td>98</td>\n",
       "      <td>76</td>\n",
       "      <td>98</td>\n",
       "      <td>100</td>\n",
       "      <td>98</td>\n",
       "      <td>92</td>\n",
       "      <td>80</td>\n",
       "    </tr>\n",
       "    <tr>\n",
       "      <th>12</th>\n",
       "      <td>Adi</td>\n",
       "      <td>76</td>\n",
       "      <td>87</td>\n",
       "      <td>34</td>\n",
       "      <td>90</td>\n",
       "      <td>88</td>\n",
       "      <td>84</td>\n",
       "      <td>70</td>\n",
       "    </tr>\n",
       "  </tbody>\n",
       "</table>\n",
       "<p>12 rows × 8 columns</p>\n",
       "</div>"
      ],
      "text/plain": [
       "      Name  Programming  Marine Biology  Stellar Cartography  Math  History  \\\n",
       "0     Yael           50              56                   70    60       87   \n",
       "2   Michal           81              72                   76    94       67   \n",
       "..     ...          ...             ...                  ...   ...      ...   \n",
       "11     Tom           98              76                   98   100       98   \n",
       "12     Adi           76              87                   34    90       88   \n",
       "\n",
       "    Planet Survival  Art  \n",
       "0                65   91  \n",
       "2                81   78  \n",
       "..              ...  ...  \n",
       "11               92   80  \n",
       "12               84   70  \n",
       "\n",
       "[12 rows x 8 columns]"
      ]
     },
     "metadata": {},
     "output_type": "display_data"
    }
   ],
   "source": [
    "display(df[msk])"
   ]
  },
  {
   "cell_type": "markdown",
   "id": "be121e44-22e6-4c34-a3a3-e5cceca5838a",
   "metadata": {},
   "source": [
    "ניתן גם **להשאיר** רק סטודנטיות ששמן יעל באמצעות יצירת מסיכה של התנאי ההפוך. \n",
    "\n",
    "נראה כיצד לעשות זאת בשורה אחת בלבד:"
   ]
  },
  {
   "cell_type": "code",
   "execution_count": 136,
   "id": "330f497b-cddb-4395-91d9-e3273532b627",
   "metadata": {},
   "outputs": [
    {
     "data": {
      "text/html": [
       "<div>\n",
       "<style scoped>\n",
       "    .dataframe tbody tr th:only-of-type {\n",
       "        vertical-align: middle;\n",
       "    }\n",
       "\n",
       "    .dataframe tbody tr th {\n",
       "        vertical-align: top;\n",
       "    }\n",
       "\n",
       "    .dataframe thead th {\n",
       "        text-align: right;\n",
       "    }\n",
       "</style>\n",
       "<table border=\"1\" class=\"dataframe\">\n",
       "  <thead>\n",
       "    <tr style=\"text-align: right;\">\n",
       "      <th></th>\n",
       "      <th>Name</th>\n",
       "      <th>Programming</th>\n",
       "      <th>Marine Biology</th>\n",
       "      <th>Stellar Cartography</th>\n",
       "      <th>Math</th>\n",
       "      <th>History</th>\n",
       "      <th>Planet Survival</th>\n",
       "      <th>Art</th>\n",
       "    </tr>\n",
       "  </thead>\n",
       "  <tbody>\n",
       "    <tr>\n",
       "      <th>0</th>\n",
       "      <td>Yael</td>\n",
       "      <td>50</td>\n",
       "      <td>56</td>\n",
       "      <td>70</td>\n",
       "      <td>60</td>\n",
       "      <td>87</td>\n",
       "      <td>65</td>\n",
       "      <td>91</td>\n",
       "    </tr>\n",
       "  </tbody>\n",
       "</table>\n",
       "</div>"
      ],
      "text/plain": [
       "   Name  Programming  Marine Biology  Stellar Cartography  Math  History  \\\n",
       "0  Yael           50              56                   70    60       87   \n",
       "\n",
       "   Planet Survival  Art  \n",
       "0               65   91  "
      ]
     },
     "execution_count": 136,
     "metadata": {},
     "output_type": "execute_result"
    }
   ],
   "source": [
    "df[df['Name'] == 'Yael']"
   ]
  },
  {
   "cell_type": "markdown",
   "id": "6ab308ba",
   "metadata": {
    "slideshow": {
     "slide_type": "subslide"
    }
   },
   "source": [
    "בדומה לאופרטורים אריתמטיים, ניתן להפעיל פעולות `and`, `or` ו-`not` עבור סדרות וטבלאות בוליאניות (או במילים אחרות, עבור מסיכות).  \n",
    "אך בשונה מערכים בוליאניים רגילים, כאן לאופרטורים אלו יש סימון אחר:\n",
    "- `and` --> `&`\n",
    "- `or` --> `|`\n",
    "- `not` --> `~`\n",
    "\n",
    "נדגים זאת באמצעות החזרת כל הסטודנטים שקיבלו מעל 70 מתמטיקה ומעל 90 באומנות:"
   ]
  },
  {
   "cell_type": "code",
   "execution_count": 148,
   "id": "460daa72",
   "metadata": {
    "id": "460daa72",
    "slideshow": {
     "slide_type": "fragment"
    }
   },
   "outputs": [
    {
     "data": {
      "text/html": [
       "<div>\n",
       "<style scoped>\n",
       "    .dataframe tbody tr th:only-of-type {\n",
       "        vertical-align: middle;\n",
       "    }\n",
       "\n",
       "    .dataframe tbody tr th {\n",
       "        vertical-align: top;\n",
       "    }\n",
       "\n",
       "    .dataframe thead th {\n",
       "        text-align: right;\n",
       "    }\n",
       "</style>\n",
       "<table border=\"1\" class=\"dataframe\">\n",
       "  <thead>\n",
       "    <tr style=\"text-align: right;\">\n",
       "      <th></th>\n",
       "      <th>Name</th>\n",
       "      <th>Programming</th>\n",
       "      <th>Marine Biology</th>\n",
       "      <th>Stellar Cartography</th>\n",
       "      <th>Math</th>\n",
       "      <th>History</th>\n",
       "      <th>Planet Survival</th>\n",
       "      <th>Art</th>\n",
       "    </tr>\n",
       "  </thead>\n",
       "  <tbody>\n",
       "    <tr>\n",
       "      <th>6</th>\n",
       "      <td>Yarden</td>\n",
       "      <td>63</td>\n",
       "      <td>62</td>\n",
       "      <td>70</td>\n",
       "      <td>74</td>\n",
       "      <td>92</td>\n",
       "      <td>98</td>\n",
       "      <td>94</td>\n",
       "    </tr>\n",
       "    <tr>\n",
       "      <th>7</th>\n",
       "      <td>Avi</td>\n",
       "      <td>78</td>\n",
       "      <td>64</td>\n",
       "      <td>54</td>\n",
       "      <td>88</td>\n",
       "      <td>97</td>\n",
       "      <td>76</td>\n",
       "      <td>100</td>\n",
       "    </tr>\n",
       "  </tbody>\n",
       "</table>\n",
       "</div>"
      ],
      "text/plain": [
       "     Name  Programming  Marine Biology  Stellar Cartography  Math  History  \\\n",
       "6  Yarden           63              62                   70    74       92   \n",
       "7     Avi           78              64                   54    88       97   \n",
       "\n",
       "   Planet Survival  Art  \n",
       "6               98   94  \n",
       "7               76  100  "
      ]
     },
     "metadata": {},
     "output_type": "display_data"
    }
   ],
   "source": [
    "display(df[(df['Math'] > 70) & (df['Art'] > 90)])"
   ]
  },
  {
   "cell_type": "markdown",
   "id": "75e39395-4465-4ed2-8828-56c2c558fc53",
   "metadata": {},
   "source": [
    "```{admonition} **שימו לב**\n",
    ":class: warning\n",
    "בPandas האופרטורים הלוגיים `&` `|` `~` קודמים להשוואתיים (כמו `<` `>` `==`). לכן חשוב לעטוף כל מסיכה בסוגריים על מנת למנוע מהאופרטור הלוגי לפעול לפני האופרטור ההשוואתי.\n",
    "```"
   ]
  },
  {
   "cell_type": "markdown",
   "id": "3f00e996",
   "metadata": {
    "execution": {
     "iopub.execute_input": "2024-02-20T15:56:04.774655Z",
     "iopub.status.busy": "2024-02-20T15:56:04.774138Z",
     "iopub.status.idle": "2024-02-20T15:56:04.780914Z",
     "shell.execute_reply": "2024-02-20T15:56:04.779677Z"
    },
    "id": "3f00e996",
    "slideshow": {
     "slide_type": "subslide"
    }
   },
   "source": [
    "באמצעות Masking ניתן גם לבצע השמה מותנית, כלומר, לבצע השמה רק במקומות בהם יש במסיכה `True`"
   ]
  },
  {
   "cell_type": "markdown",
   "id": "ac2002c2-1398-479c-b45f-c74af5b298ad",
   "metadata": {},
   "source": [
    "לדוגמא, בשורה הבאה \"נעביר\" את כל הסטודנטים שנכשלו בתכנות, וניתן להם את הציון 60 (אתם יכולים לראות שהציון של יעל התחלף מ50 ל60)."
   ]
  },
  {
   "cell_type": "code",
   "execution_count": 149,
   "id": "457642fa",
   "metadata": {
    "id": "457642fa",
    "slideshow": {
     "slide_type": "fragment"
    }
   },
   "outputs": [
    {
     "data": {
      "text/html": [
       "<div>\n",
       "<style scoped>\n",
       "    .dataframe tbody tr th:only-of-type {\n",
       "        vertical-align: middle;\n",
       "    }\n",
       "\n",
       "    .dataframe tbody tr th {\n",
       "        vertical-align: top;\n",
       "    }\n",
       "\n",
       "    .dataframe thead th {\n",
       "        text-align: right;\n",
       "    }\n",
       "</style>\n",
       "<table border=\"1\" class=\"dataframe\">\n",
       "  <thead>\n",
       "    <tr style=\"text-align: right;\">\n",
       "      <th></th>\n",
       "      <th>Name</th>\n",
       "      <th>Programming</th>\n",
       "      <th>Marine Biology</th>\n",
       "      <th>Stellar Cartography</th>\n",
       "      <th>Math</th>\n",
       "      <th>History</th>\n",
       "      <th>Planet Survival</th>\n",
       "      <th>Art</th>\n",
       "    </tr>\n",
       "  </thead>\n",
       "  <tbody>\n",
       "    <tr>\n",
       "      <th>0</th>\n",
       "      <td>Yael</td>\n",
       "      <td>60</td>\n",
       "      <td>56</td>\n",
       "      <td>70</td>\n",
       "      <td>60</td>\n",
       "      <td>87</td>\n",
       "      <td>65</td>\n",
       "      <td>91</td>\n",
       "    </tr>\n",
       "    <tr>\n",
       "      <th>1</th>\n",
       "      <td>Nadav</td>\n",
       "      <td>61</td>\n",
       "      <td>77</td>\n",
       "      <td>75</td>\n",
       "      <td>75</td>\n",
       "      <td>63</td>\n",
       "      <td>52</td>\n",
       "      <td>88</td>\n",
       "    </tr>\n",
       "    <tr>\n",
       "      <th>...</th>\n",
       "      <td>...</td>\n",
       "      <td>...</td>\n",
       "      <td>...</td>\n",
       "      <td>...</td>\n",
       "      <td>...</td>\n",
       "      <td>...</td>\n",
       "      <td>...</td>\n",
       "      <td>...</td>\n",
       "    </tr>\n",
       "    <tr>\n",
       "      <th>11</th>\n",
       "      <td>Tom</td>\n",
       "      <td>98</td>\n",
       "      <td>76</td>\n",
       "      <td>98</td>\n",
       "      <td>100</td>\n",
       "      <td>98</td>\n",
       "      <td>92</td>\n",
       "      <td>80</td>\n",
       "    </tr>\n",
       "    <tr>\n",
       "      <th>12</th>\n",
       "      <td>Adi</td>\n",
       "      <td>76</td>\n",
       "      <td>87</td>\n",
       "      <td>34</td>\n",
       "      <td>90</td>\n",
       "      <td>88</td>\n",
       "      <td>84</td>\n",
       "      <td>70</td>\n",
       "    </tr>\n",
       "  </tbody>\n",
       "</table>\n",
       "<p>13 rows × 8 columns</p>\n",
       "</div>"
      ],
      "text/plain": [
       "     Name  Programming  Marine Biology  Stellar Cartography  Math  History  \\\n",
       "0    Yael           60              56                   70    60       87   \n",
       "1   Nadav           61              77                   75    75       63   \n",
       "..    ...          ...             ...                  ...   ...      ...   \n",
       "11    Tom           98              76                   98   100       98   \n",
       "12    Adi           76              87                   34    90       88   \n",
       "\n",
       "    Planet Survival  Art  \n",
       "0                65   91  \n",
       "1                52   88  \n",
       "..              ...  ...  \n",
       "11               92   80  \n",
       "12               84   70  \n",
       "\n",
       "[13 rows x 8 columns]"
      ]
     },
     "metadata": {},
     "output_type": "display_data"
    }
   ],
   "source": [
    "df.loc[df[\"Programming\"] < 60, \"Programming\"] = 60\n",
    "display(df)"
   ]
  },
  {
   "cell_type": "markdown",
   "id": "70175061-05e6-4e25-a2da-afea05920ca2",
   "metadata": {},
   "source": [
    "### מתודת `apply`"
   ]
  },
  {
   "cell_type": "markdown",
   "id": "f35bc9ea-52a7-4968-8389-1f764e24a40d",
   "metadata": {},
   "source": [
    "המתודה `apply` מאפשרת להפעיל פונקציה על עמודה או על כל שורה ב-DataFrame. במקום להשתמש בלולאות, `apply` מאפשרת לנו לבצע חישוב או שינוי על כל השורות או העמודות של הטבלה בבת אחת.    \n",
    "עבור סדרה, `apply` תבצע את הפעולה על כל ערכים בסדרה בבת אחת.   \n",
    "\n",
    "לדוגמא, אם נרצה להעלות את כל הציונים בעמודה `Art` ב10, אבל לוודא שלא יהיו ציונים גבוהים מ10, נוכל לעשות זאת באופן הבא:\n",
    "\n",
    "`df[\"Art\"]=df[\"Art\"].apply(lambda a: min(100, a+10)`\n"
   ]
  },
  {
   "cell_type": "code",
   "execution_count": 153,
   "id": "ff00550b-3ab7-4eec-9df9-b6e6cca0e23a",
   "metadata": {},
   "outputs": [
    {
     "data": {
      "text/plain": [
       "0      70\n",
       "1      71\n",
       "     ... \n",
       "11    100\n",
       "12     86\n",
       "Name: Programming, Length: 13, dtype: int64"
      ]
     },
     "execution_count": 153,
     "metadata": {},
     "output_type": "execute_result"
    }
   ],
   "source": [
    "df.iloc[:,1:].apply(lambda a: min(100, a+10))"
   ]
  },
  {
   "cell_type": "markdown",
   "id": "fbf497b7-a5ae-460f-8454-4e71ef63ec1b",
   "metadata": {},
   "source": [
    "בדומה לחישוב ממוצע המקצועות שראינו קודם, גם ל`apply`, יש פרמטר בשם `axis`:\n",
    "בברירת מחדל, `apply` מופעל עם הקלט `axis=0`. כלומר, מתבצעת פעולה **בין השורות השונות**, או במילים אחרות - **על כל עמודה בנפרד**.\n",
    "ולהיפך, הפעלת `apply` עם `axis=1`. יבצע פעולה **בין העמודות השונות**, או במילים אחרות - **על כל שורה בנפרד**.\n",
    "\n",
    "\n",
    "\n",
    "נדגים זאת באמצעות ממוצע באמצעות `apply`: \n",
    "`df.iloc[:,1:].apply(lambda a: a.mean(), axis=1)\n",
    "\n",
    "שימו לב ש`apply` מחלץ ממוצע עבור כל סטודנט בנפרד (כלומר, עבור כל שורה), והתוצאה היא **סדרה במבנה על עמודה בטבלה**, בה קיים ממוצע כל סטודנט.\n",
    "\n",
    "מה היה קורה אם היינו מפעילים את אותה השורה עם `axis=0`?\n",
    "\n",
    "היינו מחלצים ממוצע עבור כל **מקצוע** בנפרד (כלומר, עבור כל טור) מה שהיה מסתכם לכדי שורה חדשה (ללא עמודת שם הסטודנט, אותה חתכנו באמצעות `iloc`) \n",
    "\n",
    "נחזור למשימת הוספת פקטור של 10 נקודות. מה אם במקום להוסיף זאת רק עבוא אומנות, היינו מוסיפים זאת **לכלל המקצועות**?   \n",
    "היינו חושבים אולי לבצע משהו כזה:\n",
    "\n",
    "`(df.iloc[:,1:]=df.iloc[:,1:].apply(lambda a: min(100, a+10)`\n",
    "\n",
    "אבל מכיוון שאנו פועלים כעת על טבלה (ולא על סדרה כמו בדוגמא הראשונה), איננו יכולים להפעיל כך את `min`.\n",
    "\n",
    "לכן, נשנה את המימוש באופן הבא:\n",
    "\n",
    "`(df.iloc[:,1:]=df.iloc[:,1:].apply(lambda a: (a+10).clip(upper=100)`\n",
    "\n",
    "המתודה `clip` של Pandas משתמש כדי לקטום את הערכים שלנו. במקרה שלנו, היינו צריכים רק להגביל את הערכים למעלה, ולכן השתמש רק בפרמטר `upper=100`."
   ]
  },
  {
   "cell_type": "code",
   "execution_count": 160,
   "id": "1d18f409-7362-4b33-9e9a-37e95974d1c8",
   "metadata": {},
   "outputs": [
    {
     "data": {
      "text/html": [
       "<div>\n",
       "<style scoped>\n",
       "    .dataframe tbody tr th:only-of-type {\n",
       "        vertical-align: middle;\n",
       "    }\n",
       "\n",
       "    .dataframe tbody tr th {\n",
       "        vertical-align: top;\n",
       "    }\n",
       "\n",
       "    .dataframe thead th {\n",
       "        text-align: right;\n",
       "    }\n",
       "</style>\n",
       "<table border=\"1\" class=\"dataframe\">\n",
       "  <thead>\n",
       "    <tr style=\"text-align: right;\">\n",
       "      <th></th>\n",
       "      <th>Programming</th>\n",
       "      <th>Marine Biology</th>\n",
       "      <th>Stellar Cartography</th>\n",
       "      <th>Math</th>\n",
       "      <th>History</th>\n",
       "      <th>Planet Survival</th>\n",
       "      <th>Art</th>\n",
       "    </tr>\n",
       "  </thead>\n",
       "  <tbody>\n",
       "    <tr>\n",
       "      <th>0</th>\n",
       "      <td>70</td>\n",
       "      <td>66</td>\n",
       "      <td>80</td>\n",
       "      <td>70</td>\n",
       "      <td>97</td>\n",
       "      <td>75</td>\n",
       "      <td>100</td>\n",
       "    </tr>\n",
       "    <tr>\n",
       "      <th>1</th>\n",
       "      <td>71</td>\n",
       "      <td>87</td>\n",
       "      <td>85</td>\n",
       "      <td>85</td>\n",
       "      <td>73</td>\n",
       "      <td>62</td>\n",
       "      <td>98</td>\n",
       "    </tr>\n",
       "    <tr>\n",
       "      <th>...</th>\n",
       "      <td>...</td>\n",
       "      <td>...</td>\n",
       "      <td>...</td>\n",
       "      <td>...</td>\n",
       "      <td>...</td>\n",
       "      <td>...</td>\n",
       "      <td>...</td>\n",
       "    </tr>\n",
       "    <tr>\n",
       "      <th>11</th>\n",
       "      <td>100</td>\n",
       "      <td>86</td>\n",
       "      <td>100</td>\n",
       "      <td>100</td>\n",
       "      <td>100</td>\n",
       "      <td>100</td>\n",
       "      <td>90</td>\n",
       "    </tr>\n",
       "    <tr>\n",
       "      <th>12</th>\n",
       "      <td>86</td>\n",
       "      <td>97</td>\n",
       "      <td>44</td>\n",
       "      <td>100</td>\n",
       "      <td>98</td>\n",
       "      <td>94</td>\n",
       "      <td>80</td>\n",
       "    </tr>\n",
       "  </tbody>\n",
       "</table>\n",
       "<p>13 rows × 7 columns</p>\n",
       "</div>"
      ],
      "text/plain": [
       "    Programming  Marine Biology  Stellar Cartography  Math  History  \\\n",
       "0            70              66                   80    70       97   \n",
       "1            71              87                   85    85       73   \n",
       "..          ...             ...                  ...   ...      ...   \n",
       "11          100              86                  100   100      100   \n",
       "12           86              97                   44   100       98   \n",
       "\n",
       "    Planet Survival  Art  \n",
       "0                75  100  \n",
       "1                62   98  \n",
       "..              ...  ...  \n",
       "11              100   90  \n",
       "12               94   80  \n",
       "\n",
       "[13 rows x 7 columns]"
      ]
     },
     "execution_count": 160,
     "metadata": {},
     "output_type": "execute_result"
    }
   ],
   "source": [
    "df.iloc[:,1:].apply(lambda a: a+10).clip(upper=100)"
   ]
  },
  {
   "cell_type": "markdown",
   "id": "6cff0dfa-b31d-411d-b02a-6ba7fd89d9ef",
   "metadata": {},
   "source": [
    "\n",
    "```{admonition} **שימו לב**\n",
    ":class: warning\n",
    "\n",
    "\n",
    "במקרה הזה, אין חשיבות לפרמטר `axis` ב`apply` מכיוון שהפעולה נעשית בסופו של דבר על כל ערך בנפרד, והם אינם \"נסכמים\" ביחד.\n",
    "\n",
    "```\n"
   ]
  },
  {
   "cell_type": "markdown",
   "id": "b48a53ca",
   "metadata": {
    "id": "b48a53ca",
    "slideshow": {
     "slide_type": "subslide"
    }
   },
   "source": [
    "#### תרגיל\n",
    "\n",
    "בשורה אחת בלבד, שנו אמצעות המתודה apply את שמות הסטודנטים כך שכולם יהיו באותיות גדולות "
   ]
  },
  {
   "cell_type": "code",
   "execution_count": null,
   "id": "b61971fb",
   "metadata": {
    "execution": {
     "iopub.execute_input": "2025-03-10T07:51:30.295338Z",
     "iopub.status.busy": "2025-03-10T07:51:30.294986Z",
     "iopub.status.idle": "2025-03-10T07:51:30.316824Z",
     "shell.execute_reply": "2025-03-10T07:51:30.315844Z"
    },
    "id": "b61971fb",
    "slideshow": {
     "slide_type": "fragment"
    },
    "tags": [
     "remove-output"
    ]
   },
   "outputs": [],
   "source": [
    "# Write your code here\n",
    "display(df)"
   ]
  }
 ],
 "metadata": {
  "celltoolbar": "Slideshow",
  "colab": {
   "provenance": []
  },
  "kernelspec": {
   "display_name": "Python 3 (ipykernel)",
   "language": "python",
   "name": "python3"
  },
  "language_info": {
   "codemirror_mode": {
    "name": "ipython",
    "version": 3
   },
   "file_extension": ".py",
   "mimetype": "text/x-python",
   "name": "python",
   "nbconvert_exporter": "python",
   "pygments_lexer": "ipython3",
   "version": "3.11.12"
  }
 },
 "nbformat": 4,
 "nbformat_minor": 5
}
