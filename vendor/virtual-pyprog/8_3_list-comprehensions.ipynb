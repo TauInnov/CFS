{
 "cells": [
  {
   "cell_type": "code",
   "execution_count": 8,
   "id": "7e548e8d-cb63-4291-855a-e784ac8f74c5",
   "metadata": {
    "slideshow": {
     "slide_type": "skip"
    },
    "tags": [
     "remove-cell"
    ]
   },
   "outputs": [
    {
     "data": {
      "text/html": [
       "<!-- RTL Fix the jupyter notebook 7  -->\n",
       "<style>\n",
       "    .jp-RenderedHTMLCommon {\n",
       "        padding-top: 2em !important;\n",
       "  }   \n",
       "    .jp-RenderedHTMLCommon, .jp-RenderedHTMLCommon * {\n",
       "        direction: rtl !important;\n",
       "        text-align:right !important;\n",
       "  }\n",
       "    .jp-MarkdownCell .jp-InputArea-editor {\n",
       "        direction: rtl !important; \n",
       "        text-align:right !important;\n",
       "        padding-top: 2em !important;\n",
       "  } \n",
       "\n",
       " .jp-RenderedHTMLCommon code, .jp-RenderedHTMLCommon code span {\n",
       "        text-align:left !important;\n",
       "        direction: ltr !important;\n",
       "        unicode-bidi: embed !important;\n",
       "\n",
       "    }\n",
       "    .jp-RenderedHTMLCommon pre:has(code) {\n",
       "      direction: ltr !important;\n",
       "      text-align: left!important;\n",
       "    }\n",
       "\n",
       "</style> \n"
      ],
      "text/plain": [
       "<IPython.core.display.HTML object>"
      ]
     },
     "metadata": {},
     "output_type": "display_data"
    }
   ],
   "source": [
    "%%html\n",
    "<!-- RTL Fix the jupyter notebook 7  -->\n",
    "<style>\n",
    "    .jp-RenderedHTMLCommon {\n",
    "        padding-top: 2em !important;\n",
    "  }   \n",
    "    .jp-RenderedHTMLCommon, .jp-RenderedHTMLCommon * {\n",
    "        direction: rtl !important;\n",
    "        text-align:right !important;\n",
    "  }\n",
    "    .jp-MarkdownCell .jp-InputArea-editor {\n",
    "        direction: rtl !important; \n",
    "        text-align:right !important;\n",
    "        padding-top: 2em !important;\n",
    "  } \n",
    "\n",
    " .jp-RenderedHTMLCommon code, .jp-RenderedHTMLCommon code span {\n",
    "        text-align:left !important;\n",
    "        direction: ltr !important;\n",
    "        unicode-bidi: embed !important;\n",
    "\n",
    "    }\n",
    "    .jp-RenderedHTMLCommon pre:has(code) {\n",
    "      direction: ltr !important;\n",
    "      text-align: left!important;\n",
    "    }\n",
    "\n",
    "</style> "
   ]
  },
  {
   "cell_type": "code",
   "execution_count": 12,
   "id": "2f2d03fd-729e-439a-9ab0-de58c598e9ca",
   "metadata": {
    "tags": [
     "remove-cell"
    ]
   },
   "outputs": [
    {
     "data": {
      "text/html": [
       "<script>\n",
       "(function() {\n",
       "  // Create the toggle button\n",
       "  const rtlButton = document.createElement(\"button\");\n",
       "  rtlButton.textContent = \"Toggle LTR\";\n",
       "  rtlButton.id = \"top-rtl-toggle\";\n",
       "  rtlButton.style.marginLeft = \"8px\";\n",
       "  rtlButton.style.padding = \"4px 10px\";\n",
       "  rtlButton.style.fontSize = \"14px\";\n",
       "  rtlButton.style.cursor = \"pointer\";\n",
       "\n",
       "  // State\n",
       "  var rtlActive = false;\n",
       "\n",
       "  // Styling function\n",
       "  var applyStyleToEditor = (editor) => {\n",
       "    if (!editor) return;\n",
       "    var direction = getComputedStyle(editor).getPropertyValue('direction')=='rtl' ? 'ltr' : 'rtl';\n",
       "    var text_align = getComputedStyle(editor).getPropertyValue('text-align')=='right' ? 'left' : 'right';\n",
       "    editor.style.setProperty('direction', direction, 'important');\n",
       "    editor.style.setProperty('text-align', text_align, 'important');\n",
       "  };\n",
       "\n",
       "  // Toggle logic\n",
       "  rtlButton.onclick = () => {\n",
       "    rtlActive = !rtlActive;\n",
       "    rtlButton.textContent = rtlActive ? \"Toggle LTR\" : \"Toggle RTL\";\n",
       "    document.querySelectorAll('.jp-MarkdownCell .jp-InputArea-editor').forEach(applyStyleToEditor);\n",
       "    document.querySelectorAll('.jp-RenderedHTMLCommon code, .jp-RenderedHTMLCommon code span').forEach(applyStyleToEditor);\n",
       "    document.querySelectorAll('jp-RenderedHTMLCommon, .jp-RenderedHTMLCommon *').forEach(applyStyleToEditor);\n",
       "  };\n",
       "\n",
       "  // Watch for focus into editing Markdown cells\n",
       "  // document.addEventListener('focusin', (event) => {\n",
       "  //   const editor = event.target.closest('.jp-MarkdownCell .jp-InputArea-editor');\n",
       "  //    if (editor) applyStyleToEditor(editor);\n",
       "  // });\n",
       "\n",
       "  // Insert into top toolbar if not already present\n",
       "  var insertIntoToolbar = () => {\n",
       "    const toolbar = document.querySelector('.jp-NotebookPanel-toolbar');\n",
       "    if (toolbar && !document.getElementById(\"top-rtl-toggle\")) {\n",
       "      toolbar.appendChild(rtlButton);\n",
       "    } else {\n",
       "      // Try again in a moment if toolbar isn't ready yet\n",
       "      setTimeout(insertIntoToolbar, 300);\n",
       "    }\n",
       "  };\n",
       "\n",
       "  insertIntoToolbar();\n",
       "})();\n",
       "</script>\n"
      ],
      "text/plain": [
       "<IPython.core.display.HTML object>"
      ]
     },
     "metadata": {},
     "output_type": "display_data"
    }
   ],
   "source": [
    "%%html\n",
    "<script>\n",
    "(function() {\n",
    "  // Create the toggle button\n",
    "  const rtlButton = document.createElement(\"button\");\n",
    "  rtlButton.textContent = \"Toggle LTR\";\n",
    "  rtlButton.id = \"top-rtl-toggle\";\n",
    "  rtlButton.style.marginLeft = \"8px\";\n",
    "  rtlButton.style.padding = \"4px 10px\";\n",
    "  rtlButton.style.fontSize = \"14px\";\n",
    "  rtlButton.style.cursor = \"pointer\";\n",
    "\n",
    "  // State\n",
    "  var rtlActive = false;\n",
    "\n",
    "  // Styling function\n",
    "  var applyStyleToEditor = (editor) => {\n",
    "    if (!editor) return;\n",
    "    var direction = getComputedStyle(editor).getPropertyValue('direction')=='rtl' ? 'ltr' : 'rtl';\n",
    "    var text_align = getComputedStyle(editor).getPropertyValue('text-align')=='right' ? 'left' : 'right';\n",
    "    editor.style.setProperty('direction', direction, 'important');\n",
    "    editor.style.setProperty('text-align', text_align, 'important');\n",
    "  };\n",
    "\n",
    "  // Toggle logic\n",
    "  rtlButton.onclick = () => {\n",
    "    rtlActive = !rtlActive;\n",
    "    rtlButton.textContent = rtlActive ? \"Toggle LTR\" : \"Toggle RTL\";\n",
    "    document.querySelectorAll('.jp-MarkdownCell .jp-InputArea-editor').forEach(applyStyleToEditor);\n",
    "    document.querySelectorAll('.jp-RenderedHTMLCommon code, .jp-RenderedHTMLCommon code span').forEach(applyStyleToEditor);\n",
    "    document.querySelectorAll('jp-RenderedHTMLCommon, .jp-RenderedHTMLCommon *').forEach(applyStyleToEditor);\n",
    "  };\n",
    "\n",
    "  // Watch for focus into editing Markdown cells\n",
    "  // document.addEventListener('focusin', (event) => {\n",
    "  //   const editor = event.target.closest('.jp-MarkdownCell .jp-InputArea-editor');\n",
    "  //    if (editor) applyStyleToEditor(editor);\n",
    "  // });\n",
    "\n",
    "  // Insert into top toolbar if not already present\n",
    "  var insertIntoToolbar = () => {\n",
    "    const toolbar = document.querySelector('.jp-NotebookPanel-toolbar');\n",
    "    if (toolbar && !document.getElementById(\"top-rtl-toggle\")) {\n",
    "      toolbar.appendChild(rtlButton);\n",
    "    } else {\n",
    "      // Try again in a moment if toolbar isn't ready yet\n",
    "      setTimeout(insertIntoToolbar, 300);\n",
    "    }\n",
    "  };\n",
    "\n",
    "  insertIntoToolbar();\n",
    "})();\n",
    "</script>"
   ]
  },
  {
   "cell_type": "markdown",
   "id": "5c29b143-9cd9-4b90-9419-2eb1437befc0",
   "metadata": {},
   "source": [
    "# List Comprehension"
   ]
  },
  {
   "cell_type": "markdown",
   "id": "f965c25f-6ca6-405d-993c-0445d13c9278",
   "metadata": {
    "slideshow": {
     "slide_type": "subslide"
    }
   },
   "source": [
    "עד כה ראינו מגוון תרחישים בהם נרצה לבנות רשימות. תרחיש נפוץ הוא בניית רשיהמ תוך הוספת אלמנט בכל איטרציה של הלולאה\n",
    "\n",
    "במקרים הרבים הלולאות יכולה להיות מאוד קצרה: לדוגמא, כדי לבנות את רשימת המספרים הריבועיים מ1 עד 10, נוכל לכתוב את קטע הקוד הבא:\n",
    "\n",
    "```python\n",
    "lst=[]\n",
    "for i in range(1,11):\n",
    "    lst.append(i**2)\n",
    "```\n",
    "\n",
    "דוגמא אחרת היא הדפסת ריבועי המספרים המוכלים ברשימה אחרת (`lst_included`):\n",
    "\n",
    "```python\n",
    "lst_included=[1,5,11,12]\n",
    "lst=[]\n",
    "for i in range(1,11):\n",
    "    if i in lst_included:\n",
    "        lst.append(i**2)\n",
    "```\n",
    "\n",
    "המפתחים של פייתון הבינו שיש שימו רב בלולאות קצרות בסגנון הזה, ופיתחו עבורנו מנגנון שמאפשר לקצר חלק משמעותי מהתחביר הנדרש. למנגנון זה קוראים **List comprehension**.\n",
    "\n",
    "\n",
    "באמצעות מנגנון זה, ניתן ליצור רשימה חדשה, ליצור לולאה, למלא את הרשימה ואף להוסיף תנאים - והכל בשורה אחת!\n",
    "\n",
    "המבנה הכי פשוט של List comprehension נראה כך: `[expression for item in list]`\n",
    "\n",
    "נדגים מבנה זה ע\"י מימוש הדוגמא הראשונה לעיל עם List comprehension:"
   ]
  },
  {
   "cell_type": "code",
   "execution_count": 2,
   "id": "5c641b65-25d1-4421-9fa9-b29ddda676c6",
   "metadata": {},
   "outputs": [
    {
     "data": {
      "text/plain": [
       "[1, 4, 9, 16, 25, 36, 49, 64, 81, 100]"
      ]
     },
     "execution_count": 2,
     "metadata": {},
     "output_type": "execute_result"
    }
   ],
   "source": [
    "[i**2 for i in range(1,11)]"
   ]
  },
  {
   "cell_type": "markdown",
   "id": "bda20ee6-a57c-4cdf-bc7c-efc88d575570",
   "metadata": {},
   "source": [
    "בList comprehension אנו כותבים את כל בפעולות בשורה אחת אך בסדר מעט שונה. תחילה אנו כותבים את הערך שהרצה להוסיף לרשימה ורק לאחריו את הלולאה (for). לבסוף, שימו לי כי כל הביטוי עטוף בסוגריים מרובעים, המייצגים את הרשימה החדשה שנוצרה\n",
    "\n"
   ]
  },
  {
   "cell_type": "markdown",
   "id": "00d438f8-c1c7-41b8-be6e-6efd090f6e6d",
   "metadata": {},
   "source": [
    "מבנה יותר מורכב של List comphresnion יראה כך: `[expression for item in list if condition]`  \n",
    "נדגים אותו באמצעות הדוגמא שניה שהצגנו לעיל:"
   ]
  },
  {
   "cell_type": "code",
   "execution_count": 8,
   "id": "1159c98a-e9d5-44c6-a818-2fb03f0cfdc7",
   "metadata": {},
   "outputs": [
    {
     "data": {
      "text/plain": [
       "[4, 25]"
      ]
     },
     "execution_count": 8,
     "metadata": {},
     "output_type": "execute_result"
    }
   ],
   "source": [
    "lst_included=[2,5,11,12]\n",
    "[i**2 for i in range(1,11) if i in lst_included]"
   ]
  },
  {
   "cell_type": "markdown",
   "id": "22b2b303-32dd-498a-95d7-b1747f415b94",
   "metadata": {},
   "source": [
    "\n",
    "```{admonition} **שימו לב**\n",
    ":class: error\n",
    "\n",
    "התנאי כאן בא לאחר הלולאה. למעשה אנו יכולים להגיד כי חלקי הביטוי הקשורים לערך החדש שיתווסף לרשימה יופיעו תחילה ולאחר מכן יופיעו כל הפקודות שבאות מעליו בסדר דומה לכתיב הרגיל שראינו עד כה - רק בשורה אחת.\n",
    "\n",
    "```\n"
   ]
  },
  {
   "cell_type": "markdown",
   "id": "853e5996-961f-4b68-a6e3-da361f2da3ed",
   "metadata": {},
   "source": [
    "נשנה כעת את הדוגמא האחרונה שראינו, ונגדיר כי נעלה בריבוע כל מספר זוגי ונכפיל כל מספר אי זוגי שמופיע ברשימה `lst_included`.\n",
    "\n",
    "המימוש שראינו עד לפרק זה ישתמש בלולאות `for` בצורה הקלאסית באופן הבא:\n",
    "\n",
    "```python\n",
    "lst_included=[1,5,11,12]\n",
    "lst=[]\n",
    "for i in range(1,11):\n",
    "    if i in lst_included:\n",
    "        if i%2==0:\n",
    "            lst.append(i**2)\n",
    "        else \n",
    "            lst.append(i*2)\n",
    "\n",
    "```"
   ]
  },
  {
   "cell_type": "markdown",
   "id": "1095abf4-79f6-43a2-bcd4-b887c49153e7",
   "metadata": {},
   "source": [
    "המימוש האלטרנטיבי עם List comprehension יראה כך"
   ]
  },
  {
   "cell_type": "code",
   "execution_count": 7,
   "id": "c1589b42-f771-47df-a612-364ce59108fc",
   "metadata": {},
   "outputs": [
    {
     "data": {
      "text/plain": [
       "[4, 10]"
      ]
     },
     "execution_count": 7,
     "metadata": {},
     "output_type": "execute_result"
    }
   ],
   "source": [
    "lst_included=[2,5,11,12]\n",
    "[i**2 if i%2==0 else i*2 for i in range(1,11) if i in lst_included]"
   ]
  },
  {
   "cell_type": "markdown",
   "id": "7331cfdd-c7c9-4a09-8704-f22c508b834c",
   "metadata": {},
   "source": [
    "\n",
    "```{admonition} **שימו לב**\n",
    ":class: error\n",
    "\n",
    "התנאי הראשון במימוש המקורי (`if i in lst_included`) נועד **לסנן** על אילו איברים ב**רשימת הקלט** נבצע את הפעולה יכללו ברשימה, והתנאי השני במימוש המקורי (`if i%2==0: ... else:`) **קובע מה היה הערך** שישמר **ברשימת הפלט**. \n",
    "\n",
    "במימוש החדש, מכיוון שחלקי הביטוי הקשורים לערך החדש שיתווסף לרשימה יופיעו תחילה, אנו מתחילים כי הכתיבה של `i**2 if i%2==0 else i*2` ולאחר מכן מופיעה פקודת ה`for` וה`if` שאחראי על הסינון (`if i in lst_included`).\n",
    "\n",
    "\n",
    "```"
   ]
  },
  {
   "cell_type": "markdown",
   "id": "036f1b9d",
   "metadata": {
    "slideshow": {
     "slide_type": "subslide"
    }
   },
   "source": [
    "### דוגמאות נוספות"
   ]
  },
  {
   "cell_type": "markdown",
   "id": "6c63b523-1735-4ced-aec5-93dcfe75c595",
   "metadata": {},
   "source": [
    "נגדיר רשימת המחרוזות הבאה:"
   ]
  },
  {
   "cell_type": "code",
   "execution_count": null,
   "id": "79a887c2",
   "metadata": {
    "execution": {
     "iopub.execute_input": "2025-03-10T07:47:04.284818Z",
     "iopub.status.busy": "2025-03-10T07:47:04.284334Z",
     "iopub.status.idle": "2025-03-10T07:47:04.287947Z",
     "shell.execute_reply": "2025-03-10T07:47:04.287232Z"
    },
    "slideshow": {
     "slide_type": "fragment"
    }
   },
   "outputs": [],
   "source": [
    "l = ['The', 'quick', 'brown', 'fox', 'jumps', 'over', 'the', 'lazy', 'dog']"
   ]
  },
  {
   "cell_type": "markdown",
   "id": "da594302-da6d-461e-8009-dbf1eea67a7e",
   "metadata": {},
   "source": [
    "כעת, נסו להבין, עבור כל דוגמא, מה היא אמורה לבצע.  \n",
    "לאחר מכן, נסו לשנות את הדוגמאות ולהתאימן לצרכים אחרים."
   ]
  },
  {
   "cell_type": "code",
   "execution_count": null,
   "id": "b5de6c87",
   "metadata": {
    "execution": {
     "iopub.execute_input": "2025-03-10T07:47:04.290736Z",
     "iopub.status.busy": "2025-03-10T07:47:04.290440Z",
     "iopub.status.idle": "2025-03-10T07:47:04.295196Z",
     "shell.execute_reply": "2025-03-10T07:47:04.294482Z"
    },
    "slideshow": {
     "slide_type": "fragment"
    }
   },
   "outputs": [],
   "source": [
    "[word.upper() for word in l]"
   ]
  },
  {
   "cell_type": "code",
   "execution_count": null,
   "id": "e6977961",
   "metadata": {
    "execution": {
     "iopub.execute_input": "2025-03-10T07:47:04.298124Z",
     "iopub.status.busy": "2025-03-10T07:47:04.297837Z",
     "iopub.status.idle": "2025-03-10T07:47:04.302569Z",
     "shell.execute_reply": "2025-03-10T07:47:04.301870Z"
    },
    "slideshow": {
     "slide_type": "fragment"
    }
   },
   "outputs": [],
   "source": [
    "[word for word in l if len(word) < 4]"
   ]
  },
  {
   "cell_type": "code",
   "execution_count": null,
   "id": "00ffe971",
   "metadata": {},
   "outputs": [],
   "source": [
    "[i ** 2 if i % 3 == 0 else i ** 3 for i in range(2, 13) if i % 6 != 0]"
   ]
  }
 ],
 "metadata": {
  "celltoolbar": "Slideshow",
  "kernelspec": {
   "display_name": "Python 3 (ipykernel)",
   "language": "python",
   "name": "python3"
  },
  "language_info": {
   "codemirror_mode": {
    "name": "ipython",
    "version": 3
   },
   "file_extension": ".py",
   "mimetype": "text/x-python",
   "name": "python",
   "nbconvert_exporter": "python",
   "pygments_lexer": "ipython3",
   "version": "3.13.5"
  }
 },
 "nbformat": 4,
 "nbformat_minor": 5
}
