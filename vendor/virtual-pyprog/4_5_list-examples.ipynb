{
 "cells": [
  {
   "cell_type": "code",
   "execution_count": 7,
   "id": "3018be7d-8134-4a5a-981d-289f2a7cdfc7",
   "metadata": {
    "tags": [
     "remove-cell"
    ]
   },
   "outputs": [
    {
     "data": {
      "text/html": [
       "<script>\n",
       "(function() {\n",
       "  // Create the toggle button\n",
       "  const rtlButton = document.createElement(\"button\");\n",
       "  rtlButton.textContent = \"Toggle LTR\";\n",
       "  rtlButton.id = \"top-rtl-toggle\";\n",
       "  rtlButton.style.marginLeft = \"8px\";\n",
       "  rtlButton.style.padding = \"4px 10px\";\n",
       "  rtlButton.style.fontSize = \"14px\";\n",
       "  rtlButton.style.cursor = \"pointer\";\n",
       "\n",
       "  // State\n",
       "  var rtlActive = false;\n",
       "\n",
       "  // Styling function\n",
       "  var applyStyleToEditor = (editor) => {\n",
       "    if (!editor) return;\n",
       "    var direction = getComputedStyle(editor).getPropertyValue('direction')=='rtl' ? 'ltr' : 'rtl';\n",
       "    var text_align = getComputedStyle(editor).getPropertyValue('text-align')=='right' ? 'left' : 'right';\n",
       "    editor.style.setProperty('direction', direction, 'important');\n",
       "    editor.style.setProperty('text-align', text_align, 'important');\n",
       "  };\n",
       "\n",
       "  // Toggle logic\n",
       "  rtlButton.onclick = () => {\n",
       "    rtlActive = !rtlActive;\n",
       "    rtlButton.textContent = rtlActive ? \"Toggle LTR\" : \"Toggle RTL\";\n",
       "    document.querySelectorAll('.jp-MarkdownCell .jp-InputArea-editor').forEach(applyStyleToEditor);\n",
       "    document.querySelectorAll('.jp-RenderedHTMLCommon code, .jp-RenderedHTMLCommon code span').forEach(applyStyleToEditor);\n",
       "    document.querySelectorAll('jp-RenderedHTMLCommon, .jp-RenderedHTMLCommon *').forEach(applyStyleToEditor);\n",
       "  };\n",
       "\n",
       "  // Watch for focus into editing Markdown cells\n",
       "  // document.addEventListener('focusin', (event) => {\n",
       "  //   const editor = event.target.closest('.jp-MarkdownCell .jp-InputArea-editor');\n",
       "  //    if (editor) applyStyleToEditor(editor);\n",
       "  // });\n",
       "\n",
       "  // Insert into top toolbar if not already present\n",
       "  var insertIntoToolbar = () => {\n",
       "    const toolbar = document.querySelector('.jp-NotebookPanel-toolbar');\n",
       "    if (toolbar && !document.getElementById(\"top-rtl-toggle\")) {\n",
       "      toolbar.appendChild(rtlButton);\n",
       "    } else {\n",
       "      // Try again in a moment if toolbar isn't ready yet\n",
       "      setTimeout(insertIntoToolbar, 300);\n",
       "    }\n",
       "  };\n",
       "\n",
       "  insertIntoToolbar();\n",
       "})();\n",
       "</script>\n"
      ],
      "text/plain": [
       "<IPython.core.display.HTML object>"
      ]
     },
     "metadata": {},
     "output_type": "display_data"
    }
   ],
   "source": [
    "%%html\n",
    "<script>\n",
    "(function() {\n",
    "  // Create the toggle button\n",
    "  const rtlButton = document.createElement(\"button\");\n",
    "  rtlButton.textContent = \"Toggle LTR\";\n",
    "  rtlButton.id = \"top-rtl-toggle\";\n",
    "  rtlButton.style.marginLeft = \"8px\";\n",
    "  rtlButton.style.padding = \"4px 10px\";\n",
    "  rtlButton.style.fontSize = \"14px\";\n",
    "  rtlButton.style.cursor = \"pointer\";\n",
    "\n",
    "  // State\n",
    "  var rtlActive = false;\n",
    "\n",
    "  // Styling function\n",
    "  var applyStyleToEditor = (editor) => {\n",
    "    if (!editor) return;\n",
    "    var direction = getComputedStyle(editor).getPropertyValue('direction')=='rtl' ? 'ltr' : 'rtl';\n",
    "    var text_align = getComputedStyle(editor).getPropertyValue('text-align')=='right' ? 'left' : 'right';\n",
    "    editor.style.setProperty('direction', direction, 'important');\n",
    "    editor.style.setProperty('text-align', text_align, 'important');\n",
    "  };\n",
    "\n",
    "  // Toggle logic\n",
    "  rtlButton.onclick = () => {\n",
    "    rtlActive = !rtlActive;\n",
    "    rtlButton.textContent = rtlActive ? \"Toggle LTR\" : \"Toggle RTL\";\n",
    "    document.querySelectorAll('.jp-MarkdownCell .jp-InputArea-editor').forEach(applyStyleToEditor);\n",
    "    document.querySelectorAll('.jp-RenderedHTMLCommon code, .jp-RenderedHTMLCommon code span').forEach(applyStyleToEditor);\n",
    "    document.querySelectorAll('jp-RenderedHTMLCommon, .jp-RenderedHTMLCommon *').forEach(applyStyleToEditor);\n",
    "  };\n",
    "\n",
    "  // Watch for focus into editing Markdown cells\n",
    "  // document.addEventListener('focusin', (event) => {\n",
    "  //   const editor = event.target.closest('.jp-MarkdownCell .jp-InputArea-editor');\n",
    "  //    if (editor) applyStyleToEditor(editor);\n",
    "  // });\n",
    "\n",
    "  // Insert into top toolbar if not already present\n",
    "  var insertIntoToolbar = () => {\n",
    "    const toolbar = document.querySelector('.jp-NotebookPanel-toolbar');\n",
    "    if (toolbar && !document.getElementById(\"top-rtl-toggle\")) {\n",
    "      toolbar.appendChild(rtlButton);\n",
    "    } else {\n",
    "      // Try again in a moment if toolbar isn't ready yet\n",
    "      setTimeout(insertIntoToolbar, 300);\n",
    "    }\n",
    "  };\n",
    "\n",
    "  insertIntoToolbar();\n",
    "})();\n",
    "</script>"
   ]
  },
  {
   "cell_type": "markdown",
   "id": "7744d5b5-9f2d-40f0-9165-0a4d3db22d22",
   "metadata": {},
   "source": [
    "# תרגול מסכם: רשימות "
   ]
  },
  {
   "cell_type": "markdown",
   "id": "1e78ae81-082d-42e4-bebf-2b1f76febf58",
   "metadata": {},
   "source": [
    "## מימוש \"בעית ניו-זילנד\"\n",
    "כעת נראה כיצד לממש את הפתרון ל\"בעית ניו-זילנד\" בפייתון:"
   ]
  },
  {
   "cell_type": "code",
   "execution_count": 55,
   "id": "6b87bd3c-ced7-4b53-a9d1-f0afbd347ef3",
   "metadata": {
    "tags": [
     "remove-input"
    ]
   },
   "outputs": [
    {
     "data": {
      "text/html": [
       "<iframe width=\"560\" height=\"315\" src=\"https://www.youtube.com/embed/BrhvAr4mDHg?si=6lwZ-WM1Lj056lvi\" title=\"YouTube video player\" frameborder=\"0\" allow=\"accelerometer; autoplay; clipboard-write; encrypted-media; gyroscope; picture-in-picture; web-share\" referrerpolicy=\"strict-origin-when-cross-origin\" allowfullscreen></iframe>\n"
      ],
      "text/plain": [
       "<IPython.core.display.HTML object>"
      ]
     },
     "metadata": {},
     "output_type": "display_data"
    }
   ],
   "source": [
    "%%html\n",
    "<iframe width=\"560\" height=\"315\" src=\"https://www.youtube.com/embed/BrhvAr4mDHg?si=6lwZ-WM1Lj056lvi\" title=\"YouTube video player\" frameborder=\"0\" allow=\"accelerometer; autoplay; clipboard-write; encrypted-media; gyroscope; picture-in-picture; web-share\" referrerpolicy=\"strict-origin-when-cross-origin\" allowfullscreen></iframe>"
   ]
  },
  {
   "cell_type": "markdown",
   "id": "3036763b-4bd8-415c-80fb-b7dbca46e532",
   "metadata": {},
   "source": [
    "**לנוחיותכם חלונית עם הקוד שראינו בסרטון. מוזמנים להריץ בעצמכם:**"
   ]
  },
  {
   "cell_type": "code",
   "execution_count": 56,
   "id": "914cde4b-4582-4a78-99f1-a5f65ed43814",
   "metadata": {},
   "outputs": [
    {
     "name": "stdout",
     "output_type": "stream",
     "text": [
      "Total: 6189\n",
      "You have 3811 dollars\n",
      "The average per week: 773.625\n",
      "You have approx. 4.926159314913557 weeks left to travel\n"
     ]
    }
   ],
   "source": [
    "start = 10000\n",
    "spend_lst = [1200, 900, 354, 1300, 550, 620, 550, 715]\n",
    "total = sum(spend_lst)\n",
    "print(\"Total:\", total)\n",
    "money_left = start - total\n",
    "print(\"You have\", money_left, \"dollars\")\n",
    "average = total / len(spend_lst)\n",
    "print(\"The average per week:\", average)\n",
    "weeks_left = money_left / average\n",
    "print(\"You have approx.\", weeks_left, \"weeks left to travel\")"
   ]
  },
  {
   "cell_type": "markdown",
   "id": "ea5b437d-7db8-4d71-afef-9034557bc53a",
   "metadata": {},
   "source": [
    "<h4 style=\"color:purple\">\n",
    "בחנו את עצמכם\n",
    "</h4>"
   ]
  },
  {
   "cell_type": "markdown",
   "id": "dad71b47-75c4-4000-bbb3-cb90018fd023",
   "metadata": {},
   "source": [
    "בקוד שלפניכם מופיעה הרשימה `grades` ובה ציוני סטודנטים בקורס מסוים. אנחנו רוצים לבדוק האם יש תלמיד שציונו בקורס שווה בדיוק לממוצע הציונים (במילים אחרות - האם ממוצע הציונים מופיע ברשימה `grades`). עליכם לכתוב קוד שמבצע את הבדיקה הזו ומדפיס את התוצאה למסך.\n",
    "\n",
    "**הנחיות:**\n",
    "\n",
    "1. תחילה חשבו את סכום כל הציונים ושמרו אותו במשתנה כלשהו (תנו למשתנה זה שם כרצונכם).\n",
    "\n",
    "2. חשבו את אורך הרשימה ושמרו אותו במשתנה נוסף.\n",
    "\n",
    "3. חשבו את ממוצע הציונים (ע\"י חלוקת סכום הציונים באורך הרשימה, כלומר, חלוקת שני המשתנים שיצרתם בסעיפים הקודמים), וגם אותו שמרו במשתנה שלישי.\n",
    "\n",
    "4. לבסוף, אם הממוצע נמצא ברשימה - הדפיסו `True`, ואם לא - הדפיסו `False`. תזכורת - הביטוי `x in L` משוערך ל-`True` אם האיבר `x` נמצא ברשימה `L`, ול-`False` אם לא).\n",
    "\n",
    "כפי שודאי הבחנתם, זוהי גרסה מעט פשוטה יותר של \"בעיית ניו זילנד\" שאותה זה עתה ראינו, כך שיש לכם את כל הכלים לפתרון תרגיל זה.\n",
    "\n",
    "לאחר שסיימתם לכתוב את הקוד, הריצו אותו (על ידי לחיצה על Run) ובדקו בחלונית הפלט האם הפתרון שלכם עובד או לא. שנו את רשימת הקלט `grades` כמה פעמים (לרשימות עם מספר ערכים כרצונכם) וראו אם הפתרון שלכם עובד עם כל הרשימות שאתם בודקים."
   ]
  },
  {
   "cell_type": "code",
   "execution_count": 58,
   "id": "d54b4b66-7298-4cd7-b931-a60da294c920",
   "metadata": {},
   "outputs": [],
   "source": [
    "# Change this list - try different inputs\n",
    "grades = [81, 70, 75, 96, 99, 100, 87, 80, 100]\n",
    "\n",
    "# Write your solution here:"
   ]
  },
  {
   "cell_type": "markdown",
   "id": "dd5c7740-ad99-4ffd-b1d3-0cc599db0849",
   "metadata": {},
   "source": [
    "```{admonition} **לחצו כאן כדי לצפות בפתרון**\n",
    ":class: dropdown, tip\n",
    "\n",
    "```python\n",
    "# Change this list - try different inputs\n",
    "grades = [81, 70, 75, 96, 99, 100, 87, 80, 100]\n",
    "print(\"Testing the following grades list:\", grades)\n",
    "print(\"**************************************\")\n",
    "\n",
    "# DO NOT CHANGE THIS LINE:\n",
    "print(\"Your solution: \", end=\"\")\n",
    "\n",
    "# First, we compute the sum of the grades in the list\n",
    "total = sum(grades)\n",
    "\n",
    "# Next, we compute the length of the list\n",
    "length = len(grades)\n",
    "\n",
    "# Then, we compute the average value of the list\n",
    "avg = total / length\n",
    "\n",
    "# We can now check whether the average is in the list\n",
    "result = avg in grades\n",
    "\n",
    "# And finally, we can print the result we got\n",
    "print(result)\n",
    "\n",
    "```"
   ]
  },
  {
   "cell_type": "markdown",
   "id": "d8b261c7-360c-4893-91ab-886dc6db852f",
   "metadata": {},
   "source": [
    "```{admonition} **העמקה בפתרון**\n",
    ":class: dropdown, info\n",
    "\n",
    "\n",
    "נציג שוב את המטלה שלפנינו: בהינתן רשימה grades ובה ציוני סטודנטים בקורס מסוים, אנחנו רוצים לבדוק האם יש תלמיד שציונו בקורס שווה בדיוק לממוצע הציונים (במילים אחרות - האם ממוצע הציונים מופיע ברשימה grades).\n",
    "\n",
    "בנוסף לתרגיל, קיבלנו גם הנחיות לפתרון – סדרת פעולות שאותה עלינו לבצע שלב-אחר-שלב כדי לפתור את התרגיל. כדי להבין את ההיגיון שמאחורי ההנחיות שקיבלנו, בואו ננסה לנסח פתרון משלנו לתרגיל.\n",
    "\n",
    "נניח שמישהו היה מספר לנו שממוצע הרשימה grades הוא avg. במצב כזה היינו יכולים לפתור בקלות את הבעיה. אנחנו יודעים שעבור רשימה L ומשתנה x הביטוי x in L משוערך ל-True אם x ברשימה L ול-False אחרת, ולכן, אם היינו מבצעים את ההשמה:\n",
    "\n",
    "```result = avg in grades```\n",
    "\n",
    "ולאחר מכן היינו מדפיסים את המשתנה result ומקבלים את התוצאה המבוקשת.\n",
    "\n",
    "הבעיה, כמובן, היא שאף אחד לא מספר לנו מהו ממוצע הרשימה ואנחנו צריכים לחשב אותו בעצמנו. אפשר לתאר כרגע את מצבנו באופן הבא: \"אם נדע מהו ממוצע הרשימה, נדע כיצד לפתור את הבעיה\". אז מה אנחנו צריכים לעשות כדי לחשב את ממוצע הרשימה?\n",
    "\n",
    "אנחנו יודעים כבר מה היא ההגדרה של ממוצע הרשימה – זהו הערך שמתקבל כשלוקחים את סכום הערכים ברשימה ומחלקים אותו במספר האיברים שברשימה. לכן, אם מישהו היה מספר לנו שסכום הערכים ברשימה הוא total ושאורך הרשימה הוא length, היינו יכולים לחשב בקלות את ממוצע הרשימה:  \n",
    "\n",
    "```avg = total / length```\n",
    "\n",
    "וכמו שכבר אמרנו, ברגע שממוצע הרשימה בידינו, אנחנו יודעים איך להגיע לתוצאה המבוקשת.\n",
    "\n",
    "אך שוב, הבעיה היא שאף אחד לא מספר לנו מהו סכום הערכים ברשימה ומהו אורכה. את מצבנו הנוכחי ניתן לתאר אם כך באופן הבא: \"אם נדע מהו סכום הערכים ברשימה ומהו אורכה, נדע כיצד לפתור את הבעיה\". אז מה נשאר לנו לעשות?\n",
    "\n",
    "כשפתרנו את בעיית ניו זילנד ראינו איך לחשב את סכום הערכים ברשימה:\n",
    "\n",
    "```total = sum(grades)```\n",
    "\n",
    "וראינו גם כיצד לחשב את אורך הרשימה:\n",
    "\n",
    "```length = len(grades)```\n",
    "\n",
    "ולכן, כיוון שיש בידינו כעת את סכום הערכים ברשימה ואת אורכה, אנחנו יכולים לחשב את ממוצע הרשימה ולבדוק האם הוא מופיע ברשימה.\n",
    "\n",
    "בואו נשווה את התהליך שעשינו להנחיות שקיבלנו לפתרון הבעיה:\n",
    "\n",
    "1. תחילה חשבו את סכום כל הציונים ושמרו אותו במשתנה כלשהו (תנו למשתנה זה שם כרצונכם).\n",
    "2. חשבו את אורך הרשימה ושמרו אותו במשתנה נוסף.\n",
    "3. חשבו את ממוצע הציונים (ע\"י חלוקת סכום הציונים באורך הרשימה, כלומר, חלוקת שני המשתנים שיצרתם בסעיפים הקודמים), וגם אותו שמרו במשתנה שלישי.\n",
    "4. לבסוף, אם הממוצע נמצא ברשימה - הדפיסו True, ואם לא - הדפיסו False. תזכורת - הביטוי x in L משוערך ל-True אם האיבר x נמצא ברשימה L (ול-False אם לא).\n",
    "שמים לב מה קרה? התהליך שביצענו נתן לנו סדרת צעדים זהה להנחיות, אך בסדר הפוך. הסיבה לכך היא שהתהליך שביצענו זה עתה לתיאור פתרון לבעיה התנהל באופן הבא:\n",
    "\n",
    "1. ראשית, תיארנו את הבעיה שברצוננו לפתור (בדיקת המצאות של ממוצע הרשימה ברשימה)\n",
    "2. פירקנו את הבעיה לתת-בעיות קטנות יותר (חישוב ממוצע הרשימה)\n",
    "3. פירקנו את תתי הבעיות שלנו לבעיות קטנות יותר (חישוב סכום הערכים ברשימה, חישוב אורך הרשימה)\n",
    "4. פתרנו את הבעיות הקטנות ביותר שלנו והרכבנו מהן בחזרה פתרון לבעיה המרכזית שלנו (חשב את הממוצע על ידי חלוקה של סכום הרשימה באורכה ולאחר מכן בדוק האם איבר זה ברשימה)\n",
    "\n",
    "גישה זו נקראת גישת \"מעלה-מטה\" (באנגלית: top-down approach). היא מתחילה \"מלמעלה\" על ידי תיאור הבעיה הגדולה שלנו ויורדת \"למטה\" לתיאור בעיות קטנות יותר מהן ניתן להרכיב פתרון לבעיה הגדולה. הסתכלות בתצורת מעלה-מטה יכולה לעזור לנו להבין מהם התהליכים המרכזיים אותם עלינו לבצע כדי לפתור את בעיה מסוימת.\n",
    "\n",
    "לאחר שניסחנו פתרון בתצורת מעלה-מטה, אנחנו יכולים לקחת את סדרת הפעולות שקיבלנו ולבחון אותן בסדר הפוך, מהקטן לגדול. גישה זו נקראת, כמובן, גישת \"מטה-מעלה\" (bottom-up approach). כשנרצה לתרגם את ההנחיות שניסחנו לקוד, ניישם אותן בתצורת מטה-מעלה, שכן עלינו לפתור ראשית את הבעיות הקטנות (כמו חישוב סכום הרשימה ואורכה) על מנת להשתמש בהן לפתור את הבעיות הגדולות (כמו חישוב ממוצע הרשימה ובדיקת המצאות שלו ברשימה)."
   ]
  }
 ],
 "metadata": {
  "kernelspec": {
   "display_name": "Python 3 (ipykernel)",
   "language": "python",
   "name": "python3"
  },
  "language_info": {
   "codemirror_mode": {
    "name": "ipython",
    "version": 3
   },
   "file_extension": ".py",
   "mimetype": "text/x-python",
   "name": "python",
   "nbconvert_exporter": "python",
   "pygments_lexer": "ipython3",
   "version": "3.11.12"
  }
 },
 "nbformat": 4,
 "nbformat_minor": 5
}
