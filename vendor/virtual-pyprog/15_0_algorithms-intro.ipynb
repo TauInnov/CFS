{
 "cells": [
  {
   "cell_type": "code",
   "execution_count": null,
   "id": "b95b5fb4",
   "metadata": {
    "execution": {
     "iopub.execute_input": "2025-03-10T07:47:50.850590Z",
     "iopub.status.busy": "2025-03-10T07:47:50.850261Z",
     "iopub.status.idle": "2025-03-10T07:47:50.867220Z",
     "shell.execute_reply": "2025-03-10T07:47:50.866344Z"
    },
    "slideshow": {
     "slide_type": "skip"
    },
    "tags": [
     "remove-cell"
    ]
   },
   "outputs": [],
   "source": [
    "%%html\n",
    "<style>\n",
    "table {display: inline-block}\n",
    "td {text-align:left}\n",
    ".consoleMachineFont {color:blue;font-family:Courier}\n",
    ".consoleUserFont {font-family:Courier}\n",
    "</style>"
   ]
  },
  {
   "cell_type": "markdown",
   "id": "85d6931f",
   "metadata": {
    "slideshow": {
     "slide_type": "slide"
    }
   },
   "source": [
    "# אלגוריתמים בסיסיים"
   ]
  },
  {
   "cell_type": "markdown",
   "id": "04df1ea9-55ba-492c-854d-1bbd8d4b12eb",
   "metadata": {},
   "source": [
    "בנושא זה נעסוק בשתי בעיות יסוד במדעי המחשב - **חיפוש** ו**מיון**.  \n",
    "נתחיל בהיכרות עם **אלגוריתם החיפוש הבינארי** - אחד האלגוריתמים המרכזיים והחשובים בתחום. נלמד את עקרון הפעולה שלו, את התנאים ההכרחיים לשימוש בו, ונראה כיצד ניתן לממש אותו בפייתון.  \n",
    "לאחר מכן נעבור להכיר אלגוריתם מיון פשוט - **מיון בחירה (Selection Sort)** - וניישם אותו בפייתון.  \n",
    "במהלך השיעור נלמד גם כיצד מודדִים **יעילות של אלגוריתמים**: הן על ידי ניתוח תאורטי של סיבוכיות הזמן, והן באמצעות מדידת זמני ריצה בפועל.  "
   ]
  }
 ],
 "metadata": {
  "celltoolbar": "Slideshow",
  "kernelspec": {
   "display_name": "Python 3 (ipykernel)",
   "language": "python",
   "name": "python3"
  },
  "language_info": {
   "codemirror_mode": {
    "name": "ipython",
    "version": 3
   },
   "file_extension": ".py",
   "mimetype": "text/x-python",
   "name": "python",
   "nbconvert_exporter": "python",
   "pygments_lexer": "ipython3",
   "version": "3.11.12"
  }
 },
 "nbformat": 4,
 "nbformat_minor": 5
}
