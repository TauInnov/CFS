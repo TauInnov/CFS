{
 "cells": [
  {
   "cell_type": "code",
   "execution_count": 35,
   "id": "f9e99179",
   "metadata": {
    "id": "f9e99179",
    "slideshow": {
     "slide_type": "notes"
    },
    "tags": [
     "remove_cell"
    ]
   },
   "outputs": [
    {
     "name": "stdout",
     "output_type": "stream",
     "text": [
      "['baby.png', 'countries-of-the-world.csv', 'dialation.png', 'dialation_2.png', 'dog.png', 'dog_noised.png', 'erosion.png', 'erosion_2.png', 'evil_morty_1.png', 'evil_morty_change.png', 'evil_morty_change_3.png', 'evil_morty_change_noised.png', 'evil_morty_segmentation.png', 'ex1.csv', 'ex2.csv', 'koala.png', 'notebook_resources.zip', 'orders_2_2024.csv', 'orders_3_2024.csv', 'orders_4_2024.csv', 'products2.csv', 'ship.png', 'StudentsGrades.csv', 'witcher_1.csv', 'witcher_2.csv', 'woman_noised.png', '__MACOSX']\n"
     ]
    }
   ],
   "source": [
    "import urllib.request\n",
    "import zipfile\n",
    "import os\n",
    "import ssl\n",
    "\n",
    "try:\n",
    "    os.mkdir(\"files\")\n",
    "except:\n",
    "    pass\n",
    "\n",
    "ssl._create_default_https_context = ssl._create_unverified_context\n",
    "\n",
    "with urllib.request.urlopen('https://courses.cs.tau.ac.il/pyProg/2425a/resources/notebook_resources.zip') as f:\n",
    "    content = f.read()\n",
    "\n",
    "with open('files/notebook_resources.zip', 'wb') as f:\n",
    "    f.write(content)\n",
    "\n",
    "with zipfile.ZipFile('files/notebook_resources.zip', 'r') as zip_ref:\n",
    "    zip_ref.extractall('files')\n",
    "\n",
    "print(os.listdir('files'))\n",
    "\n",
    "import pandas as pd\n",
    "pd.options.display.max_rows=5\n"
   ]
  },
  {
   "cell_type": "markdown",
   "id": "e534604b",
   "metadata": {
    "slideshow": {
     "slide_type": "slide"
    }
   },
   "source": [
    "# שאלות ממבחני עבר"
   ]
  },
  {
   "cell_type": "markdown",
   "id": "34324761",
   "metadata": {
    "slideshow": {
     "slide_type": "fragment"
    }
   },
   "source": [
    "[Exam 2024 semester B Moed A](https://courses.cs.tau.ac.il/pyProg/2425a/exams/exam2324b_moedA.pdf)"
   ]
  },
  {
   "cell_type": "markdown",
   "id": "b0f9d8a3",
   "metadata": {
    "slideshow": {
     "slide_type": "subslide"
    }
   },
   "source": [
    "E."
   ]
  },
  {
   "cell_type": "code",
   "execution_count": null,
   "id": "271ab21b",
   "metadata": {
    "execution": {
     "iopub.execute_input": "2025-03-10T07:51:32.197258Z",
     "iopub.status.busy": "2025-03-10T07:51:32.196908Z",
     "iopub.status.idle": "2025-03-10T07:51:32.202899Z",
     "shell.execute_reply": "2025-03-10T07:51:32.202138Z"
    },
    "slideshow": {
     "slide_type": "fragment"
    }
   },
   "outputs": [],
   "source": [
    "def read_in_range(start_month,start_year,end_month,end_year):\n",
    "    cur_month=start_month\n",
    "    cur_year=start_year\n",
    "    dfs=[]\n",
    "    while cur_year < end_year or (cur_year == end_year and cur_month <= end_month):\n",
    "        dfs.append(pd.read_csv(\"files/orders_\"+str(cur_month)+\"_\"+str(cur_year)+\".csv\")) # The \"files/\" prefix in the path is due to technical reasons, and should be ignored.\n",
    "        cur_month+=1\n",
    "        if cur_month>12:\n",
    "            cur_year+=1\n",
    "            cur_month=1\n",
    "    return pd.concat(dfs, ignore_index=True)"
   ]
  },
  {
   "cell_type": "markdown",
   "id": "9c9b8d5c",
   "metadata": {
    "slideshow": {
     "slide_type": "subslide"
    }
   },
   "source": [
    "Read products and order tables"
   ]
  },
  {
   "cell_type": "code",
   "execution_count": null,
   "id": "b9c591be",
   "metadata": {
    "execution": {
     "iopub.execute_input": "2025-03-10T07:51:32.206301Z",
     "iopub.status.busy": "2025-03-10T07:51:32.205955Z",
     "iopub.status.idle": "2025-03-10T07:51:32.221590Z",
     "shell.execute_reply": "2025-03-10T07:51:32.220760Z"
    },
    "slideshow": {
     "slide_type": "fragment"
    }
   },
   "outputs": [],
   "source": [
    "df_p=pd.read_csv(\"files/products2.csv\") # The \"files/\" prefix in the path is due to technical reasons, and should be ignored.\n",
    "df_o=read_in_range(2,2024,4,2024)"
   ]
  },
  {
   "cell_type": "markdown",
   "id": "07d32c58",
   "metadata": {
    "slideshow": {
     "slide_type": "subslide"
    }
   },
   "source": [
    "F."
   ]
  },
  {
   "cell_type": "code",
   "execution_count": null,
   "id": "94596950",
   "metadata": {
    "execution": {
     "iopub.execute_input": "2025-03-10T07:51:32.225232Z",
     "iopub.status.busy": "2025-03-10T07:51:32.224863Z",
     "iopub.status.idle": "2025-03-10T07:51:32.244162Z",
     "shell.execute_reply": "2025-03-10T07:51:32.243406Z"
    },
    "slideshow": {
     "slide_type": "fragment"
    }
   },
   "outputs": [],
   "source": [
    "display(df_o)\n",
    "df_o.fillna(df_o.median(),inplace=True)\n",
    "display(df_o)"
   ]
  },
  {
   "cell_type": "markdown",
   "id": "94322ded",
   "metadata": {
    "slideshow": {
     "slide_type": "subslide"
    }
   },
   "source": [
    "G."
   ]
  },
  {
   "cell_type": "code",
   "execution_count": null,
   "id": "4a123bec",
   "metadata": {
    "execution": {
     "iopub.execute_input": "2025-03-10T07:51:32.247588Z",
     "iopub.status.busy": "2025-03-10T07:51:32.247236Z",
     "iopub.status.idle": "2025-03-10T07:51:32.266411Z",
     "shell.execute_reply": "2025-03-10T07:51:32.265680Z"
    },
    "slideshow": {
     "slide_type": "fragment"
    }
   },
   "outputs": [],
   "source": [
    "df_p.index=df_p['Name'] # First line is missing\n",
    "df_join=pd.concat((df_p,df_o.T), axis=1)\n",
    "df_join"
   ]
  },
  {
   "cell_type": "markdown",
   "id": "82238630",
   "metadata": {
    "slideshow": {
     "slide_type": "subslide"
    }
   },
   "source": [
    "H."
   ]
  },
  {
   "cell_type": "code",
   "execution_count": null,
   "id": "0b9320d1",
   "metadata": {
    "execution": {
     "iopub.execute_input": "2025-03-10T07:51:32.269780Z",
     "iopub.status.busy": "2025-03-10T07:51:32.269432Z",
     "iopub.status.idle": "2025-03-10T07:51:32.277715Z",
     "shell.execute_reply": "2025-03-10T07:51:32.276919Z"
    },
    "slideshow": {
     "slide_type": "fragment"
    }
   },
   "outputs": [],
   "source": [
    "profit=df_join.iloc[:,4:].sum(axis=1)*( df_join['Price']- df_join['Cost']) # \"axis of sum should be 1\"\n",
    "profit"
   ]
  },
  {
   "cell_type": "markdown",
   "id": "853ee0c1",
   "metadata": {
    "slideshow": {
     "slide_type": "subslide"
    }
   },
   "source": [
    "I."
   ]
  },
  {
   "cell_type": "code",
   "execution_count": null,
   "id": "afff74b4",
   "metadata": {
    "execution": {
     "iopub.execute_input": "2025-03-10T07:51:32.281127Z",
     "iopub.status.busy": "2025-03-10T07:51:32.280658Z",
     "iopub.status.idle": "2025-03-10T07:51:32.290554Z",
     "shell.execute_reply": "2025-03-10T07:51:32.289694Z"
    },
    "slideshow": {
     "slide_type": "fragment"
    }
   },
   "outputs": [],
   "source": [
    "df_p['Gain']=df_o.sum()*(df_p['Price']-df_p['Cost'])\n",
    "df_p.groupby('Vendor')['Gain'].sum().idxmin()"
   ]
  }
 ],
 "metadata": {
  "celltoolbar": "Slideshow",
  "colab": {
   "provenance": []
  },
  "kernelspec": {
   "display_name": "Python 3 (ipykernel)",
   "language": "python",
   "name": "python3"
  },
  "language_info": {
   "codemirror_mode": {
    "name": "ipython",
    "version": 3
   },
   "file_extension": ".py",
   "mimetype": "text/x-python",
   "name": "python",
   "nbconvert_exporter": "python",
   "pygments_lexer": "ipython3",
   "version": "3.11.12"
  }
 },
 "nbformat": 4,
 "nbformat_minor": 5
}
