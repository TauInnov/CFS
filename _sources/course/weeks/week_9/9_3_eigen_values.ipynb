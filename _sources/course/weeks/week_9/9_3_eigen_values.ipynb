{
 "cells": [
  {
   "cell_type": "code",
   "execution_count": null,
   "id": "7e548e8d-cb63-4291-855a-e784ac8f74c5",
   "metadata": {
    "slideshow": {
     "slide_type": "skip"
    },
    "tags": [
     "remove-cell"
    ]
   },
   "outputs": [
    {
     "data": {
      "text/html": [
       "<!-- RTL Fix the jupyter notebook 7  -->\n",
       "<style>\n",
       "    .jp-RenderedHTMLCommon {\n",
       "        padding-top: 2em !important;\n",
       "  }   \n",
       "    .jp-RenderedHTMLCommon, .jp-RenderedHTMLCommon * {\n",
       "        direction: rtl !important;\n",
       "        text-align:right !important;\n",
       "  }\n",
       "    .jp-MarkdownCell .jp-InputArea-editor {\n",
       "        direction: rtl !important; \n",
       "        text-align:right !important;\n",
       "        padding-top: 2em !important;\n",
       "  } \n",
       "\n",
       " .jp-RenderedHTMLCommon code, .jp-RenderedHTMLCommon code span {\n",
       "        text-align:left !important;\n",
       "        direction: ltr !important;\n",
       "        unicode-bidi: embed !important;\n",
       "\n",
       "    }\n",
       "    .jp-RenderedHTMLCommon pre:has(code) {\n",
       "      direction: ltr !important;\n",
       "      text-align: left!important;\n",
       "    }\n",
       "\n",
       "</style> \n"
      ],
      "text/plain": [
       "<IPython.core.display.HTML object>"
      ]
     },
     "metadata": {},
     "output_type": "display_data"
    }
   ],
   "source": [
    "%%html\n",
    "<script>\n",
    "(function() {\n",
    "  // Create the toggle button\n",
    "  const rtlButton = document.createElement(\"button\");\n",
    "  rtlButton.textContent = \"Toggle LTR\";\n",
    "  rtlButton.id = \"top-rtl-toggle\";\n",
    "  rtlButton.style.marginLeft = \"8px\";\n",
    "  rtlButton.style.padding = \"4px 10px\";\n",
    "  rtlButton.style.fontSize = \"14px\";\n",
    "  rtlButton.style.cursor = \"pointer\";\n",
    "\n",
    "  // State\n",
    "  var rtlActive = false;\n",
    "\n",
    "  // Styling function\n",
    "  var applyStyleToEditor = (editor) => {\n",
    "    if (!editor) return;\n",
    "    var direction = getComputedStyle(editor).getPropertyValue('direction')=='rtl' ? 'ltr' : 'rtl';\n",
    "    var text_align = getComputedStyle(editor).getPropertyValue('text-align')=='right' ? 'left' : 'right';\n",
    "    editor.style.setProperty('direction', direction, 'important');\n",
    "    editor.style.setProperty('text-align', text_align, 'important');\n",
    "  };\n",
    "\n",
    "  // Toggle logic\n",
    "  rtlButton.onclick = () => {\n",
    "    rtlActive = !rtlActive;\n",
    "    rtlButton.textContent = rtlActive ? \"Toggle LTR\" : \"Toggle RTL\";\n",
    "    document.querySelectorAll('.jp-MarkdownCell .jp-InputArea-editor').forEach(applyStyleToEditor);\n",
    "    document.querySelectorAll('.jp-RenderedHTMLCommon code, .jp-RenderedHTMLCommon code span').forEach(applyStyleToEditor);\n",
    "    document.querySelectorAll('jp-RenderedHTMLCommon, .jp-RenderedHTMLCommon *').forEach(applyStyleToEditor);\n",
    "  };\n",
    "\n",
    "  // Watch for focus into editing Markdown cells\n",
    "  // document.addEventListener('focusin', (event) => {\n",
    "  //   const editor = event.target.closest('.jp-MarkdownCell .jp-InputArea-editor');\n",
    "  //    if (editor) applyStyleToEditor(editor);\n",
    "  // });\n",
    "\n",
    "  // Insert into top toolbar if not already present\n",
    "  var insertIntoToolbar = () => {\n",
    "    const toolbar = document.querySelector('.jp-NotebookPanel-toolbar');\n",
    "    if (toolbar && !document.getElementById(\"top-rtl-toggle\")) {\n",
    "      toolbar.appendChild(rtlButton);\n",
    "    } else {\n",
    "      // Try again in a moment if toolbar isn't ready yet\n",
    "      setTimeout(insertIntoToolbar, 300);\n",
    "    }\n",
    "  };\n",
    "\n",
    "  insertIntoToolbar();\n",
    "})();\n",
    "</script>"
   ]
  },
  {
   "cell_type": "code",
   "execution_count": null,
   "id": "2f2d03fd-729e-439a-9ab0-de58c598e9ca",
   "metadata": {
    "tags": [
     "remove-cell"
    ]
   },
   "outputs": [
    {
     "data": {
      "text/html": [
       "<script>\n",
       "(function() {\n",
       "  // Create the toggle button\n",
       "  const rtlButton = document.createElement(\"button\");\n",
       "  rtlButton.textContent = \"Toggle LTR\";\n",
       "  rtlButton.id = \"top-rtl-toggle\";\n",
       "  rtlButton.style.marginLeft = \"8px\";\n",
       "  rtlButton.style.padding = \"4px 10px\";\n",
       "  rtlButton.style.fontSize = \"14px\";\n",
       "  rtlButton.style.cursor = \"pointer\";\n",
       "\n",
       "  // State\n",
       "  var rtlActive = false;\n",
       "\n",
       "  // Styling function\n",
       "  var applyStyleToEditor = (editor) => {\n",
       "    if (!editor) return;\n",
       "    var direction = getComputedStyle(editor).getPropertyValue('direction')=='rtl' ? 'ltr' : 'rtl';\n",
       "    var text_align = getComputedStyle(editor).getPropertyValue('text-align')=='right' ? 'left' : 'right';\n",
       "    editor.style.setProperty('direction', direction, 'important');\n",
       "    editor.style.setProperty('text-align', text_align, 'important');\n",
       "  };\n",
       "\n",
       "  // Toggle logic\n",
       "  rtlButton.onclick = () => {\n",
       "    rtlActive = !rtlActive;\n",
       "    rtlButton.textContent = rtlActive ? \"Toggle LTR\" : \"Toggle RTL\";\n",
       "    document.querySelectorAll('.jp-MarkdownCell .jp-InputArea-editor').forEach(applyStyleToEditor);\n",
       "    document.querySelectorAll('.jp-RenderedHTMLCommon code, .jp-RenderedHTMLCommon code span').forEach(applyStyleToEditor);\n",
       "    document.querySelectorAll('jp-RenderedHTMLCommon, .jp-RenderedHTMLCommon *').forEach(applyStyleToEditor);\n",
       "  };\n",
       "\n",
       "  // Watch for focus into editing Markdown cells\n",
       "  // document.addEventListener('focusin', (event) => {\n",
       "  //   const editor = event.target.closest('.jp-MarkdownCell .jp-InputArea-editor');\n",
       "  //    if (editor) applyStyleToEditor(editor);\n",
       "  // });\n",
       "\n",
       "  // Insert into top toolbar if not already present\n",
       "  var insertIntoToolbar = () => {\n",
       "    const toolbar = document.querySelector('.jp-NotebookPanel-toolbar');\n",
       "    if (toolbar && !document.getElementById(\"top-rtl-toggle\")) {\n",
       "      toolbar.appendChild(rtlButton);\n",
       "    } else {\n",
       "      // Try again in a moment if toolbar isn't ready yet\n",
       "      setTimeout(insertIntoToolbar, 300);\n",
       "    }\n",
       "  };\n",
       "\n",
       "  insertIntoToolbar();\n",
       "})();\n",
       "</script>\n"
      ],
      "text/plain": [
       "<IPython.core.display.HTML object>"
      ]
     },
     "metadata": {},
     "output_type": "display_data"
    }
   ],
   "source": [
    "%%html\n",
    "<!-- <style>\n",
    "  table {display: inline-block}\n",
    "</style> -->"
   ]
  },
  {
   "cell_type": "markdown",
   "id": "4d058900",
   "metadata": {},
   "source": [
    "## ערכים עצמיים, וקטורים עצמיים, עקבה ודטרמיננטה\n",
    "\n",
    "למטריצה $A$ מתקבלים **ערכים עצמיים** $\\lambda_i$ ו־**וקטורים עצמיים** $v_i$ כך ש־\n",
    "\n",
    "$$\n",
    "A v_i = \\lambda_i v_i .\n",
    "$$\n",
    "\n",
    "### אינטואיציה פיסיקלית\n",
    "בפיסיקה, ערכים ווקטורים עצמיים מופיעים בהקשרים רבים:\n",
    "- **מצבים נורמליים** במערכות לינאריות — למשל תנודות קטנות סביב נקודת שיווי משקל.\n",
    "- **כיווני יציבות/אי־יציבות** במערכות דינמיות.\n",
    "- **צירים עיקריים** של התפלגות או קירוב קוודרטי (principal axes).\n",
    "\n",
    "* `np.linalg.eig(A)` מחזירה `(w, V)`:\n",
    "  - `w` – מערך הערכים העצמיים.\n",
    "  - `V` – מטריצה שבה כל עמודה היא וקטור עצמי מתאים.\n",
    "* `np.linalg.eigvals(A)` מחזירה רק את הערכים העצמיים.\n",
    "\n",
    "במקרה של מטריצה **סימטרית** (או הרמיטית ממשית), מתקיים:\n",
    "* הערכים העצמיים ממשיים.\n",
    "* הווקטורים העצמיים ניתנים לבחירה כאורתונורמליים (זווית ישרה ונורמה 1).\n",
    "* לשימוש כזה עדיף `np.linalg.eigh`, המנצל את מבנה הסימטריה ומחזיר תוצאה יציבה יותר.\n",
    "\n",
    "### קשרים שימושיים\n",
    "* העקבה (trace) של מטריצה היא סכום הערכים העצמיים:\n",
    "\n",
    "  $$\n",
    "  \\mathrm{trace}(A) = \\sum_i \\lambda_i\n",
    "  $$\n",
    "\n",
    "* הדטרמיננטה (det) היא מכפלת הערכים העצמיים:\n",
    "  \n",
    "  $$\n",
    "  \\det(A) = \\prod_i \\lambda_i\n",
    "  $$\n",
    "\n",
    "### ערכים עצמיים ווקטורים עצמיים עבור מטריצה סימטרית\n",
    "\n",
    "כאשר $A$ היא מטריצה סימטרית (כלומר $A^T = A$), יש לה תכונות נוחות במיוחד:\n",
    "* כל הערכים העצמיים שלה ממשיים.\n",
    "* הווקטורים העצמיים שלה אורתונורמליים (מאונכים ובעלי אורך 1).\n",
    "\n",
    "ב־NumPy עדיף להשתמש ב־`np.linalg.eigh` (במקום `eig`) עבור מטריצות כאלה, משום שהאלגוריתם מנצל את הסימטריה ומחזיר תוצאה יציבה וממוינת.\n",
    "\n",
    "בדוגמה הזו נחשב:\n",
    "* את הערכים העצמיים $w$ והווקטורים העצמיים $V$,\n",
    "* את העקבה (`trace`) והדטרמיננטה (`det`) של $A$,\n",
    "* ונראה שאכן מתקיים $\\mathrm{trace}(A) = \\sum_i \\lambda_i$ ו־$\\det(A) = \\prod_i \\lambda_i$.\n",
    "  \n",
    "בנוסף נבדוק:\n",
    "* שהווקטורים העצמיים אורתונורמליים ($V^T V = I$),\n",
    "* ושניתן לשחזר את $A$ מפירוק הערכים העצמיים:  \n",
    "  $$\n",
    "  A \\approx V \\, \\mathrm{diag}(w) \\, V^T\n",
    "  $$\n",
    "\n"
   ]
  },
  {
   "cell_type": "code",
   "execution_count": null,
   "id": "244714c6",
   "metadata": {},
   "outputs": [],
   "source": [
    "# Symmetric example: prefer eigh\n",
    "A = np.array([[4., 1., 0.],\n",
    "              [1., 3., 1.],\n",
    "              [0., 1., 2.]], dtype=float)\n",
    "\n",
    "w, V = np.linalg.eigh(A)     # sorted ascending\n",
    "trA = np.trace(A)\n",
    "detA = np.linalg.det(A)\n",
    "\n",
    "trace_vs_sum = trA, np.sum(w)\n",
    "det_vs_prod   = detA, np.prod(w)\n",
    "\n",
    "# Check orthonormality and reconstruction A ≈ V diag(w) V^T\n",
    "Icheck = V.T @ V\n",
    "Arec = V @ np.diag(w) @ V.T\n",
    "np.allclose(Icheck, np.eye(3)), np.allclose(Arec, A), trace_vs_sum, det_vs_prod\n"
   ]
  },
  {
   "cell_type": "markdown",
   "id": "cff5d700",
   "metadata": {},
   "source": [
    "### מטריצה לא סימטרית וערכים עצמיים מרוכבים\n",
    "\n",
    "לא כל המטריצות הן סימטריות. כאשר $A$ אינה סימטרית, ייתכן שהערכים העצמיים שלה יהיו **מספרים מרוכבים**.\n",
    "\n",
    "בדוגמה הזו נגדיר מטריצה $B$ שמתארת סיבוב במישור:\n",
    "\n",
    "$$\n",
    "B = \\begin{bmatrix}\n",
    "0 & -1 \\\\\n",
    "1 & \\;\\;0\n",
    "\\end{bmatrix}\n",
    "$$\n",
    "\n",
    "המטריצה הזו לא סימטרית, ולכן הערכים העצמיים שלה יוצאים מרוכבים:\n",
    "\n",
    "$$\n",
    "\\lambda = \\pm i\n",
    "$$\n",
    "\n",
    "ב־NumPy נשתמש ב־`np.linalg.eig` כדי לקבל גם את הערכים העצמיים (שיכולים להיות מרוכבים) וגם את הווקטורים העצמיים המתאימים."
   ]
  },
  {
   "cell_type": "code",
   "execution_count": 6,
   "id": "1832d72b",
   "metadata": {},
   "outputs": [
    {
     "data": {
      "text/plain": [
       "(array([0.+1.j, 0.-1.j]),\n",
       " array([[0.70710678+0.j        , 0.70710678-0.j        ],\n",
       "        [0.        -0.70710678j, 0.        +0.70710678j]]))"
      ]
     },
     "execution_count": 6,
     "metadata": {},
     "output_type": "execute_result"
    }
   ],
   "source": [
    "# Non-symmetric example: complex eigenvalues are possible\n",
    "B = np.array([[0., -1.],\n",
    "              [1.,  0.]])\n",
    "wB, VB = np.linalg.eig(B)\n",
    "wB, VB\n"
   ]
  }
 ],
 "metadata": {
  "celltoolbar": "Slideshow",
  "kernelspec": {
   "display_name": "Python 3",
   "language": "python",
   "name": "python3"
  },
  "language_info": {
   "codemirror_mode": {
    "name": "ipython",
    "version": 3
   },
   "file_extension": ".py",
   "mimetype": "text/x-python",
   "name": "python",
   "nbconvert_exporter": "python",
   "pygments_lexer": "ipython3",
   "version": "3.12.1"
  }
 },
 "nbformat": 4,
 "nbformat_minor": 5
}
