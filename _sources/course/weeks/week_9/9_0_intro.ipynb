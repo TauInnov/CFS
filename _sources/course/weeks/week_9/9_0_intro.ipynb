{
 "cells": [
  {
   "cell_type": "code",
   "execution_count": null,
   "id": "7e548e8d-cb63-4291-855a-e784ac8f74c5",
   "metadata": {
    "slideshow": {
     "slide_type": "skip"
    },
    "tags": [
     "remove-cell"
    ]
   },
   "outputs": [
    {
     "data": {
      "text/html": [
       "<!-- RTL Fix the jupyter notebook 7  -->\n",
       "<style>\n",
       "    .jp-RenderedHTMLCommon {\n",
       "        padding-top: 2em !important;\n",
       "  }   \n",
       "    .jp-RenderedHTMLCommon, .jp-RenderedHTMLCommon * {\n",
       "        direction: rtl !important;\n",
       "        text-align:right !important;\n",
       "  }\n",
       "    .jp-MarkdownCell .jp-InputArea-editor {\n",
       "        direction: rtl !important; \n",
       "        text-align:right !important;\n",
       "        padding-top: 2em !important;\n",
       "  } \n",
       "\n",
       " .jp-RenderedHTMLCommon code, .jp-RenderedHTMLCommon code span {\n",
       "        text-align:left !important;\n",
       "        direction: ltr !important;\n",
       "        unicode-bidi: embed !important;\n",
       "\n",
       "    }\n",
       "    .jp-RenderedHTMLCommon pre:has(code) {\n",
       "      direction: ltr !important;\n",
       "      text-align: left!important;\n",
       "    }\n",
       "\n",
       "</style> \n"
      ],
      "text/plain": [
       "<IPython.core.display.HTML object>"
      ]
     },
     "metadata": {},
     "output_type": "display_data"
    }
   ],
   "source": [
    "%%html\n",
    "<script>\n",
    "(function() {\n",
    "  // Create the toggle button\n",
    "  const rtlButton = document.createElement(\"button\");\n",
    "  rtlButton.textContent = \"Toggle LTR\";\n",
    "  rtlButton.id = \"top-rtl-toggle\";\n",
    "  rtlButton.style.marginLeft = \"8px\";\n",
    "  rtlButton.style.padding = \"4px 10px\";\n",
    "  rtlButton.style.fontSize = \"14px\";\n",
    "  rtlButton.style.cursor = \"pointer\";\n",
    "\n",
    "  // State\n",
    "  var rtlActive = false;\n",
    "\n",
    "  // Styling function\n",
    "  var applyStyleToEditor = (editor) => {\n",
    "    if (!editor) return;\n",
    "    var direction = getComputedStyle(editor).getPropertyValue('direction')=='rtl' ? 'ltr' : 'rtl';\n",
    "    var text_align = getComputedStyle(editor).getPropertyValue('text-align')=='right' ? 'left' : 'right';\n",
    "    editor.style.setProperty('direction', direction, 'important');\n",
    "    editor.style.setProperty('text-align', text_align, 'important');\n",
    "  };\n",
    "\n",
    "  // Toggle logic\n",
    "  rtlButton.onclick = () => {\n",
    "    rtlActive = !rtlActive;\n",
    "    rtlButton.textContent = rtlActive ? \"Toggle LTR\" : \"Toggle RTL\";\n",
    "    document.querySelectorAll('.jp-MarkdownCell .jp-InputArea-editor').forEach(applyStyleToEditor);\n",
    "    document.querySelectorAll('.jp-RenderedHTMLCommon code, .jp-RenderedHTMLCommon code span').forEach(applyStyleToEditor);\n",
    "    document.querySelectorAll('jp-RenderedHTMLCommon, .jp-RenderedHTMLCommon *').forEach(applyStyleToEditor);\n",
    "  };\n",
    "\n",
    "  // Watch for focus into editing Markdown cells\n",
    "  // document.addEventListener('focusin', (event) => {\n",
    "  //   const editor = event.target.closest('.jp-MarkdownCell .jp-InputArea-editor');\n",
    "  //    if (editor) applyStyleToEditor(editor);\n",
    "  // });\n",
    "\n",
    "  // Insert into top toolbar if not already present\n",
    "  var insertIntoToolbar = () => {\n",
    "    const toolbar = document.querySelector('.jp-NotebookPanel-toolbar');\n",
    "    if (toolbar && !document.getElementById(\"top-rtl-toggle\")) {\n",
    "      toolbar.appendChild(rtlButton);\n",
    "    } else {\n",
    "      // Try again in a moment if toolbar isn't ready yet\n",
    "      setTimeout(insertIntoToolbar, 300);\n",
    "    }\n",
    "  };\n",
    "\n",
    "  insertIntoToolbar();\n",
    "})();\n",
    "</script>"
   ]
  },
  {
   "cell_type": "code",
   "execution_count": null,
   "id": "2f2d03fd-729e-439a-9ab0-de58c598e9ca",
   "metadata": {
    "tags": [
     "remove-cell"
    ]
   },
   "outputs": [
    {
     "data": {
      "text/html": [
       "<script>\n",
       "(function() {\n",
       "  // Create the toggle button\n",
       "  const rtlButton = document.createElement(\"button\");\n",
       "  rtlButton.textContent = \"Toggle LTR\";\n",
       "  rtlButton.id = \"top-rtl-toggle\";\n",
       "  rtlButton.style.marginLeft = \"8px\";\n",
       "  rtlButton.style.padding = \"4px 10px\";\n",
       "  rtlButton.style.fontSize = \"14px\";\n",
       "  rtlButton.style.cursor = \"pointer\";\n",
       "\n",
       "  // State\n",
       "  var rtlActive = false;\n",
       "\n",
       "  // Styling function\n",
       "  var applyStyleToEditor = (editor) => {\n",
       "    if (!editor) return;\n",
       "    var direction = getComputedStyle(editor).getPropertyValue('direction')=='rtl' ? 'ltr' : 'rtl';\n",
       "    var text_align = getComputedStyle(editor).getPropertyValue('text-align')=='right' ? 'left' : 'right';\n",
       "    editor.style.setProperty('direction', direction, 'important');\n",
       "    editor.style.setProperty('text-align', text_align, 'important');\n",
       "  };\n",
       "\n",
       "  // Toggle logic\n",
       "  rtlButton.onclick = () => {\n",
       "    rtlActive = !rtlActive;\n",
       "    rtlButton.textContent = rtlActive ? \"Toggle LTR\" : \"Toggle RTL\";\n",
       "    document.querySelectorAll('.jp-MarkdownCell .jp-InputArea-editor').forEach(applyStyleToEditor);\n",
       "    document.querySelectorAll('.jp-RenderedHTMLCommon code, .jp-RenderedHTMLCommon code span').forEach(applyStyleToEditor);\n",
       "    document.querySelectorAll('jp-RenderedHTMLCommon, .jp-RenderedHTMLCommon *').forEach(applyStyleToEditor);\n",
       "  };\n",
       "\n",
       "  // Watch for focus into editing Markdown cells\n",
       "  // document.addEventListener('focusin', (event) => {\n",
       "  //   const editor = event.target.closest('.jp-MarkdownCell .jp-InputArea-editor');\n",
       "  //    if (editor) applyStyleToEditor(editor);\n",
       "  // });\n",
       "\n",
       "  // Insert into top toolbar if not already present\n",
       "  var insertIntoToolbar = () => {\n",
       "    const toolbar = document.querySelector('.jp-NotebookPanel-toolbar');\n",
       "    if (toolbar && !document.getElementById(\"top-rtl-toggle\")) {\n",
       "      toolbar.appendChild(rtlButton);\n",
       "    } else {\n",
       "      // Try again in a moment if toolbar isn't ready yet\n",
       "      setTimeout(insertIntoToolbar, 300);\n",
       "    }\n",
       "  };\n",
       "\n",
       "  insertIntoToolbar();\n",
       "})();\n",
       "</script>\n"
      ],
      "text/plain": [
       "<IPython.core.display.HTML object>"
      ]
     },
     "metadata": {},
     "output_type": "display_data"
    }
   ],
   "source": [
    "%%html\n",
    "<!-- <style>\n",
    "  table {display: inline-block}\n",
    "</style> -->"
   ]
  },
  {
   "cell_type": "markdown",
   "id": "45dbdbcd",
   "metadata": {},
   "source": [
    "# שבוע 9 - Numpy מתקדם"
   ]
  },
  {
   "cell_type": "markdown",
   "id": "d706dd3b",
   "metadata": {},
   "source": [
    "שבוע זה ממשיך את הבסיס ממחברת NumPy הקודמת, ומעמיק בנושאים שימושיים לפיסיקה חישובית:\n",
    "- פעולות מטריציוניות: @, np.matmul, np.dot, transpose, ו-np.linalg.solve.\n",
    "- ערכים/וקטורים עצמיים: np.linalg.eig, np.linalg.eigvals, קשרים ל-trace ול-det; אינטואיציה פיסיקלית.\n",
    "- SVD: np.linalg.svd ורעיון דחיסה/פירוק מצבים.\n",
    "- דוגמאות מסכמות: דחיסת תמונה והערכת מונטה-קרלו של π."
   ]
  },
  {
   "cell_type": "code",
   "execution_count": null,
   "id": "dad65d64",
   "metadata": {},
   "outputs": [],
   "source": [
    "import numpy as np\n",
    "import matplotlib.pyplot as plt\n",
    "\n",
    "# Modern RNG (prefer over legacy np.random.*)\n",
    "rng = np.random.default_rng(seed=42)\n",
    "\n",
    "np.__version__, \"RNG OK\""
   ]
  }
 ],
 "metadata": {
  "celltoolbar": "Slideshow",
  "kernelspec": {
   "display_name": "Python 3",
   "language": "python",
   "name": "python3"
  },
  "language_info": {
   "codemirror_mode": {
    "name": "ipython",
    "version": 3
   },
   "file_extension": ".py",
   "mimetype": "text/x-python",
   "name": "python",
   "nbconvert_exporter": "python",
   "pygments_lexer": "ipython3",
   "version": "3.12.1"
  }
 },
 "nbformat": 4,
 "nbformat_minor": 5
}
