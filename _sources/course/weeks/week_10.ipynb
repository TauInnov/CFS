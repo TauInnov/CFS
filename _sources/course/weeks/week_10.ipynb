{
 "cells": [
  {
   "cell_type": "markdown",
   "id": "17764da7",
   "metadata": {},
   "source": [
    "# שבוע 10 — חישובים מדעיים עם SciPy\n",
    "\n",
    "בשבוע העשירי נצלול אל הספרייה **SciPy**, אחת מאבני היסוד של מדעי הנתונים והחישוב הפיזיקלי בפייתון.  \n",
    "נלמד כיצד לבצע אינטגרציה, אופטימיזציה, אינטרפולציה, ולעבוד עם קבועים פיזיקליים –  \n",
    "כלים קריטיים לכל פיזיקאי, מהנדס או חוקר העוסק בנתונים אמפיריים ובמודלים מתמטיים.\n",
    "\n",
    "נבין כיצד ניתן להשתמש ב־SciPy כדי:\n",
    "- לגשת לקבועים פיזיקליים מדויקים כמו $c, G, h$ ולתרגם יחידות בין מערכות שונות  \n",
    "- לחשב אינטגרלים של פונקציות (חד־ממדיים ורב־ממדיים) בצורה נומרית  \n",
    "- למצוא מינימום ומקסימום של פונקציות באמצעות שיטות אופטימיזציה מתקדמות  \n",
    "<!-- - לבצע אינטרפולציה על נתונים ניסיוניים ולבנות מהם פונקציות רציפות   -->\n",
    "\n",
    "בסוף השבוע תדעו:\n",
    "- להשתמש במודול `scipy.constants` לקבועים ויחידות פיזיקליות  \n",
    "- לבצע אינטגרציה נומרית עם `scipy.integrate`  \n",
    "- לפתור בעיות אופטימיזציה עם `scipy.optimize`  \n",
    "<!-- - לבנות מודלים של אינטרפולציה עם `scipy.interpolate`   -->\n",
    "\n",
    "## Materials\n",
    "- {doc}`10_1 • קבועים פיזיקליים ויחידות <../../course/weeks/week_10/10_1_physical_consts>`  \n",
    "- {doc}`10_2 • אינטגרציה נומרית <../../course/weeks/week_10/10_2_integration>`  \n",
    "- {doc}`10_3 • אופטימיזציה <../../course/weeks/week_10/10_3_optimization>`  \n",
    "<!-- - {doc}`10_4 • אינטרפולציה <../../course/weeks/week_10/10_4_interpolation>`   -->\n"
   ]
  }
 ],
 "metadata": {
  "celltoolbar": "Slideshow",
  "kernelspec": {
   "display_name": "Python 3",
   "language": "python",
   "name": "python3"
  },
  "language_info": {
   "codemirror_mode": {
    "name": "ipython",
    "version": 3
   },
   "file_extension": ".py",
   "mimetype": "text/x-python",
   "name": "python",
   "nbconvert_exporter": "python",
   "pygments_lexer": "ipython3",
   "version": "3.12.1"
  }
 },
 "nbformat": 4,
 "nbformat_minor": 5
}
