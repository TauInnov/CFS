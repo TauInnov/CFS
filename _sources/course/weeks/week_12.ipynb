{
 "cells": [
  {
   "cell_type": "markdown",
   "id": "fd4fc700",
   "metadata": {},
   "source": [
    "# שבוע 12 —  Pandas\n",
    "\n",
    "## Materials\n",
    "- {doc}`11_0 • מבוא לעבודה עם Pandas <../../course/weeks/week_12/12_1_unittesting_intro>`\n",
    "- {doc}`11_0 • מבוא לעבודה עם Pandas <../../course/weeks/week_12/12_2_setup_teardown_edges>`\n"
   ]
  },
  {
   "cell_type": "markdown",
   "id": "4e98160e",
   "metadata": {},
   "source": []
  }
 ],
 "metadata": {
  "celltoolbar": "Slideshow",
  "kernelspec": {
   "display_name": "Python 3",
   "language": "python",
   "name": "python3"
  },
  "language_info": {
   "codemirror_mode": {
    "name": "ipython",
    "version": 3
   },
   "file_extension": ".py",
   "mimetype": "text/x-python",
   "name": "python",
   "nbconvert_exporter": "python",
   "pygments_lexer": "ipython3",
   "version": "3.12.1"
  }
 },
 "nbformat": 4,
 "nbformat_minor": 5
}
