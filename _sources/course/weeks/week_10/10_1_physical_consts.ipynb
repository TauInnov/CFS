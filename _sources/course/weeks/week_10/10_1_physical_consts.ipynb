{
 "cells": [
  {
   "cell_type": "code",
   "execution_count": 1,
   "id": "7e548e8d-cb63-4291-855a-e784ac8f74c5",
   "metadata": {
    "slideshow": {
     "slide_type": "skip"
    },
    "tags": [
     "remove-cell"
    ]
   },
   "outputs": [
    {
     "data": {
      "text/html": [
       "<script>\n",
       "(function() {\n",
       "  // Create the toggle button\n",
       "  const rtlButton = document.createElement(\"button\");\n",
       "  rtlButton.textContent = \"Toggle LTR\";\n",
       "  rtlButton.id = \"top-rtl-toggle\";\n",
       "  rtlButton.style.marginLeft = \"8px\";\n",
       "  rtlButton.style.padding = \"4px 10px\";\n",
       "  rtlButton.style.fontSize = \"14px\";\n",
       "  rtlButton.style.cursor = \"pointer\";\n",
       "\n",
       "  // State\n",
       "  var rtlActive = false;\n",
       "\n",
       "  // Styling function\n",
       "  var applyStyleToEditor = (editor) => {\n",
       "    if (!editor) return;\n",
       "    var direction = getComputedStyle(editor).getPropertyValue('direction')=='rtl' ? 'ltr' : 'rtl';\n",
       "    var text_align = getComputedStyle(editor).getPropertyValue('text-align')=='right' ? 'left' : 'right';\n",
       "    editor.style.setProperty('direction', direction, 'important');\n",
       "    editor.style.setProperty('text-align', text_align, 'important');\n",
       "  };\n",
       "\n",
       "  // Toggle logic\n",
       "  rtlButton.onclick = () => {\n",
       "    rtlActive = !rtlActive;\n",
       "    rtlButton.textContent = rtlActive ? \"Toggle LTR\" : \"Toggle RTL\";\n",
       "    document.querySelectorAll('.jp-MarkdownCell .jp-InputArea-editor').forEach(applyStyleToEditor);\n",
       "    document.querySelectorAll('.jp-RenderedHTMLCommon code, .jp-RenderedHTMLCommon code span').forEach(applyStyleToEditor);\n",
       "    document.querySelectorAll('jp-RenderedHTMLCommon, .jp-RenderedHTMLCommon *').forEach(applyStyleToEditor);\n",
       "  };\n",
       "\n",
       "  // Watch for focus into editing Markdown cells\n",
       "  // document.addEventListener('focusin', (event) => {\n",
       "  //   const editor = event.target.closest('.jp-MarkdownCell .jp-InputArea-editor');\n",
       "  //    if (editor) applyStyleToEditor(editor);\n",
       "  // });\n",
       "\n",
       "  // Insert into top toolbar if not already present\n",
       "  var insertIntoToolbar = () => {\n",
       "    const toolbar = document.querySelector('.jp-NotebookPanel-toolbar');\n",
       "    if (toolbar && !document.getElementById(\"top-rtl-toggle\")) {\n",
       "      toolbar.appendChild(rtlButton);\n",
       "    } else {\n",
       "      // Try again in a moment if toolbar isn't ready yet\n",
       "      setTimeout(insertIntoToolbar, 300);\n",
       "    }\n",
       "  };\n",
       "\n",
       "  insertIntoToolbar();\n",
       "})();\n",
       "</script>\n"
      ],
      "text/plain": [
       "<IPython.core.display.HTML object>"
      ]
     },
     "metadata": {},
     "output_type": "display_data"
    }
   ],
   "source": [
    "%%html\n",
    "<script>\n",
    "(function() {\n",
    "  // Create the toggle button\n",
    "  const rtlButton = document.createElement(\"button\");\n",
    "  rtlButton.textContent = \"Toggle LTR\";\n",
    "  rtlButton.id = \"top-rtl-toggle\";\n",
    "  rtlButton.style.marginLeft = \"8px\";\n",
    "  rtlButton.style.padding = \"4px 10px\";\n",
    "  rtlButton.style.fontSize = \"14px\";\n",
    "  rtlButton.style.cursor = \"pointer\";\n",
    "\n",
    "  // State\n",
    "  var rtlActive = false;\n",
    "\n",
    "  // Styling function\n",
    "  var applyStyleToEditor = (editor) => {\n",
    "    if (!editor) return;\n",
    "    var direction = getComputedStyle(editor).getPropertyValue('direction')=='rtl' ? 'ltr' : 'rtl';\n",
    "    var text_align = getComputedStyle(editor).getPropertyValue('text-align')=='right' ? 'left' : 'right';\n",
    "    editor.style.setProperty('direction', direction, 'important');\n",
    "    editor.style.setProperty('text-align', text_align, 'important');\n",
    "  };\n",
    "\n",
    "  // Toggle logic\n",
    "  rtlButton.onclick = () => {\n",
    "    rtlActive = !rtlActive;\n",
    "    rtlButton.textContent = rtlActive ? \"Toggle LTR\" : \"Toggle RTL\";\n",
    "    document.querySelectorAll('.jp-MarkdownCell .jp-InputArea-editor').forEach(applyStyleToEditor);\n",
    "    document.querySelectorAll('.jp-RenderedHTMLCommon code, .jp-RenderedHTMLCommon code span').forEach(applyStyleToEditor);\n",
    "    document.querySelectorAll('jp-RenderedHTMLCommon, .jp-RenderedHTMLCommon *').forEach(applyStyleToEditor);\n",
    "  };\n",
    "\n",
    "  // Watch for focus into editing Markdown cells\n",
    "  // document.addEventListener('focusin', (event) => {\n",
    "  //   const editor = event.target.closest('.jp-MarkdownCell .jp-InputArea-editor');\n",
    "  //    if (editor) applyStyleToEditor(editor);\n",
    "  // });\n",
    "\n",
    "  // Insert into top toolbar if not already present\n",
    "  var insertIntoToolbar = () => {\n",
    "    const toolbar = document.querySelector('.jp-NotebookPanel-toolbar');\n",
    "    if (toolbar && !document.getElementById(\"top-rtl-toggle\")) {\n",
    "      toolbar.appendChild(rtlButton);\n",
    "    } else {\n",
    "      // Try again in a moment if toolbar isn't ready yet\n",
    "      setTimeout(insertIntoToolbar, 300);\n",
    "    }\n",
    "  };\n",
    "\n",
    "  insertIntoToolbar();\n",
    "})();\n",
    "</script>"
   ]
  },
  {
   "cell_type": "code",
   "execution_count": 2,
   "id": "2f2d03fd-729e-439a-9ab0-de58c598e9ca",
   "metadata": {
    "tags": [
     "remove-cell"
    ]
   },
   "outputs": [
    {
     "data": {
      "text/html": [
       "<!-- <style>\n",
       "  table {display: inline-block}\n",
       "</style> -->\n"
      ],
      "text/plain": [
       "<IPython.core.display.HTML object>"
      ]
     },
     "metadata": {},
     "output_type": "display_data"
    }
   ],
   "source": [
    "%%html\n",
    "<!-- <style>\n",
    "  table {display: inline-block}\n",
    "</style> -->"
   ]
  },
  {
   "cell_type": "markdown",
   "id": "17764da7",
   "metadata": {},
   "source": [
    "## קבועים פיזיקליים\n",
    "**SciPy** מוסיפה לסביבה של NumPy כלים נומריים מתקדמים: אינטגרציה, פתרון ODEs, אופטימיזציה, אינטרפולציה, FFT, עיבוד אותות, אלגברה ליניארית, סטטיסטיקה ועוד.  \n",
    "**קבועים פיזיקליים** זמינים ב־`scipy.constants`: למשל $c, h, k_B, G$ וכד'."
   ]
  },
  {
   "cell_type": "code",
   "execution_count": 3,
   "id": "e7c7445c",
   "metadata": {},
   "outputs": [
    {
     "name": "stdout",
     "output_type": "stream",
     "text": [
      "Some constants:\n",
      "  c       = 2.997925e+08 m/s\n",
      "  h       = 6.626070e-34 J·s\n",
      "  ħ       = 1.054572e-34 J·s\n",
      "  k_B     = 1.380649e-23 J/K\n",
      "  e       = 1.602177e-19 C\n",
      "  1 eV    = 1.602177e-19 J\n",
      "  N_A     = 6.022141e+23 1/mol\n",
      "  R       = 8.314463e+00 J/(mol·K)\n",
      "  σ       = 5.670374e-08 W/(m^2·K^4)\n",
      "  ε0      = 8.854188e-12 F/m\n",
      "  μ0      = 1.256637e-06 N/A^2\n",
      "  G       = 6.674300e-11 m^3/(kg·s^2)\n",
      "  g0      = 9.806650e+00 m/s^2\n",
      "  b_Wien  = 2.897772e-03 m·K\n"
     ]
    }
   ],
   "source": [
    "# %%\n",
    "# Constants and quick NumPy recap — EXPANDED\n",
    "# (Safe to run even if previous cells didn't import constants)\n",
    "import numpy as np\n",
    "from scipy import constants\n",
    "from scipy.constants import physical_constants  # for named constants like Wien's b\n",
    "\n",
    "# --- Core physical constants (SI units) ---\n",
    "c   = constants.c               # speed of light (m/s)\n",
    "h   = constants.h               # Planck constant (J·s)\n",
    "hbar= constants.hbar            # reduced Planck constant (J·s)\n",
    "kB  = constants.Boltzmann       # Boltzmann constant (J/K)\n",
    "e   = constants.e               # elementary charge (C)\n",
    "eV  = constants.electron_volt   # 1 eV in Joule (J)\n",
    "NA  = constants.N_A             # Avogadro number (1/mol)\n",
    "R   = constants.R               # molar gas constant (J/(mol·K))\n",
    "sigma = constants.Stefan_Boltzmann  # Stefan–Boltzmann constant (W/(m^2·K^4))\n",
    "epsilon0 = constants.epsilon_0  # vacuum permittivity (F/m)\n",
    "mu0     = constants.mu_0        # vacuum permeability (N/A^2)\n",
    "G   = constants.G               # gravitational constant (m^3/(kg·s^2))\n",
    "g0  = constants.g               # standard gravity (m/s^2)\n",
    "\n",
    "# Wien's wavelength-displacement constant b ≈ 2.897771955e-3 m·K (via CODATA)\n",
    "b_wien = physical_constants[\"Wien wavelength displacement law constant\"][0]\n",
    "\n",
    "# --- Pretty printing helper (engineering/scientific) ---\n",
    "def fmt(val, unit):\n",
    "    \"\"\"Format a number in scientific notation with a unit.\"\"\"\n",
    "    return f\"{val:.6e} {unit}\"\n",
    "\n",
    "print(\"Some constants:\")\n",
    "print(\"  c       =\", fmt(c, \"m/s\"))\n",
    "print(\"  h       =\", fmt(h, \"J·s\"))\n",
    "print(\"  ħ       =\", fmt(hbar, \"J·s\"))\n",
    "print(\"  k_B     =\", fmt(kB, \"J/K\"))\n",
    "print(\"  e       =\", fmt(e, \"C\"))\n",
    "print(\"  1 eV    =\", fmt(eV, \"J\"))\n",
    "print(\"  N_A     =\", fmt(NA, \"1/mol\"))\n",
    "print(\"  R       =\", fmt(R, \"J/(mol·K)\"))\n",
    "print(\"  σ       =\", fmt(sigma, \"W/(m^2·K^4)\"))\n",
    "print(\"  ε0      =\", fmt(epsilon0, \"F/m\"))\n",
    "print(\"  μ0      =\", fmt(mu0, \"N/A^2\"))\n",
    "print(\"  G       =\", fmt(G, \"m^3/(kg·s^2)\"))\n",
    "print(\"  g0      =\", fmt(g0, \"m/s^2\"))\n",
    "print(\"  b_Wien  =\", fmt(b_wien, \"m·K\"))\n"
   ]
  },
  {
   "cell_type": "markdown",
   "id": "fc318317",
   "metadata": {},
   "source": [
    "נדגים שימוש באמצעות מספר דוגמאות broadcasting ווקטוריזציה:\n",
    "\n",
    "####  1) חישוב אנרגיית פוטון מאורך גל\n",
    "האור הוא קרינה אלקטרומגנטית, ובתיאור הקוונטי שלו הוא מורכב מחלקיקים הנקראים **פוטונים**. לכל פוטון אנרגיה בדידה, הפרופורציונית לתדירות הגל: $E = h f$ (כאשר $h$ הוא קבוע פלאנק). מאחר שמהירות האור נקבעת על־ידי $c = \\lambda f$, מתקבל הקשר השימושי  \n",
    "\n",
    "$E = \\dfrac{h c}{\\lambda}$.  \n",
    "\n",
    "אורך גל קצר יותר (כחול/על־סגול) משמעו אנרגיה גדולה יותר, ואורך גל ארוך יותר (אדום/תת־אדום) משמעו אנרגיה קטנה יותר — עיקרון שמסביר תופעות כמו בליעה/פליטה ספקטרלית, יעילות תאים סולאריים ורגישות הראייה.\n",
    "\n",
    "בדוגמה יצרנו וקטור של אורכי גל אופייניים בתחום הנראה (ננומטר), המרנו למטרים, וחישבנו את $E$ לכל ערך — בבת אחת — באמצעות וקטוריזציה של NumPy (כלומר בלי לולאות מפורשות). לבסוף ביצענו המרות יחידות: מג'ול ל־eV בעזרת $1\\ \\mathrm{eV}$ במונחי ג'ול מתוך `scipy.constants`. כך מקבלים אינטואיציה: ככל שאורך הגל קצר יותר ($\\lambda$ קטן), האנרגיה גדולה יותר.\n"
   ]
  },
  {
   "cell_type": "code",
   "execution_count": 4,
   "id": "11462e5c",
   "metadata": {},
   "outputs": [
    {
     "name": "stdout",
     "output_type": "stream",
     "text": [
      "\n",
      "Photon energy for visible wavelengths:\n",
      "  λ = 400 nm  ->  E = 4.966e-19 J  =   3.100 eV\n",
      "  λ = 500 nm  ->  E = 3.973e-19 J  =   2.480 eV\n",
      "  λ = 600 nm  ->  E = 3.311e-19 J  =   2.066 eV\n",
      "  λ = 700 nm  ->  E = 2.838e-19 J  =   1.771 eV\n"
     ]
    }
   ],
   "source": [
    "# 1) Photon energy from wavelength: E = h*c/λ (vectorized over λ)\n",
    "wavelength_nm = np.array([400, 500, 600, 700])           # nm\n",
    "wavelength_m  = wavelength_nm * 1e-9                      # convert to meters\n",
    "E_J = h * c / wavelength_m                                # Joule\n",
    "E_eV = E_J / eV                                           # electron-volt\n",
    "print(\"\\nPhoton energy for visible wavelengths:\")\n",
    "for lam, Ej, Ev in zip(wavelength_nm, E_J, E_eV):\n",
    "    print(f\"  λ = {lam:>3.0f} nm  ->  E = {Ej:8.3e} J  = {Ev:7.3f} eV\")"
   ]
  },
  {
   "cell_type": "markdown",
   "id": "d88e89a2",
   "metadata": {},
   "source": [
    "#### 2) סקאלת אנרגיה תרמית $k_B T$ ומתיחות תרמית במתח\n",
    "במערכות פיזיקליות בטמפרטורה סופית, החלקיקים אינם נחים אלא נעים באנרגיות אקראיות הנובעות מחום. קנה־המידה הטבעי לאנרגיה תרמית הוא $k_B T$, כאשר $k_B$ הוא קבוע בולצמן ו־$T$ היא הטמפרטורה בקלווין. גודל זה מייצג את האנרגיה הממוצעת של תנודות תרמיות, ומשמש בהבנת תופעות כמו הולכה חשמלית, דיפוזיה ותהליכים סטטיסטיים.  \n",
    "באלקטרוניקה מקובל להמיר את האנרגיה התרמית למתח אופייני באמצעות $V_T = \\tfrac{k_B T}{e}$, כאשר $e$ הוא מטען האלקטרון. מתח זה מהווה קנה־מידה חשוב לקביעת התנהגות של דיודות, טרנזיסטורים ורכיבים מוליכים למחצה, ובטמפרטורת חדר ערכו קרוב ל־$25\\ \\mathrm{mV}$.\n",
    "\n",
    "\n",
    "בדוגמה זו חישבנו עבור מספר טמפרטורות אופייניות את $k_B T$ — סדר־גודל האנרגיות החום־תרמיות במערכת. המרה ל־eV מקלה על ההשוואה לפיזיקה של אלקטרונים ומוליכים למחצה. בנוסף חישבנו את ה״מתח התרמי״ $V_T = \\dfrac{k_B T}{e}$, קנה־מידה חשוב באלקטרוניקה (כ־$25$–$26\\ \\mathrm{mV}$ בטמפרטורת חדר). שוב, הכל נעשה על מערך של $T$ים בבת אחת (וקטוריזציה).\n",
    "\n"
   ]
  },
  {
   "cell_type": "code",
   "execution_count": 5,
   "id": "9571bdf9",
   "metadata": {},
   "outputs": [
    {
     "name": "stdout",
     "output_type": "stream",
     "text": [
      "\n",
      "Thermal scales (vectorized over T):\n",
      "  T =   77 K  ->  k_B T = 1.063e-21 J = 0.0066 eV,  k_B T / e = 6.64 mV\n",
      "  T =  300 K  ->  k_B T = 4.142e-21 J = 0.0259 eV,  k_B T / e = 25.85 mV\n",
      "  T =  600 K  ->  k_B T = 8.284e-21 J = 0.0517 eV,  k_B T / e = 51.70 mV\n",
      "  T = 1000 K  ->  k_B T = 1.381e-20 J = 0.0862 eV,  k_B T / e = 86.17 mV\n"
     ]
    }
   ],
   "source": [
    "# 2) Thermal energy scale: k_B T and thermal voltage (k_B T / e) at a few temperatures\n",
    "T = np.array([77, 300, 600, 1000])                        # K (LN2, room, hot, very hot)\n",
    "kT_J = kB * T\n",
    "kT_eV = kT_J / eV\n",
    "thermal_voltage = kT_J / e                                # Volts\n",
    "print(\"\\nThermal scales (vectorized over T):\")\n",
    "for Ti, kTJ, kTe, Vt in zip(T, kT_J, kT_eV, thermal_voltage):\n",
    "    print(f\"  T = {Ti:>4.0f} K  ->  k_B T = {kTJ:.3e} J = {kTe:.4f} eV,  k_B T / e = {Vt*1e3:.2f} mV\")"
   ]
  },
  {
   "cell_type": "markdown",
   "id": "0fcc0c73",
   "metadata": {},
   "source": [
    "#### 3) דוגמת Broadcasting: אנרגיה פוטנציאלית כבידתית\n",
    "במערכת מכנית פשוטה, אנרגיה פוטנציאלית נגרמת מכוח הכבידה הפועל על מסה $m$ בגובה $h$ מעל נקודת ייחוס: $U = m g h$, כאשר $g$ הוא תאוצת הכובד (כ־$9.8\\ \\mathrm{m/s^2}$ על פני כדור הארץ). קשר זה חשוב להבנת תהליכים יומיומיים כמו נפילת עצמים, עבודה מכנית והמרת אנרגיה במערכות פיזיקליות. במודלים מתקדמים יותר, עקרון זה מהווה בסיס לחישוב שדות כבידה ולחוקי שימור אנרגיה.\n",
    "\n",
    "רצינו את האנרגיה $U = m g h$ לכל צירוף של כמה מסות וכמה גבהים. שימוש ב־**Broadcasting** מאפשר לחשב מטריצה $U$ במכה אחת: ממד המסות כעמודות והגבהים כשורות (או להפך) באמצעות הוספת מימד חדש (`masses[:, None]` ו־`heights[None, :]`). זו פרקטיקה חשובה לעבודה יעילה עם טבלאות/סריגים בלי לולאות.\n"
   ]
  },
  {
   "cell_type": "code",
   "execution_count": 6,
   "id": "f3fb87db",
   "metadata": {},
   "outputs": [
    {
     "name": "stdout",
     "output_type": "stream",
     "text": [
      "\n",
      "Gravitational potential energy matrix U[mass, height] = m * g0 * h (J):\n",
      "[[  0.980665   1.96133    3.92266   19.6133  ]\n",
      " [  4.903325   9.80665   19.6133    98.0665  ]\n",
      " [ 24.516625  49.03325   98.0665   490.3325  ]]\n"
     ]
    }
   ],
   "source": [
    "# 3) Broadcasting example: Gravitational potential energy U = m * g0 * h\n",
    "#    masses shape (3,), heights shape (4,) -> U shape (3,4) via broadcasting\n",
    "masses = np.array([0.2, 1.0, 5.0])                        # kg\n",
    "heights = np.array([0.5, 1.0, 2.0, 10.0])                 # m\n",
    "U = masses[:, None] * g0 * heights[None, :]               # J, shape (3,4)\n",
    "print(\"\\nGravitational potential energy matrix U[mass, height] = m * g0 * h (J):\")\n",
    "print(U)"
   ]
  },
  {
   "cell_type": "markdown",
   "id": "3ec5bd4d",
   "metadata": {},
   "source": [
    "#### 4) חוק וין: אורך גל שיא של גוף שחור\n",
    "בפיזיקה של תרמודינמיקה וקרינה, **גוף שחור** הוא מודל אידיאלי שקולט את כל הקרינה הפוגעת בו ופולט קרינה אלקטרומגנטית בהתאם לטמפרטורתו בלבד. ספקטרום הפליטה מתואר על־ידי חוק פלאנק, אך מיקום השיא בספקטרום נקבע על־פי **חוק וין להזחת השיא**:  \n",
    "$\\lambda_{\\max} = \\dfrac{b}{T}$,  \n",
    "כאשר $b$ הוא קבוע וין ו־$T$ היא הטמפרטורה בקלווין. החוק מראה שככל שהטמפרטורה גבוהה יותר, אורך הגל של השיא קטן יותר — ולכן עצמים חמים פולטים קרינה בתחומי אור קצרים (כחול/על־סגול), בעוד שעצמים קרים יותר פולטים בעיקר באורכי גל ארוכים (אינפרה־אדום). עיקרון זה מסביר את צבעי הכוכבים ואת שיטות למדידת טמפרטורה באמצעות קרינה.\n",
    "\n",
    "חוק וין קובע $\\lambda_{\\max} = \\dfrac{b}{T}$ עם קבוע $b$ שנשלף מ־`physical_constants`. חישבנו את $\\lambda_{\\max}$ עבור כמה טמפרטורות (חדר, נורת להט, שמש) והמרנו לננומטר לקבלת תחושת סדרי גודל. הדוגמה מראה כיצד לשלב קבועים סטנדרטיים עם חישובים וקטוריים — ובמקביל לחזק אינטואיציה: ככל שהטמפרטורה גבוהה יותר, שיא הקרינה מוסת לכיוון אורכי גל קצרים יותר.\n",
    "\n"
   ]
  },
  {
   "cell_type": "code",
   "execution_count": 7,
   "id": "87a72298",
   "metadata": {},
   "outputs": [
    {
     "name": "stdout",
     "output_type": "stream",
     "text": [
      "\n",
      "Blackbody peak wavelength (Wien's law):\n",
      "  T =  300 K  ->  λ_max ≈ 9.659e-06 m  (~9659 nm)\n",
      "  T = 1000 K  ->  λ_max ≈ 2.898e-06 m  (~2898 nm)\n",
      "  T = 3000 K  ->  λ_max ≈ 9.659e-07 m  (~966 nm)\n",
      "  T = 5800 K  ->  λ_max ≈ 4.996e-07 m  (~500 nm)\n"
     ]
    }
   ],
   "source": [
    "# 4) Blackbody peak wavelength via Wien's law: λ_max = b / T (vectorized)\n",
    "T_bb = np.array([300, 1000, 3000, 5800])                  # K (room, hot, incandescent-ish, Sun ~5800 K)\n",
    "lambda_max_m = b_wien / T_bb\n",
    "lambda_max_nm = lambda_max_m * 1e9\n",
    "print(\"\\nBlackbody peak wavelength (Wien's law):\")\n",
    "for Ti, lam_m, lam_nm in zip(T_bb, lambda_max_m, lambda_max_nm):\n",
    "    print(f\"  T = {Ti:>4.0f} K  ->  λ_max ≈ {lam_m:.3e} m  (~{lam_nm:.0f} nm)\")"
   ]
  },
  {
   "cell_type": "markdown",
   "id": "f89b613e",
   "metadata": {},
   "source": [
    "### 5) הקדמה קצרה: מהירות האור וקבועי היסוד באלקטרומגנטיות  \n",
    "באלקטרודינמיקה קלאסית (EMT), מהירות התפשטות של גלי אלקטרומגנטיים בוואקום אינה רק גודל ניסיוני אלא נובעת ישירות מקבועי היסוד:  \n",
    "$c = \\dfrac{1}{\\sqrt{\\varepsilon_0 \\mu_0}}$,  \n",
    "כאשר $\\varepsilon_0$ הוא המקדם הדיאלקטרי של הריק (permitivity) ו־$\\mu_0$ הוא המקדם המגנטי של הריק (permeability). קשר זה מדגים כיצד תכונות הוואקום מכתיבות את מהירות האור, ומהווה דוגמה מרתקת לאחדות של חשמל, מגנטיות וקרינה. מעבר לערך עצמו, בדיקה כזו חשובה לאימות עקביות יחידות וחישובים כשעובדים עם קבועים מספריים ממקורות שונים.\n",
    "\n",
    "ב־EMT ידוע שבוואקום $c = \\dfrac{1}{\\sqrt{\\varepsilon_0 \\mu_0}}$. בדוגמה חישבנו את הצד הימני מקבועים פיזיקליים והשווינו למהירות האור `constants.c`. חישוב **שגיאה יחסית** קטן מאשש עקביות יחידות וערכים, ומהווה בדיקת־שפיות שימושית כשעובדים עם קבועים ממקורות שונים.\n"
   ]
  },
  {
   "cell_type": "code",
   "execution_count": 8,
   "id": "7df8c38f",
   "metadata": {},
   "outputs": [
    {
     "name": "stdout",
     "output_type": "stream",
     "text": [
      "\n",
      "Sanity check: c vs 1/sqrt(ε0 μ0)\n",
      "  c_from_eps_mu = 2.997925e+08 m/s\n",
      "  relative error = 5.967e-13\n"
     ]
    }
   ],
   "source": [
    "# 5) Quick sanity check: c ≈ 1/sqrt(ε0 * μ0)\n",
    "c_from_eps_mu = 1.0 / np.sqrt(epsilon0 * mu0)\n",
    "rel_err = abs(c_from_eps_mu - c) / c\n",
    "print(\"\\nSanity check: c vs 1/sqrt(ε0 μ0)\")\n",
    "print(f\"  c_from_eps_mu = {c_from_eps_mu:.6e} m/s\")\n",
    "print(f\"  relative error = {rel_err:.3e}\")"
   ]
  },
  {
   "cell_type": "code",
   "execution_count": 2,
   "id": "f611bbfb",
   "metadata": {
    "tags": [
     "remove-input"
    ]
   },
   "outputs": [
    {
     "ename": "ModuleNotFoundError",
     "evalue": "No module named 'jupyterquiz'",
     "output_type": "error",
     "traceback": [
      "\u001b[31m---------------------------------------------------------------------------\u001b[39m",
      "\u001b[31mModuleNotFoundError\u001b[39m                       Traceback (most recent call last)",
      "\u001b[36mCell\u001b[39m\u001b[36m \u001b[39m\u001b[32mIn[2]\u001b[39m\u001b[32m, line 2\u001b[39m\n\u001b[32m      1\u001b[39m \u001b[38;5;28;01mimport\u001b[39;00m\u001b[38;5;250m \u001b[39m\u001b[34;01mjson\u001b[39;00m\n\u001b[32m----> \u001b[39m\u001b[32m2\u001b[39m \u001b[38;5;28;01mfrom\u001b[39;00m\u001b[38;5;250m \u001b[39m\u001b[34;01mjupyterquiz\u001b[39;00m\u001b[38;5;250m \u001b[39m\u001b[38;5;28;01mimport\u001b[39;00m display_quiz\n\u001b[32m      4\u001b[39m quiz_json = \\\n\u001b[32m      5\u001b[39m \u001b[33;03m'''\u001b[39;00m\n\u001b[32m      6\u001b[39m \u001b[33;03m[{\u001b[39;00m\n\u001b[32m   (...)\u001b[39m\u001b[32m     31\u001b[39m \u001b[33;03m}]\u001b[39;00m\n\u001b[32m     32\u001b[39m \u001b[33;03m'''\u001b[39;00m\n\u001b[32m     33\u001b[39m myquiz = json.loads(quiz_json)\n",
      "\u001b[31mModuleNotFoundError\u001b[39m: No module named 'jupyterquiz'"
     ]
    }
   ],
   "source": [
    "import json\n",
    "from jupyterquiz import display_quiz\n",
    "\n",
    "quiz_json = \\\n",
    "'''\n",
    "[{\n",
    "  \"question\": \"הקוד הבא עושה שימוש בקבועים מתוך scipy.constants:<br><br>from scipy import constants<br>c = constants.c  # מהירות האור (m/s)<br>h = constants.h  # קבוע פלאנק (J·s)<br>kB = constants.Boltzmann  # קבוע בולצמן (J/K)<br><br>מהי התכונה המרכזית של הקבועים הללו וכיצד נשתמש בהם נכון?\",\n",
    "  \"type\": \"many_choice\",\n",
    "  \"answers\": [\n",
    "    {\n",
    "      \"answer\": \"הקבועים מוגדרים ביחידות SI מדויקות לפי CODATA וניתנים לשימוש ישיר בחישובים פיזיקליים\",\n",
    "      \"correct\": true,\n",
    "      \"feedback\": \"נכון! scipy.constants מספק ערכים עדכניים ביחידות SI תקניות לשימוש מיידי.\"\n",
    "    },\n",
    "    {\n",
    "      \"answer\": \"הקבועים ניתנים רק ביחידות לא־SI ויש להמיר אותם תמיד באופן ידני\",\n",
    "      \"correct\": false,\n",
    "      \"feedback\": \"לא נכון — כברירת מחדל הקבועים ניתנים ביחידות SI. המרה נדרשת רק אם רוצים יחידות אחרות.\"\n",
    "    },\n",
    "    {\n",
    "      \"answer\": \"הקבועים משתנים בין ריצות ולכן אינם מתאימים לחישובים מדויקים\",\n",
    "      \"correct\": false,\n",
    "      \"feedback\": \"ממש לא — הערכים קבועים ואחידים לפי ההגדרות הפיזיקליות המקובלות.\"\n",
    "    },\n",
    "    {\n",
    "      \"answer\": \"הקבועים זמינים ב-numpy אך לא ב-scipy\",\n",
    "      \"correct\": false,\n",
    "      \"feedback\": \"לא נכון — numpy לא כולל קבועים פיזיקליים; רק scipy.constants מספק אותם.\"\n",
    "    }\n",
    "  ]\n",
    "}]\n",
    "'''\n",
    "myquiz = json.loads(quiz_json)\n",
    "display_quiz(myquiz)\n"
   ]
  },
  {
   "cell_type": "code",
   "execution_count": null,
   "id": "513b3cf6",
   "metadata": {},
   "outputs": [],
   "source": []
  }
 ],
 "metadata": {
  "celltoolbar": "Slideshow",
  "kernelspec": {
   "display_name": "base",
   "language": "python",
   "name": "python3"
  },
  "language_info": {
   "codemirror_mode": {
    "name": "ipython",
    "version": 3
   },
   "file_extension": ".py",
   "mimetype": "text/x-python",
   "name": "python",
   "nbconvert_exporter": "python",
   "pygments_lexer": "ipython3",
   "version": "3.12.11"
  }
 },
 "nbformat": 4,
 "nbformat_minor": 5
}
