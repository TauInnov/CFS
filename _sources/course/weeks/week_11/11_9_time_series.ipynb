{
 "cells": [
  {
   "cell_type": "code",
   "execution_count": null,
   "id": "7e548e8d-cb63-4291-855a-e784ac8f74c5",
   "metadata": {
    "slideshow": {
     "slide_type": "skip"
    },
    "tags": [
     "remove-cell"
    ]
   },
   "outputs": [
    {
     "data": {
      "text/html": [
       "<!-- RTL Fix the jupyter notebook 7  -->\n",
       "<style>\n",
       "    .jp-RenderedHTMLCommon {\n",
       "        padding-top: 2em !important;\n",
       "  }   \n",
       "    .jp-RenderedHTMLCommon, .jp-RenderedHTMLCommon * {\n",
       "        direction: rtl !important;\n",
       "        text-align:right !important;\n",
       "  }\n",
       "    .jp-MarkdownCell .jp-InputArea-editor {\n",
       "        direction: rtl !important; \n",
       "        text-align:right !important;\n",
       "        padding-top: 2em !important;\n",
       "  } \n",
       "\n",
       " .jp-RenderedHTMLCommon code, .jp-RenderedHTMLCommon code span {\n",
       "        text-align:left !important;\n",
       "        direction: ltr !important;\n",
       "        unicode-bidi: embed !important;\n",
       "\n",
       "    }\n",
       "    .jp-RenderedHTMLCommon pre:has(code) {\n",
       "      direction: ltr !important;\n",
       "      text-align: left!important;\n",
       "    }\n",
       "\n",
       "</style> \n"
      ],
      "text/plain": [
       "<IPython.core.display.HTML object>"
      ]
     },
     "metadata": {},
     "output_type": "display_data"
    }
   ],
   "source": [
    "%%html\n",
    "<script>\n",
    "(function() {\n",
    "  // Create the toggle button\n",
    "  const rtlButton = document.createElement(\"button\");\n",
    "  rtlButton.textContent = \"Toggle LTR\";\n",
    "  rtlButton.id = \"top-rtl-toggle\";\n",
    "  rtlButton.style.marginLeft = \"8px\";\n",
    "  rtlButton.style.padding = \"4px 10px\";\n",
    "  rtlButton.style.fontSize = \"14px\";\n",
    "  rtlButton.style.cursor = \"pointer\";\n",
    "\n",
    "  // State\n",
    "  var rtlActive = false;\n",
    "\n",
    "  // Styling function\n",
    "  var applyStyleToEditor = (editor) => {\n",
    "    if (!editor) return;\n",
    "    var direction = getComputedStyle(editor).getPropertyValue('direction')=='rtl' ? 'ltr' : 'rtl';\n",
    "    var text_align = getComputedStyle(editor).getPropertyValue('text-align')=='right' ? 'left' : 'right';\n",
    "    editor.style.setProperty('direction', direction, 'important');\n",
    "    editor.style.setProperty('text-align', text_align, 'important');\n",
    "  };\n",
    "\n",
    "  // Toggle logic\n",
    "  rtlButton.onclick = () => {\n",
    "    rtlActive = !rtlActive;\n",
    "    rtlButton.textContent = rtlActive ? \"Toggle LTR\" : \"Toggle RTL\";\n",
    "    document.querySelectorAll('.jp-MarkdownCell .jp-InputArea-editor').forEach(applyStyleToEditor);\n",
    "    document.querySelectorAll('.jp-RenderedHTMLCommon code, .jp-RenderedHTMLCommon code span').forEach(applyStyleToEditor);\n",
    "    document.querySelectorAll('jp-RenderedHTMLCommon, .jp-RenderedHTMLCommon *').forEach(applyStyleToEditor);\n",
    "  };\n",
    "\n",
    "  // Watch for focus into editing Markdown cells\n",
    "  // document.addEventListener('focusin', (event) => {\n",
    "  //   const editor = event.target.closest('.jp-MarkdownCell .jp-InputArea-editor');\n",
    "  //    if (editor) applyStyleToEditor(editor);\n",
    "  // });\n",
    "\n",
    "  // Insert into top toolbar if not already present\n",
    "  var insertIntoToolbar = () => {\n",
    "    const toolbar = document.querySelector('.jp-NotebookPanel-toolbar');\n",
    "    if (toolbar && !document.getElementById(\"top-rtl-toggle\")) {\n",
    "      toolbar.appendChild(rtlButton);\n",
    "    } else {\n",
    "      // Try again in a moment if toolbar isn't ready yet\n",
    "      setTimeout(insertIntoToolbar, 300);\n",
    "    }\n",
    "  };\n",
    "\n",
    "  insertIntoToolbar();\n",
    "})();\n",
    "</script>"
   ]
  },
  {
   "cell_type": "code",
   "execution_count": null,
   "id": "2f2d03fd-729e-439a-9ab0-de58c598e9ca",
   "metadata": {
    "tags": [
     "remove-cell"
    ]
   },
   "outputs": [
    {
     "data": {
      "text/html": [
       "<script>\n",
       "(function() {\n",
       "  // Create the toggle button\n",
       "  const rtlButton = document.createElement(\"button\");\n",
       "  rtlButton.textContent = \"Toggle LTR\";\n",
       "  rtlButton.id = \"top-rtl-toggle\";\n",
       "  rtlButton.style.marginLeft = \"8px\";\n",
       "  rtlButton.style.padding = \"4px 10px\";\n",
       "  rtlButton.style.fontSize = \"14px\";\n",
       "  rtlButton.style.cursor = \"pointer\";\n",
       "\n",
       "  // State\n",
       "  var rtlActive = false;\n",
       "\n",
       "  // Styling function\n",
       "  var applyStyleToEditor = (editor) => {\n",
       "    if (!editor) return;\n",
       "    var direction = getComputedStyle(editor).getPropertyValue('direction')=='rtl' ? 'ltr' : 'rtl';\n",
       "    var text_align = getComputedStyle(editor).getPropertyValue('text-align')=='right' ? 'left' : 'right';\n",
       "    editor.style.setProperty('direction', direction, 'important');\n",
       "    editor.style.setProperty('text-align', text_align, 'important');\n",
       "  };\n",
       "\n",
       "  // Toggle logic\n",
       "  rtlButton.onclick = () => {\n",
       "    rtlActive = !rtlActive;\n",
       "    rtlButton.textContent = rtlActive ? \"Toggle LTR\" : \"Toggle RTL\";\n",
       "    document.querySelectorAll('.jp-MarkdownCell .jp-InputArea-editor').forEach(applyStyleToEditor);\n",
       "    document.querySelectorAll('.jp-RenderedHTMLCommon code, .jp-RenderedHTMLCommon code span').forEach(applyStyleToEditor);\n",
       "    document.querySelectorAll('jp-RenderedHTMLCommon, .jp-RenderedHTMLCommon *').forEach(applyStyleToEditor);\n",
       "  };\n",
       "\n",
       "  // Watch for focus into editing Markdown cells\n",
       "  // document.addEventListener('focusin', (event) => {\n",
       "  //   const editor = event.target.closest('.jp-MarkdownCell .jp-InputArea-editor');\n",
       "  //    if (editor) applyStyleToEditor(editor);\n",
       "  // });\n",
       "\n",
       "  // Insert into top toolbar if not already present\n",
       "  var insertIntoToolbar = () => {\n",
       "    const toolbar = document.querySelector('.jp-NotebookPanel-toolbar');\n",
       "    if (toolbar && !document.getElementById(\"top-rtl-toggle\")) {\n",
       "      toolbar.appendChild(rtlButton);\n",
       "    } else {\n",
       "      // Try again in a moment if toolbar isn't ready yet\n",
       "      setTimeout(insertIntoToolbar, 300);\n",
       "    }\n",
       "  };\n",
       "\n",
       "  insertIntoToolbar();\n",
       "})();\n",
       "</script>\n"
      ],
      "text/plain": [
       "<IPython.core.display.HTML object>"
      ]
     },
     "metadata": {},
     "output_type": "display_data"
    }
   ],
   "source": [
    "%%html\n",
    "<!-- <style>\n",
    "  table {display: inline-block}\n",
    "</style> -->"
   ]
  },
  {
   "cell_type": "markdown",
   "id": "8e4b951b",
   "metadata": {},
   "source": [
    "## ניתוח סדרות זמן בניסויים פיזיקליים (Time Series Essentials)\n",
    "\n",
    "במדידות פיזיקליות, אנו מתמודדים לעיתים קרובות עם **נתונים רציפים בזמן** — כמו זרם, מתח, טמפרטורה או הספק שנמדדים כל כמה שניות, דקות או ימים.  \n",
    "עיבוד נכון של סדרות זמן מאפשר לנו לחשוף מגמות, תנודות, או חריגות בהתנהגות המערכת לאורך תקופה.\n",
    "\n",
    "בפנדס קיימים כלים ייעודיים לעבודה עם נתוני זמן: המרה לפורמט תאריך־ושעה, קביעת אינדקס מבוסס זמן, דגימה מחדש (Resampling), חישוב מגמות מחזוריות, והתמודדות עם אזורי זמן שונים.\n",
    "\n",
    "#### המרה ויצירת DateTimeIndex\n",
    "\n",
    "נשתמש ב־`pd.to_datetime()` כדי לוודא שעמודת הזמן מיוצגת כ־`datetime64[ns]`.  \n",
    "לאחר מכן נגדיר אותה כאינדקס באמצעות `set_index(\"timestamp\")` כדי לאפשר ניתוח מבוסס זמן.  \n",
    "כך נוכל בקלות לחלץ חודשים, שבועות, או ימים, ולבצע חישובי מגמות.\n",
    "\n",
    "#### דגימה מחדש (Resampling)\n",
    "\n",
    "פונקציית `resample()` מאפשרת לחשב נתונים מחושבים על פני תקופות זמן — לדוגמה:\n",
    "- `resample('W').mean()` לחישוב ממוצע שבועי של טמפרטורה או מתח.  \n",
    "- `resample('M').sum()` לסכום ההספק החודשי הכולל של מערכת.  \n",
    "\n",
    "הדגימה מחדש חשובה מאוד לצמצום רעשים ולניתוח מגמות רחבות בזמן.\n",
    "\n",
    "#### ניתוח מגמות מחודש לחודש\n",
    "\n",
    "באמצעות `pct_change()` נוכל לחשב את שיעור השינוי היחסי בין תקופות —  \n",
    "למשל לבדוק האם ההספק הכולל גדל או ירד ביחס לחודש הקודם.  \n",
    "נשתמש בכך כדי לזהות חודשים שבהם ייתכן כשל או שינוי בהתנהגות המערכת.\n",
    "\n",
    "#### אזורי זמן ו־GroupBy לפי זמן\n",
    "\n",
    "כאשר המדידות נאספות ממכשירים שונים באזורים שונים,  \n",
    "נשתמש ב־`tz_localize()` ו־`tz_convert()` כדי לסנכרן בין אזורי זמן.  \n",
    "ניתן גם להשתמש ב־`groupby(df.index.month)` או `groupby(df.index.day_name())` כדי לחשב ממוצעים תקופתיים.\n",
    "\n",
    "## תרגילים: סדרות זמן ניסוייות במערכת אנרגיה סולארית\n",
    "\n",
    "בדוגמה הבאה ננתח סדרת זמן מניסוי פיזיקלי במערכת **תאים סולאריים**.  \n",
    "נניח שהמערכת מודדת את ההספק היומי הכולל (`net_power`) במשך שלושה חודשים.  \n",
    "נרצה:\n",
    "1. להמיר את עמודת הזמן לפורמט DateTimeIndex.  \n",
    "2. לחשב את **האנרגיה השבועית הכוללת** (Resample).  \n",
    "3. לנתח את **שינויי הצמיחה החודשיים (MoM)** ולזהות ירידות בייצור האנרגיה.\n",
    "\n",
    "#### תרגיל 1: עיבוד סדרת זמן וניתוח אנרגיה שבועית במערכת סולארית\n",
    "\n",
    "בתרגיל זה נבצע סימולציה פשוטה של **מערכת סולארית** המודדת את האנרגיה היומית (kWh) לאורך תקופה של שלושה חודשים.  \n",
    "נשתמש בכלים של Pandas לעיבוד **סדרות זמן (Time Series)** כדי לחשב את **סך האנרגיה השבועית** שהמערכת הפיקה.\n",
    "\n",
    "שלבי העבודה:\n",
    "1. **יצירת נתונים יומיים** — ניצור טווח תאריכים יומי (`pd.date_range`) וערכים סינתטיים של הספק יומי (`net_power_kWh`) המדמים ימי שמש וימי עננות.  \n",
    "   כל יום עשירי מייצג יום מעונן שבו התפוקה נמוכה בכ־40%.  \n",
    "2. **המרת עמודת הזמן לפורמט datetime** והגדרתה כ־Index בעזרת `set_index(\"timestamp\")`.  \n",
    "   פעולה זו מאפשרת לנו להשתמש בפונקציות זמן חכמות של Pandas.  \n",
    "3. **דגימה מחדש (Resampling)** — נשתמש ב־`resample(\"W\").sum()` כדי לאחד את הנתונים ברזולוציה שבועית ולחשב את **סך האנרגיה השבועית**.  \n",
    "   כך נוכל לזהות מגמות כלליות, למשל שבועות שבהם ימי שמש רבים הובילו לתפוקה גבוהה.\n",
    "\n",
    "תרגיל זה מדגים כיצד ניתן לעבור ממדידות יומיות לניתוח רחב יותר — שימושי במיוחד בניסויים מתמשכים או במערכות אנרגיה מבוססות זמן.\n"
   ]
  },
  {
   "cell_type": "code",
   "execution_count": null,
   "id": "f9667dff",
   "metadata": {},
   "outputs": [],
   "source": [
    "# --- Exercise 1: Time-series setup and weekly resampling ---\n",
    "import pandas as pd\n",
    "import numpy as np\n",
    "\n",
    "# Simulated daily solar power output (kWh)\n",
    "np.random.seed(42)\n",
    "dates = pd.date_range(\"2025-01-01\", periods=90, freq=\"D\")\n",
    "# Simulate some cloudy days and clear days\n",
    "power = np.random.normal(loc=120, scale=20, size=len(dates))\n",
    "power[::10] *= 0.6  # reduce every 10th day (cloudy)\n",
    "\n",
    "df = pd.DataFrame({\n",
    "    \"timestamp\": dates,\n",
    "    \"net_power_kWh\": power\n",
    "})\n",
    "\n",
    "# Convert to datetime and set as index\n",
    "df[\"timestamp\"] = pd.to_datetime(df[\"timestamp\"])\n",
    "df = df.set_index(\"timestamp\")\n",
    "\n",
    "# Resample weekly to compute total energy produced per week\n",
    "weekly_energy = df.resample(\"W\").sum()\n",
    "\n",
    "print(\"Weekly total solar energy (kWh):\")\n",
    "display(weekly_energy)\n"
   ]
  },
  {
   "cell_type": "markdown",
   "id": "59cc2f48",
   "metadata": {},
   "source": [
    "#### תרגיל 2: חישוב שינויי ייצור חודשיים (Month-over-Month Growth)\n",
    "\n",
    "נחשב את השינוי היחסי בהפקת האנרגיה מחודש לחודש,  \n",
    "ונזהה חודשים שבהם ייצור החשמל הסולארי ירד — למשל עקב תנאי מזג אוויר או תקלה במערכת.\n"
   ]
  },
  {
   "cell_type": "code",
   "execution_count": null,
   "id": "893743aa",
   "metadata": {},
   "outputs": [],
   "source": [
    "# --- Exercise 2: Month-over-Month growth analysis ---\n",
    "# Resample monthly to compute total energy per month\n",
    "monthly_energy = df.resample(\"M\").sum()\n",
    "\n",
    "# Compute Month-over-Month (MoM) growth rate in percentage\n",
    "monthly_energy[\"MoM_growth_%\"] = monthly_energy[\"net_power_kWh\"].pct_change() * 100\n",
    "\n",
    "# Flag months with negative growth\n",
    "monthly_energy[\"production_decline\"] = monthly_energy[\"MoM_growth_%\"] < 0\n",
    "\n",
    "print(\"Monthly solar energy and growth trends:\")\n",
    "display(monthly_energy)\n"
   ]
  },
  {
   "cell_type": "markdown",
   "id": "6aa2adfb",
   "metadata": {},
   "source": [
    "#### תרגיל 3: התאמה לאזור זמן ובדיקת השפעה על הנתונים\n",
    "\n",
    "נניח שהמערכת ממוקמת בישראל, אך נתוני הכיול מתקבלים משרת ב־UTC.  \n",
    "נמיר את אזור הזמן של המדידות (`tz_localize`) ונתאים אותו ל־UTC להשוואה.\n"
   ]
  },
  {
   "cell_type": "code",
   "execution_count": null,
   "id": "2f057196",
   "metadata": {},
   "outputs": [],
   "source": [
    "# --- Exercise 3: Time zone localization and conversion ---\n",
    "# Localize timestamps to Asia/Jerusalem\n",
    "df_local = df.tz_localize(\"Asia/Jerusalem\")\n",
    "\n",
    "# Convert to UTC\n",
    "df_utc = df_local.tz_convert(\"UTC\")\n",
    "\n",
    "print(\"Localized to Asia/Jerusalem:\")\n",
    "display(df_local.head(2))\n",
    "\n",
    "print(\"Converted to UTC:\")\n",
    "display(df_utc.head(2))\n"
   ]
  },
  {
   "cell_type": "markdown",
   "id": "eff8d4b2",
   "metadata": {},
   "source": [
    "#### תרגיל 4: GroupBy מודע לזמן — ניתוח ממוצע יומי לפי יום בשבוע\n",
    "\n",
    "נחשב את ממוצע ההפקה היומית של האנרגיה הסולארית לפי יום בשבוע.  \n",
    "כך נוכל לבדוק האם קיימת השפעה מחזורית — לדוגמה, האם בימי ראשון נמדדים ערכים נמוכים עקב תחזוקה או הצללה.\n"
   ]
  },
  {
   "cell_type": "code",
   "execution_count": null,
   "id": "67ecc8a4",
   "metadata": {},
   "outputs": [],
   "source": [
    "# --- Exercise 4: Analyze average daily production by weekday ---\n",
    "df[\"weekday\"] = df.index.day_name()\n",
    "weekday_avg = (\n",
    "    df.groupby(\"weekday\")[\"net_power_kWh\"]\n",
    "    .mean()\n",
    "    .reindex([\"Sunday\", \"Monday\", \"Tuesday\", \"Wednesday\", \"Thursday\", \"Friday\", \"Saturday\"])\n",
    ")\n",
    "\n",
    "print(\"Average daily solar production by weekday (kWh):\")\n",
    "display(weekday_avg)\n"
   ]
  },
  {
   "cell_type": "markdown",
   "id": "b379f69e",
   "metadata": {},
   "source": [
    "`````{admonition} סיכום\n",
    ":class: tip\n",
    "בפרק זה למדנו כיצד לעבד ולנתח סדרות זמן של נתונים ניסיוניים:\n",
    "\n",
    "- להמיר עמודת זמן ל־`DateTimeIndex` ולבצע דגימה מחדש (`resample`) לתקופות שבועיות או חודשיות.  \n",
    "- לחשב **שיעור שינוי חודשי (MoM)** ולהתריע על ירידות בייצור האנרגיה.  \n",
    "- לעבוד עם **אזורי זמן שונים** לצורך סנכרון מדידות ממקורות מגוונים.  \n",
    "- להשתמש ב־`groupby` לפי יום בשבוע כדי לזהות דפוסים מחזוריים.  \n",
    "\n",
    "שיטות אלו מהוות בסיס חיוני לניתוח נתונים בזמן אמת — כמו מערכות חישה סולאריות, ניסויי פיזיקה רציפים,  \n",
    "או כל מערכת שבה הזמן הוא גורם מרכזי בהבנת התנהגות התהליך.\n",
    "`````"
   ]
  },
  {
   "cell_type": "code",
   "execution_count": null,
   "id": "c8205709",
   "metadata": {
    "tags": [
     "remove-input"
    ]
   },
   "outputs": [],
   "source": [
    "import json\n",
    "from jupyterquiz import display_quiz\n",
    "\n",
    "quiz_json = \\\n",
    "'''\n",
    "[{\n",
    "  \"question\": \"במערכת ניסויית למדידת אנרגיה סולארית נרשמות מדידות יומיות של הספק כולל (net_power_kWh).<br><br>כיצד נכון לחשב את סך האנרגיה השבועית, את קצב השינוי החודשי (MoM), ולזהות חודשים שבהם חלה ירידה בייצור?\",\n",
    "  \"type\": \"many_choice\",\n",
    "  \"answers\": [\n",
    "    {\n",
    "      \"answer\": \"להגדיר את עמודת הזמן כ־DateTimeIndex, לבצע resample('W').sum() לאנרגיה השבועית, ולאחר מכן resample('M').sum().pct_change()×100 לחישוב השינוי החודשי, ולסמן ערכים שליליים כירידה.\",\n",
    "      \"correct\": true,\n",
    "      \"feedback\": \"נכון מאוד! זהו תהליך מלא של ניתוח סדרת זמן: אינדוקס לפי זמן, דגימה מחדש שבועית וחודשית, חישוב אחוז שינוי חודשי וזיהוי תקופות ירידה.\"\n",
    "    },\n",
    "    {\n",
    "      \"answer\": \"להשתמש ב־groupby('month') לחישוב סך האנרגיה, ולאחר מכן לחשב את ההפרש בין החודש הראשון לאחרון בלבד.\",\n",
    "      \"correct\": false,\n",
    "      \"feedback\": \"לא מדויק — groupby אינו מטפל ברצף זמנים תקני כמו resample, ולא מאפשר חישוב אוטומטי של שינוי מחודש לחודש.\"\n",
    "    },\n",
    "    {\n",
    "      \"answer\": \"לחשב את ההפרש בין כל שתי מדידות עוקבות ולחפש ערכים שליליים.\",\n",
    "      \"correct\": false,\n",
    "      \"feedback\": \"לא — זה מודד שינוי יומי, לא שינוי חודשי מצטבר. יש להשתמש ב־resample ו־pct_change כדי למדוד שינויי מגמה רחבים.\"\n",
    "    },\n",
    "    {\n",
    "      \"answer\": \"להשתמש ב־rolling(30).mean() כדי לחשב את האנרגיה החודשית ולזהות ירידות לפי סטיות תקן.\",\n",
    "      \"correct\": false,\n",
    "      \"feedback\": \"לא מדויק — rolling מחשבת ממוצעים נעים ולא סכומים חודשיים, ולכן אינה מתאימה לחישוב שינוי חודשי ישיר.\"\n",
    "    }\n",
    "  ]\n",
    "}]\n",
    "'''\n",
    "\n",
    "myquiz = json.loads(quiz_json)\n",
    "display_quiz(myquiz)\n"
   ]
  }
 ],
 "metadata": {
  "celltoolbar": "Slideshow",
  "kernelspec": {
   "display_name": "Python 3",
   "language": "python",
   "name": "python3"
  },
  "language_info": {
   "codemirror_mode": {
    "name": "ipython",
    "version": 3
   },
   "file_extension": ".py",
   "mimetype": "text/x-python",
   "name": "python",
   "nbconvert_exporter": "python",
   "pygments_lexer": "ipython3",
   "version": "3.12.1"
  }
 },
 "nbformat": 4,
 "nbformat_minor": 5
}
