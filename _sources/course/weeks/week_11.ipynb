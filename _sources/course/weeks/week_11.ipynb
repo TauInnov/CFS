{
 "cells": [
  {
   "cell_type": "markdown",
   "id": "fd4fc700",
   "metadata": {},
   "source": [
    "# שבוע 11 — ניתוח נתונים עם Pandas\n",
    "\n",
    "בשבוע האחד־עשר נלמד לעבוד עם **Pandas**, הספרייה המרכזית לעיבוד וניתוח נתונים בפייתון.  \n",
    "זוהי אחת מהמיומנויות החשובות ביותר לכל מי שעוסק במדע נתונים, ניסויים, או ניתוח תוצאות מדידה.  \n",
    "נלמד כיצד לטעון נתונים מקבצים שונים, לנקותם, למיין ולסנן אותם, ולבצע עליהם פעולות מתקדמות  \n",
    "כמו קיבוץ, המרה ושרטוט מהיר של תוצאות.\n",
    "\n",
    "נבין כיצד להשתמש במבני הנתונים החזקים של הספרייה — `Series` ו־`DataFrame`,  \n",
    "ונראה כיצד הם מאפשרים עבודה מהירה ואינטואיטיבית עם כמויות גדולות של מידע מדעי או ניסויי.\n",
    "\n",
    "בסוף השבוע תדעו:\n",
    "- ליצור ולעבוד עם מבני הנתונים `Series` ו־`DataFrame`  \n",
    "- לייבא ולייצא נתונים מקבצים \n",
    "- לבחור, למיין ולסנן נתונים לפי תנאים שונים  \n",
    "- לנקות נתונים ולזהות סוגי משתנים בצורה יעילה  \n",
    "- לבצע טרנספורמציות ווקטוריות ולחשב עמודות חדשות  \n",
    "- לקבץ נתונים (`groupby`) ולחשב סטטיסטיקות  \n",
    "- לעצב מחדש טבלאות (`pivot`, `melt`) ולמזג כמה מקורות מידע  \n",
    "- לעבוד עם נתוני זמן (`DatetimeIndex`, `resample`)  \n",
    "- להפיק תובנות מהירות בעזרת שרטוטים בסיסיים מתוך Pandas  \n",
    "\n",
    "## Materials\n",
    "- {doc}`11_0 • מבוא לעבודה עם Pandas <course/weeks/week_11/11_0_intro>`  \n",
    "- {doc}`11_1 • מבני נתונים: Series ו־DataFrame <course/weeks/week_11/11_1_data_structures>`  \n",
    "- {doc}`11_2 • טעינה וכתיבה של נתונים (I/O) <course/weeks/week_11/11_2_io>`  \n",
    "- {doc}`11_3 • מיון, סינון ואינדוקס נתונים <course/weeks/week_11/11_3_indexing_select_filter>`  \n",
    "- {doc}`11_4 • ניקוי נתונים וטיפול בסוגי עמודות <course/weeks/week_11/11_4_cleaning_type_handling>`  \n",
    "- {doc}`11_5 • טרנספורמציות וקטוריות <course/weeks/week_11/11_5_vector_transform>`  \n",
    "- {doc}`11_6 • קיבוץ וצבירה (Grouping & Aggregation) <course/weeks/week_11/11_6_grouping_aggregation>`  \n",
    "- {doc}`11_7 • עיצוב מחדש של טבלאות (Reshaping) <course/weeks/week_11/11_7_reshaping_dataframes>`  \n",
    "- {doc}`11_8 • מיזוג וחיבור בין טבלאות (Merging & Joining) <course/weeks/week_11/11_8_merging_joining>`  \n",
    "- {doc}`11_9 • עבודה עם סדרות זמן (Time Series) <course/weeks/week_11/11_9_time_series>`  \n",
    "- {doc}`11_10 • חקירת נתונים ושרטוטים מהירים <course/weeks/week_11/11_10_exploration_quick_plots>`  \n"
   ]
  },
  {
   "cell_type": "markdown",
   "id": "4e98160e",
   "metadata": {},
   "source": []
  }
 ],
 "metadata": {
  "celltoolbar": "Slideshow",
  "kernelspec": {
   "display_name": "Python 3",
   "language": "python",
   "name": "python3"
  },
  "language_info": {
   "codemirror_mode": {
    "name": "ipython",
    "version": 3
   },
   "file_extension": ".py",
   "mimetype": "text/x-python",
   "name": "python",
   "nbconvert_exporter": "python",
   "pygments_lexer": "ipython3",
   "version": "3.12.1"
  }
 },
 "nbformat": 4,
 "nbformat_minor": 5
}
