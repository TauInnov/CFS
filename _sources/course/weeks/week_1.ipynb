{
 "cells": [
  {
   "cell_type": "markdown",
   "id": "137362cb",
   "metadata": {},
   "source": [
    "# שבוע 1 — טיפוסים ותנאים\n",
    "\n",
    "This week: Python types and conditional logic. Work through the notebooks in order.\n",
    "\n",
    "## Materials\n",
    "- {doc}`01 • Intro to Types <../../../vendor/virtual-pyprog/1_0_intro_types>`\n",
    "- {doc}`02 • Numeric Types <../../vendor/virtual-pyprog/1_1_numerical_types>`\n",
    "- {doc}`03 • Booleans <../vendor/virtual-pyprog/1_2_booleans>`\n",
    "- {doc}`04 • Strings <../../../../vendor/virtual-pyprog/1_3_strings>`\n",
    "- {doc}`05 • Conversions <vendor/virtual-pyprog/1_4_conversion>`\n",
    "- {doc}`06 • Conditions: Intro <vendor/virtual-pyprog/2_0_intro-conditions>`\n",
    "- {doc}`07 • if / else <vendor/virtual-pyprog/2_1_if-else-statements>`\n",
    "- {doc}`08 • Nested ifs <vendor/virtual-pyprog/2_2_nested-ifs>`\n",
    "- {doc}`09 • elif <vendor/virtual-pyprog/2_3_elif>`\n",
    "- {doc}`10 • Logical operators in ifs <vendor/virtual-pyprog/2_4_logical-operators-in-ifs>`\n"
   ]
  },
  {
   "cell_type": "markdown",
   "id": "c8b63784",
   "metadata": {},
   "source": []
  }
 ],
 "metadata": {
  "language_info": {
   "name": "python"
  }
 },
 "nbformat": 4,
 "nbformat_minor": 5
}
