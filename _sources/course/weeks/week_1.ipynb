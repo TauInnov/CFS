{
 "cells": [
  {
   "cell_type": "markdown",
   "id": "137362cb",
   "metadata": {},
   "source": [
    "# שבוע 1 — טיפוסים ותנאים\n",
    "\n",
    "ברוכים הבאים לשבוע הראשון בקורס!  \n",
    "בשבוע זה נלמד את יסודות השפה — מהבנה בסיסית של מחשבים ותוכנה, דרך היכרות עם שפת פייתון, ועד לעבודה עם משתנים, טיפוסים שונים, והבנת התנאים (Conditions) המאפשרים לקוד שלנו \"לקבל החלטות\".\n",
    "\n",
    "נפתח בהיכרות עם הרעיון של חומרה ותוכנה, ולאחר מכן נצלול לשפת פייתון עצמה:  \n",
    "נלמד מהו משתנה וכיצד נותנים לו שם, נכיר את הטיפוסים הבסיסיים (מספרים, בוליאנים, מחרוזות), ונראה כיצד ממירים ביניהם כדי לבצע חישובים ולבנות ביטויים לוגיים.\n",
    "\n",
    "בסוף השבוע תדעו:\n",
    "- מהו טיפוס נתונים וכיצד הוא משפיע על פעולות החישוב\n",
    "- כיצד להגדיר ולהשתמש במשתנים\n",
    "- איך להשתמש בביטויים לוגיים ובתנאים (if / else) כדי לשנות את זרימת התכנית\n",
    "- איך לכתוב קוד קריא וברור שמגיב למצבים שונים\n",
    "\n",
    "## Materials\n",
    "- {doc}`01 • מבוא <../../vendor/virtual-pyprog/0_0_objectives.ipynb>`\n",
    "- {doc}`02 • חומרה, תוכנה והשיטה הבינארית <../../vendor/virtual-pyprog/0_1_hardware-to-software>`\n",
    "- {doc}`03 • שפת התכנות פייתון <../../vendor/virtual-pyprog/0_2_python>`\n",
    "- {doc}`04 • משתנים והשמות <../../vendor/virtual-pyprog/0_3_variables-and-assignments>`\n",
    "- {doc}`05 • מבוא לטיפוסים <../../vendor/virtual-pyprog/1_0_intro_types>`\n",
    "- {doc}`06 • טיפוסים נומריים <../../vendor/virtual-pyprog/1_1_numerical_types>`\n",
    "- {doc}`07 • משתנים בוליאניים <../../vendor/virtual-pyprog/1_2_booleans>`\n",
    "- {doc}`08 • מחרוזות <../../vendor/virtual-pyprog/1_3_strings>`\n",
    "- {doc}`09 • המרות בין טיפוסים <../../vendor/virtual-pyprog/1_4_conversion>`\n",
    "\n"
   ]
  },
  {
   "cell_type": "markdown",
   "id": "c8b63784",
   "metadata": {},
   "source": []
  }
 ],
 "metadata": {
  "language_info": {
   "name": "python"
  }
 },
 "nbformat": 4,
 "nbformat_minor": 5
}
