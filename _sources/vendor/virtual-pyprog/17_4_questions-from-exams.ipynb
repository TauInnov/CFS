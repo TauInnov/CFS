{
 "cells": [
  {
   "cell_type": "markdown",
   "id": "995cb9b5",
   "metadata": {
    "slideshow": {
     "slide_type": "slide"
    }
   },
   "source": [
    "# שאלות ממבחני עבר"
   ]
  },
  {
   "cell_type": "markdown",
   "id": "064d3be8",
   "metadata": {},
   "source": [
    "[Exam 2022-2023 semester B Moed A](https://courses.cs.tau.ac.il/pyProg/2425a/exams/exam2223b_moedA.pdf)"
   ]
  },
  {
   "cell_type": "markdown",
   "id": "2a89883f",
   "metadata": {
    "slideshow": {
     "slide_type": "subslide"
    }
   },
   "source": [
    "2.A"
   ]
  },
  {
   "cell_type": "code",
   "execution_count": null,
   "id": "bc431bb6",
   "metadata": {
    "execution": {
     "iopub.execute_input": "2025-03-10T07:49:30.069374Z",
     "iopub.status.busy": "2025-03-10T07:49:30.068982Z",
     "iopub.status.idle": "2025-03-10T07:49:30.075968Z",
     "shell.execute_reply": "2025-03-10T07:49:30.075008Z"
    },
    "slideshow": {
     "slide_type": "fragment"
    }
   },
   "outputs": [],
   "source": [
    "class Ingredient:\n",
    "    def __init__(self, name, calories, weight=100):\n",
    "        self.name = name\n",
    "        self.calories = calories\n",
    "        if type(weight) in [int, float] and weight > 0:\n",
    "            self.weight = weight\n",
    "        else:\n",
    "            self.weight = 100\n",
    "            print('weight error')\n",
    "             \n",
    "    def calc_calories(self):\n",
    "        return int(self.weight / 100 * self.calories)\n",
    "    \n",
    "    def __repr__(self):\n",
    "        return f\"{self.name}: {self.calc_calories()} calories\""
   ]
  },
  {
   "cell_type": "code",
   "execution_count": null,
   "id": "cfd24bfc",
   "metadata": {
    "execution": {
     "iopub.execute_input": "2025-03-10T07:49:30.079404Z",
     "iopub.status.busy": "2025-03-10T07:49:30.078836Z",
     "iopub.status.idle": "2025-03-10T07:49:30.085357Z",
     "shell.execute_reply": "2025-03-10T07:49:30.084535Z"
    },
    "slideshow": {
     "slide_type": "fragment"
    }
   },
   "outputs": [],
   "source": [
    "lettuce = Ingredient('Lettuce', 17, 32)\n",
    "egg = Ingredient ('Egg', 60, 134)\n",
    "mushroom = Ingredient ('Mushroom', 25, 22)\n",
    "onion = Ingredient ('Onion', 25, 200)\n",
    "print(lettuce.calc_calories())\n",
    "print(egg)\n",
    "print(mushroom)\n",
    "print(onion)\n",
    "lettuce = Ingredient('Lettuce', 17, -4)\n",
    "lettuce = Ingredient('Lettuce', 17, 'X')"
   ]
  },
  {
   "cell_type": "markdown",
   "id": "13af291a",
   "metadata": {
    "slideshow": {
     "slide_type": "subslide"
    }
   },
   "source": [
    "2.B"
   ]
  },
  {
   "cell_type": "code",
   "execution_count": null,
   "id": "c34feea3",
   "metadata": {
    "execution": {
     "iopub.execute_input": "2025-03-10T07:49:30.088859Z",
     "iopub.status.busy": "2025-03-10T07:49:30.088450Z",
     "iopub.status.idle": "2025-03-10T07:49:30.095117Z",
     "shell.execute_reply": "2025-03-10T07:49:30.094256Z"
    },
    "slideshow": {
     "slide_type": "fragment"
    }
   },
   "outputs": [],
   "source": [
    "class Recipe:\n",
    "\n",
    "    def __init__(self, name, time, ing_lst):\n",
    "        self.name = name\n",
    "        self.time = time\n",
    "        if ing_lst:\n",
    "            self.ing_lst = ing_lst\n",
    "        else:\n",
    "            print('ingridients error')\n",
    "\n",
    "    def calc_calories(self):\n",
    "        return sum([amount * ing.calc_calories() for amount, ing in self.ing_lst])\n",
    "\n",
    "    def __repr__(self):\n",
    "        result = f\"{self.name}, {self.time} minutes \\n\"\n",
    "        for amount, ing in self.ing_lst:\n",
    "            result += f\"{ing} * {amount}\\n\"\n",
    "        result += f\"total = {self.calc_calories()}\"\n",
    "        return result"
   ]
  },
  {
   "cell_type": "code",
   "execution_count": null,
   "id": "e4e3cd77",
   "metadata": {
    "execution": {
     "iopub.execute_input": "2025-03-10T07:49:30.098446Z",
     "iopub.status.busy": "2025-03-10T07:49:30.098109Z",
     "iopub.status.idle": "2025-03-10T07:49:30.103821Z",
     "shell.execute_reply": "2025-03-10T07:49:30.103006Z"
    },
    "slideshow": {
     "slide_type": "fragment"
    }
   },
   "outputs": [],
   "source": [
    "omelette = Recipe('Omelette', 5, [])\n",
    "egg = Ingredient ('Egg', 60, 134)\n",
    "mushroom = Ingredient ('Mushroom', 25, 22)\n",
    "omelette = Recipe('Omelette', 5, [(2,egg), (4, mushroom)])\n",
    "print(omelette)\n",
    "print(omelette.calc_calories())"
   ]
  },
  {
   "cell_type": "markdown",
   "id": "24c4dbc7",
   "metadata": {
    "slideshow": {
     "slide_type": "subslide"
    }
   },
   "source": [
    "2.C"
   ]
  },
  {
   "cell_type": "code",
   "execution_count": null,
   "id": "ac203af0",
   "metadata": {
    "execution": {
     "iopub.execute_input": "2025-03-10T07:49:30.107243Z",
     "iopub.status.busy": "2025-03-10T07:49:30.106904Z",
     "iopub.status.idle": "2025-03-10T07:49:30.112588Z",
     "shell.execute_reply": "2025-03-10T07:49:30.111740Z"
    },
    "slideshow": {
     "slide_type": "fragment"
    }
   },
   "outputs": [],
   "source": [
    "def add_ingredient(self, amount,ingredient):\n",
    "    old_amount = 0\n",
    "    for x in self.ing_lst:\n",
    "        if x[1].name == ingredient.name:\n",
    "            old_amount = x[0]\n",
    "            self.ing_lst.remove(x)\n",
    "            break\n",
    "\n",
    "    self.ing_lst.append((amount + old_amount, ingredient))\n",
    "\n",
    "# biolerplte code for adding a new method to a class\n",
    "Recipe.add_ingredient=add_ingredient\n"
   ]
  },
  {
   "cell_type": "code",
   "execution_count": null,
   "id": "877f69b8",
   "metadata": {
    "execution": {
     "iopub.execute_input": "2025-03-10T07:49:30.115886Z",
     "iopub.status.busy": "2025-03-10T07:49:30.115548Z",
     "iopub.status.idle": "2025-03-10T07:49:30.120982Z",
     "shell.execute_reply": "2025-03-10T07:49:30.120139Z"
    },
    "slideshow": {
     "slide_type": "subslide"
    }
   },
   "outputs": [],
   "source": [
    "omelette = Recipe('Omelette', 5, [(2,egg)])\n",
    "print(omelette)\n",
    "omelette.add_ingredient(2,mushroom)\n",
    "print(omelette)\n",
    "omelette.add_ingredient(1,egg)\n",
    "print(omelette)"
   ]
  },
  {
   "cell_type": "markdown",
   "id": "5a393fd0",
   "metadata": {
    "slideshow": {
     "slide_type": "subslide"
    }
   },
   "source": [
    "2.D"
   ]
  },
  {
   "cell_type": "code",
   "execution_count": null,
   "id": "818b5919",
   "metadata": {
    "execution": {
     "iopub.execute_input": "2025-03-10T07:49:30.124328Z",
     "iopub.status.busy": "2025-03-10T07:49:30.123970Z",
     "iopub.status.idle": "2025-03-10T07:49:30.128849Z",
     "shell.execute_reply": "2025-03-10T07:49:30.128104Z"
    },
    "slideshow": {
     "slide_type": "fragment"
    }
   },
   "outputs": [],
   "source": [
    "def sort_ing(self):\n",
    "    self.ing_lst.sort(key=lambda x: x[0] * x[1].weight)\n",
    "    \n",
    "# biolerplte code for adding a new method to a class\n",
    "Recipe.sort_ing=sort_ing"
   ]
  },
  {
   "cell_type": "code",
   "execution_count": null,
   "id": "f7c4ce41",
   "metadata": {
    "execution": {
     "iopub.execute_input": "2025-03-10T07:49:30.132104Z",
     "iopub.status.busy": "2025-03-10T07:49:30.131774Z",
     "iopub.status.idle": "2025-03-10T07:49:30.137144Z",
     "shell.execute_reply": "2025-03-10T07:49:30.136338Z"
    },
    "slideshow": {
     "slide_type": "fragment"
    }
   },
   "outputs": [],
   "source": [
    "# Note that other values are presented in the example\n",
    "salad = Recipe('Salad', 5, [(2, onion), (4, mushroom), (2, lettuce)])\n",
    "print(salad)\n",
    "salad.sort_ing()\n",
    "print(salad)"
   ]
  },
  {
   "cell_type": "markdown",
   "id": "be033f62",
   "metadata": {
    "slideshow": {
     "slide_type": "subslide"
    }
   },
   "source": [
    "2.E"
   ]
  },
  {
   "cell_type": "code",
   "execution_count": null,
   "id": "20e7b6a9",
   "metadata": {
    "execution": {
     "iopub.execute_input": "2025-03-10T07:49:30.140532Z",
     "iopub.status.busy": "2025-03-10T07:49:30.140168Z",
     "iopub.status.idle": "2025-03-10T07:49:30.145008Z",
     "shell.execute_reply": "2025-03-10T07:49:30.144248Z"
    },
    "slideshow": {
     "slide_type": "fragment"
    }
   },
   "outputs": [],
   "source": [
    "def __lt__(self, other):\n",
    "    return (self.time, self.calc_calories()) < (other.time, other.calc_calories())\n",
    "\n",
    "Recipe.__lt__=__lt__"
   ]
  },
  {
   "cell_type": "code",
   "execution_count": null,
   "id": "498e341d",
   "metadata": {
    "execution": {
     "iopub.execute_input": "2025-03-10T07:49:30.148280Z",
     "iopub.status.busy": "2025-03-10T07:49:30.147920Z",
     "iopub.status.idle": "2025-03-10T07:49:30.153515Z",
     "shell.execute_reply": "2025-03-10T07:49:30.152714Z"
    },
    "slideshow": {
     "slide_type": "fragment"
    }
   },
   "outputs": [],
   "source": [
    "salad_with_egg = Recipe('Salad with egg', 10, [(2, onion), (1, mushroom), (2, lettuce)])\n",
    "print(salad)\n",
    "print(salad_with_egg)\n",
    "print(omelette)\n",
    "print(salad_with_egg < salad)\n",
    "print(salad < omelette)"
   ]
  },
  {
   "cell_type": "markdown",
   "id": "000e9fc5",
   "metadata": {
    "slideshow": {
     "slide_type": "subslide"
    }
   },
   "source": [
    "[Exam 2022-2023 semester B Moed B](https://courses.cs.tau.ac.il/pyProg/2425a/exams/exam2223b_moedB.pdf)"
   ]
  },
  {
   "cell_type": "markdown",
   "id": "59112184",
   "metadata": {
    "slideshow": {
     "slide_type": "subslide"
    }
   },
   "source": [
    "2.A"
   ]
  },
  {
   "cell_type": "code",
   "execution_count": null,
   "id": "b7e8b4d2",
   "metadata": {
    "execution": {
     "iopub.execute_input": "2025-03-10T07:49:30.156946Z",
     "iopub.status.busy": "2025-03-10T07:49:30.156606Z",
     "iopub.status.idle": "2025-03-10T07:49:30.162648Z",
     "shell.execute_reply": "2025-03-10T07:49:30.161913Z"
    },
    "slideshow": {
     "slide_type": "fragment"
    }
   },
   "outputs": [],
   "source": [
    "class Client:\n",
    "\n",
    "    def __init__(self, name, salary, balance):\n",
    "        self.name = name\n",
    "        self.salary = salary\n",
    "        self.balance = balance\n",
    "        if type(name) != str:\n",
    "            self.name = 'Error'\n",
    "            print('Name Error')\n",
    "    def salary_raise(self, amount):\n",
    "        self.salary += amount\n",
    "        self.balance += 0.3 * amount\n",
    "    def __repr__(self):\n",
    "        return f'Name: {self.name}, Salary: {self.salary}, Balance:{self.balance}'"
   ]
  },
  {
   "cell_type": "code",
   "execution_count": null,
   "id": "c08db52b",
   "metadata": {
    "execution": {
     "iopub.execute_input": "2025-03-10T07:49:30.165944Z",
     "iopub.status.busy": "2025-03-10T07:49:30.165613Z",
     "iopub.status.idle": "2025-03-10T07:49:30.170712Z",
     "shell.execute_reply": "2025-03-10T07:49:30.169906Z"
    },
    "slideshow": {
     "slide_type": "fragment"
    }
   },
   "outputs": [],
   "source": [
    "yarin = Client('Yarin', 10000, 20000)\n",
    "err = Client(509,3000,10000)\n",
    "print(err)\n",
    "yarin.salary_raise(1000)\n",
    "print(yarin)"
   ]
  },
  {
   "cell_type": "markdown",
   "id": "ec39ed46",
   "metadata": {
    "slideshow": {
     "slide_type": "subslide"
    }
   },
   "source": [
    "2.B"
   ]
  },
  {
   "cell_type": "code",
   "execution_count": null,
   "id": "f25ea414",
   "metadata": {
    "execution": {
     "iopub.execute_input": "2025-03-10T07:49:30.174083Z",
     "iopub.status.busy": "2025-03-10T07:49:30.173751Z",
     "iopub.status.idle": "2025-03-10T07:49:30.179985Z",
     "shell.execute_reply": "2025-03-10T07:49:30.179261Z"
    },
    "slideshow": {
     "slide_type": "fragment"
    }
   },
   "outputs": [],
   "source": [
    "class Bank:\n",
    "\n",
    "    def __init__(self, name):\n",
    "        self.name = name\n",
    "        self.client_lst = []\n",
    "        self.total_balance = 0\n",
    "    def add_client(self, client):\n",
    "        self.client_lst.append(client)\n",
    "        self.total_balance += client.balance\n",
    "    def __repr__(self):\n",
    "        bank_str = f'Name: {self.name}, Balance: {self.total_balance}\\n'\n",
    "        bank_str += f'Bank clients:\\n'\n",
    "        for client in self.client_lst:\n",
    "            bank_str += str(client)\n",
    "            bank_str += f'\\nClient balance percent: {int(100 * client.balance / self.total_balance)}\\n'\n",
    "        return bank_str"
   ]
  },
  {
   "cell_type": "code",
   "execution_count": null,
   "id": "cb34c69c",
   "metadata": {
    "execution": {
     "iopub.execute_input": "2025-03-10T07:49:30.183352Z",
     "iopub.status.busy": "2025-03-10T07:49:30.183019Z",
     "iopub.status.idle": "2025-03-10T07:49:30.188176Z",
     "shell.execute_reply": "2025-03-10T07:49:30.187371Z"
    },
    "slideshow": {
     "slide_type": "fragment"
    }
   },
   "outputs": [],
   "source": [
    "bank = Bank('Python Bank')\n",
    "yarin = Client('Yarin', 10000, 20000)\n",
    "jonathan = Client('Jonathan', 5000, 10000)\n",
    "bank.add_client(yarin)\n",
    "bank.add_client(jonathan)\n",
    "print(bank)"
   ]
  },
  {
   "cell_type": "markdown",
   "id": "ffe2ccfd",
   "metadata": {
    "slideshow": {
     "slide_type": "subslide"
    }
   },
   "source": [
    "2.C"
   ]
  },
  {
   "cell_type": "code",
   "execution_count": null,
   "id": "e16090e6",
   "metadata": {
    "execution": {
     "iopub.execute_input": "2025-03-10T07:49:30.191626Z",
     "iopub.status.busy": "2025-03-10T07:49:30.191225Z",
     "iopub.status.idle": "2025-03-10T07:49:30.195727Z",
     "shell.execute_reply": "2025-03-10T07:49:30.194922Z"
    },
    "slideshow": {
     "slide_type": "fragment"
    }
   },
   "outputs": [],
   "source": [
    "def mul_crit(client,alpha,beta):\n",
    "    return alpha + 2000 * beta / client.balance"
   ]
  },
  {
   "cell_type": "code",
   "execution_count": null,
   "id": "dbf4f212",
   "metadata": {
    "execution": {
     "iopub.execute_input": "2025-03-10T07:49:30.199111Z",
     "iopub.status.busy": "2025-03-10T07:49:30.198712Z",
     "iopub.status.idle": "2025-03-10T07:49:30.205041Z",
     "shell.execute_reply": "2025-03-10T07:49:30.204155Z"
    },
    "slideshow": {
     "slide_type": "fragment"
    }
   },
   "outputs": [],
   "source": [
    "yarin = Client('Yarin', 10000, 50000)\n",
    "mul_crit(yarin,5000,100000)"
   ]
  },
  {
   "cell_type": "markdown",
   "id": "1bfd2416",
   "metadata": {
    "slideshow": {
     "slide_type": "subslide"
    }
   },
   "source": [
    "2.D"
   ]
  },
  {
   "cell_type": "code",
   "execution_count": null,
   "id": "edd7d0ba",
   "metadata": {
    "execution": {
     "iopub.execute_input": "2025-03-10T07:49:30.208409Z",
     "iopub.status.busy": "2025-03-10T07:49:30.208042Z",
     "iopub.status.idle": "2025-03-10T07:49:30.212823Z",
     "shell.execute_reply": "2025-03-10T07:49:30.211878Z"
    },
    "slideshow": {
     "slide_type": "fragment"
    }
   },
   "outputs": [],
   "source": [
    "def max_salary(bank):\n",
    "    return max(bank.client_lst, key=lambda x: x.salary).salary"
   ]
  },
  {
   "cell_type": "code",
   "execution_count": null,
   "id": "27276320",
   "metadata": {
    "execution": {
     "iopub.execute_input": "2025-03-10T07:49:30.216108Z",
     "iopub.status.busy": "2025-03-10T07:49:30.215764Z",
     "iopub.status.idle": "2025-03-10T07:49:30.222572Z",
     "shell.execute_reply": "2025-03-10T07:49:30.221915Z"
    },
    "slideshow": {
     "slide_type": "fragment"
    }
   },
   "outputs": [],
   "source": [
    "bank = Bank('Python Bank')\n",
    "yarin = Client('Yarin', 10000, 20000)\n",
    "jonathan = Client('Jonathan', 5000, 10000)\n",
    "bank.add_client(yarin)\n",
    "bank.add_client(jonathan)\n",
    "max_salary(bank)"
   ]
  },
  {
   "cell_type": "markdown",
   "id": "9f9f4a92",
   "metadata": {
    "slideshow": {
     "slide_type": "subslide"
    }
   },
   "source": [
    "2.E"
   ]
  },
  {
   "cell_type": "code",
   "execution_count": null,
   "id": "8625e43a",
   "metadata": {
    "execution": {
     "iopub.execute_input": "2025-03-10T07:49:30.225968Z",
     "iopub.status.busy": "2025-03-10T07:49:30.225634Z",
     "iopub.status.idle": "2025-03-10T07:49:30.231147Z",
     "shell.execute_reply": "2025-03-10T07:49:30.230186Z"
    },
    "slideshow": {
     "slide_type": "fragment"
    }
   },
   "outputs": [],
   "source": [
    "def approved_clients(bank):\n",
    "    return sorted(bank.client_lst, key=lambda x: \\\n",
    "                  mul_crit(x, max(bank.client_lst, key=lambda x: x.salary).salary \\\n",
    "                           - x.salary, bank.total_balance))[:len(bank.client_lst) // 2]"
   ]
  }
 ],
 "metadata": {
  "celltoolbar": "Slideshow",
  "kernelspec": {
   "display_name": "Python 3 (ipykernel)",
   "language": "python",
   "name": "python3"
  },
  "language_info": {
   "codemirror_mode": {
    "name": "ipython",
    "version": 3
   },
   "file_extension": ".py",
   "mimetype": "text/x-python",
   "name": "python",
   "nbconvert_exporter": "python",
   "pygments_lexer": "ipython3",
   "version": "3.11.12"
  }
 },
 "nbformat": 4,
 "nbformat_minor": 5
}
