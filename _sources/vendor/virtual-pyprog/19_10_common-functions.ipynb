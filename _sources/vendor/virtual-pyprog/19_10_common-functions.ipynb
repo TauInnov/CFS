{
 "cells": [
  {
   "cell_type": "markdown",
   "id": "b3bde37d-d19f-4cdc-aa98-7475a56f87ec",
   "metadata": {
    "slideshow": {
     "slide_type": "subslide"
    }
   },
   "source": [
    "# פונקציות Pandas נפוצות"
   ]
  },
  {
   "cell_type": "markdown",
   "id": "24b38ae2-258a-4e34-8725-05b032b8e62c",
   "metadata": {
    "slideshow": {
     "slide_type": "fragment"
    }
   },
   "source": [
    "| categoy  | name  | use |\n",
    "|:--------:|:-----|:---|\n",
    "|**Creation**| | |\n",
    "| |[pd.DataFrame](https://pandas.pydata.org/docs/reference/api/pandas.DataFrame.html)|create a new dataframe from numpy array/dictionary. Can provide row and column names|\n",
    "| |[pd.Series](https://pandas.pydata.org/docs/reference/api/pandas.Series.html)|create a new Series object from numpy array/dictionary. Can provide names|\n",
    "| |[pd.read_csv](https://pandas.pydata.org/docs/reference/api/pandas.read_csv.html)|read a dataframe from csv file|\n",
    "| |[df.to_csv](https://pandas.pydata.org/docs/reference/api/pandas.DataFrame.to_csv.html)|write a dataframe to a csv file|\n",
    "|**Basic information**| | |\n",
    "| |[df.info](https://pandas.pydata.org/docs/reference/api/pandas.DataFrame.info.html)|print a summary of the dataframe: column names, dtypes, number of existing (non Na) values, etc.|\n",
    "| |[df.head](https://pandas.pydata.org/docs/reference/api/pandas.DataFrame.head.html)|return the first rows of a dataframe|\n",
    "| |[df.tail](https://pandas.pydata.org/docs/reference/api/pandas.DataFrame.tail.html)|return the last rows of a dataframe|\n",
    "| |[df.sample](https://pandas.pydata.org/docs/reference/api/pandas.DataFrame.sample.html)|return the random rows from a dataframe|\n",
    "|**Data access**| | |\n",
    "| |[df.index](https://pandas.pydata.org/docs/reference/api/pandas.DataFrame.index.html)|get row labels of dataframe|\n",
    "| |[df.columns](https://pandas.pydata.org/docs/reference/api/pandas.DataFrame.columns.html)|get column labels of dataframe|\n",
    "| |[df.loc](https://pandas.pydata.org/docs/reference/api/pandas.DataFrame.loc.html)|get dataframe subset by labels|\n",
    "| |[df.iloc](https://pandas.pydata.org/docs/reference/api/pandas.DataFrame.iloc.html)|get dataframe subset by position|\n",
    "|**Manipulation**| | |\n",
    "| |[df.drop](https://pandas.pydata.org/docs/reference/api/pandas.DataFrame.drop.html)|remove rows or columns by label name|\n",
    "| |[df.apply](https://pandas.pydata.org/docs/reference/api/pandas.DataFrame.apply.html)|apply a function on all rows/columns of a dataframe|\n",
    "| |[df.map](https://pandas.pydata.org/docs/reference/api/pandas.DataFrame.map.html)|apply a function on all values in a dataframe|\n",
    "| |[df.sort_values](https://pandas.pydata.org/docs/reference/api/pandas.DataFrame.sort_values.html)|sort table rows according to the values over a column, or table columns according to the values across a row|\n",
    "|**Fusion**| | |\n",
    "| |[pd.concat](https://pandas.pydata.org/docs/reference/api/pandas.concat.html)|concatanate dataframes along an axis|\n",
    "| |[pd.merge](https://pandas.pydata.org/docs/reference/api/pandas.merge.html)|merge the columns of two dataframes based on \n",
    "|**misc.**| | |\n",
    "| |[df.groupby](https://pandas.pydata.org/docs/reference/api/pandas.DataFrame.groupby.html)|split dataframe rows according to the values of some column. should be followed by a summary operation which will result in a single dataframe again|\n",
    "|**Aggregation**| | |\n",
    "| |[df.max](https://pandas.pydata.org/docs/reference/api/pandas.DataFrame.max.html)|return the largest value along an axis|\n",
    "| |[df.min](https://pandas.pydata.org/docs/reference/api/pandas.DataFrame.min.html)|return the smallest value along an axis|\n",
    "| |[df.idxmax](https://pandas.pydata.org/docs/reference/api/pandas.DataFrame.idxmax.html)|return the index of the largest value along an axis|\n",
    "| |[df.idxmin](https://pandas.pydata.org/docs/reference/api/pandas.DataFrame.idxmin.html)|return the index of the smallest value along an axis|\n",
    "| |[df.mean](https://pandas.pydata.org/docs/reference/api/pandas.DataFrame.mean.html)|return the mean value along an axis|\n",
    "| |[df.median](https://pandas.pydata.org/docs/reference/api/pandas.DataFrame.median.html)|return the median value along an axis|\n",
    "| |[df.sum](https://pandas.pydata.org/docs/reference/api/pandas.DataFrame.sum.html)|return the sum total along an axis|\n",
    "| |[df.count](https://pandas.pydata.org/docs/reference/api/pandas.DataFrame.count.html)|return the number of existing (not Na) values along an axis|\n"
   ]
  }
 ],
 "metadata": {
  "celltoolbar": "Slideshow",
  "colab": {
   "provenance": []
  },
  "kernelspec": {
   "display_name": "Python 3 (ipykernel)",
   "language": "python",
   "name": "python3"
  },
  "language_info": {
   "codemirror_mode": {
    "name": "ipython",
    "version": 3
   },
   "file_extension": ".py",
   "mimetype": "text/x-python",
   "name": "python",
   "nbconvert_exporter": "python",
   "pygments_lexer": "ipython3",
   "version": "3.11.12"
  }
 },
 "nbformat": 4,
 "nbformat_minor": 5
}
