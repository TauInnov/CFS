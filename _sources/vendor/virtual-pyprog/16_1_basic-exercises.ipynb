{
 "cells": [
  {
   "cell_type": "raw",
   "id": "fd0fcd0b",
   "metadata": {
    "execution": {
     "iopub.execute_input": "2025-03-10T07:48:36.562651Z",
     "iopub.status.busy": "2025-03-10T07:48:36.562255Z",
     "iopub.status.idle": "2025-03-10T07:48:36.579096Z",
     "shell.execute_reply": "2025-03-10T07:48:36.578195Z"
    },
    "slideshow": {
     "slide_type": "skip"
    }
   },
   "source": [
    "%%html\n",
    "<style>\n",
    "table {display: inline-block}\n",
    "td {text-align:left}\n",
    "</style>\n"
   ]
  },
  {
   "cell_type": "markdown",
   "id": "365b08aa-97c6-4bdc-8c15-29b19417982d",
   "metadata": {},
   "source": [
    "# שאלות בסיסיות ברקורסיה"
   ]
  },
  {
   "cell_type": "markdown",
   "id": "bae8941d",
   "metadata": {
    "slideshow": {
     "slide_type": "slide"
    }
   },
   "source": [
    "### חישוב עצרת "
   ]
  },
  {
   "cell_type": "markdown",
   "id": "1b330a3e",
   "metadata": {
    "slideshow": {
     "slide_type": "fragment"
    }
   },
   "source": [
    "להלן ההגדרה המתמטית הקלאסית לעצרת:"
   ]
  },
  {
   "cell_type": "markdown",
   "id": "8d6ceddb",
   "metadata": {
    "slideshow": {
     "slide_type": "fragment"
    }
   },
   "source": [
    "$n! = 1*2*3*…(n-1)*n$"
   ]
  },
  {
   "cell_type": "markdown",
   "id": "f1546d8d-8ed1-471b-8ba7-c3fd3c5ee454",
   "metadata": {
    "slideshow": {
     "slide_type": "fragment"
    }
   },
   "source": [
    "ניתן להגדיר **נוסחא מתמטית רקורסיבית** את בעית חישוב עצרת גם בצורה רקורסיבית"
   ]
  },
  {
   "cell_type": "markdown",
   "id": "9a75dc35",
   "metadata": {
    "slideshow": {
     "slide_type": "fragment"
    }
   },
   "source": [
    "\n",
    "$n! = n * (n-1)!$\n",
    "\n",
    "$0! = 1$"
   ]
  },
  {
   "cell_type": "markdown",
   "id": "ba7299b2-a071-404d-81a0-0db43f4f4405",
   "metadata": {},
   "source": [
    "מדוע מדובר בנוסחא רקורסיבית? \n",
    "- הפעולה עצרת ($n!$) מוגדרת ע\"י הפעלת אותה הפעולה על מספר קטן יותר $n-1 $.\n",
    "- ניתן יהיה להפעיל את אותה נוסחא בדיוק עד שנקבל $n=0 $. במקרה זה, הנוסחא תחזיר 1 ללא קריאה נוספת לעצרת (!). כלומר, $n=0 $ הוא תנאי העצירה שלנו"
   ]
  },
  {
   "cell_type": "markdown",
   "id": "edd4005c",
   "metadata": {
    "slideshow": {
     "slide_type": "fragment"
    }
   },
   "source": [
    "נראה כעת את המימוש של נוסחא מתמטית זו בפייתון"
   ]
  },
  {
   "cell_type": "code",
   "execution_count": null,
   "id": "c3c1ed4d",
   "metadata": {
    "execution": {
     "iopub.execute_input": "2025-03-10T07:48:36.680545Z",
     "iopub.status.busy": "2025-03-10T07:48:36.680206Z",
     "iopub.status.idle": "2025-03-10T07:48:36.685768Z",
     "shell.execute_reply": "2025-03-10T07:48:36.685136Z"
    },
    "slideshow": {
     "slide_type": "fragment"
    }
   },
   "outputs": [],
   "source": [
    "def factorial(n):\n",
    "    if n == 0: \n",
    "        return 1\n",
    "    return n * factorial(n-1)\n",
    "\n",
    "factorial(4)"
   ]
  },
  {
   "cell_type": "markdown",
   "id": "2d3c34f5",
   "metadata": {
    "slideshow": {
     "slide_type": "subslide"
    }
   },
   "source": [
    "שימו לב כי ניתן לפתור בעיה זו גם ללא רקורסיה, ע\"י שימוש בלולאות:"
   ]
  },
  {
   "cell_type": "code",
   "execution_count": null,
   "id": "fb688990",
   "metadata": {
    "execution": {
     "iopub.execute_input": "2025-03-10T07:48:36.688909Z",
     "iopub.status.busy": "2025-03-10T07:48:36.688487Z",
     "iopub.status.idle": "2025-03-10T07:48:36.694263Z",
     "shell.execute_reply": "2025-03-10T07:48:36.693495Z"
    },
    "slideshow": {
     "slide_type": "fragment"
    }
   },
   "outputs": [],
   "source": [
    "def iterative_factorial(n):\n",
    "    result = 1\n",
    "    for i in range(2, n+1):\n",
    "        result *= i\n",
    "    return result\n",
    "\n",
    "iterative_factorial(4)"
   ]
  },
  {
   "cell_type": "markdown",
   "id": "db1b1b87",
   "metadata": {
    "slideshow": {
     "slide_type": "fragment"
    }
   },
   "source": [
    "בעיות רבות יכולות להפתור ע\"י שימוש בלולאות או ע\"י שימוש ברקורסיה.  \n",
    "מתי נעדיף להשתמש בכל גישה?\n",
    "- יתרונות  \n",
    "    - קצר ואלגנטי  \n",
    "    - טבעי עבור חלק מהבעיות  \n",
    "\n",
    "- חסרונות  \n",
    "    - במקרים רבים קשה לנסח ולהבין  \n",
    "    - מספר הקריאות הרקורסיביות מוגבל  \n"
   ]
  },
  {
   "cell_type": "markdown",
   "id": "2a9a142e",
   "metadata": {
    "slideshow": {
     "slide_type": "subslide"
    }
   },
   "source": [
    "### סדרת פיבונאצ'י"
   ]
  },
  {
   "cell_type": "markdown",
   "id": "ab338e6b-234b-453c-9e2f-5964a5961968",
   "metadata": {
    "slideshow": {
     "slide_type": "fragment"
    }
   },
   "source": [
    "הגדרת מתמטית של נוסחת סדרת פיבונאצ'י:\n",
    "$$\n",
    "fib(0) = 0 \\\\\n",
    "fib(1) = 1 \\\\\n",
    "fib(n) = fib(n-1) + fib(n-2)\n",
    "$$\n",
    "\n",
    "\n",
    "התחלת סדרת פיבונאצ'י נראית כך: $0, 1, 1, 2, 3, 5, 8, 13, 21, 34...$\n",
    "\n",
    "\n"
   ]
  },
  {
   "cell_type": "markdown",
   "id": "b5f9fa81",
   "metadata": {
    "slideshow": {
     "slide_type": "fragment"
    }
   },
   "source": [
    "כמו בחישוב העצרת ניתן לראות כי הנוסחא המתמטית מגלמת בתוכה את הקריאה הרקורסיבית: כאשר הערך של המספר הפיבונאצ'י ה-$n$ תלוי בערך מספרי הפיבונאצ'י ה$n-1$ ו-$n-2$"
   ]
  },
  {
   "cell_type": "markdown",
   "id": "5f4000fc",
   "metadata": {
    "slideshow": {
     "slide_type": "subslide"
    }
   },
   "source": [
    "נראה כיצד כל אחד משלושת השלבים של הרקורסיה בא לידי ביטוי בנוסחא במתמטית של פיבונאצ'י"
   ]
  },
  {
   "cell_type": "markdown",
   "id": "2b33cad3",
   "metadata": {
    "slideshow": {
     "slide_type": "fragment"
    }
   },
   "source": [
    "בחלק הראשון של הנוסחא הוא למעשה תנאי העצירה. שימו לב כי במקרה זה קיימים לנו למעשה **2** תנאי עצירה:"
   ]
  },
  {
   "cell_type": "markdown",
   "id": "f467832e",
   "metadata": {
    "slideshow": {
     "slide_type": "fragment"
    }
   },
   "source": [
    "$$\n",
    "fib(0) = 0 \\\\\n",
    "fib(1) = 1\n",
    "$$"
   ]
  },
  {
   "cell_type": "markdown",
   "id": "f5b4382b",
   "metadata": {
    "slideshow": {
     "slide_type": "fragment"
    }
   },
   "source": [
    "החלק השני של הנוסחא מגלם את שלבי הפירוק וההרכבה:  "
   ]
  },
  {
   "cell_type": "markdown",
   "id": "63d13eb9",
   "metadata": {
    "slideshow": {
     "slide_type": "fragment"
    }
   },
   "source": [
    "$$\n",
    "fib(n) = fib(n-1) + fib(n-2) \n",
    "$$    "
   ]
  },
  {
   "cell_type": "markdown",
   "id": "6566c6b0-3919-46a9-b55c-fd7685ee1a4e",
   "metadata": {},
   "source": [
    "הפירוק הוא בעצם 2 קריאות לפונקצית פיבונאצ'י עם הפרמטרים $n-1$ ו-$n-2$.  \n",
    "ההרכבה היא **פעולת החיבור** שנעשית על תוצאות 2 הקריאות "
   ]
  },
  {
   "cell_type": "markdown",
   "id": "6c6c3b60",
   "metadata": {
    "slideshow": {
     "slide_type": "subslide"
    }
   },
   "source": [
    "### מימוש פונקצית פיבונאצ'י בפייתון"
   ]
  },
  {
   "cell_type": "code",
   "execution_count": null,
   "id": "aa479f8e",
   "metadata": {
    "execution": {
     "iopub.execute_input": "2025-03-10T07:48:36.698246Z",
     "iopub.status.busy": "2025-03-10T07:48:36.697772Z",
     "iopub.status.idle": "2025-03-10T07:48:36.701803Z",
     "shell.execute_reply": "2025-03-10T07:48:36.701131Z"
    },
    "slideshow": {
     "slide_type": "fragment"
    }
   },
   "outputs": [],
   "source": [
    "def fibonacci_rec(n):\n",
    "    if n == 0:\n",
    "        return 0\n",
    "    if n == 1:\n",
    "        return 1\n",
    "    return fibonacci_rec(n-1) + fibonacci_rec(n-2)"
   ]
  },
  {
   "cell_type": "markdown",
   "id": "68c4e7d2",
   "metadata": {
    "slideshow": {
     "slide_type": "fragment"
    }
   },
   "source": [
    "ניתן גם לצרף את 2 תנאי בעצירה לתנאי אחד:"
   ]
  },
  {
   "cell_type": "code",
   "execution_count": null,
   "id": "b1db57c1",
   "metadata": {
    "execution": {
     "iopub.execute_input": "2025-03-10T07:48:36.704801Z",
     "iopub.status.busy": "2025-03-10T07:48:36.704378Z",
     "iopub.status.idle": "2025-03-10T07:48:36.708485Z",
     "shell.execute_reply": "2025-03-10T07:48:36.707738Z"
    },
    "slideshow": {
     "slide_type": "fragment"
    }
   },
   "outputs": [],
   "source": [
    "def fibonacci_rec(n):\n",
    "    if n == 0 or n == 1:\n",
    "        return n\n",
    "    return fibonacci_rec(n-1) + fibonacci_rec(n-2)"
   ]
  },
  {
   "cell_type": "markdown",
   "id": "bfe87b9f",
   "metadata": {
    "slideshow": {
     "slide_type": "fragment"
    }
   },
   "source": [
    "השתמשו ב[כלי הזה](https://recursion.vercel.app/) כדי לעקוב אחר עץ הרקורסיה של סדרת פיבונאצ'י"
   ]
  },
  {
   "cell_type": "markdown",
   "id": "898b9e68",
   "metadata": {
    "slideshow": {
     "slide_type": "subslide"
    }
   },
   "source": [
    "### מציאות סכום של רשימות מקוננות "
   ]
  },
  {
   "cell_type": "markdown",
   "id": "851432e9-abf5-496a-aba3-5dc07ea74dff",
   "metadata": {},
   "source": [
    "בבעיה זו רשימה יכולה להכיל מספרים שלמים (`int`) או רשימות (`list`).   \n",
    "בהנתן רשימה כלשהי, יש להדפיס את סכום המספרים המוכלים בה (כולל אלו שנמצאים בתתי רשימות המוכלות בה) \n",
    "\n",
    "לדוגמא: $[1,2,[3,4,[5,6]],7] = 28 $"
   ]
  },
  {
   "cell_type": "markdown",
   "id": "8ba04e9d-8301-445f-aea3-180449e13b8d",
   "metadata": {},
   "source": [
    "על מנת לפתור בעיה זו, נצטרך לבדוק עבור על איבר נבדוק עבור כל איבר שמתקבל בקלט אם הוא מספר או רשימה.   \n",
    "אם מדובר מספר, נחזיר אותו בלי לעשות דבר. **זהו למעשה תנאי העצירה שלנו**.      \n",
    "אם מדובר ברשימה, נפעיל על כל אחד מאיבריה את הקריאה הרקורסיבית (זהו פירוק הבעיה לתת-בעיות) ונסכום את הערכים שחוזרים (זו ההרכבה של תתי הבעיות לפתרון השלם)."
   ]
  },
  {
   "cell_type": "markdown",
   "id": "c06b5389-49c3-4f65-b711-9a94ab937dab",
   "metadata": {},
   "source": [
    "פתרון:"
   ]
  },
  {
   "cell_type": "code",
   "execution_count": 31,
   "id": "b3fc5d80",
   "metadata": {
    "slideshow": {
     "slide_type": "fragment"
    }
   },
   "outputs": [],
   "source": [
    "def sum_multi_nested_list(element):\n",
    "    if type(element) == int:\n",
    "        return element\n",
    "    else:\n",
    "        sum_of_sublist = 0\n",
    "        for sub_element in element:\n",
    "            sum_of_sublist += sum_multi_nested_list(sub_element)\n",
    "        return sum_of_sublist\n",
    "    "
   ]
  },
  {
   "cell_type": "code",
   "execution_count": null,
   "id": "85ca4699",
   "metadata": {
    "execution": {
     "iopub.execute_input": "2025-03-10T07:48:36.718373Z",
     "iopub.status.busy": "2025-03-10T07:48:36.717894Z",
     "iopub.status.idle": "2025-03-10T07:48:36.722806Z",
     "shell.execute_reply": "2025-03-10T07:48:36.722132Z"
    },
    "slideshow": {
     "slide_type": "fragment"
    }
   },
   "outputs": [],
   "source": [
    "sum_multi_nested_list([1,2,[3,4,[5,6]],7])"
   ]
  },
  {
   "cell_type": "code",
   "execution_count": null,
   "id": "e2c0a875",
   "metadata": {
    "execution": {
     "iopub.execute_input": "2025-03-10T07:48:36.725737Z",
     "iopub.status.busy": "2025-03-10T07:48:36.725262Z",
     "iopub.status.idle": "2025-03-10T07:48:36.730044Z",
     "shell.execute_reply": "2025-03-10T07:48:36.729341Z"
    },
    "slideshow": {
     "slide_type": "subslide"
    }
   },
   "outputs": [],
   "source": [
    "sum_multi_nested_list([1,2,7])"
   ]
  },
  {
   "cell_type": "code",
   "execution_count": null,
   "id": "29254725",
   "metadata": {
    "execution": {
     "iopub.execute_input": "2025-03-10T07:48:36.739667Z",
     "iopub.status.busy": "2025-03-10T07:48:36.739354Z",
     "iopub.status.idle": "2025-03-10T07:48:36.744380Z",
     "shell.execute_reply": "2025-03-10T07:48:36.743592Z"
    },
    "slideshow": {
     "slide_type": "fragment"
    }
   },
   "outputs": [],
   "source": [
    "sum_multi_nested_list([1, [], [[[1]]]])"
   ]
  }
 ],
 "metadata": {
  "celltoolbar": "Slideshow",
  "kernelspec": {
   "display_name": "Python 3 (ipykernel)",
   "language": "python",
   "name": "python3"
  },
  "language_info": {
   "codemirror_mode": {
    "name": "ipython",
    "version": 3
   },
   "file_extension": ".py",
   "mimetype": "text/x-python",
   "name": "python",
   "nbconvert_exporter": "python",
   "pygments_lexer": "ipython3",
   "version": "3.11.12"
  }
 },
 "nbformat": 4,
 "nbformat_minor": 5
}
