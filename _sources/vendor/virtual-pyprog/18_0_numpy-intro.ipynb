{
 "cells": [
  {
   "cell_type": "code",
   "execution_count": 5,
   "id": "940f98a5",
   "metadata": {
    "executionInfo": {
     "elapsed": 6214,
     "status": "ok",
     "timestamp": 1710688603534,
     "user": {
      "displayName": "Thomy Margalit",
      "userId": "18352331978920977690"
     },
     "user_tz": -120
    },
    "id": "940f98a5",
    "outputId": "5aad3b06-b8c2-450f-80a8-f243d9d5de27",
    "slideshow": {
     "slide_type": "skip"
    },
    "tags": [
     "remove_cell"
    ]
   },
   "outputs": [
    {
     "name": "stdout",
     "output_type": "stream",
     "text": [
      "['baby.png', 'countries-of-the-world.csv', 'dialation.png', 'dialation_2.png', 'dog.png', 'dog_noised.png', 'erosion.png', 'erosion_2.png', 'evil_morty_1.png', 'evil_morty_change.png', 'evil_morty_change_3.png', 'evil_morty_change_noised.png', 'evil_morty_segmentation.png', 'ex1.csv', 'ex2.csv', 'koala.png', 'notebook_resources.zip', 'orders_2_2024.csv', 'orders_3_2024.csv', 'orders_4_2024.csv', 'products2.csv', 'ship.png', 'StudentsGrades.csv', 'witcher_1.csv', 'witcher_2.csv', 'woman_noised.png', '__MACOSX']\n"
     ]
    }
   ],
   "source": [
    "import urllib.request\n",
    "import zipfile\n",
    "import os\n",
    "import ssl \n",
    "\n",
    "try:\n",
    "    os.mkdir(\"files\")\n",
    "except:\n",
    "    pass\n",
    "\n",
    "ssl._create_default_https_context = ssl._create_unverified_context\n",
    "\n",
    "with urllib.request.urlopen('https://courses.cs.tau.ac.il/pyProg/2425a/resources/notebook_resources.zip') as f:\n",
    "    content = f.read()\n",
    "\n",
    "with open('files/notebook_resources.zip', 'wb') as f:\n",
    "    f.write(content)\n",
    "\n",
    "with zipfile.ZipFile('files/notebook_resources.zip', 'r') as zip_ref:\n",
    "    zip_ref.extractall('files')\n",
    "\n",
    "print(os.listdir('files'))"
   ]
  },
  {
   "cell_type": "markdown",
   "id": "9fb08138",
   "metadata": {
    "id": "9fb08138",
    "slideshow": {
     "slide_type": "subslide"
    }
   },
   "source": [
    "# ספרית Numpy ועיבוד תמונה\n"
   ]
  },
  {
   "cell_type": "markdown",
   "id": "bae8941d",
   "metadata": {
    "id": "bae8941d",
    "slideshow": {
     "slide_type": "subslide"
    }
   },
   "source": [
    "### מהי ספרית Numpy?"
   ]
  },
  {
   "cell_type": "markdown",
   "id": "8d6ceddb",
   "metadata": {
    "id": "8d6ceddb",
    "slideshow": {
     "slide_type": "fragment"
    }
   },
   "source": [
    "ספריית **Numpy** (ראשי תיבות של Numeric Python) היא ספריית ליבה בפייתון לעבודה עם נתונים מספריים. היא מספקת מבנה נתונים מרכזי – **מערך** (ndarray/`np.array`) – שמאפשר לנהל ולעבד כמויות גדולות של נתונים בצורה יעילה הרבה יותר מאשר רשימות רגילות של פייתון.   \n",
    "בנוסף, היא כוללת אוסף עשיר של פעולות מתמטיות, אלגבריות וסטטיסטיות על וקטורים, מטריצות ומערכים רב־ממדיים.  \n",
    "למעשה, Numpy מהווה את התשתית שעליה נבנו ספריות רבות בתחומים כמו מדעי הנתונים, למידת מכונה, חישובים מדעיים ואף בינה מלאכותית.\n",
    "\n",
    "במהלך נושא זה, ניעזר ב־Numpy גם עריכת תמונות, או במילים אחרות - **עיבוד תמונה**. למשל, נוכל להשתמש בה להחשכת תמונה, הוספת רעש ועוד.   "
   ]
  },
  {
   "cell_type": "markdown",
   "id": "0dfd6ea7-38a2-440c-814d-f51f4f93383b",
   "metadata": {},
   "source": [
    "### היתרונות של השימוש ב`np.array`"
   ]
  },
  {
   "cell_type": "markdown",
   "id": "aa4bfafa-ba86-4e67-abb8-37ae2890c7b9",
   "metadata": {},
   "source": [
    "כבר למדנו כיצד לייצג וקטורים חד-מימדיים ומטריצות באמצעות מבני נתונים בפייתון - באמצעות רשימות ורשימות מקוננות. מדוע צריך כעת מבנה נתונים חדש?\n",
    "\n",
    "`np.array` פותח במיוחד על מנת לתמוך בפעולות וקטוריות. הדבר בא לידי ביטוי בשני אופנים:  \n",
    "- כשאנחנו מסתמכים רק על לולאות ורשימות רגילות, חישובים על וקטורים, מטריצות או כמויות גדולות של מספרים נהיים איטיים ומסורבלים. לעומת זאת, Numpy מספקת אופטימיזציות לפעולות המיועדות ספציפית למערכים, כך שפעולות שנבצע   מבנה נתונים יעיל, יחד עם פעולות וקטוריות מהירות. המשמעות היא שפעולות שמספקת לנו ספרית Numpy יהיו בד\"כ הרבה יותר מהירות ויעילות ממימוש אלטרנטיבי באמצעות לולאות.\n",
    "- כפי שתראו בהמשך, Numpy מאפשרת לכתוב חישובים מורכבים בכמה שורות קצרות ונקיות, במקום מספר רב יותר של לולאות מקוננות ומסורבלות. התוצא היא תחביר שמתקרב יותר לשפה טבעית לחישובים מתמטיים.\n",
    "\n"
   ]
  },
  {
   "cell_type": "markdown",
   "id": "2d3c34f5",
   "metadata": {
    "id": "2d3c34f5",
    "slideshow": {
     "slide_type": "subslide"
    }
   },
   "source": [
    "### כיצד ניתן להשתמש בספרית Numpy?\n"
   ]
  },
  {
   "cell_type": "markdown",
   "id": "0edade5c",
   "metadata": {
    "id": "0edade5c",
    "slideshow": {
     "slide_type": "fragment"
    }
   },
   "source": [
    "הספרייה היא בקוד פתוח, זמינה לכל אחד, ונמצאת כמעט בכל מקום שבו פייתון בשימוש. \n",
    "\n",
    "\n",
    "אם אתם משתמשים בסביבות כמו Anaconda ודומיה, הספרייה כבר מותקנת מראש. ולכן, על מנת להשתמש בספריה, כל שעלינו לעשות הוא **לייבא** אותה בתחילת התוכנית באופן הבא:"
   ]
  },
  {
   "cell_type": "code",
   "execution_count": 2,
   "id": "b299d429",
   "metadata": {
    "executionInfo": {
     "elapsed": 3,
     "status": "ok",
     "timestamp": 1710688640172,
     "user": {
      "displayName": "Thomy Margalit",
      "userId": "18352331978920977690"
     },
     "user_tz": -120
    },
    "id": "b299d429",
    "slideshow": {
     "slide_type": "fragment"
    }
   },
   "outputs": [],
   "source": [
    "import numpy as np"
   ]
  },
  {
   "cell_type": "markdown",
   "id": "8ef7f399",
   "metadata": {
    "id": "8ef7f399",
    "slideshow": {
     "slide_type": "fragment"
    }
   },
   "source": [
    "לאחר הרצת שורה זו, נוכל לגשת לכל הפונקציות והיכולות של הספרייה דרך הקיצור `np` כפי שנראה ביחידות הבאות."
   ]
  }
 ],
 "metadata": {
  "celltoolbar": "Slideshow",
  "colab": {
   "provenance": []
  },
  "kernelspec": {
   "display_name": "Python 3 (ipykernel)",
   "language": "python",
   "name": "python3"
  },
  "language_info": {
   "codemirror_mode": {
    "name": "ipython",
    "version": 3
   },
   "file_extension": ".py",
   "mimetype": "text/x-python",
   "name": "python",
   "nbconvert_exporter": "python",
   "pygments_lexer": "ipython3",
   "version": "3.11.12"
  }
 },
 "nbformat": 4,
 "nbformat_minor": 5
}
