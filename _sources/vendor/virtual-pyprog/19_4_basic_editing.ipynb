{
 "cells": [
  {
   "cell_type": "code",
   "execution_count": 35,
   "id": "f9e99179",
   "metadata": {
    "id": "f9e99179",
    "slideshow": {
     "slide_type": "notes"
    },
    "tags": [
     "remove_cell"
    ]
   },
   "outputs": [
    {
     "name": "stdout",
     "output_type": "stream",
     "text": [
      "['baby.png', 'countries-of-the-world.csv', 'dialation.png', 'dialation_2.png', 'dog.png', 'dog_noised.png', 'erosion.png', 'erosion_2.png', 'evil_morty_1.png', 'evil_morty_change.png', 'evil_morty_change_3.png', 'evil_morty_change_noised.png', 'evil_morty_segmentation.png', 'ex1.csv', 'ex2.csv', 'koala.png', 'notebook_resources.zip', 'orders_2_2024.csv', 'orders_3_2024.csv', 'orders_4_2024.csv', 'products2.csv', 'ship.png', 'StudentsGrades.csv', 'witcher_1.csv', 'witcher_2.csv', 'woman_noised.png', '__MACOSX']\n"
     ]
    }
   ],
   "source": [
    "import urllib.request\n",
    "import zipfile\n",
    "import os\n",
    "import ssl\n",
    "\n",
    "try:\n",
    "    os.mkdir(\"files\")\n",
    "except:\n",
    "    pass\n",
    "\n",
    "ssl._create_default_https_context = ssl._create_unverified_context\n",
    "\n",
    "with urllib.request.urlopen('https://courses.cs.tau.ac.il/pyProg/2425a/resources/notebook_resources.zip') as f:\n",
    "    content = f.read()\n",
    "\n",
    "with open('files/notebook_resources.zip', 'wb') as f:\n",
    "    f.write(content)\n",
    "\n",
    "with zipfile.ZipFile('files/notebook_resources.zip', 'r') as zip_ref:\n",
    "    zip_ref.extractall('files')\n",
    "\n",
    "print(os.listdir('files'))\n",
    "\n",
    "import pandas as pd\n",
    "pd.options.display.max_rows=5\n"
   ]
  },
  {
   "cell_type": "markdown",
   "id": "c8310314",
   "metadata": {
    "id": "c8310314",
    "slideshow": {
     "slide_type": "slide"
    }
   },
   "source": [
    "# עריכה בסיסית של טבלאות וסדרות"
   ]
  },
  {
   "cell_type": "code",
   "execution_count": 113,
   "id": "250d2679-430c-480b-b33b-f7349b9a9edb",
   "metadata": {},
   "outputs": [
    {
     "data": {
      "text/html": [
       "<div>\n",
       "<style scoped>\n",
       "    .dataframe tbody tr th:only-of-type {\n",
       "        vertical-align: middle;\n",
       "    }\n",
       "\n",
       "    .dataframe tbody tr th {\n",
       "        vertical-align: top;\n",
       "    }\n",
       "\n",
       "    .dataframe thead th {\n",
       "        text-align: right;\n",
       "    }\n",
       "</style>\n",
       "<table border=\"1\" class=\"dataframe\">\n",
       "  <thead>\n",
       "    <tr style=\"text-align: right;\">\n",
       "      <th></th>\n",
       "      <th>Name</th>\n",
       "      <th>Programming</th>\n",
       "      <th>Marine Biology</th>\n",
       "      <th>Stellar Cartography</th>\n",
       "      <th>Math</th>\n",
       "      <th>History</th>\n",
       "      <th>Planet Survival</th>\n",
       "      <th>Art</th>\n",
       "    </tr>\n",
       "  </thead>\n",
       "  <tbody>\n",
       "    <tr>\n",
       "      <th>0</th>\n",
       "      <td>Yael</td>\n",
       "      <td>50</td>\n",
       "      <td>56</td>\n",
       "      <td>70</td>\n",
       "      <td>60</td>\n",
       "      <td>87</td>\n",
       "      <td>65</td>\n",
       "      <td>91</td>\n",
       "    </tr>\n",
       "    <tr>\n",
       "      <th>1</th>\n",
       "      <td>Nadav</td>\n",
       "      <td>61</td>\n",
       "      <td>77</td>\n",
       "      <td>75</td>\n",
       "      <td>75</td>\n",
       "      <td>63</td>\n",
       "      <td>52</td>\n",
       "      <td>88</td>\n",
       "    </tr>\n",
       "    <tr>\n",
       "      <th>...</th>\n",
       "      <td>...</td>\n",
       "      <td>...</td>\n",
       "      <td>...</td>\n",
       "      <td>...</td>\n",
       "      <td>...</td>\n",
       "      <td>...</td>\n",
       "      <td>...</td>\n",
       "      <td>...</td>\n",
       "    </tr>\n",
       "    <tr>\n",
       "      <th>11</th>\n",
       "      <td>Tom</td>\n",
       "      <td>98</td>\n",
       "      <td>76</td>\n",
       "      <td>98</td>\n",
       "      <td>100</td>\n",
       "      <td>98</td>\n",
       "      <td>92</td>\n",
       "      <td>80</td>\n",
       "    </tr>\n",
       "    <tr>\n",
       "      <th>12</th>\n",
       "      <td>Adi</td>\n",
       "      <td>76</td>\n",
       "      <td>87</td>\n",
       "      <td>34</td>\n",
       "      <td>90</td>\n",
       "      <td>88</td>\n",
       "      <td>84</td>\n",
       "      <td>70</td>\n",
       "    </tr>\n",
       "  </tbody>\n",
       "</table>\n",
       "<p>13 rows × 8 columns</p>\n",
       "</div>"
      ],
      "text/plain": [
       "     Name  Programming  Marine Biology  Stellar Cartography  Math  History  \\\n",
       "0    Yael           50              56                   70    60       87   \n",
       "1   Nadav           61              77                   75    75       63   \n",
       "..    ...          ...             ...                  ...   ...      ...   \n",
       "11    Tom           98              76                   98   100       98   \n",
       "12    Adi           76              87                   34    90       88   \n",
       "\n",
       "    Planet Survival  Art  \n",
       "0                65   91  \n",
       "1                52   88  \n",
       "..              ...  ...  \n",
       "11               92   80  \n",
       "12               84   70  \n",
       "\n",
       "[13 rows x 8 columns]"
      ]
     },
     "metadata": {},
     "output_type": "display_data"
    }
   ],
   "source": [
    "inputFileName = \"files/StudentsGrades.csv\"\n",
    "df = pd.read_csv(inputFileName)\n",
    "display(df)"
   ]
  },
  {
   "cell_type": "markdown",
   "id": "f50e3c59",
   "metadata": {
    "id": "f50e3c59",
    "slideshow": {
     "slide_type": "subslide"
    }
   },
   "source": [
    "### פעולות אריתמטיות בין טבלאות וסדרות"
   ]
  },
  {
   "cell_type": "markdown",
   "id": "39e31634-4089-4738-bc62-a1bf1529514a",
   "metadata": {},
   "source": [
    "ניתן לבצע מגוון פעולות אריתמטיות בין טבלאות וסדרות.   \n",
    "הפעולות מבוצעות עבור כל זוג ערכים נמצאים בתא בעל שם תואם ב2 העמודות (element-wise).\n",
    "\n",
    "\n",
    "נראה כאן כמה דוגמאות:"
   ]
  },
  {
   "cell_type": "markdown",
   "id": "0315cde3",
   "metadata": {
    "slideshow": {
     "slide_type": "subslide"
    }
   },
   "source": [
    "החסרת עמודות"
   ]
  },
  {
   "cell_type": "code",
   "execution_count": null,
   "id": "a1030637",
   "metadata": {
    "execution": {
     "iopub.execute_input": "2025-03-10T07:51:29.987509Z",
     "iopub.status.busy": "2025-03-10T07:51:29.986947Z",
     "iopub.status.idle": "2025-03-10T07:51:29.992654Z",
     "shell.execute_reply": "2025-03-10T07:51:29.991770Z"
    },
    "id": "a1030637",
    "slideshow": {
     "slide_type": "fragment"
    }
   },
   "outputs": [],
   "source": [
    "print(df['Math'] - df['Art'])"
   ]
  },
  {
   "cell_type": "markdown",
   "id": "2a24baaf",
   "metadata": {
    "slideshow": {
     "slide_type": "subslide"
    }
   },
   "source": [
    "ממוצע בין זוג עמודות ציונים"
   ]
  },
  {
   "cell_type": "code",
   "execution_count": null,
   "id": "f4674e3b",
   "metadata": {
    "execution": {
     "iopub.execute_input": "2025-03-10T07:51:29.996093Z",
     "iopub.status.busy": "2025-03-10T07:51:29.995512Z",
     "iopub.status.idle": "2025-03-10T07:51:30.001761Z",
     "shell.execute_reply": "2025-03-10T07:51:30.000939Z"
    },
    "id": "a1030637",
    "slideshow": {
     "slide_type": "fragment"
    }
   },
   "outputs": [],
   "source": [
    "print((df['Math'] + df['Art'])/2)"
   ]
  },
  {
   "cell_type": "markdown",
   "id": "b6003212",
   "metadata": {
    "slideshow": {
     "slide_type": "subslide"
    }
   },
   "source": [
    "ממוצע בין כל הציונים"
   ]
  },
  {
   "cell_type": "code",
   "execution_count": null,
   "id": "779d496a",
   "metadata": {
    "execution": {
     "iopub.execute_input": "2025-03-10T07:51:30.004837Z",
     "iopub.status.busy": "2025-03-10T07:51:30.004269Z",
     "iopub.status.idle": "2025-03-10T07:51:30.011804Z",
     "shell.execute_reply": "2025-03-10T07:51:30.010989Z"
    },
    "slideshow": {
     "slide_type": "fragment"
    }
   },
   "outputs": [],
   "source": [
    "df.iloc[:,1:].mean(axis=1)"
   ]
  },
  {
   "cell_type": "markdown",
   "id": "18b269e2-477e-43f6-8bff-879480fbbbd1",
   "metadata": {},
   "source": [
    "```{admonition} **חשבו**\n",
    ":class: info\n",
    "מדוע השתמשנו כאן ב`iloc[:,1:]`?\n",
    "```"
   ]
  },
  {
   "cell_type": "markdown",
   "id": "a1af860f-3dce-40e7-890f-204047e85d0f",
   "metadata": {},
   "source": [
    "```{admonition} **שימו לב**\n",
    "הקלט `axis=1` בעמודת הממוצעים אומר שבעצם אנו מחשבים **עמודת ממוצעים**, או במילים אחרות, **ממוצע על כל שורה בנפרד שמסתכם לכדי עמודה בודדת**\n",
    "```"
   ]
  },
  {
   "cell_type": "markdown",
   "id": "e5dae61f-5a43-43e0-8d4f-8aa832b107be",
   "metadata": {},
   "source": [
    "### הסרת שורות ועמודות"
   ]
  },
  {
   "cell_type": "markdown",
   "id": "c47bbb1f-ddb1-44bb-ae4b-da8e776a8955",
   "metadata": {},
   "source": [
    "על מנת **להסיר שורות או עמודות, נשתמש בפונקציה `pd.drop`**, המחזירה טבלה חדשה ללא השורות/עמודות בעלות השמות שצוינו. ניתן להעביר שם בודד או מספר שמות של שורות/עמודות אותם אנו רוצים להסיר.\n",
    "\n",
    "הפרמטר `axis` קובע היכן תתבצע ההסרה - בשורות (`axis=0`) או בעמודות (`axis=1`)."
   ]
  },
  {
   "cell_type": "markdown",
   "id": "e1b7b701",
   "metadata": {
    "id": "e1b7b701",
    "slideshow": {
     "slide_type": "subslide"
    }
   },
   "source": [
    "דוגמא להסרת העמודה Name:"
   ]
  },
  {
   "cell_type": "code",
   "execution_count": 89,
   "id": "6cd4f751",
   "metadata": {
    "id": "6cd4f751",
    "slideshow": {
     "slide_type": "fragment"
    }
   },
   "outputs": [
    {
     "data": {
      "text/html": [
       "<div>\n",
       "<style scoped>\n",
       "    .dataframe tbody tr th:only-of-type {\n",
       "        vertical-align: middle;\n",
       "    }\n",
       "\n",
       "    .dataframe tbody tr th {\n",
       "        vertical-align: top;\n",
       "    }\n",
       "\n",
       "    .dataframe thead th {\n",
       "        text-align: right;\n",
       "    }\n",
       "</style>\n",
       "<table border=\"1\" class=\"dataframe\">\n",
       "  <thead>\n",
       "    <tr style=\"text-align: right;\">\n",
       "      <th></th>\n",
       "      <th>Programming</th>\n",
       "      <th>Marine Biology</th>\n",
       "      <th>Stellar Cartography</th>\n",
       "      <th>Math</th>\n",
       "      <th>History</th>\n",
       "      <th>Planet Survival</th>\n",
       "      <th>Art</th>\n",
       "    </tr>\n",
       "  </thead>\n",
       "  <tbody>\n",
       "    <tr>\n",
       "      <th>0</th>\n",
       "      <td>50</td>\n",
       "      <td>56</td>\n",
       "      <td>70</td>\n",
       "      <td>60</td>\n",
       "      <td>87</td>\n",
       "      <td>65</td>\n",
       "      <td>91</td>\n",
       "    </tr>\n",
       "    <tr>\n",
       "      <th>1</th>\n",
       "      <td>61</td>\n",
       "      <td>77</td>\n",
       "      <td>75</td>\n",
       "      <td>75</td>\n",
       "      <td>63</td>\n",
       "      <td>52</td>\n",
       "      <td>88</td>\n",
       "    </tr>\n",
       "    <tr>\n",
       "      <th>...</th>\n",
       "      <td>...</td>\n",
       "      <td>...</td>\n",
       "      <td>...</td>\n",
       "      <td>...</td>\n",
       "      <td>...</td>\n",
       "      <td>...</td>\n",
       "      <td>...</td>\n",
       "    </tr>\n",
       "    <tr>\n",
       "      <th>11</th>\n",
       "      <td>98</td>\n",
       "      <td>76</td>\n",
       "      <td>98</td>\n",
       "      <td>100</td>\n",
       "      <td>98</td>\n",
       "      <td>92</td>\n",
       "      <td>80</td>\n",
       "    </tr>\n",
       "    <tr>\n",
       "      <th>12</th>\n",
       "      <td>76</td>\n",
       "      <td>87</td>\n",
       "      <td>34</td>\n",
       "      <td>90</td>\n",
       "      <td>88</td>\n",
       "      <td>84</td>\n",
       "      <td>70</td>\n",
       "    </tr>\n",
       "  </tbody>\n",
       "</table>\n",
       "<p>13 rows × 7 columns</p>\n",
       "</div>"
      ],
      "text/plain": [
       "    Programming  Marine Biology  Stellar Cartography  Math  History  \\\n",
       "0            50              56                   70    60       87   \n",
       "1            61              77                   75    75       63   \n",
       "..          ...             ...                  ...   ...      ...   \n",
       "11           98              76                   98   100       98   \n",
       "12           76              87                   34    90       88   \n",
       "\n",
       "    Planet Survival  Art  \n",
       "0                65   91  \n",
       "1                52   88  \n",
       "..              ...  ...  \n",
       "11               92   80  \n",
       "12               84   70  \n",
       "\n",
       "[13 rows x 7 columns]"
      ]
     },
     "metadata": {},
     "output_type": "display_data"
    }
   ],
   "source": [
    "display(df.drop('Name', axis=1))"
   ]
  },
  {
   "cell_type": "markdown",
   "id": "5ee7cb75",
   "metadata": {
    "execution": {
     "iopub.execute_input": "2024-02-20T15:56:04.161289Z",
     "iopub.status.busy": "2024-02-20T15:56:04.160471Z",
     "iopub.status.idle": "2024-02-20T15:56:04.732277Z",
     "shell.execute_reply": "2024-02-20T15:56:04.731080Z"
    },
    "id": "5ee7cb75",
    "slideshow": {
     "slide_type": "subslide"
    }
   },
   "source": [
    "דוגמא להסרת השורה הראשונה והאחרונה. "
   ]
  },
  {
   "cell_type": "code",
   "execution_count": 90,
   "id": "7dd9be50",
   "metadata": {
    "id": "7dd9be50",
    "slideshow": {
     "slide_type": "fragment"
    }
   },
   "outputs": [
    {
     "data": {
      "text/html": [
       "<div>\n",
       "<style scoped>\n",
       "    .dataframe tbody tr th:only-of-type {\n",
       "        vertical-align: middle;\n",
       "    }\n",
       "\n",
       "    .dataframe tbody tr th {\n",
       "        vertical-align: top;\n",
       "    }\n",
       "\n",
       "    .dataframe thead th {\n",
       "        text-align: right;\n",
       "    }\n",
       "</style>\n",
       "<table border=\"1\" class=\"dataframe\">\n",
       "  <thead>\n",
       "    <tr style=\"text-align: right;\">\n",
       "      <th></th>\n",
       "      <th>Name</th>\n",
       "      <th>Programming</th>\n",
       "      <th>Marine Biology</th>\n",
       "      <th>Stellar Cartography</th>\n",
       "      <th>Math</th>\n",
       "      <th>History</th>\n",
       "      <th>Planet Survival</th>\n",
       "      <th>Art</th>\n",
       "    </tr>\n",
       "  </thead>\n",
       "  <tbody>\n",
       "    <tr>\n",
       "      <th>1</th>\n",
       "      <td>Nadav</td>\n",
       "      <td>61</td>\n",
       "      <td>77</td>\n",
       "      <td>75</td>\n",
       "      <td>75</td>\n",
       "      <td>63</td>\n",
       "      <td>52</td>\n",
       "      <td>88</td>\n",
       "    </tr>\n",
       "    <tr>\n",
       "      <th>2</th>\n",
       "      <td>Michal</td>\n",
       "      <td>81</td>\n",
       "      <td>72</td>\n",
       "      <td>76</td>\n",
       "      <td>94</td>\n",
       "      <td>67</td>\n",
       "      <td>81</td>\n",
       "      <td>78</td>\n",
       "    </tr>\n",
       "    <tr>\n",
       "      <th>...</th>\n",
       "      <td>...</td>\n",
       "      <td>...</td>\n",
       "      <td>...</td>\n",
       "      <td>...</td>\n",
       "      <td>...</td>\n",
       "      <td>...</td>\n",
       "      <td>...</td>\n",
       "      <td>...</td>\n",
       "    </tr>\n",
       "    <tr>\n",
       "      <th>10</th>\n",
       "      <td>Yaniv</td>\n",
       "      <td>100</td>\n",
       "      <td>64</td>\n",
       "      <td>62</td>\n",
       "      <td>95</td>\n",
       "      <td>61</td>\n",
       "      <td>88</td>\n",
       "      <td>90</td>\n",
       "    </tr>\n",
       "    <tr>\n",
       "      <th>11</th>\n",
       "      <td>Tom</td>\n",
       "      <td>98</td>\n",
       "      <td>76</td>\n",
       "      <td>98</td>\n",
       "      <td>100</td>\n",
       "      <td>98</td>\n",
       "      <td>92</td>\n",
       "      <td>80</td>\n",
       "    </tr>\n",
       "  </tbody>\n",
       "</table>\n",
       "<p>11 rows × 8 columns</p>\n",
       "</div>"
      ],
      "text/plain": [
       "      Name  Programming  Marine Biology  Stellar Cartography  Math  History  \\\n",
       "1    Nadav           61              77                   75    75       63   \n",
       "2   Michal           81              72                   76    94       67   \n",
       "..     ...          ...             ...                  ...   ...      ...   \n",
       "10   Yaniv          100              64                   62    95       61   \n",
       "11     Tom           98              76                   98   100       98   \n",
       "\n",
       "    Planet Survival  Art  \n",
       "1                52   88  \n",
       "2                81   78  \n",
       "..              ...  ...  \n",
       "10               88   90  \n",
       "11               92   80  \n",
       "\n",
       "[11 rows x 8 columns]"
      ]
     },
     "metadata": {},
     "output_type": "display_data"
    }
   ],
   "source": [
    "display(df.drop([0,12]))"
   ]
  },
  {
   "cell_type": "markdown",
   "id": "f3998d6c-18a5-4e75-9f14-c317d6dec9b2",
   "metadata": {},
   "source": [
    "```{admonition} **שימו לב**\n",
    ":class: warning\n",
    "\n",
    "בברירת המחדל הערך של `axis` הוא תמיד 0 - כלומר, הפעולה תתייחס לשורות\n",
    "```"
   ]
  },
  {
   "cell_type": "markdown",
   "id": "d15030c1-da5c-440e-abed-56a753baf8fd",
   "metadata": {},
   "source": [
    "```{admonition} **שימו לב**\n",
    ":class: warning\n",
    "אם השם לא מופיע בציר שצוין, `drop` תקפיץ שגיאה\n",
    "```"
   ]
  },
  {
   "cell_type": "markdown",
   "id": "67acc16e-4c37-4008-968f-98d92197e45c",
   "metadata": {},
   "source": [
    "ואם נרצה להסיר את השורות או העמודות מהטבלה המקורית?\n",
    "\n",
    "במקרה זה, נוכל להשתמש בפרמטר `in_place=True`:"
   ]
  },
  {
   "cell_type": "code",
   "execution_count": 114,
   "id": "2858dbaa-a13f-401e-8f9e-08647c3408f2",
   "metadata": {},
   "outputs": [
    {
     "data": {
      "text/html": [
       "<div>\n",
       "<style scoped>\n",
       "    .dataframe tbody tr th:only-of-type {\n",
       "        vertical-align: middle;\n",
       "    }\n",
       "\n",
       "    .dataframe tbody tr th {\n",
       "        vertical-align: top;\n",
       "    }\n",
       "\n",
       "    .dataframe thead th {\n",
       "        text-align: right;\n",
       "    }\n",
       "</style>\n",
       "<table border=\"1\" class=\"dataframe\">\n",
       "  <thead>\n",
       "    <tr style=\"text-align: right;\">\n",
       "      <th></th>\n",
       "      <th>Name</th>\n",
       "      <th>Programming</th>\n",
       "      <th>Marine Biology</th>\n",
       "      <th>Stellar Cartography</th>\n",
       "      <th>Math</th>\n",
       "      <th>History</th>\n",
       "      <th>Planet Survival</th>\n",
       "      <th>Art</th>\n",
       "    </tr>\n",
       "  </thead>\n",
       "  <tbody>\n",
       "    <tr>\n",
       "      <th>1</th>\n",
       "      <td>Nadav</td>\n",
       "      <td>61</td>\n",
       "      <td>77</td>\n",
       "      <td>75</td>\n",
       "      <td>75</td>\n",
       "      <td>63</td>\n",
       "      <td>52</td>\n",
       "      <td>88</td>\n",
       "    </tr>\n",
       "    <tr>\n",
       "      <th>2</th>\n",
       "      <td>Michal</td>\n",
       "      <td>81</td>\n",
       "      <td>72</td>\n",
       "      <td>76</td>\n",
       "      <td>94</td>\n",
       "      <td>67</td>\n",
       "      <td>81</td>\n",
       "      <td>78</td>\n",
       "    </tr>\n",
       "    <tr>\n",
       "      <th>...</th>\n",
       "      <td>...</td>\n",
       "      <td>...</td>\n",
       "      <td>...</td>\n",
       "      <td>...</td>\n",
       "      <td>...</td>\n",
       "      <td>...</td>\n",
       "      <td>...</td>\n",
       "      <td>...</td>\n",
       "    </tr>\n",
       "    <tr>\n",
       "      <th>11</th>\n",
       "      <td>Tom</td>\n",
       "      <td>98</td>\n",
       "      <td>76</td>\n",
       "      <td>98</td>\n",
       "      <td>100</td>\n",
       "      <td>98</td>\n",
       "      <td>92</td>\n",
       "      <td>80</td>\n",
       "    </tr>\n",
       "    <tr>\n",
       "      <th>12</th>\n",
       "      <td>Adi</td>\n",
       "      <td>76</td>\n",
       "      <td>87</td>\n",
       "      <td>34</td>\n",
       "      <td>90</td>\n",
       "      <td>88</td>\n",
       "      <td>84</td>\n",
       "      <td>70</td>\n",
       "    </tr>\n",
       "  </tbody>\n",
       "</table>\n",
       "<p>12 rows × 8 columns</p>\n",
       "</div>"
      ],
      "text/plain": [
       "      Name  Programming  Marine Biology  Stellar Cartography  Math  History  \\\n",
       "1    Nadav           61              77                   75    75       63   \n",
       "2   Michal           81              72                   76    94       67   \n",
       "..     ...          ...             ...                  ...   ...      ...   \n",
       "11     Tom           98              76                   98   100       98   \n",
       "12     Adi           76              87                   34    90       88   \n",
       "\n",
       "    Planet Survival  Art  \n",
       "1                52   88  \n",
       "2                81   78  \n",
       "..              ...  ...  \n",
       "11               92   80  \n",
       "12               84   70  \n",
       "\n",
       "[12 rows x 8 columns]"
      ]
     },
     "metadata": {},
     "output_type": "display_data"
    }
   ],
   "source": [
    "df.drop(0, inplace=True)\n",
    "display(df)"
   ]
  },
  {
   "cell_type": "markdown",
   "id": "3f79e93f-ce18-4597-a230-5f8cdda153e9",
   "metadata": {},
   "source": [
    "לחלופין, נוכל לבצע השמה למשתנה שמכיל את הטבלה המקורית ולגרום לו להצביע לטבלה החדשה:"
   ]
  },
  {
   "cell_type": "code",
   "execution_count": 115,
   "id": "cf98eb03-1b82-40bc-ac88-a7b05d7a960d",
   "metadata": {},
   "outputs": [
    {
     "data": {
      "text/html": [
       "<div>\n",
       "<style scoped>\n",
       "    .dataframe tbody tr th:only-of-type {\n",
       "        vertical-align: middle;\n",
       "    }\n",
       "\n",
       "    .dataframe tbody tr th {\n",
       "        vertical-align: top;\n",
       "    }\n",
       "\n",
       "    .dataframe thead th {\n",
       "        text-align: right;\n",
       "    }\n",
       "</style>\n",
       "<table border=\"1\" class=\"dataframe\">\n",
       "  <thead>\n",
       "    <tr style=\"text-align: right;\">\n",
       "      <th></th>\n",
       "      <th>Name</th>\n",
       "      <th>Programming</th>\n",
       "      <th>Marine Biology</th>\n",
       "      <th>Stellar Cartography</th>\n",
       "      <th>Math</th>\n",
       "      <th>History</th>\n",
       "      <th>Planet Survival</th>\n",
       "      <th>Art</th>\n",
       "    </tr>\n",
       "  </thead>\n",
       "  <tbody>\n",
       "    <tr>\n",
       "      <th>1</th>\n",
       "      <td>Nadav</td>\n",
       "      <td>61</td>\n",
       "      <td>77</td>\n",
       "      <td>75</td>\n",
       "      <td>75</td>\n",
       "      <td>63</td>\n",
       "      <td>52</td>\n",
       "      <td>88</td>\n",
       "    </tr>\n",
       "    <tr>\n",
       "      <th>2</th>\n",
       "      <td>Michal</td>\n",
       "      <td>81</td>\n",
       "      <td>72</td>\n",
       "      <td>76</td>\n",
       "      <td>94</td>\n",
       "      <td>67</td>\n",
       "      <td>81</td>\n",
       "      <td>78</td>\n",
       "    </tr>\n",
       "    <tr>\n",
       "      <th>...</th>\n",
       "      <td>...</td>\n",
       "      <td>...</td>\n",
       "      <td>...</td>\n",
       "      <td>...</td>\n",
       "      <td>...</td>\n",
       "      <td>...</td>\n",
       "      <td>...</td>\n",
       "      <td>...</td>\n",
       "    </tr>\n",
       "    <tr>\n",
       "      <th>10</th>\n",
       "      <td>Yaniv</td>\n",
       "      <td>100</td>\n",
       "      <td>64</td>\n",
       "      <td>62</td>\n",
       "      <td>95</td>\n",
       "      <td>61</td>\n",
       "      <td>88</td>\n",
       "      <td>90</td>\n",
       "    </tr>\n",
       "    <tr>\n",
       "      <th>11</th>\n",
       "      <td>Tom</td>\n",
       "      <td>98</td>\n",
       "      <td>76</td>\n",
       "      <td>98</td>\n",
       "      <td>100</td>\n",
       "      <td>98</td>\n",
       "      <td>92</td>\n",
       "      <td>80</td>\n",
       "    </tr>\n",
       "  </tbody>\n",
       "</table>\n",
       "<p>11 rows × 8 columns</p>\n",
       "</div>"
      ],
      "text/plain": [
       "      Name  Programming  Marine Biology  Stellar Cartography  Math  History  \\\n",
       "1    Nadav           61              77                   75    75       63   \n",
       "2   Michal           81              72                   76    94       67   \n",
       "..     ...          ...             ...                  ...   ...      ...   \n",
       "10   Yaniv          100              64                   62    95       61   \n",
       "11     Tom           98              76                   98   100       98   \n",
       "\n",
       "    Planet Survival  Art  \n",
       "1                52   88  \n",
       "2                81   78  \n",
       "..              ...  ...  \n",
       "10               88   90  \n",
       "11               92   80  \n",
       "\n",
       "[11 rows x 8 columns]"
      ]
     },
     "metadata": {},
     "output_type": "display_data"
    }
   ],
   "source": [
    "df=df.drop(12)\n",
    "display(df)"
   ]
  },
  {
   "cell_type": "markdown",
   "id": "a46d9be8-7015-4401-ae5a-e6b08e66dc9b",
   "metadata": {},
   "source": [
    "**בהמשך נלמד על דרכים נוספות להסרת שורות ועמודות מטבלה**"
   ]
  },
  {
   "cell_type": "markdown",
   "id": "55615b40-336a-4fdc-910a-33a5982caca1",
   "metadata": {},
   "source": [
    "### הוספה והסרת שורות ועמודות"
   ]
  },
  {
   "cell_type": "markdown",
   "id": "edc6611e-002a-487a-97cc-d3dd79fabeef",
   "metadata": {},
   "source": [
    "הפעולות להלן יודגמו טבלת הציונים `\"files/StudentsGrades.csv\"`:"
   ]
  },
  {
   "cell_type": "code",
   "execution_count": 127,
   "id": "74aea0ee",
   "metadata": {
    "id": "74aea0ee",
    "slideshow": {
     "slide_type": "fragment"
    }
   },
   "outputs": [
    {
     "data": {
      "text/html": [
       "<div>\n",
       "<style scoped>\n",
       "    .dataframe tbody tr th:only-of-type {\n",
       "        vertical-align: middle;\n",
       "    }\n",
       "\n",
       "    .dataframe tbody tr th {\n",
       "        vertical-align: top;\n",
       "    }\n",
       "\n",
       "    .dataframe thead th {\n",
       "        text-align: right;\n",
       "    }\n",
       "</style>\n",
       "<table border=\"1\" class=\"dataframe\">\n",
       "  <thead>\n",
       "    <tr style=\"text-align: right;\">\n",
       "      <th></th>\n",
       "      <th>Name</th>\n",
       "      <th>Programming</th>\n",
       "      <th>Marine Biology</th>\n",
       "      <th>Stellar Cartography</th>\n",
       "      <th>Math</th>\n",
       "      <th>History</th>\n",
       "      <th>Planet Survival</th>\n",
       "      <th>Art</th>\n",
       "    </tr>\n",
       "  </thead>\n",
       "  <tbody>\n",
       "    <tr>\n",
       "      <th>0</th>\n",
       "      <td>Yael</td>\n",
       "      <td>50</td>\n",
       "      <td>56</td>\n",
       "      <td>70</td>\n",
       "      <td>60</td>\n",
       "      <td>87</td>\n",
       "      <td>65</td>\n",
       "      <td>91</td>\n",
       "    </tr>\n",
       "    <tr>\n",
       "      <th>1</th>\n",
       "      <td>Nadav</td>\n",
       "      <td>61</td>\n",
       "      <td>77</td>\n",
       "      <td>75</td>\n",
       "      <td>75</td>\n",
       "      <td>63</td>\n",
       "      <td>52</td>\n",
       "      <td>88</td>\n",
       "    </tr>\n",
       "    <tr>\n",
       "      <th>...</th>\n",
       "      <td>...</td>\n",
       "      <td>...</td>\n",
       "      <td>...</td>\n",
       "      <td>...</td>\n",
       "      <td>...</td>\n",
       "      <td>...</td>\n",
       "      <td>...</td>\n",
       "      <td>...</td>\n",
       "    </tr>\n",
       "    <tr>\n",
       "      <th>11</th>\n",
       "      <td>Tom</td>\n",
       "      <td>98</td>\n",
       "      <td>76</td>\n",
       "      <td>98</td>\n",
       "      <td>100</td>\n",
       "      <td>98</td>\n",
       "      <td>92</td>\n",
       "      <td>80</td>\n",
       "    </tr>\n",
       "    <tr>\n",
       "      <th>12</th>\n",
       "      <td>Adi</td>\n",
       "      <td>76</td>\n",
       "      <td>87</td>\n",
       "      <td>34</td>\n",
       "      <td>90</td>\n",
       "      <td>88</td>\n",
       "      <td>84</td>\n",
       "      <td>70</td>\n",
       "    </tr>\n",
       "  </tbody>\n",
       "</table>\n",
       "<p>13 rows × 8 columns</p>\n",
       "</div>"
      ],
      "text/plain": [
       "     Name  Programming  Marine Biology  Stellar Cartography  Math  History  \\\n",
       "0    Yael           50              56                   70    60       87   \n",
       "1   Nadav           61              77                   75    75       63   \n",
       "..    ...          ...             ...                  ...   ...      ...   \n",
       "11    Tom           98              76                   98   100       98   \n",
       "12    Adi           76              87                   34    90       88   \n",
       "\n",
       "    Planet Survival  Art  \n",
       "0                65   91  \n",
       "1                52   88  \n",
       "..              ...  ...  \n",
       "11               92   80  \n",
       "12               84   70  \n",
       "\n",
       "[13 rows x 8 columns]"
      ]
     },
     "metadata": {},
     "output_type": "display_data"
    }
   ],
   "source": [
    "inputFileName = \"files/StudentsGrades.csv\"\n",
    "df = pd.read_csv(inputFileName)\n",
    "display(df)"
   ]
  },
  {
   "cell_type": "markdown",
   "id": "3ca56937",
   "metadata": {
    "id": "3ca56937",
    "slideshow": {
     "slide_type": "subslide"
    }
   },
   "source": [
    "כדי להוסיף שורה או עמודה חדשה ל-`DataFrame` קיים (במקרה שלנו, שורה מייצגת סטודנט חדש), ניצור `DataFrame` המכיל שורה או עמודה בודדת, ונשרשר אותה לסוף הטבלה באמצעות פונקצית `pd.concat`.   \n",
    "פונקציה זו יודעת לחבר מספר טבלאות - המועברות ב`tuple` או ב`list` כפרמטר ראשון לפונקציה - בדרכים שונות. נרחיב על מגוון פעולות חיבור הטבלאות שניתן לעשות באמצעות `concat` ביחידות הבאות.  "
   ]
  },
  {
   "cell_type": "markdown",
   "id": "50c72b37-8647-4a91-8183-0e378d1218fe",
   "metadata": {},
   "source": [
    "\n",
    "לצורך **הוספת שורה**, נשתמש בפונקציה `pd.concat` על מנת ליצור **טבלה חדשה**, שהיא למעשה בין הטבלה המקורית ובין הטבלה בעלת השורה הבודדת שיצרנו."
   ]
  },
  {
   "cell_type": "code",
   "execution_count": 125,
   "id": "6e32d5cc-c917-4b11-a6fd-ecc922d454b2",
   "metadata": {},
   "outputs": [
    {
     "data": {
      "text/html": [
       "<div>\n",
       "<style scoped>\n",
       "    .dataframe tbody tr th:only-of-type {\n",
       "        vertical-align: middle;\n",
       "    }\n",
       "\n",
       "    .dataframe tbody tr th {\n",
       "        vertical-align: top;\n",
       "    }\n",
       "\n",
       "    .dataframe thead th {\n",
       "        text-align: right;\n",
       "    }\n",
       "</style>\n",
       "<table border=\"1\" class=\"dataframe\">\n",
       "  <thead>\n",
       "    <tr style=\"text-align: right;\">\n",
       "      <th></th>\n",
       "      <th>Name</th>\n",
       "      <th>Programming</th>\n",
       "      <th>Marine Biology</th>\n",
       "      <th>Stellar Cartography</th>\n",
       "      <th>Math</th>\n",
       "      <th>History</th>\n",
       "      <th>Planet Survival</th>\n",
       "      <th>Art</th>\n",
       "    </tr>\n",
       "  </thead>\n",
       "  <tbody>\n",
       "    <tr>\n",
       "      <th>0</th>\n",
       "      <td>Yael</td>\n",
       "      <td>50.0</td>\n",
       "      <td>56.0</td>\n",
       "      <td>70.0</td>\n",
       "      <td>60.00</td>\n",
       "      <td>87.0</td>\n",
       "      <td>65.0</td>\n",
       "      <td>91.0</td>\n",
       "    </tr>\n",
       "    <tr>\n",
       "      <th>1</th>\n",
       "      <td>Nadav</td>\n",
       "      <td>61.0</td>\n",
       "      <td>77.0</td>\n",
       "      <td>75.0</td>\n",
       "      <td>75.00</td>\n",
       "      <td>63.0</td>\n",
       "      <td>52.0</td>\n",
       "      <td>88.0</td>\n",
       "    </tr>\n",
       "    <tr>\n",
       "      <th>...</th>\n",
       "      <td>...</td>\n",
       "      <td>...</td>\n",
       "      <td>...</td>\n",
       "      <td>...</td>\n",
       "      <td>...</td>\n",
       "      <td>...</td>\n",
       "      <td>...</td>\n",
       "      <td>...</td>\n",
       "    </tr>\n",
       "    <tr>\n",
       "      <th>12</th>\n",
       "      <td>Adi</td>\n",
       "      <td>76.0</td>\n",
       "      <td>87.0</td>\n",
       "      <td>34.0</td>\n",
       "      <td>90.00</td>\n",
       "      <td>88.0</td>\n",
       "      <td>84.0</td>\n",
       "      <td>70.0</td>\n",
       "    </tr>\n",
       "    <tr>\n",
       "      <th>0</th>\n",
       "      <td>Dana</td>\n",
       "      <td>76.0</td>\n",
       "      <td>65.0</td>\n",
       "      <td>98.0</td>\n",
       "      <td>8.07</td>\n",
       "      <td>65.0</td>\n",
       "      <td>89.0</td>\n",
       "      <td>100.0</td>\n",
       "    </tr>\n",
       "  </tbody>\n",
       "</table>\n",
       "<p>14 rows × 8 columns</p>\n",
       "</div>"
      ],
      "text/plain": [
       "     Name  Programming  Marine Biology  Stellar Cartography   Math  History  \\\n",
       "0    Yael         50.0            56.0                 70.0  60.00     87.0   \n",
       "1   Nadav         61.0            77.0                 75.0  75.00     63.0   \n",
       "..    ...          ...             ...                  ...    ...      ...   \n",
       "12    Adi         76.0            87.0                 34.0  90.00     88.0   \n",
       "0    Dana         76.0            65.0                 98.0   8.07     65.0   \n",
       "\n",
       "    Planet Survival    Art  \n",
       "0              65.0   91.0  \n",
       "1              52.0   88.0  \n",
       "..              ...    ...  \n",
       "12             84.0   70.0  \n",
       "0              89.0  100.0  \n",
       "\n",
       "[14 rows x 8 columns]"
      ]
     },
     "metadata": {},
     "output_type": "display_data"
    }
   ],
   "source": [
    "new_student = [{'Name':\"Dana\",'Programming':76.0,'Marine Biology':65.0,'Stellar Cartography':98.0,'Math':8.07,\n",
    "                'History':65.0,'Planet Survival':89.0,'Art':100.0}]\n",
    "pd.DataFrame(new_student)\n",
    "df_new = pd.concat((df, pd.DataFrame(new_student)))\n",
    "display(df_new)"
   ]
  },
  {
   "cell_type": "markdown",
   "id": "a550fa7c-beb4-4e90-9b9b-329de9cb3fcc",
   "metadata": {},
   "source": [
    "```{admonition} **שימו לב**\n",
    ":class: warning\n",
    "\n",
    "לשורה הראשונה והאחרונה יש אותו שם (0). עניין זה יכול ליצור לנו הרבה בפעולות שנרצה לעשות בהמשך (כמו גישה שורות לפי שם).\n",
    "\n",
    "על מנת להתגבר על בעיה זו, יש להוסיף `ignore_index=True` לפונקציה `concat`. פרמטר זה למעשה \"מאפס\" את שמות הטבלה ומאתחלן לאידקס רץ מ0 כפי שנעשה כאשר יוצרים טבלה חדשה לחלוטין.\n",
    "\n",
    "```"
   ]
  },
  {
   "cell_type": "markdown",
   "id": "b408a8b3-0b7d-4146-9bb0-bfe6ef628a02",
   "metadata": {},
   "source": [
    "לאחר הוספת הפרמטר, הטבלה שחוזרת מ`concat` תראה כך:"
   ]
  },
  {
   "cell_type": "code",
   "execution_count": 117,
   "id": "015cd220-6242-442c-9f92-9f0119e59667",
   "metadata": {},
   "outputs": [
    {
     "data": {
      "text/html": [
       "<div>\n",
       "<style scoped>\n",
       "    .dataframe tbody tr th:only-of-type {\n",
       "        vertical-align: middle;\n",
       "    }\n",
       "\n",
       "    .dataframe tbody tr th {\n",
       "        vertical-align: top;\n",
       "    }\n",
       "\n",
       "    .dataframe thead th {\n",
       "        text-align: right;\n",
       "    }\n",
       "</style>\n",
       "<table border=\"1\" class=\"dataframe\">\n",
       "  <thead>\n",
       "    <tr style=\"text-align: right;\">\n",
       "      <th></th>\n",
       "      <th>Name</th>\n",
       "      <th>Programming</th>\n",
       "      <th>Marine Biology</th>\n",
       "      <th>Stellar Cartography</th>\n",
       "      <th>Math</th>\n",
       "      <th>History</th>\n",
       "      <th>Planet Survival</th>\n",
       "      <th>Art</th>\n",
       "    </tr>\n",
       "  </thead>\n",
       "  <tbody>\n",
       "    <tr>\n",
       "      <th>0</th>\n",
       "      <td>Yael</td>\n",
       "      <td>50.0</td>\n",
       "      <td>56.0</td>\n",
       "      <td>70.0</td>\n",
       "      <td>60.00</td>\n",
       "      <td>87.0</td>\n",
       "      <td>65.0</td>\n",
       "      <td>91.0</td>\n",
       "    </tr>\n",
       "    <tr>\n",
       "      <th>1</th>\n",
       "      <td>Nadav</td>\n",
       "      <td>61.0</td>\n",
       "      <td>77.0</td>\n",
       "      <td>75.0</td>\n",
       "      <td>75.00</td>\n",
       "      <td>63.0</td>\n",
       "      <td>52.0</td>\n",
       "      <td>88.0</td>\n",
       "    </tr>\n",
       "    <tr>\n",
       "      <th>...</th>\n",
       "      <td>...</td>\n",
       "      <td>...</td>\n",
       "      <td>...</td>\n",
       "      <td>...</td>\n",
       "      <td>...</td>\n",
       "      <td>...</td>\n",
       "      <td>...</td>\n",
       "      <td>...</td>\n",
       "    </tr>\n",
       "    <tr>\n",
       "      <th>12</th>\n",
       "      <td>Adi</td>\n",
       "      <td>76.0</td>\n",
       "      <td>87.0</td>\n",
       "      <td>34.0</td>\n",
       "      <td>90.00</td>\n",
       "      <td>88.0</td>\n",
       "      <td>84.0</td>\n",
       "      <td>70.0</td>\n",
       "    </tr>\n",
       "    <tr>\n",
       "      <th>13</th>\n",
       "      <td>Dana</td>\n",
       "      <td>76.0</td>\n",
       "      <td>65.0</td>\n",
       "      <td>98.0</td>\n",
       "      <td>8.07</td>\n",
       "      <td>65.0</td>\n",
       "      <td>89.0</td>\n",
       "      <td>100.0</td>\n",
       "    </tr>\n",
       "  </tbody>\n",
       "</table>\n",
       "<p>14 rows × 8 columns</p>\n",
       "</div>"
      ],
      "text/plain": [
       "     Name  Programming  Marine Biology  Stellar Cartography   Math  History  \\\n",
       "0    Yael         50.0            56.0                 70.0  60.00     87.0   \n",
       "1   Nadav         61.0            77.0                 75.0  75.00     63.0   \n",
       "..    ...          ...             ...                  ...    ...      ...   \n",
       "12    Adi         76.0            87.0                 34.0  90.00     88.0   \n",
       "13   Dana         76.0            65.0                 98.0   8.07     65.0   \n",
       "\n",
       "    Planet Survival    Art  \n",
       "0              65.0   91.0  \n",
       "1              52.0   88.0  \n",
       "..              ...    ...  \n",
       "12             84.0   70.0  \n",
       "13             89.0  100.0  \n",
       "\n",
       "[14 rows x 8 columns]"
      ]
     },
     "metadata": {},
     "output_type": "display_data"
    }
   ],
   "source": [
    "df_new = pd.concat((df, pd.DataFrame(new_student)), ignore_index=True)\n",
    "display(df_new)"
   ]
  },
  {
   "cell_type": "markdown",
   "id": "ae703eca-d276-4400-87c1-a4dcd1d1a6ea",
   "metadata": {},
   "source": [
    "\n",
    "נשתמש בטכניקה דומה על מנת **להוסיף עמודה** בסוף הטבלה, עם הוספת פרמטר ל`concat` - `axis=1`. פרמטר מנחה את הפונקציה לפעול על ציר העמודות, או המילים אחרות, להוסיף **עמודה**. \n",
    "\n",
    "לדוגמא להלן השתמשנו ב`concat` על מנת להוסיף את המקצוע גלישה:"
   ]
  },
  {
   "cell_type": "code",
   "execution_count": 118,
   "id": "02ac1e07-040d-4683-ac07-82c44ac6dc2c",
   "metadata": {
    "id": "74aea0ee",
    "slideshow": {
     "slide_type": "fragment"
    }
   },
   "outputs": [
    {
     "data": {
      "text/html": [
       "<div>\n",
       "<style scoped>\n",
       "    .dataframe tbody tr th:only-of-type {\n",
       "        vertical-align: middle;\n",
       "    }\n",
       "\n",
       "    .dataframe tbody tr th {\n",
       "        vertical-align: top;\n",
       "    }\n",
       "\n",
       "    .dataframe thead th {\n",
       "        text-align: right;\n",
       "    }\n",
       "</style>\n",
       "<table border=\"1\" class=\"dataframe\">\n",
       "  <thead>\n",
       "    <tr style=\"text-align: right;\">\n",
       "      <th></th>\n",
       "      <th>Name</th>\n",
       "      <th>Programming</th>\n",
       "      <th>Marine Biology</th>\n",
       "      <th>Stellar Cartography</th>\n",
       "      <th>Math</th>\n",
       "      <th>History</th>\n",
       "      <th>Planet Survival</th>\n",
       "      <th>Art</th>\n",
       "      <th>Surfing</th>\n",
       "    </tr>\n",
       "  </thead>\n",
       "  <tbody>\n",
       "    <tr>\n",
       "      <th>0</th>\n",
       "      <td>Yael</td>\n",
       "      <td>50</td>\n",
       "      <td>56</td>\n",
       "      <td>70</td>\n",
       "      <td>60</td>\n",
       "      <td>87</td>\n",
       "      <td>65</td>\n",
       "      <td>91</td>\n",
       "      <td>60</td>\n",
       "    </tr>\n",
       "    <tr>\n",
       "      <th>1</th>\n",
       "      <td>Nadav</td>\n",
       "      <td>61</td>\n",
       "      <td>77</td>\n",
       "      <td>75</td>\n",
       "      <td>75</td>\n",
       "      <td>63</td>\n",
       "      <td>52</td>\n",
       "      <td>88</td>\n",
       "      <td>65</td>\n",
       "    </tr>\n",
       "    <tr>\n",
       "      <th>...</th>\n",
       "      <td>...</td>\n",
       "      <td>...</td>\n",
       "      <td>...</td>\n",
       "      <td>...</td>\n",
       "      <td>...</td>\n",
       "      <td>...</td>\n",
       "      <td>...</td>\n",
       "      <td>...</td>\n",
       "      <td>...</td>\n",
       "    </tr>\n",
       "    <tr>\n",
       "      <th>11</th>\n",
       "      <td>Tom</td>\n",
       "      <td>98</td>\n",
       "      <td>76</td>\n",
       "      <td>98</td>\n",
       "      <td>100</td>\n",
       "      <td>98</td>\n",
       "      <td>92</td>\n",
       "      <td>80</td>\n",
       "      <td>52</td>\n",
       "    </tr>\n",
       "    <tr>\n",
       "      <th>12</th>\n",
       "      <td>Adi</td>\n",
       "      <td>76</td>\n",
       "      <td>87</td>\n",
       "      <td>34</td>\n",
       "      <td>90</td>\n",
       "      <td>88</td>\n",
       "      <td>84</td>\n",
       "      <td>70</td>\n",
       "      <td>70</td>\n",
       "    </tr>\n",
       "  </tbody>\n",
       "</table>\n",
       "<p>13 rows × 9 columns</p>\n",
       "</div>"
      ],
      "text/plain": [
       "     Name  Programming  Marine Biology  Stellar Cartography  Math  History  \\\n",
       "0    Yael           50              56                   70    60       87   \n",
       "1   Nadav           61              77                   75    75       63   \n",
       "..    ...          ...             ...                  ...   ...      ...   \n",
       "11    Tom           98              76                   98   100       98   \n",
       "12    Adi           76              87                   34    90       88   \n",
       "\n",
       "    Planet Survival  Art  Surfing  \n",
       "0                65   91       60  \n",
       "1                52   88       65  \n",
       "..              ...  ...      ...  \n",
       "11               92   80       52  \n",
       "12               84   70       70  \n",
       "\n",
       "[13 rows x 9 columns]"
      ]
     },
     "metadata": {},
     "output_type": "display_data"
    }
   ],
   "source": [
    "inputFileName = \"files/StudentsGrades.csv\"\n",
    "df = pd.read_csv(inputFileName)\n",
    "\n",
    "new_grade = {\"Surfing\" : [60, 65, 70, 75, 80, 85, 90, 95, 99, 82, 50, 52, 70]}\n",
    "df_new = pd.concat((df, pd.DataFrame(new_grade)), axis=1)\n",
    "display(df_new)"
   ]
  },
  {
   "cell_type": "markdown",
   "id": "c4425b9e-7a2e-427c-8cc8-b90406964d6a",
   "metadata": {},
   "source": [
    "```{admonition} **שימו לב**\n",
    ":class: warning\n",
    "\n",
    "במקרה זה אין צורך לפרט `ignore_index=True` מכיוון שאנו מוסיפים עמודה, ואנו מניחים שאין עמודה בעלת שם זהה בטבלה.\n",
    "\n",
    "```"
   ]
  },
  {
   "cell_type": "markdown",
   "id": "f31caa7d-12c4-4611-8687-b1465a096cdc",
   "metadata": {},
   "source": [
    "כפי שראינו בהסרת שורות ועמודות, ניתן לבצע השמה למשתנה הטבלה המקורית על מנת להפנות את המשתנה המקורי לטבלה החדשה:"
   ]
  },
  {
   "cell_type": "code",
   "execution_count": 119,
   "id": "d70bb089-49b2-46e6-9362-3de1e3537cfb",
   "metadata": {},
   "outputs": [
    {
     "data": {
      "text/html": [
       "<div>\n",
       "<style scoped>\n",
       "    .dataframe tbody tr th:only-of-type {\n",
       "        vertical-align: middle;\n",
       "    }\n",
       "\n",
       "    .dataframe tbody tr th {\n",
       "        vertical-align: top;\n",
       "    }\n",
       "\n",
       "    .dataframe thead th {\n",
       "        text-align: right;\n",
       "    }\n",
       "</style>\n",
       "<table border=\"1\" class=\"dataframe\">\n",
       "  <thead>\n",
       "    <tr style=\"text-align: right;\">\n",
       "      <th></th>\n",
       "      <th>Name</th>\n",
       "      <th>Programming</th>\n",
       "      <th>Marine Biology</th>\n",
       "      <th>Stellar Cartography</th>\n",
       "      <th>Math</th>\n",
       "      <th>History</th>\n",
       "      <th>Planet Survival</th>\n",
       "      <th>Art</th>\n",
       "      <th>Surfing</th>\n",
       "    </tr>\n",
       "  </thead>\n",
       "  <tbody>\n",
       "    <tr>\n",
       "      <th>0</th>\n",
       "      <td>Yael</td>\n",
       "      <td>50</td>\n",
       "      <td>56</td>\n",
       "      <td>70</td>\n",
       "      <td>60</td>\n",
       "      <td>87</td>\n",
       "      <td>65</td>\n",
       "      <td>91</td>\n",
       "      <td>60</td>\n",
       "    </tr>\n",
       "    <tr>\n",
       "      <th>1</th>\n",
       "      <td>Nadav</td>\n",
       "      <td>61</td>\n",
       "      <td>77</td>\n",
       "      <td>75</td>\n",
       "      <td>75</td>\n",
       "      <td>63</td>\n",
       "      <td>52</td>\n",
       "      <td>88</td>\n",
       "      <td>65</td>\n",
       "    </tr>\n",
       "    <tr>\n",
       "      <th>...</th>\n",
       "      <td>...</td>\n",
       "      <td>...</td>\n",
       "      <td>...</td>\n",
       "      <td>...</td>\n",
       "      <td>...</td>\n",
       "      <td>...</td>\n",
       "      <td>...</td>\n",
       "      <td>...</td>\n",
       "      <td>...</td>\n",
       "    </tr>\n",
       "    <tr>\n",
       "      <th>11</th>\n",
       "      <td>Tom</td>\n",
       "      <td>98</td>\n",
       "      <td>76</td>\n",
       "      <td>98</td>\n",
       "      <td>100</td>\n",
       "      <td>98</td>\n",
       "      <td>92</td>\n",
       "      <td>80</td>\n",
       "      <td>52</td>\n",
       "    </tr>\n",
       "    <tr>\n",
       "      <th>12</th>\n",
       "      <td>Adi</td>\n",
       "      <td>76</td>\n",
       "      <td>87</td>\n",
       "      <td>34</td>\n",
       "      <td>90</td>\n",
       "      <td>88</td>\n",
       "      <td>84</td>\n",
       "      <td>70</td>\n",
       "      <td>70</td>\n",
       "    </tr>\n",
       "  </tbody>\n",
       "</table>\n",
       "<p>13 rows × 9 columns</p>\n",
       "</div>"
      ],
      "text/plain": [
       "     Name  Programming  Marine Biology  Stellar Cartography  Math  History  \\\n",
       "0    Yael           50              56                   70    60       87   \n",
       "1   Nadav           61              77                   75    75       63   \n",
       "..    ...          ...             ...                  ...   ...      ...   \n",
       "11    Tom           98              76                   98   100       98   \n",
       "12    Adi           76              87                   34    90       88   \n",
       "\n",
       "    Planet Survival  Art  Surfing  \n",
       "0                65   91       60  \n",
       "1                52   88       65  \n",
       "..              ...  ...      ...  \n",
       "11               92   80       52  \n",
       "12               84   70       70  \n",
       "\n",
       "[13 rows x 9 columns]"
      ]
     },
     "metadata": {},
     "output_type": "display_data"
    }
   ],
   "source": [
    "df = pd.concat((df, pd.DataFrame(new_grade)), axis=1)\n",
    "display(df)"
   ]
  },
  {
   "cell_type": "markdown",
   "id": "7cc4a4e2-66c2-4e58-bf19-896d6492267a",
   "metadata": {},
   "source": [
    "לחלופין, ניתן גם **להוסיף או לעדכן** שורות ועמודות את הטבלה במקורית באמצעות **השמה לפי שם שורה או עמודה**, בדומה למה שעשינו ברשימות (עם `[]iloc`) ובמילונים (עם `[]loc` ו-`[]`).\n",
    "- עבור `[]loc` ו-`[]` תיווצר עמודה חדשה, במידה לא קיימת כבר עמודה באותו שם. אחרת, העמודה הנוכחית תדרס לפי ערכי עמודה החדשה (כמו במילון).\n",
    "- עבור `[]iloc` ניתן רק לעדכן ערכי שורה/עמודה קיימת (כמו ברשימה)\n",
    "\n",
    "\n",
    "לדוגמא, הפעולה למטה תוסיף את ממוצע המקצועות כעמודה חדשה לטבלה המקורית"
   ]
  },
  {
   "cell_type": "code",
   "execution_count": null,
   "id": "1858526e-57d6-4eb9-b6d5-a9f31221ecdd",
   "metadata": {},
   "outputs": [],
   "source": [
    "df=df.iloc[:,1:].mean(axis=1)\n",
    "display(df)"
   ]
  }
 ],
 "metadata": {
  "celltoolbar": "Slideshow",
  "colab": {
   "provenance": []
  },
  "kernelspec": {
   "display_name": "Python 3 (ipykernel)",
   "language": "python",
   "name": "python3"
  },
  "language_info": {
   "codemirror_mode": {
    "name": "ipython",
    "version": 3
   },
   "file_extension": ".py",
   "mimetype": "text/x-python",
   "name": "python",
   "nbconvert_exporter": "python",
   "pygments_lexer": "ipython3",
   "version": "3.11.12"
  }
 },
 "nbformat": 4,
 "nbformat_minor": 5
}
