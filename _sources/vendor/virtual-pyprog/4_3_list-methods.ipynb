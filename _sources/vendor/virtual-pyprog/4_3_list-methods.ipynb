{
 "cells": [
  {
   "cell_type": "code",
   "execution_count": 7,
   "id": "3018be7d-8134-4a5a-981d-289f2a7cdfc7",
   "metadata": {
    "tags": [
     "remove-cell"
    ]
   },
   "outputs": [
    {
     "data": {
      "text/html": [
       "<script>\n",
       "(function() {\n",
       "  // Create the toggle button\n",
       "  const rtlButton = document.createElement(\"button\");\n",
       "  rtlButton.textContent = \"Toggle LTR\";\n",
       "  rtlButton.id = \"top-rtl-toggle\";\n",
       "  rtlButton.style.marginLeft = \"8px\";\n",
       "  rtlButton.style.padding = \"4px 10px\";\n",
       "  rtlButton.style.fontSize = \"14px\";\n",
       "  rtlButton.style.cursor = \"pointer\";\n",
       "\n",
       "  // State\n",
       "  var rtlActive = false;\n",
       "\n",
       "  // Styling function\n",
       "  var applyStyleToEditor = (editor) => {\n",
       "    if (!editor) return;\n",
       "    var direction = getComputedStyle(editor).getPropertyValue('direction')=='rtl' ? 'ltr' : 'rtl';\n",
       "    var text_align = getComputedStyle(editor).getPropertyValue('text-align')=='right' ? 'left' : 'right';\n",
       "    editor.style.setProperty('direction', direction, 'important');\n",
       "    editor.style.setProperty('text-align', text_align, 'important');\n",
       "  };\n",
       "\n",
       "  // Toggle logic\n",
       "  rtlButton.onclick = () => {\n",
       "    rtlActive = !rtlActive;\n",
       "    rtlButton.textContent = rtlActive ? \"Toggle LTR\" : \"Toggle RTL\";\n",
       "    document.querySelectorAll('.jp-MarkdownCell .jp-InputArea-editor').forEach(applyStyleToEditor);\n",
       "    document.querySelectorAll('.jp-RenderedHTMLCommon code, .jp-RenderedHTMLCommon code span').forEach(applyStyleToEditor);\n",
       "    document.querySelectorAll('jp-RenderedHTMLCommon, .jp-RenderedHTMLCommon *').forEach(applyStyleToEditor);\n",
       "  };\n",
       "\n",
       "  // Watch for focus into editing Markdown cells\n",
       "  // document.addEventListener('focusin', (event) => {\n",
       "  //   const editor = event.target.closest('.jp-MarkdownCell .jp-InputArea-editor');\n",
       "  //    if (editor) applyStyleToEditor(editor);\n",
       "  // });\n",
       "\n",
       "  // Insert into top toolbar if not already present\n",
       "  var insertIntoToolbar = () => {\n",
       "    const toolbar = document.querySelector('.jp-NotebookPanel-toolbar');\n",
       "    if (toolbar && !document.getElementById(\"top-rtl-toggle\")) {\n",
       "      toolbar.appendChild(rtlButton);\n",
       "    } else {\n",
       "      // Try again in a moment if toolbar isn't ready yet\n",
       "      setTimeout(insertIntoToolbar, 300);\n",
       "    }\n",
       "  };\n",
       "\n",
       "  insertIntoToolbar();\n",
       "})();\n",
       "</script>\n"
      ],
      "text/plain": [
       "<IPython.core.display.HTML object>"
      ]
     },
     "metadata": {},
     "output_type": "display_data"
    }
   ],
   "source": [
    "%%html\n",
    "<script>\n",
    "(function() {\n",
    "  // Create the toggle button\n",
    "  const rtlButton = document.createElement(\"button\");\n",
    "  rtlButton.textContent = \"Toggle LTR\";\n",
    "  rtlButton.id = \"top-rtl-toggle\";\n",
    "  rtlButton.style.marginLeft = \"8px\";\n",
    "  rtlButton.style.padding = \"4px 10px\";\n",
    "  rtlButton.style.fontSize = \"14px\";\n",
    "  rtlButton.style.cursor = \"pointer\";\n",
    "\n",
    "  // State\n",
    "  var rtlActive = false;\n",
    "\n",
    "  // Styling function\n",
    "  var applyStyleToEditor = (editor) => {\n",
    "    if (!editor) return;\n",
    "    var direction = getComputedStyle(editor).getPropertyValue('direction')=='rtl' ? 'ltr' : 'rtl';\n",
    "    var text_align = getComputedStyle(editor).getPropertyValue('text-align')=='right' ? 'left' : 'right';\n",
    "    editor.style.setProperty('direction', direction, 'important');\n",
    "    editor.style.setProperty('text-align', text_align, 'important');\n",
    "  };\n",
    "\n",
    "  // Toggle logic\n",
    "  rtlButton.onclick = () => {\n",
    "    rtlActive = !rtlActive;\n",
    "    rtlButton.textContent = rtlActive ? \"Toggle LTR\" : \"Toggle RTL\";\n",
    "    document.querySelectorAll('.jp-MarkdownCell .jp-InputArea-editor').forEach(applyStyleToEditor);\n",
    "    document.querySelectorAll('.jp-RenderedHTMLCommon code, .jp-RenderedHTMLCommon code span').forEach(applyStyleToEditor);\n",
    "    document.querySelectorAll('jp-RenderedHTMLCommon, .jp-RenderedHTMLCommon *').forEach(applyStyleToEditor);\n",
    "  };\n",
    "\n",
    "  // Watch for focus into editing Markdown cells\n",
    "  // document.addEventListener('focusin', (event) => {\n",
    "  //   const editor = event.target.closest('.jp-MarkdownCell .jp-InputArea-editor');\n",
    "  //    if (editor) applyStyleToEditor(editor);\n",
    "  // });\n",
    "\n",
    "  // Insert into top toolbar if not already present\n",
    "  var insertIntoToolbar = () => {\n",
    "    const toolbar = document.querySelector('.jp-NotebookPanel-toolbar');\n",
    "    if (toolbar && !document.getElementById(\"top-rtl-toggle\")) {\n",
    "      toolbar.appendChild(rtlButton);\n",
    "    } else {\n",
    "      // Try again in a moment if toolbar isn't ready yet\n",
    "      setTimeout(insertIntoToolbar, 300);\n",
    "    }\n",
    "  };\n",
    "\n",
    "  insertIntoToolbar();\n",
    "})();\n",
    "</script>"
   ]
  },
  {
   "cell_type": "markdown",
   "id": "9b89fb1a-e214-4db1-b4f9-ea2d39bf9613",
   "metadata": {},
   "source": [
    "# מתודות של רשימות"
   ]
  },
  {
   "cell_type": "markdown",
   "id": "186be2a0-75d7-4407-b726-ef2ffb5a9340",
   "metadata": {},
   "source": [
    "**תזכורת:**\n",
    "- mutable (בת שינוי) – ניתן לשנות את האובייקט המקורי לאחר יצירתה\n",
    "immutable (בלתי־ניתן לשינוי) – לא ניתן לשנות את האובייקט המקורי לאחר יצירתו. כל שינוי ניתן רק על ידי שכפול והחלפה של ערכים.\n",
    "- שיטה (מתודה) היא פונקציה שמוגדרת **עבור טיפוס מסוים**, והיא \"שייכת\" לאובייקט שמאותו הטיפוס. האובייקט יכול לקרוא לה כדי לבצע פעולה כלשהי לפי התחביר הבא:\n",
    "\n",
    "```python\n",
    "my_object.action()\n",
    "```"
   ]
  },
  {
   "cell_type": "markdown",
   "id": "8fe2af03-f537-4676-a5f5-a2223983f693",
   "metadata": {},
   "source": [
    "### כעת נכיר מספר מתודות שימושיות של רשימות משנות את הרשימה המקוריות מהן הופעלו"
   ]
  },
  {
   "cell_type": "markdown",
   "id": "62e760ab-47c8-432c-8488-4f0775817806",
   "metadata": {},
   "source": [
    "\n",
    "- `append`\n",
    "- `remove`\n",
    "- `pop`\n",
    "- `sort`"
   ]
  },
  {
   "cell_type": "markdown",
   "id": "dc2fdfa4-2c98-4520-a3a9-ae2849209e7b",
   "metadata": {},
   "source": [
    "### `append`: הוספת איבר לרשימה"
   ]
  },
  {
   "cell_type": "markdown",
   "id": "cd71dcec-fb75-432a-8610-72dab5fa448a",
   "metadata": {},
   "source": [
    "הוספת איבר ל**סוף** הרשימה."
   ]
  },
  {
   "cell_type": "code",
   "execution_count": 6,
   "id": "b0192736-690e-4a06-b81b-590f6fb3931d",
   "metadata": {},
   "outputs": [
    {
     "name": "stdout",
     "output_type": "stream",
     "text": [
      "['h', 'e', 'l', 'l', 'o', '!']\n"
     ]
    }
   ],
   "source": [
    "hello_list = ['h','e','l','l','o']\n",
    "hello_list_new=hello_list.append('!')\n",
    "print(hello_list) # This is the original list!!"
   ]
  },
  {
   "cell_type": "markdown",
   "id": "f5c1d6cb-9169-41d0-bc6c-80c025fab490",
   "metadata": {},
   "source": [
    "```{admonition} שימו לב\n",
    ":class: error\n",
    "\n",
    "המילה world נוספת **למשתנה המקורי** ללא פעולת השמה."
   ]
  },
  {
   "cell_type": "markdown",
   "id": "7ec865d2",
   "metadata": {
    "slideshow": {
     "slide_type": "subslide"
    }
   },
   "source": [
    "#### אז מה מחזיר `append`?"
   ]
  },
  {
   "cell_type": "code",
   "execution_count": null,
   "id": "3a203920",
   "metadata": {
    "execution": {
     "iopub.execute_input": "2025-03-10T07:46:16.539548Z",
     "iopub.status.busy": "2025-03-10T07:46:16.538900Z",
     "iopub.status.idle": "2025-03-10T07:46:16.543605Z",
     "shell.execute_reply": "2025-03-10T07:46:16.542881Z"
    },
    "slideshow": {
     "slide_type": "fragment"
    }
   },
   "outputs": [],
   "source": [
    "hello_list = ['h','e','l','l','o']\n",
    "hello_list_new=hello_list.append('!')\n",
    "print(hello_list)"
   ]
  },
  {
   "cell_type": "code",
   "execution_count": 7,
   "id": "531b9fbc",
   "metadata": {
    "slideshow": {
     "slide_type": "fragment"
    }
   },
   "outputs": [
    {
     "name": "stdout",
     "output_type": "stream",
     "text": [
      "None\n"
     ]
    }
   ],
   "source": [
    "print(hello_list_new)"
   ]
  },
  {
   "cell_type": "markdown",
   "id": "0ee77dd8",
   "metadata": {
    "slideshow": {
     "slide_type": "fragment"
    }
   },
   "source": [
    "כלומר הפונקציה לא החזירה כלום, וההשמה לאחר `append` מיותרת."
   ]
  },
  {
   "cell_type": "code",
   "execution_count": null,
   "id": "4ed726a4",
   "metadata": {
    "execution": {
     "iopub.execute_input": "2025-03-10T07:46:16.553178Z",
     "iopub.status.busy": "2025-03-10T07:46:16.552591Z",
     "iopub.status.idle": "2025-03-10T07:46:16.556828Z",
     "shell.execute_reply": "2025-03-10T07:46:16.556142Z"
    },
    "slideshow": {
     "slide_type": "fragment"
    }
   },
   "outputs": [],
   "source": [
    "hello_list = ['h','e','l','l','o']\n",
    "hello_list.append('!')\n",
    "print(hello_list)"
   ]
  },
  {
   "cell_type": "markdown",
   "id": "7994643b",
   "metadata": {
    "slideshow": {
     "slide_type": "subslide"
    }
   },
   "source": [
    "```{admonition} **טיפ להמשך** \n",
    ":class: tip\n",
    "\n",
    "אם מתודה משנה את האובייקט המקורי, היא כנראה לא תחזיר אותו. למה לעשות פעמיים?\n",
    "```"
   ]
  },
  {
   "cell_type": "markdown",
   "id": "567e2717",
   "metadata": {
    "slideshow": {
     "slide_type": "subslide"
    }
   },
   "source": [
    "### `remove`: הסרת איבר מרשימה"
   ]
  },
  {
   "cell_type": "markdown",
   "id": "c2cdbadb",
   "metadata": {
    "slideshow": {
     "slide_type": "fragment"
    }
   },
   "source": [
    "המתודה מסירה את האיבר הראשון המתאים לערך שהועבר בקלט"
   ]
  },
  {
   "cell_type": "code",
   "execution_count": 9,
   "id": "a894f94d",
   "metadata": {
    "slideshow": {
     "slide_type": "fragment"
    },
    "tags": [
     "raises-exception"
    ]
   },
   "outputs": [
    {
     "name": "stdout",
     "output_type": "stream",
     "text": [
      "['h', 'l', 'l', 'o']\n"
     ]
    }
   ],
   "source": [
    "hello_list = ['h','e','l','l','o']\n",
    "hello_list.remove('e')\n",
    "print(hello_list)"
   ]
  },
  {
   "cell_type": "markdown",
   "id": "79cb1bae-1e12-4284-bf63-8c9cbac5895b",
   "metadata": {},
   "source": [
    "מה יקרה אם ננסה להסיר איבר שלא קיים ברשימה?"
   ]
  },
  {
   "cell_type": "code",
   "execution_count": 8,
   "id": "e0159942-b180-414f-83ff-3f0591dbe264",
   "metadata": {
    "slideshow": {
     "slide_type": "fragment"
    },
    "tags": [
     "raises-exception"
    ]
   },
   "outputs": [
    {
     "name": "stdout",
     "output_type": "stream",
     "text": [
      "['h', 'l', 'l', 'o']\n"
     ]
    },
    {
     "ename": "ValueError",
     "evalue": "list.remove(x): x not in list",
     "output_type": "error",
     "traceback": [
      "\u001b[31m---------------------------------------------------------------------------\u001b[39m",
      "\u001b[31mValueError\u001b[39m                                Traceback (most recent call last)",
      "\u001b[36mCell\u001b[39m\u001b[36m \u001b[39m\u001b[32mIn[8]\u001b[39m\u001b[32m, line 4\u001b[39m\n\u001b[32m      2\u001b[39m hello_list.remove(\u001b[33m'\u001b[39m\u001b[33me\u001b[39m\u001b[33m'\u001b[39m)\n\u001b[32m      3\u001b[39m \u001b[38;5;28mprint\u001b[39m(hello_list)\n\u001b[32m----> \u001b[39m\u001b[32m4\u001b[39m \u001b[43mhello_list\u001b[49m\u001b[43m.\u001b[49m\u001b[43mremove\u001b[49m\u001b[43m(\u001b[49m\u001b[33;43m'\u001b[39;49m\u001b[33;43me\u001b[39;49m\u001b[33;43m'\u001b[39;49m\u001b[43m)\u001b[49m\n\u001b[32m      5\u001b[39m \u001b[38;5;28mprint\u001b[39m(hello_list)\n",
      "\u001b[31mValueError\u001b[39m: list.remove(x): x not in list"
     ]
    }
   ],
   "source": [
    "hello_list = ['h','e','l','l','o']\n",
    "hello_list.remove('e')\n",
    "print(hello_list)\n",
    "hello_list.remove('e')\n",
    "print(hello_list)"
   ]
  },
  {
   "cell_type": "markdown",
   "id": "9532ff07",
   "metadata": {
    "slideshow": {
     "slide_type": "subslide"
    }
   },
   "source": [
    "### `pop`: חילוץ איבר מרשימה"
   ]
  },
  {
   "cell_type": "markdown",
   "id": "54931033",
   "metadata": {
    "slideshow": {
     "slide_type": "fragment"
    }
   },
   "source": [
    "המתודה `pop` מאפשרת לנו להוציא איבר מרשימה לפי אינדקס וגם לקבל אותו חזרה. כלומר, כשאנחנו קוראים ל־`pop(i)`:\n",
    "\n",
    "1. המתודה שומרת את האיבר שנמצא באינדקס i.\n",
    "2. היא מוחקת את האיבר הזה מהרשימה.\n",
    "3. היא מחזירה לנו את הערך שהיה באינדקס i, כך שנוכל להשתמש בו מיד או לשמור אותו במשתנה.\n",
    "\n",
    "כך אפשר לעבוד עם איברים ברשימה בלי לאבד אותם, וגם לעדכן את הרשימה בו-זמנית."
   ]
  },
  {
   "cell_type": "code",
   "execution_count": null,
   "id": "8efee7df",
   "metadata": {
    "execution": {
     "iopub.execute_input": "2025-03-10T07:46:16.585769Z",
     "iopub.status.busy": "2025-03-10T07:46:16.585422Z",
     "iopub.status.idle": "2025-03-10T07:46:16.590570Z",
     "shell.execute_reply": "2025-03-10T07:46:16.589661Z"
    },
    "slideshow": {
     "slide_type": "fragment"
    },
    "tags": []
   },
   "outputs": [],
   "source": [
    "hello_list = ['h','e','l','l','o']\n",
    "res=hello_list.pop(0)\n",
    "print(hello_list, res)\n",
    "hello_list.pop() # Note that here we do not assign the popped element to res\n",
    "print(hello_list, res)"
   ]
  },
  {
   "cell_type": "markdown",
   "id": "abeef587-145e-44d4-8779-982c6efdccf9",
   "metadata": {},
   "source": [
    "```{admonition} **שימו לב** \n",
    ":class: error\n",
    "\n",
    "פעולה זו לא \"שוברת\" את כלל האצבע מקודם - המתודה הזו עדיין לא מחזירה את הרשימה המקורית, אלא ערך אחר.\n",
    "\n",
    "```"
   ]
  },
  {
   "cell_type": "markdown",
   "id": "79c3c820-bffa-4f29-8074-137691ec979e",
   "metadata": {},
   "source": [
    "### `sort`: מיון רשימה"
   ]
  },
  {
   "cell_type": "markdown",
   "id": "156e998e-2dab-42fb-b45e-57753f1143a2",
   "metadata": {},
   "source": [
    "המתודה ממיינת את **הרשימה המקורית**."
   ]
  },
  {
   "cell_type": "markdown",
   "id": "3d1591e6-7227-4941-a0df-1a3b0ed29a5a",
   "metadata": {},
   "source": [
    "שימו לב שכאשר משתמשים ב**פונקציה המובנית (built-in function)** `sorted` שראינו כבר, ערך ההחזר הוא **רשימה חדשה** ממויינת"
   ]
  },
  {
   "cell_type": "code",
   "execution_count": null,
   "id": "4176a936-b1a3-4f48-bffd-ba7632ce7fd6",
   "metadata": {},
   "outputs": [],
   "source": [
    "a = [3,7,1]\n",
    "b = sorted(a)\n",
    "print(a)\n",
    "print(b)"
   ]
  },
  {
   "cell_type": "markdown",
   "id": "5302bb66-fff4-4607-9591-85fe27667541",
   "metadata": {},
   "source": [
    "לעומת זאת, ה**מתודה** `sort`  ממיינת את **הרשימה המקורית** ואינה מחזירה דבר"
   ]
  },
  {
   "cell_type": "code",
   "execution_count": 39,
   "id": "d9b63920-0fac-48b6-9754-503b9c351851",
   "metadata": {},
   "outputs": [
    {
     "name": "stdout",
     "output_type": "stream",
     "text": [
      "[1, 3, 7]\n",
      "None\n"
     ]
    }
   ],
   "source": [
    "a = [3,7,1]\n",
    "b = a.sort()\n",
    "print(a)\n",
    "print(b)"
   ]
  },
  {
   "cell_type": "markdown",
   "id": "171900ea-35c6-4423-a725-646e4680ffc7",
   "metadata": {},
   "source": [
    "ראינו פה שני דרכים שונות לפעולה של פונקציות:  \n",
    "פונקציות שמשנות את האובייקט המקורי נקראות **in-place operation**.  \n",
    "לעומתן, פונקציות שיוצרות ערך חדש, מבלי לשנות את האובייקט המקורי, נקראות **copy operations**."
   ]
  },
  {
   "cell_type": "markdown",
   "id": "9c08dc63-658f-4851-9cdb-7afcbef871cd",
   "metadata": {},
   "source": [
    "```{admonition} **עיצרו וחישבו:** האם קיימים in-place operations למחרוזות? אם כן, אילו? אם לא, מדוע?\n",
    ":class: dropdown, caution\n",
    "\n",
    "לא - מחרוזות בפייתון הן immutable (לא ניתנות לשינוי). כל פעולה על מחרוזת יוצרת מחרוזת חדשה במקום לשנות את המקור. לדוגמה, חיתוך או replace מחזירים מחרוזת חדשה, והמקור נשאר כפי שהוא.\n",
    "\n",
    "```"
   ]
  },
  {
   "cell_type": "markdown",
   "id": "07156e68-4126-49d8-a893-0b01aa598482",
   "metadata": {},
   "source": [
    "### מתודות פופולריות של רשימה\n",
    "להלן טבלה עם מתודות שימושיות עבור רשימות - על חלקן כבר דיברנו ועל חלקן עוד לא. נסו את הפונקציות החדשות כדי לראות מה הן עושות בעצמכם!\n",
    "\n",
    "| שיטה | תיאור |\n",
    "|:-------|:-------------------------------------------|\n",
    "| `append` | מוסיפה פריט לסוף הרשימה |\n",
    "| **`count`** | מחזירה את מספר הפעמים שהערך מופיע ברשימה |\n",
    "| `extend` | מרחיבה את הרשימה על ידי הוספת פריטים מרשימה אחרת |\n",
    "| **`index`** | מחזירה את האינדקס הראשון שבו מופיע הערך |\n",
    "| `insert` | מכניסה פריט לפני מיקום מסוים ברשימה |\n",
    "| `pop` | מסירה את הפריט במיקום הנתון ומחזירה אותו (אם לא נמסר אינדקס – תסיר את הפריט האחרון) |\n",
    "| `remove` | מסירה את ההופעה הראשונה של הערך ברשימה |\n",
    "| `reverse` | הופכת את סדר הרשימה (משנה את הרשימה עצמה) |\n",
    "| `sort` | ממיינת את הרשימה (משנה את הרשימה עצמה) |\n",
    "| **`copy`** | יוצר עותק שטחי של הרשימה |\n",
    "| `clear` | מוחק את כל האיברים מהרשימה (משנה את הרשימה עצמה) |\n",
    "\n",
    "\n",
    "**\\*שיטות מודגשות אינן משנות את הרשימה**"
   ]
  },
  {
   "cell_type": "code",
   "execution_count": null,
   "id": "a5849dc3-e1a9-4189-bbc5-7c30a834d4b3",
   "metadata": {},
   "outputs": [],
   "source": [
    "# Try these methods!\n",
    "lst = [\"hello\", \"world\", \"python\"]"
   ]
  },
  {
   "cell_type": "markdown",
   "id": "cebd86b8-a5bd-4a87-9d88-97cf463147b6",
   "metadata": {},
   "source": [
    " ## נסו בעצמכם"
   ]
  },
  {
   "cell_type": "markdown",
   "id": "83c3b868-1119-413b-86ad-3a388adb1f17",
   "metadata": {},
   "source": [
    "ממשו את הפונקציה `update_playlist(playlist)` אשר מקבלת רשימת מחרוזות בה כל מחרוזת היא שם של שיר.\n",
    "הפונקציה תבצע את העדכונים הבאים לרשימה:\n",
    "1. תוסיף את השיר החדש \"Imagine\" לסוף הרשימה (משנה את הרשימה המקורית).\n",
    "2. אם \"Piano man\" כבר מופיע, תוציא את ההופעה הראשונה שלו (משנה את הרשימה המקורית).\n",
    "3. תוסיף את השיר \"Iris\" במקום השני ברשימה (משנה את הרשימה המקורית).\n",
    "4. תיצור עותק חדש של הרשימה, ותחזיר את הרשימה **בסדר הפוך** (בלי לשנות את הרשימה המקורית!)\n",
    "\n",
    "מלאו את שלד הפונקציה שלפניכם. אם הפונקציה מומשה כהלכה, יודפסו למסך שני `True`."
   ]
  },
  {
   "cell_type": "code",
   "execution_count": null,
   "id": "e7c4ee61-8306-472e-aef7-b569fcbc5cc1",
   "metadata": {},
   "outputs": [],
   "source": [
    "def update_playlist(playlist):\n",
    "    # Replace the pass with your code\n",
    "    pass\n",
    "\n",
    "old_playlist = [\"Piano man\", \"Bohemian Rhapsody\", \"Hey Jude\"]\n",
    "print(update_playlist(old_playlist) == ['Imagine', 'Hey Jude', 'Iris', 'Bohemian Rhapsody'])\n",
    "print(old_playlist == ['Bohemian Rhapsody', 'Iris', 'Hey Jude', 'Imagine'])"
   ]
  },
  {
   "cell_type": "markdown",
   "id": "27dd1473-ac16-4e08-967a-581517ab81ec",
   "metadata": {},
   "source": [
    "```{admonition} **לחצו כאן כדי לצפות בפתרון**\n",
    ":class: dropdown, tip\n",
    "\n",
    "``` python\n",
    "def update_playlist(playlist):\n",
    "    playlist.append(\"Imagine\")\n",
    "    playlist.remove(\"Piano man\")\n",
    "    playlist.insert(1, \"Iris\")\n",
    "    lst = playlist.copy()\n",
    "    lst.reverse()\n",
    "    return lst\n",
    "\n",
    "```"
   ]
  }
 ],
 "metadata": {
  "kernelspec": {
   "display_name": "Python 3 (ipykernel)",
   "language": "python",
   "name": "python3"
  },
  "language_info": {
   "codemirror_mode": {
    "name": "ipython",
    "version": 3
   },
   "file_extension": ".py",
   "mimetype": "text/x-python",
   "name": "python",
   "nbconvert_exporter": "python",
   "pygments_lexer": "ipython3",
   "version": "3.13.5"
  }
 },
 "nbformat": 4,
 "nbformat_minor": 5
}
