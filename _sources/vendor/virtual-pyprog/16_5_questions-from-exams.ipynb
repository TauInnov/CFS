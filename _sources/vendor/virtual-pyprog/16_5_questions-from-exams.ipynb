{
 "cells": [
  {
   "cell_type": "markdown",
   "id": "3a07cf30-d6dd-4778-8d92-996b6c74dbc4",
   "metadata": {
    "slideshow": {
     "slide_type": "slide"
    }
   },
   "source": [
    "# שאלות ממבחני עבר"
   ]
  },
  {
   "cell_type": "markdown",
   "id": "fe1365c4-774a-4c7d-bfdf-936422ab2e07",
   "metadata": {
    "slideshow": {
     "slide_type": "fragment"
    }
   },
   "source": [
    "[Exam 2022-2023 semester B Moed A](https://courses.cs.tau.ac.il/pyProg/2425a/exams/exam2223b_moedA.pdf)"
   ]
  },
  {
   "cell_type": "markdown",
   "id": "6274a204-ce45-493b-ba4d-5a749bf2711b",
   "metadata": {
    "slideshow": {
     "slide_type": "subslide"
    }
   },
   "source": [
    "1.C"
   ]
  },
  {
   "cell_type": "code",
   "execution_count": null,
   "id": "ff0d373f-143d-426c-ab57-1f9c90c51ef9",
   "metadata": {
    "execution": {
     "iopub.execute_input": "2025-03-10T07:48:36.849970Z",
     "iopub.status.busy": "2025-03-10T07:48:36.849497Z",
     "iopub.status.idle": "2025-03-10T07:48:36.854022Z",
     "shell.execute_reply": "2025-03-10T07:48:36.853269Z"
    },
    "slideshow": {
     "slide_type": "fragment"
    }
   },
   "outputs": [],
   "source": [
    "def squared_ways(target, base=1):\n",
    "    result = base ** 2\n",
    "    if target == result:\n",
    "        return 1\n",
    "    if target < result:\n",
    "        return 0\n",
    "    op1 = squared_ways(target - result, base + 1)\n",
    "    op2 = squared_ways(target, base + 1)\n",
    "    return op1 + op2"
   ]
  },
  {
   "cell_type": "code",
   "execution_count": null,
   "id": "41e1fb85",
   "metadata": {
    "execution": {
     "iopub.execute_input": "2025-03-10T07:48:36.856923Z",
     "iopub.status.busy": "2025-03-10T07:48:36.856442Z",
     "iopub.status.idle": "2025-03-10T07:48:36.860714Z",
     "shell.execute_reply": "2025-03-10T07:48:36.859935Z"
    },
    "slideshow": {
     "slide_type": "fragment"
    }
   },
   "outputs": [],
   "source": [
    "print(squared_ways(50))\n",
    "print(squared_ways(25))\n",
    "print(squared_ways(6))"
   ]
  },
  {
   "cell_type": "markdown",
   "id": "d06e9632",
   "metadata": {
    "slideshow": {
     "slide_type": "subslide"
    }
   },
   "source": [
    "1.D"
   ]
  },
  {
   "cell_type": "code",
   "execution_count": null,
   "id": "7366b50d-1c57-44da-9f5a-6a721e89e3e0",
   "metadata": {
    "execution": {
     "iopub.execute_input": "2025-03-10T07:48:36.863523Z",
     "iopub.status.busy": "2025-03-10T07:48:36.863211Z",
     "iopub.status.idle": "2025-03-10T07:48:36.868460Z",
     "shell.execute_reply": "2025-03-10T07:48:36.867716Z"
    },
    "slideshow": {
     "slide_type": "fragment"
    }
   },
   "outputs": [],
   "source": [
    "def max_val_sub(lst, size):\n",
    "    if size == 0:\n",
    "        return 0\n",
    "    if len(lst) == 0:\n",
    "        return 0\n",
    "    if len(lst) == 1:\n",
    "        return lst[0]\n",
    "    op1 = lst[1] + max_val_sub(lst[2:], size - 1)\n",
    "    op2 = lst[0] + max_val_sub(lst[2:], size - 1)\n",
    "    op3 = max_val_sub(lst[2:], size)\n",
    "    return max(op1, op2, op3)"
   ]
  },
  {
   "cell_type": "code",
   "execution_count": null,
   "id": "5e464215",
   "metadata": {
    "execution": {
     "iopub.execute_input": "2025-03-10T07:48:36.871299Z",
     "iopub.status.busy": "2025-03-10T07:48:36.870881Z",
     "iopub.status.idle": "2025-03-10T07:48:36.875341Z",
     "shell.execute_reply": "2025-03-10T07:48:36.874608Z"
    },
    "slideshow": {
     "slide_type": "fragment"
    }
   },
   "outputs": [],
   "source": [
    "print(max_val_sub([3, 1, 8, 9, 6], 3))\n",
    "print(max_val_sub([1,2,3,4,5], 3))"
   ]
  },
  {
   "cell_type": "markdown",
   "id": "53552918-4afc-48de-aeca-69187893a811",
   "metadata": {
    "slideshow": {
     "slide_type": "subslide"
    }
   },
   "source": [
    "[Exam 2022-2023 semester B Moed B](https://courses.cs.tau.ac.il/pyProg/2425a/exams/exam2223b_moedB.pdf)"
   ]
  },
  {
   "cell_type": "markdown",
   "id": "a6fbb152-5bd5-47de-857c-8cf696bfbf39",
   "metadata": {
    "slideshow": {
     "slide_type": "subslide"
    }
   },
   "source": [
    "1.C"
   ]
  },
  {
   "cell_type": "code",
   "execution_count": null,
   "id": "5ed714a1-29b7-49b3-8f0c-65731d6e746a",
   "metadata": {
    "execution": {
     "iopub.execute_input": "2025-03-10T07:48:36.878702Z",
     "iopub.status.busy": "2025-03-10T07:48:36.878186Z",
     "iopub.status.idle": "2025-03-10T07:48:36.883230Z",
     "shell.execute_reply": "2025-03-10T07:48:36.882479Z"
    },
    "slideshow": {
     "slide_type": "fragment"
    }
   },
   "outputs": [],
   "source": [
    "def subset_sums(nums):\n",
    "    # Print current subset\n",
    "    if len(nums) == 0:\n",
    "        return [0]\n",
    "    opts = []\n",
    "    op1 = subset_sums(nums[:-1])\n",
    "    # Subset excluding nums[-1]\n",
    "    opts.extend(op1)\n",
    "    # Subset including nums[-1]\n",
    "    for elem in op1:\n",
    "        elem += nums[-1]\n",
    "        opts += [elem]\n",
    "    return opts "
   ]
  },
  {
   "cell_type": "code",
   "execution_count": null,
   "id": "f4f89493",
   "metadata": {
    "execution": {
     "iopub.execute_input": "2025-03-10T07:48:36.886559Z",
     "iopub.status.busy": "2025-03-10T07:48:36.885888Z",
     "iopub.status.idle": "2025-03-10T07:48:36.890516Z",
     "shell.execute_reply": "2025-03-10T07:48:36.889784Z"
    }
   },
   "outputs": [],
   "source": [
    "print(subset_sums([]))\n",
    "print(subset_sums([2,3]))\n",
    "print(subset_sums([1,3,4]))"
   ]
  },
  {
   "cell_type": "markdown",
   "id": "60d18ba9",
   "metadata": {
    "slideshow": {
     "slide_type": "subslide"
    }
   },
   "source": [
    "1.D (Ignore memoization)"
   ]
  },
  {
   "cell_type": "code",
   "execution_count": null,
   "id": "368e7f4f-b93b-4d73-97dd-29201dd158ab",
   "metadata": {
    "execution": {
     "iopub.execute_input": "2025-03-10T07:48:36.893314Z",
     "iopub.status.busy": "2025-03-10T07:48:36.892966Z",
     "iopub.status.idle": "2025-03-10T07:48:36.898243Z",
     "shell.execute_reply": "2025-03-10T07:48:36.897507Z"
    },
    "slideshow": {
     "slide_type": "fragment"
    }
   },
   "outputs": [],
   "source": [
    "def min_diff(lst):\n",
    "    return min_diff_rec(lst)\n",
    "\n",
    "def min_diff_rec(pres_lst, first=0, second=0, index=0):\n",
    "    if len(pres_lst) == index:\n",
    "        return abs(first - second)\n",
    "    \n",
    "    op1 = min_diff_rec(pres_lst, first + pres_lst[index], second, index + 1)\n",
    "    op2 = min_diff_rec(pres_lst, first, second + pres_lst[index], index + 1)\n",
    "    return min(op1, op2)"
   ]
  },
  {
   "cell_type": "code",
   "execution_count": null,
   "id": "30be2a08",
   "metadata": {
    "execution": {
     "iopub.execute_input": "2025-03-10T07:48:36.900963Z",
     "iopub.status.busy": "2025-03-10T07:48:36.900654Z",
     "iopub.status.idle": "2025-03-10T07:48:36.905153Z",
     "shell.execute_reply": "2025-03-10T07:48:36.904389Z"
    },
    "slideshow": {
     "slide_type": "fragment"
    }
   },
   "outputs": [],
   "source": [
    "print(min_diff([]))\n",
    "print(min_diff([100,30,20,45]))\n",
    "print(min_diff([10 ,10 ,30]))"
   ]
  }
 ],
 "metadata": {
  "celltoolbar": "Slideshow",
  "kernelspec": {
   "display_name": "Python 3 (ipykernel)",
   "language": "python",
   "name": "python3"
  },
  "language_info": {
   "codemirror_mode": {
    "name": "ipython",
    "version": 3
   },
   "file_extension": ".py",
   "mimetype": "text/x-python",
   "name": "python",
   "nbconvert_exporter": "python",
   "pygments_lexer": "ipython3",
   "version": "3.11.12"
  }
 },
 "nbformat": 4,
 "nbformat_minor": 5
}
