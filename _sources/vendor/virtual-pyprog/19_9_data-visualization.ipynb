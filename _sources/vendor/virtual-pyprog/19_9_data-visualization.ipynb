{
 "cells": [
  {
   "cell_type": "code",
   "execution_count": 6,
   "id": "f9e99179",
   "metadata": {
    "id": "f9e99179",
    "slideshow": {
     "slide_type": "notes"
    },
    "tags": [
     "remove_cell"
    ]
   },
   "outputs": [
    {
     "name": "stdout",
     "output_type": "stream",
     "text": [
      "['baby.png', 'countries-of-the-world.csv', 'dialation.png', 'dialation_2.png', 'dog.png', 'dog_noised.png', 'erosion.png', 'erosion_2.png', 'evil_morty_1.png', 'evil_morty_change.png', 'evil_morty_change_3.png', 'evil_morty_change_noised.png', 'evil_morty_segmentation.png', 'ex1.csv', 'ex2.csv', 'koala.png', 'notebook_resources.zip', 'orders_2_2024.csv', 'orders_3_2024.csv', 'orders_4_2024.csv', 'products2.csv', 'ship.png', 'StudentsGrades.csv', 'witcher_1.csv', 'witcher_2.csv', 'woman_noised.png', '__MACOSX']\n"
     ]
    }
   ],
   "source": [
    "import urllib.request\n",
    "import zipfile\n",
    "import os\n",
    "import ssl\n",
    "\n",
    "try:\n",
    "    os.mkdir(\"files\")\n",
    "except:\n",
    "    pass\n",
    "\n",
    "ssl._create_default_https_context = ssl._create_unverified_context\n",
    "\n",
    "with urllib.request.urlopen('https://courses.cs.tau.ac.il/pyProg/2425a/resources/notebook_resources.zip') as f:\n",
    "    content = f.read()\n",
    "\n",
    "with open('files/notebook_resources.zip', 'wb') as f:\n",
    "    f.write(content)\n",
    "\n",
    "with zipfile.ZipFile('files/notebook_resources.zip', 'r') as zip_ref:\n",
    "    zip_ref.extractall('files')\n",
    "\n",
    "print(os.listdir('files'))\n",
    "\n",
    "import pandas as pd\n",
    "pd.options.display.max_rows=5\n"
   ]
  },
  {
   "cell_type": "markdown",
   "id": "f7ff6668",
   "metadata": {
    "slideshow": {
     "slide_type": "slide"
    }
   },
   "source": [
    "## הצגת נתוני טבלאות בגרפים "
   ]
  },
  {
   "cell_type": "markdown",
   "id": "732bbaf1",
   "metadata": {
    "slideshow": {
     "slide_type": "fragment"
    }
   },
   "source": [
    "לעיתים קשה להבין נתונים רק מקריאה של טבלאות, במיוחד כשמדובר בכמויות גדולות של מספרים.    \n",
    "הצגת המידע בצורה גרפית מאפשרת לנו לראות בצורה ברורה ומהירה את העיקר: מגמות, הבדלים וקשרים בין קבוצות נתונים.  \n",
    "לדוגמא, בצורה גרפית, קל יותר לזהות פערים בממוצע הציונים בין תארים שונים כאשר מספר מספר הסטודנטים שלומדים בכל תואר מאוד גדול.  \n",
    "\n",
    "בפייתון קיימות ספריות שונות שמקלות על יצירת גרפים ותרשימים, כמו `matplotlib` ו־`seaborn`. \n",
    "\n",
    "ב`pandas` קיים ממשק מאוד מאוד עם `matplotlib`, שמאפשרת ליצור גרפים ישירות מתוך ה-`DataFrame` שלנו. \n",
    "\n",
    "ביחידה זו נדגים עיצד ניתן ליצור גרפים שונים באמצעות `matplotlib`.  \n"
   ]
  },
  {
   "cell_type": "markdown",
   "id": "694177eb",
   "metadata": {
    "slideshow": {
     "slide_type": "subslide"
    }
   },
   "source": [
    "תחילה נייבא את ספרית `matplotlib`:"
   ]
  },
  {
   "cell_type": "code",
   "execution_count": 7,
   "id": "8b231278",
   "metadata": {
    "slideshow": {
     "slide_type": "fragment"
    }
   },
   "outputs": [],
   "source": [
    "import matplotlib.pyplot as plt"
   ]
  },
  {
   "cell_type": "markdown",
   "id": "15ceef5a-9620-421b-bbb4-7b1fed43f3c9",
   "metadata": {},
   "source": [
    "שימו לב שייבאנו חלק ספציפי של הספריה (`pyplot`). לאחר הייבוא, נוכל לקרוא לחל' זה באמצעות הקיצור `plt`."
   ]
  },
  {
   "cell_type": "markdown",
   "id": "8701b390-8ba7-4201-8495-a469922f1145",
   "metadata": {},
   "source": [
    "### תבנית לציור גרפים ב`matplotlib`"
   ]
  },
  {
   "cell_type": "markdown",
   "id": "156c0305",
   "metadata": {
    "slideshow": {
     "slide_type": "fragment"
    }
   },
   "source": [
    "כדי לצייר גרף בפייתון באמצעות `matplotlib`, נשתמש בתבנית קוד בת 4 חלקים בסיסית שחוזרת על עצמה כמעט בכל ציור. \n",
    "1. ניצור מקום לייצר עליו את הגרף שלנו, או \"קנבס\" באמצעות הפקודה `fig, ax = plt.subplots()`, כאשר ניתן להגדיר את גודל התרשים בעזרת הפרמטר `figsize` (למשל `(4,3)`)\n",
    "2. נצייר את הגרף עצמו על אותו קנבס לפי סוג התרשים הרצוי. כאן ניתן לצייר מגוון סוגי גרפים, כפי שנראה בהמשך יחידה זו \n",
    "3. נוסיף \"מקרא\" - תיאור אילו צבעים מייצגים אילו נתונים - באמצעות `plt.legend()`.\n",
    "4. לבסוף, נשתמש ב־`plt.show()` כדי \"לצייר\" את הגרף בפועל על המסך.\n",
    "\n",
    "תבנית זו תשמש אותנו כבסיס לכל ציור גרפי שנבצע ב־`matplotlib`. עבור כל סוג גרף, נעזר במתודה שמייצרת שאותו. **על הקורא להבין מה משמעותם של הקלט של כל אחת מהמתודות.** מטרת הדוגמאות היא להדגים את העיקרון הבסיסי של בניית גרפים, אך בנוסף קיימים לכל מתודה פרמטרים רבים המאפשרים שליטה מדויקת על מראה הגרף, סגנון הצבעים, צירי המדידה ועוד. מומלץ להתנסות ולחקור בעצמכם כדי להבין לעומק את הגמישות של הכלים הגרפיים.  "
   ]
  },
  {
   "cell_type": "markdown",
   "id": "64014e3d-f76b-4f08-99f3-431b5e126667",
   "metadata": {
    "slideshow": {
     "slide_type": "fragment"
    }
   },
   "source": [
    "```python\n",
    "fig, ax = plt.subplots() ## Create canvas. figsize=(4,3) sets the size of the figure (optional)\n",
    "## Draw your plot here. \n",
    "plt.legend() # plot the names that each color represents (optional)\n",
    "plt.show() # Visualize plot\n",
    "```"
   ]
  },
  {
   "cell_type": "markdown",
   "id": "6168509f-7b03-4514-aa31-9edab0f9f886",
   "metadata": {},
   "source": [
    "אך קודם כל, נתחיל מטעינת טבלת הציונים שלנו מהקובץ files/StudentsGrades.csv לתוך `df`:"
   ]
  },
  {
   "cell_type": "code",
   "execution_count": 8,
   "id": "6d429c77-d25c-4098-bda1-fd0d715f0781",
   "metadata": {},
   "outputs": [
    {
     "data": {
      "text/html": [
       "<div>\n",
       "<style scoped>\n",
       "    .dataframe tbody tr th:only-of-type {\n",
       "        vertical-align: middle;\n",
       "    }\n",
       "\n",
       "    .dataframe tbody tr th {\n",
       "        vertical-align: top;\n",
       "    }\n",
       "\n",
       "    .dataframe thead th {\n",
       "        text-align: right;\n",
       "    }\n",
       "</style>\n",
       "<table border=\"1\" class=\"dataframe\">\n",
       "  <thead>\n",
       "    <tr style=\"text-align: right;\">\n",
       "      <th></th>\n",
       "      <th>Name</th>\n",
       "      <th>Programming</th>\n",
       "      <th>Marine Biology</th>\n",
       "      <th>Stellar Cartography</th>\n",
       "      <th>Math</th>\n",
       "      <th>History</th>\n",
       "      <th>Planet Survival</th>\n",
       "      <th>Art</th>\n",
       "    </tr>\n",
       "  </thead>\n",
       "  <tbody>\n",
       "    <tr>\n",
       "      <th>0</th>\n",
       "      <td>Yael</td>\n",
       "      <td>50</td>\n",
       "      <td>56</td>\n",
       "      <td>70</td>\n",
       "      <td>60</td>\n",
       "      <td>87</td>\n",
       "      <td>65</td>\n",
       "      <td>91</td>\n",
       "    </tr>\n",
       "    <tr>\n",
       "      <th>1</th>\n",
       "      <td>Nadav</td>\n",
       "      <td>61</td>\n",
       "      <td>77</td>\n",
       "      <td>75</td>\n",
       "      <td>75</td>\n",
       "      <td>63</td>\n",
       "      <td>52</td>\n",
       "      <td>88</td>\n",
       "    </tr>\n",
       "    <tr>\n",
       "      <th>...</th>\n",
       "      <td>...</td>\n",
       "      <td>...</td>\n",
       "      <td>...</td>\n",
       "      <td>...</td>\n",
       "      <td>...</td>\n",
       "      <td>...</td>\n",
       "      <td>...</td>\n",
       "      <td>...</td>\n",
       "    </tr>\n",
       "    <tr>\n",
       "      <th>11</th>\n",
       "      <td>Tom</td>\n",
       "      <td>98</td>\n",
       "      <td>76</td>\n",
       "      <td>98</td>\n",
       "      <td>100</td>\n",
       "      <td>98</td>\n",
       "      <td>92</td>\n",
       "      <td>80</td>\n",
       "    </tr>\n",
       "    <tr>\n",
       "      <th>12</th>\n",
       "      <td>Adi</td>\n",
       "      <td>76</td>\n",
       "      <td>87</td>\n",
       "      <td>34</td>\n",
       "      <td>90</td>\n",
       "      <td>88</td>\n",
       "      <td>84</td>\n",
       "      <td>70</td>\n",
       "    </tr>\n",
       "  </tbody>\n",
       "</table>\n",
       "<p>13 rows × 8 columns</p>\n",
       "</div>"
      ],
      "text/plain": [
       "     Name  Programming  Marine Biology  Stellar Cartography  Math  History  \\\n",
       "0    Yael           50              56                   70    60       87   \n",
       "1   Nadav           61              77                   75    75       63   \n",
       "..    ...          ...             ...                  ...   ...      ...   \n",
       "11    Tom           98              76                   98   100       98   \n",
       "12    Adi           76              87                   34    90       88   \n",
       "\n",
       "    Planet Survival  Art  \n",
       "0                65   91  \n",
       "1                52   88  \n",
       "..              ...  ...  \n",
       "11               92   80  \n",
       "12               84   70  \n",
       "\n",
       "[13 rows x 8 columns]"
      ]
     },
     "metadata": {},
     "output_type": "display_data"
    }
   ],
   "source": [
    "inputFileName = \"files/StudentsGrades.csv\"\n",
    "df = pd.read_csv(inputFileName)\n",
    "display(df)"
   ]
  },
  {
   "cell_type": "markdown",
   "id": "9b602365",
   "metadata": {
    "slideshow": {
     "slide_type": "subslide"
    }
   },
   "source": [
    "כעת, נרצה להציג בצורה גרפית את נתוני הטבלה לגבי ציוני המקצועות תכנות ומתמטיקה. ננסה תחילה להדפיסם כ**גרף קווים (line plot)**: \n",
    "\n",
    "גרף קווים הוא אחד מסוגי הגרפים הבסיסיים והשכיחים ביותר להצגת קשר בין שני משתנים בעלי סדר, כמו זמן מול ערך מדידה. בכל נקודה על הגרף מיוצג זוג ערכים, והעקומה המחברת ביניהם מדגישה את השינוי או המגמה לאורך הציר. גרף כזה מאפשר לראות בקלות עליות, ירידות, מגמות כלליות והשוואה בין סדרות נתונים שונות.\n",
    "\n",
    "בדוגמא ניצור גרף קווים על מנת להציג בצורה חזותית את ציוני מקצועות התכנות והמתמטיקה באמצעות המתודה `plot`:"
   ]
  },
  {
   "cell_type": "code",
   "execution_count": 14,
   "id": "2733aead",
   "metadata": {
    "slideshow": {
     "slide_type": "fragment"
    }
   },
   "outputs": [
    {
     "data": {
      "image/png": "[encoded data removed]",
      "text/plain": [
       "<Figure size 400x300 with 1 Axes>"
      ]
     },
     "metadata": {},
     "output_type": "display_data"
    }
   ],
   "source": [
    "fig, ax = plt.subplots(figsize=(4,3))\n",
    "columns = ['Programming', 'Math'] \n",
    "ax.plot(df.loc[:,columns], label=columns)\n",
    "plt.legend()\n",
    "plt.show()"
   ]
  },
  {
   "cell_type": "markdown",
   "id": "1eb08d53-f734-4b20-99e5-1103cb0c0217",
   "metadata": {
    "slideshow": {
     "slide_type": "fragment"
    }
   },
   "source": [
    "האם הגרף הזה מסביר לדעתכם את הנתונים בצורה טובה יותר?\n",
    "\n",
    "**גרף קווים נועד להמחיש קשר בין שני משתנים בעלי סדר**, כלומר משתנים שניתן לסדרם לפי ערך עולה או יורד, כמו זמן או טמפרטורה. כאשר אין סדר טבעי – למשל רשימה לא סדורה של סטודנטים – לא ניתן להשתמש בעקומה בצורה נכונה, משום שאין משמעות לסדר בין הנקודות.  \n",
    "\n",
    "נבחן כעת שימוש בגרף מסוג אחר - Boxplot. **תרשים Boxplot מקבץ נתונים כקבוצות שונות ומציג סיכום סטטיסטי שלהם**. הוא מציג את החציון, את טווח הערכים (מהרבעון התחתון עד הרבעון העליון), ואת הערכים החריגים (outliers) שמופיעים מחוץ לטווח הרגיל של הנתונים. התרשים מאפשר להבין במבט אחד את פיזור הנתונים, מידת הריכוז שלהם והאם קיימים ערכים חריגים. Boxplot\n",
    "\n",
    "כעת נסכם את ציוני התכנות והמתמטיקה בתצוגה זו באמצעות המתודה `boxplot`:"
   ]
  },
  {
   "cell_type": "code",
   "execution_count": 18,
   "id": "360df78e",
   "metadata": {
    "slideshow": {
     "slide_type": "fragment"
    }
   },
   "outputs": [
    {
     "name": "stderr",
     "output_type": "stream",
     "text": [
      "/tmp/ipykernel_98544/3307446045.py:3: MatplotlibDeprecationWarning: The 'labels' parameter of boxplot() has been renamed 'tick_labels' since Matplotlib 3.9; support for the old name will be dropped in 3.11.\n",
      "  ax.boxplot(df.loc[:,columns], labels=columns) # Orange lines are the medians\n"
     ]
    },
    {
     "data": {
      "image/png": "[encoded data removed]",
      "text/plain": [
       "<Figure size 400x300 with 1 Axes>"
      ]
     },
     "metadata": {},
     "output_type": "display_data"
    }
   ],
   "source": [
    "fig, ax = plt.subplots(figsize=(4,3))\n",
    "columns = ['Programming', 'Math']\n",
    "ax.boxplot(df.loc[:,columns], labels=columns) # Orange lines are the medians\n",
    "plt.show()"
   ]
  },
  {
   "cell_type": "markdown",
   "id": "2a491d37",
   "metadata": {
    "slideshow": {
     "slide_type": "fragment"
    }
   },
   "source": [
    "כפי שניתן לראות, השימוש ב`boxplot` סייע להדגיש את ההבדלים בין המקצעות – ניתן לראות בקלות את המרכז (החציון; בכתום), הפיזור, ונקודות החריגות (outliers) של כל קבוצה, מה שמאפשר לזהות מגמות או פערים בין קבוצות שונות במבט אחד.  \n",
    "\n",
    "החסרון תרשים `boxplot` הוא שלא ניתן לראות את מספר הערכים בכל תחום, ולכן הוא טוב להבנת מגמות ולא לספירה מדויקתהוא פחות מתאים למצבים שבהם רוצים לספור כמויות מדויקות, למשל כמה סטודנטים קיבלו ציון מעל 85.  "
   ]
  },
  {
   "cell_type": "markdown",
   "id": "1e3a8c3b",
   "metadata": {
    "slideshow": {
     "slide_type": "subslide"
    }
   },
   "source": [
    "אם ברצוננו ליצור גרף שראה מספרים כאלו, ניתן להשתמש ב**תרשים עמודות (Bar plot)**.   \n",
    "בגרף זה גודל מספרי, למשל ממוצע, ספירה או ערך מסוים – והגובה של כל עמודה משקף את ערך הנתון. \n",
    "התרשים מאפשר לזהות בקלות הבדלים בין קבוצות מעבר לסיכום סטטיסטי ש-Boxplot מספק:\n",
    "\n",
    "על מנת לצייר גרף זה, נשתמש במתודה `bar`:\n"
   ]
  },
  {
   "cell_type": "code",
   "execution_count": 12,
   "id": "1e6bafdd",
   "metadata": {
    "slideshow": {
     "slide_type": "fragment"
    }
   },
   "outputs": [
    {
     "data": {
      "image/png": "[encoded data removed]",
      "text/plain": [
       "<Figure size 400x300 with 1 Axes>"
      ]
     },
     "metadata": {},
     "output_type": "display_data"
    }
   ],
   "source": [
    "fig, ax = plt.subplots(figsize=(4,3))\n",
    "columns = ['Programming', 'Math'] \n",
    "ax.bar(columns, (df.loc[:,columns]>85).sum())\n",
    "plt.show()"
   ]
  },
  {
   "cell_type": "markdown",
   "id": "0df66343-6679-4fd6-9471-3f1d9402c725",
   "metadata": {},
   "source": [
    "הגרפים שראינו לדוגמאות לעיל ממחישות לנו כיצד ניתן להציג נתונים מטבלאות בצורה חזותית, ולהסיק מהן תובנות שקשה להסיק באמצעות התסכלות על טבלאות גדולות. ניתן להסתייחס לגרפים אלו לכאל מעין סוגים שונים של סיכומים של טבלאות. \n",
    "\n",
    "ראינו דוגמאות לסוגים שונים של גרפים – גרף עקומות, Boxplot וBarplot והבנו לאיזו מטרה כל אחד מתאים, או מילים אחרות, איזה סוג של \"סיכום\" כל אחד מהם נותן.\n",
    "\n",
    "המטרה המרכזית ביחידה זו הייתה הקניית כלים בסיסיים ליצירת תצוגות חזותיות בגרפים, והדגמה כיצד הצגה גרפית של נתונים יכולה להפוך טבלה מורכבת להבנה אינטואיטיבית וברורה. \n",
    "\n",
    "חשוב לזכור שמה שראינו כאן הוא רק טעימה – קיימים עוד סוגים רבים של גרפים, המתאימים לסוגי נתונים שונים ולשאלות שונות, וכולם יחד מהווים ארגז כלים רחב לניתוח והצגת מידע בצורה יעילה.  \n"
   ]
  }
 ],
 "metadata": {
  "celltoolbar": "Slideshow",
  "colab": {
   "provenance": []
  },
  "kernelspec": {
   "display_name": "Python 3 (ipykernel)",
   "language": "python",
   "name": "python3"
  },
  "language_info": {
   "codemirror_mode": {
    "name": "ipython",
    "version": 3
   },
   "file_extension": ".py",
   "mimetype": "text/x-python",
   "name": "python",
   "nbconvert_exporter": "python",
   "pygments_lexer": "ipython3",
   "version": "3.11.12"
  }
 },
 "nbformat": 4,
 "nbformat_minor": 5
}
