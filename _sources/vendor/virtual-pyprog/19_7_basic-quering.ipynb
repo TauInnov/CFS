{
 "cells": [
  {
   "cell_type": "code",
   "execution_count": 35,
   "id": "f9e99179",
   "metadata": {
    "id": "f9e99179",
    "slideshow": {
     "slide_type": "notes"
    },
    "tags": [
     "remove_cell"
    ]
   },
   "outputs": [
    {
     "name": "stdout",
     "output_type": "stream",
     "text": [
      "['baby.png', 'countries-of-the-world.csv', 'dialation.png', 'dialation_2.png', 'dog.png', 'dog_noised.png', 'erosion.png', 'erosion_2.png', 'evil_morty_1.png', 'evil_morty_change.png', 'evil_morty_change_3.png', 'evil_morty_change_noised.png', 'evil_morty_segmentation.png', 'ex1.csv', 'ex2.csv', 'koala.png', 'notebook_resources.zip', 'orders_2_2024.csv', 'orders_3_2024.csv', 'orders_4_2024.csv', 'products2.csv', 'ship.png', 'StudentsGrades.csv', 'witcher_1.csv', 'witcher_2.csv', 'woman_noised.png', '__MACOSX']\n"
     ]
    }
   ],
   "source": [
    "import urllib.request\n",
    "import zipfile\n",
    "import os\n",
    "import ssl\n",
    "\n",
    "try:\n",
    "    os.mkdir(\"files\")\n",
    "except:\n",
    "    pass\n",
    "\n",
    "ssl._create_default_https_context = ssl._create_unverified_context\n",
    "\n",
    "with urllib.request.urlopen('https://courses.cs.tau.ac.il/pyProg/2425a/resources/notebook_resources.zip') as f:\n",
    "    content = f.read()\n",
    "\n",
    "with open('files/notebook_resources.zip', 'wb') as f:\n",
    "    f.write(content)\n",
    "\n",
    "with zipfile.ZipFile('files/notebook_resources.zip', 'r') as zip_ref:\n",
    "    zip_ref.extractall('files')\n",
    "\n",
    "print(os.listdir('files'))\n",
    "\n",
    "import pandas as pd\n",
    "pd.options.display.max_rows=5\n"
   ]
  },
  {
   "cell_type": "markdown",
   "id": "757d957d",
   "metadata": {
    "id": "757d957d",
    "slideshow": {
     "slide_type": "slide"
    }
   },
   "source": [
    "# ביצוע שאילתאות בטבלה"
   ]
  },
  {
   "cell_type": "markdown",
   "id": "3c69ae92-7a8a-47ca-a9e4-16188722e862",
   "metadata": {},
   "source": [
    "שאילתות לטבלה הן פקודות שמאפשרות לסנן, לבחור או לאתר נתונים מתוך הטבלה לפי תנאים מוגדרים מראש.  \n"
   ]
  },
  {
   "cell_type": "markdown",
   "id": "88fb476b-d7a8-4d56-8251-6e8e7f955eec",
   "metadata": {},
   "source": [
    "נטען תחילה את טבלת הציונים שלנו מחדש"
   ]
  },
  {
   "cell_type": "code",
   "execution_count": null,
   "id": "de34f39d-510f-4c02-aac6-919a61e865e9",
   "metadata": {
    "execution": {
     "iopub.execute_input": "2025-03-10T07:51:30.575088Z",
     "iopub.status.busy": "2025-03-10T07:51:30.574756Z",
     "iopub.status.idle": "2025-03-10T07:51:30.581335Z",
     "shell.execute_reply": "2025-03-10T07:51:30.580542Z"
    },
    "slideshow": {
     "slide_type": "subslide"
    }
   },
   "outputs": [],
   "source": [
    "inputFileName = \"files/StudentsGrades.csv\"\n",
    "df = pd.read_csv(inputFileName)  "
   ]
  },
  {
   "cell_type": "markdown",
   "id": "217ee010-0e83-41b8-82b7-f8cc4b5509ed",
   "metadata": {},
   "source": [
    "כעת, נסחו שאילתא שמחלצת מטבלה את הנתונים המבוקשים, והשוו עם הפתרון למטה.   \n",
    "רוב השאילתות יכולות להיות מבוצעות בשורת קוד אחת - נסו לצמצם את שורות הקוד שלכם ככל הניתן תוך שמירה על קריאותו."
   ]
  },
  {
   "cell_type": "markdown",
   "id": "c7c994ec",
   "metadata": {
    "execution": {
     "iopub.execute_input": "2024-02-20T15:56:04.803562Z",
     "iopub.status.busy": "2024-02-20T15:56:04.802795Z",
     "iopub.status.idle": "2024-02-20T15:56:05.098983Z",
     "shell.execute_reply": "2024-02-20T15:56:05.098118Z"
    },
    "id": "c7c994ec",
    "slideshow": {
     "slide_type": "subslide"
    }
   },
   "source": [
    "1. מספר סטונדטים שנכשלו בכל קורס:"
   ]
  },
  {
   "cell_type": "code",
   "execution_count": null,
   "id": "eb7250cd",
   "metadata": {
    "execution": {
     "iopub.execute_input": "2025-03-10T07:51:30.584840Z",
     "iopub.status.busy": "2025-03-10T07:51:30.584357Z",
     "iopub.status.idle": "2025-03-10T07:51:30.594080Z",
     "shell.execute_reply": "2025-03-10T07:51:30.593188Z"
    },
    "id": "eb7250cd",
    "slideshow": {
     "slide_type": "fragment"
    }
   },
   "outputs": [],
   "source": [
    "df_no_names = df.drop('Name', axis=1)\n",
    "print(df_no_names[df_no_names < 60].count())"
   ]
  },
  {
   "cell_type": "markdown",
   "id": "deeb9095",
   "metadata": {
    "execution": {
     "iopub.execute_input": "2024-02-20T15:56:04.803562Z",
     "iopub.status.busy": "2024-02-20T15:56:04.802795Z",
     "iopub.status.idle": "2024-02-20T15:56:05.098983Z",
     "shell.execute_reply": "2024-02-20T15:56:05.098118Z"
    },
    "id": "deeb9095",
    "slideshow": {
     "slide_type": "subslide"
    }
   },
   "source": [
    "2. מספר נכשלים פר סטודנט (3 פתרונות אפשריים):"
   ]
  },
  {
   "cell_type": "code",
   "execution_count": null,
   "id": "a29d72b0",
   "metadata": {
    "execution": {
     "iopub.execute_input": "2025-03-10T07:51:30.597531Z",
     "iopub.status.busy": "2025-03-10T07:51:30.597009Z",
     "iopub.status.idle": "2025-03-10T07:51:30.606903Z",
     "shell.execute_reply": "2025-03-10T07:51:30.606144Z"
    },
    "id": "a29d72b0",
    "slideshow": {
     "slide_type": "fragment"
    }
   },
   "outputs": [],
   "source": [
    "df_no_names = df.drop('Name', axis=1)\n",
    "print(df_no_names[df_no_names < 60].count(axis=1))"
   ]
  },
  {
   "cell_type": "code",
   "execution_count": null,
   "id": "00a50f7d",
   "metadata": {
    "execution": {
     "iopub.execute_input": "2025-03-10T07:51:30.610263Z",
     "iopub.status.busy": "2025-03-10T07:51:30.609700Z",
     "iopub.status.idle": "2025-03-10T07:51:30.618002Z",
     "shell.execute_reply": "2025-03-10T07:51:30.617265Z"
    },
    "id": "00a50f7d",
    "slideshow": {
     "slide_type": "fragment"
    }
   },
   "outputs": [],
   "source": [
    "print(df_no_names[df_no_names < 60].count().sum())"
   ]
  },
  {
   "cell_type": "code",
   "execution_count": null,
   "id": "9aa1a864",
   "metadata": {
    "execution": {
     "iopub.execute_input": "2025-03-10T07:51:30.621273Z",
     "iopub.status.busy": "2025-03-10T07:51:30.620819Z",
     "iopub.status.idle": "2025-03-10T07:51:30.630015Z",
     "shell.execute_reply": "2025-03-10T07:51:30.629293Z"
    },
    "id": "9aa1a864",
    "slideshow": {
     "slide_type": "fragment"
    }
   },
   "outputs": [],
   "source": [
    "print(df_no_names[df_no_names < 60].count(axis=1).sum())"
   ]
  },
  {
   "cell_type": "markdown",
   "id": "3468197f",
   "metadata": {
    "id": "3468197f",
    "slideshow": {
     "slide_type": "subslide"
    }
   },
   "source": [
    "3. מספר נכשלים פר סטונדט - עם שמות הסטודנטים:"
   ]
  },
  {
   "cell_type": "code",
   "execution_count": null,
   "id": "714724ed",
   "metadata": {
    "execution": {
     "iopub.execute_input": "2025-03-10T07:51:30.651581Z",
     "iopub.status.busy": "2025-03-10T07:51:30.651237Z",
     "iopub.status.idle": "2025-03-10T07:51:30.676236Z",
     "shell.execute_reply": "2025-03-10T07:51:30.675462Z"
    },
    "id": "714724ed",
    "slideshow": {
     "slide_type": "fragment"
    }
   },
   "outputs": [],
   "source": [
    "display(df.apply(lambda row: pd.Series([row[\"Name\"], row.drop(\"Name\")[row.drop(\"Name\") < 60].count()]) ,axis=1))"
   ]
  },
  {
   "cell_type": "markdown",
   "id": "feb9021c",
   "metadata": {
    "id": "feb9021c",
    "slideshow": {
     "slide_type": "subslide"
    }
   },
   "source": [
    "4. שם הסטונדט עם הממוצע הגבוה ביותר (רמז - קראו על `idxmin` ו`idxmax`):"
   ]
  },
  {
   "cell_type": "code",
   "execution_count": 190,
   "id": "f3b57185",
   "metadata": {
    "id": "f3b57185",
    "slideshow": {
     "slide_type": "fragment"
    }
   },
   "outputs": [
    {
     "name": "stdout",
     "output_type": "stream",
     "text": [
      "11\n",
      "Tom\n"
     ]
    }
   ],
   "source": [
    "df['Avg'] = df.iloc[:,1:].mean(axis=1)\n",
    "max_id = df['Avg'].idxmax()\n",
    "print(max_id)\n",
    "print(df.loc[max_id][\"Name\"])"
   ]
  },
  {
   "cell_type": "markdown",
   "id": "92762d94-847f-4254-b233-fab1f23a9cc1",
   "metadata": {
    "id": "15eaaf54",
    "slideshow": {
     "slide_type": "fragment"
    }
   },
   "source": [
    "\n",
    "```{admonition} **שימו לב**\n",
    ":class: warning\n",
    "`idxmax` ו-`idxmin` מחזירים את **שם השורה או העמודה (תלוי ב`axis`)**, ולכן בד\"כ יבואו עם `loc`, אלא אם כן, לשם יש משמעות לשמות \n",
    "```"
   ]
  },
  {
   "cell_type": "markdown",
   "id": "24f9744a",
   "metadata": {
    "id": "24f9744a",
    "slideshow": {
     "slide_type": "subslide"
    }
   },
   "source": [
    "#### דוגמא בה לשם העמודה יש משמעות בפני עצמו"
   ]
  },
  {
   "cell_type": "code",
   "execution_count": null,
   "id": "4be4bea7",
   "metadata": {
    "execution": {
     "iopub.execute_input": "2025-03-10T07:51:30.694274Z",
     "iopub.status.busy": "2025-03-10T07:51:30.693951Z",
     "iopub.status.idle": "2025-03-10T07:51:30.699276Z",
     "shell.execute_reply": "2025-03-10T07:51:30.698601Z"
    },
    "id": "4be4bea7",
    "slideshow": {
     "slide_type": "fragment"
    }
   },
   "outputs": [],
   "source": [
    "print(df.drop('Name', axis=1).mean(axis=0).idxmax())"
   ]
  },
  {
   "cell_type": "markdown",
   "id": "d289e901",
   "metadata": {
    "id": "d289e901",
    "slideshow": {
     "slide_type": "subslide"
    }
   },
   "source": [
    "5. שמות כל הסטודנטים שנכשלו ב-`Marine Biology` או ב-`Stellar Cartography`"
   ]
  },
  {
   "cell_type": "code",
   "execution_count": 186,
   "id": "815935e2",
   "metadata": {
    "id": "815935e2",
    "slideshow": {
     "slide_type": "fragment"
    }
   },
   "outputs": [
    {
     "data": {
      "text/plain": [
       "0     Yael\n",
       "7      Avi\n",
       "8      Roy\n",
       "12     Adi\n",
       "Name: Name, dtype: object"
      ]
     },
     "execution_count": 186,
     "metadata": {},
     "output_type": "execute_result"
    }
   ],
   "source": [
    "df.loc[(df['Marine Biology'] < 60) | (df['Stellar Cartography'] < 60), \"Name\"]"
   ]
  },
  {
   "cell_type": "markdown",
   "id": "8bf11ba3",
   "metadata": {
    "id": "8bf11ba3",
    "slideshow": {
     "slide_type": "subslide"
    }
   },
   "source": [
    "6. שמות כל הסטודנטים שקיבלו מעל 90 ב`Art` ו`Math`"
   ]
  },
  {
   "cell_type": "code",
   "execution_count": 188,
   "id": "6c14d604",
   "metadata": {
    "id": "6c14d604",
    "slideshow": {
     "slide_type": "fragment"
    }
   },
   "outputs": [
    {
     "data": {
      "text/plain": [
       "10    Yaniv\n",
       "Name: Name, dtype: object"
      ]
     },
     "execution_count": 188,
     "metadata": {},
     "output_type": "execute_result"
    }
   ],
   "source": [
    "df.loc[(df['Art'] >= 90) & (df['Math'] >= 90), 'Name']"
   ]
  }
 ],
 "metadata": {
  "celltoolbar": "Slideshow",
  "colab": {
   "provenance": []
  },
  "kernelspec": {
   "display_name": "Python 3 (ipykernel)",
   "language": "python",
   "name": "python3"
  },
  "language_info": {
   "codemirror_mode": {
    "name": "ipython",
    "version": 3
   },
   "file_extension": ".py",
   "mimetype": "text/x-python",
   "name": "python",
   "nbconvert_exporter": "python",
   "pygments_lexer": "ipython3",
   "version": "3.11.12"
  }
 },
 "nbformat": 4,
 "nbformat_minor": 5
}
