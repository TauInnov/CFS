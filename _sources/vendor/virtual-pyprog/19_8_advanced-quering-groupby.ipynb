{
 "cells": [
  {
   "cell_type": "code",
   "execution_count": 35,
   "id": "f9e99179",
   "metadata": {
    "id": "f9e99179",
    "slideshow": {
     "slide_type": "notes"
    },
    "tags": [
     "remove_cell"
    ]
   },
   "outputs": [
    {
     "name": "stdout",
     "output_type": "stream",
     "text": [
      "['baby.png', 'countries-of-the-world.csv', 'dialation.png', 'dialation_2.png', 'dog.png', 'dog_noised.png', 'erosion.png', 'erosion_2.png', 'evil_morty_1.png', 'evil_morty_change.png', 'evil_morty_change_3.png', 'evil_morty_change_noised.png', 'evil_morty_segmentation.png', 'ex1.csv', 'ex2.csv', 'koala.png', 'notebook_resources.zip', 'orders_2_2024.csv', 'orders_3_2024.csv', 'orders_4_2024.csv', 'products2.csv', 'ship.png', 'StudentsGrades.csv', 'witcher_1.csv', 'witcher_2.csv', 'woman_noised.png', '__MACOSX']\n"
     ]
    }
   ],
   "source": [
    "import urllib.request\n",
    "import zipfile\n",
    "import os\n",
    "import ssl\n",
    "\n",
    "try:\n",
    "    os.mkdir(\"files\")\n",
    "except:\n",
    "    pass\n",
    "\n",
    "ssl._create_default_https_context = ssl._create_unverified_context\n",
    "\n",
    "with urllib.request.urlopen('https://courses.cs.tau.ac.il/pyProg/2425a/resources/notebook_resources.zip') as f:\n",
    "    content = f.read()\n",
    "\n",
    "with open('files/notebook_resources.zip', 'wb') as f:\n",
    "    f.write(content)\n",
    "\n",
    "with zipfile.ZipFile('files/notebook_resources.zip', 'r') as zip_ref:\n",
    "    zip_ref.extractall('files')\n",
    "\n",
    "print(os.listdir('files'))\n",
    "\n",
    "import pandas as pd\n",
    "pd.options.display.max_rows=5\n"
   ]
  },
  {
   "cell_type": "markdown",
   "id": "6dc1de51",
   "metadata": {
    "id": "6dc1de51",
    "slideshow": {
     "slide_type": "subslide"
    }
   },
   "source": [
    "## `groupby` - סיכום קבוצות של שורות לכדי שורה בודדת"
   ]
  },
  {
   "cell_type": "markdown",
   "id": "cd261c35-894f-49cb-afdc-2b84e4555c81",
   "metadata": {},
   "source": [
    "המתודה `groupby` מאפשרת בצע שאלתות מתקדמות באצעות חלוקת את הנתונים בטבלה לקבוצות על פי ערכים בעמודה מסוימת (או במספר עמודות), ולאחר מכן להפעיל על כל קבוצה חישובים ופעולות סיכום.   \n",
    "\n",
    "לדוגמא, נניח כי בטבלת ציוני הסטודנטים שלנו קיימת עמודה נוספת בשם `Degree`. נוכל להשתמש ב־`groupby(\"Degree\")` כדי לאסוף את כל הסטודנטים של כל קורס לקבוצה אחת, ואז לחשב ממוצע ציונים בתכנות לכל תואר בנפרד.  "
   ]
  },
  {
   "cell_type": "markdown",
   "id": "d5e0ee18",
   "metadata": {
    "id": "d5e0ee18",
    "slideshow": {
     "slide_type": "fragment"
    }
   },
   "source": [
    "כדי לממש את התרחיש לעיל, נוסיף לטבלה שלנו עמודה חדשה בשם \"Degree\"  \n"
   ]
  },
  {
   "cell_type": "code",
   "execution_count": 191,
   "id": "9d343ea6",
   "metadata": {
    "id": "9d343ea6",
    "slideshow": {
     "slide_type": "fragment"
    }
   },
   "outputs": [
    {
     "data": {
      "text/html": [
       "<div>\n",
       "<style scoped>\n",
       "    .dataframe tbody tr th:only-of-type {\n",
       "        vertical-align: middle;\n",
       "    }\n",
       "\n",
       "    .dataframe tbody tr th {\n",
       "        vertical-align: top;\n",
       "    }\n",
       "\n",
       "    .dataframe thead th {\n",
       "        text-align: right;\n",
       "    }\n",
       "</style>\n",
       "<table border=\"1\" class=\"dataframe\">\n",
       "  <thead>\n",
       "    <tr style=\"text-align: right;\">\n",
       "      <th></th>\n",
       "      <th>Name</th>\n",
       "      <th>Programming</th>\n",
       "      <th>Marine Biology</th>\n",
       "      <th>Stellar Cartography</th>\n",
       "      <th>Math</th>\n",
       "      <th>History</th>\n",
       "      <th>Planet Survival</th>\n",
       "      <th>Art</th>\n",
       "      <th>Degree</th>\n",
       "    </tr>\n",
       "  </thead>\n",
       "  <tbody>\n",
       "    <tr>\n",
       "      <th>0</th>\n",
       "      <td>Yael</td>\n",
       "      <td>50</td>\n",
       "      <td>56</td>\n",
       "      <td>70</td>\n",
       "      <td>60</td>\n",
       "      <td>87</td>\n",
       "      <td>65</td>\n",
       "      <td>91</td>\n",
       "      <td>Industrial</td>\n",
       "    </tr>\n",
       "    <tr>\n",
       "      <th>1</th>\n",
       "      <td>Nadav</td>\n",
       "      <td>61</td>\n",
       "      <td>77</td>\n",
       "      <td>75</td>\n",
       "      <td>75</td>\n",
       "      <td>63</td>\n",
       "      <td>52</td>\n",
       "      <td>88</td>\n",
       "      <td>Industrial</td>\n",
       "    </tr>\n",
       "    <tr>\n",
       "      <th>...</th>\n",
       "      <td>...</td>\n",
       "      <td>...</td>\n",
       "      <td>...</td>\n",
       "      <td>...</td>\n",
       "      <td>...</td>\n",
       "      <td>...</td>\n",
       "      <td>...</td>\n",
       "      <td>...</td>\n",
       "      <td>...</td>\n",
       "    </tr>\n",
       "    <tr>\n",
       "      <th>11</th>\n",
       "      <td>Tom</td>\n",
       "      <td>98</td>\n",
       "      <td>76</td>\n",
       "      <td>98</td>\n",
       "      <td>100</td>\n",
       "      <td>98</td>\n",
       "      <td>92</td>\n",
       "      <td>80</td>\n",
       "      <td>mechanical</td>\n",
       "    </tr>\n",
       "    <tr>\n",
       "      <th>12</th>\n",
       "      <td>Adi</td>\n",
       "      <td>76</td>\n",
       "      <td>87</td>\n",
       "      <td>34</td>\n",
       "      <td>90</td>\n",
       "      <td>88</td>\n",
       "      <td>84</td>\n",
       "      <td>70</td>\n",
       "      <td>mechanical</td>\n",
       "    </tr>\n",
       "  </tbody>\n",
       "</table>\n",
       "<p>13 rows × 9 columns</p>\n",
       "</div>"
      ],
      "text/plain": [
       "     Name  Programming  Marine Biology  Stellar Cartography  Math  History  \\\n",
       "0    Yael           50              56                   70    60       87   \n",
       "1   Nadav           61              77                   75    75       63   \n",
       "..    ...          ...             ...                  ...   ...      ...   \n",
       "11    Tom           98              76                   98   100       98   \n",
       "12    Adi           76              87                   34    90       88   \n",
       "\n",
       "    Planet Survival  Art      Degree  \n",
       "0                65   91  Industrial  \n",
       "1                52   88  Industrial  \n",
       "..              ...  ...         ...  \n",
       "11               92   80  mechanical  \n",
       "12               84   70  mechanical  \n",
       "\n",
       "[13 rows x 9 columns]"
      ]
     },
     "metadata": {},
     "output_type": "display_data"
    }
   ],
   "source": [
    "inputFileName = \"files/StudentsGrades.csv\"\n",
    "df = pd.read_csv(inputFileName)\n",
    "df['Degree']=[\"Industrial\", \"Industrial\", \"mechanical\", \\\n",
    "              \"Industrial\", \"Industrial\", \"electrical\", \\\n",
    "              \"electrical\", \"electrical\", \"electrical\", \\\n",
    "              \"bio-medical\", \"bio-medical\", \"mechanical\", \"mechanical\"]\n",
    "display(df)"
   ]
  },
  {
   "cell_type": "markdown",
   "id": "a3243f13",
   "metadata": {
    "id": "a3243f13",
    "slideshow": {
     "slide_type": "subslide"
    }
   },
   "source": [
    "### `groupby` התחביר של"
   ]
  },
  {
   "cell_type": "markdown",
   "id": "3b84c863-b68f-43c4-9214-6c94f7e99d39",
   "metadata": {},
   "source": [
    "####  df.<span style='color:red'>groupby(x)</span><span style='color:blue'>[y]</span>.<span style='color:green'>op()</span>\n",
    "\n",
    "- <span style='color:red'>חלוקת ה־`DataFrame` לקבוצות (טבלאות משנה מסוג `DataFrame`) לפי הערכים בעמודה או בעמודות `x`</span>  \n",
    "- <span style='color:blue'>בחירת העמודה או העמודות הרלוונטיות - `y`</span>  \n",
    "- <span style='color:green'>ביצוע פעולת סיכום על הערכים בכל טבלת משנה לקבלת ערך יחיד באמצעות האופרטור/פונקציה המתאימה (`op`). למשל: `mean()`, `max()`, `min()`, `sum()`, `count()`, `apply()`</span>  \n",
    "\n",
    "שימו לב ש־`x` ו־`y` יכולים להיות עמודה אחת (מחרוזת בודדת `str`) או מספר עמודות (רשימה של מחרוזות).  \n"
   ]
  },
  {
   "cell_type": "markdown",
   "id": "6906189c-606c-40d4-ab99-e4d3564aeb24",
   "metadata": {},
   "source": [
    "לדוגמא, השורה שלהלן מחזירה את הממוצע בתכנות בפילוח לפי סוג תואר  "
   ]
  },
  {
   "cell_type": "code",
   "execution_count": 192,
   "id": "a50e2a7a",
   "metadata": {
    "id": "a50e2a7a",
    "slideshow": {
     "slide_type": "fragment"
    }
   },
   "outputs": [
    {
     "data": {
      "text/plain": [
       "Degree\n",
       "Industrial     57.25\n",
       "bio-medical    85.00\n",
       "electrical     78.25\n",
       "mechanical     85.00\n",
       "Name: Programming, dtype: float64"
      ]
     },
     "execution_count": 192,
     "metadata": {},
     "output_type": "execute_result"
    }
   ],
   "source": [
    "df.groupby([\"Degree\"])['Programming'].mean()"
   ]
  },
  {
   "cell_type": "markdown",
   "id": "be0fb5f6-91bd-4464-94e9-c3db2b9022f4",
   "metadata": {},
   "source": [
    "ואם נרצה לדעת מהו הציון מקסימלי שהתקבל בכל קבוצה?   \n",
    "פשוט נחליף את פעולת הסיכום ל`max`:"
   ]
  },
  {
   "cell_type": "code",
   "execution_count": 193,
   "id": "a24c6ebf-562d-47dc-9b3d-60891785c2ed",
   "metadata": {},
   "outputs": [
    {
     "data": {
      "text/plain": [
       "Degree\n",
       "Industrial      82\n",
       "bio-medical    100\n",
       "electrical      95\n",
       "mechanical      98\n",
       "Name: Programming, dtype: int64"
      ]
     },
     "execution_count": 193,
     "metadata": {},
     "output_type": "execute_result"
    }
   ],
   "source": [
    "df.groupby([\"Degree\"])['Programming'].max()"
   ]
  },
  {
   "cell_type": "markdown",
   "id": "75182a33-35f1-4d68-a6b1-872e81ef235d",
   "metadata": {
    "execution": {
     "iopub.execute_input": "2025-03-10T07:51:30.767290Z",
     "iopub.status.busy": "2025-03-10T07:51:30.766953Z",
     "iopub.status.idle": "2025-03-10T07:51:30.774364Z",
     "shell.execute_reply": "2025-03-10T07:51:30.773636Z"
    },
    "id": "63d219bd",
    "slideshow": {
     "slide_type": "fragment"
    }
   },
   "source": [
    "#### תרגול \n",
    "\n",
    "נסו כעת בעצמכם:\n",
    "\n",
    "כתבו שורת קוד בודדת המחלצת את הסטודנט שיקבל את הציון הכי נמוך בכל תואר (סה\"כ 4 סטודנטים כי ישנם 4 תארים).   \n",
    "הניחו כי בכל תואר קיים סטודנט אחד כזה בדיוק.      \n",
    "\n",
    "השוו את הקוד שכתבתם הפתרון למטה.\n"
   ]
  },
  {
   "cell_type": "markdown",
   "id": "92aa540d-869f-4688-aecd-a95d9f2f3fde",
   "metadata": {},
   "source": [
    "\n",
    "```{admonition} **רמז**\n",
    ":class: tip\n",
    "השתמשו ב`idxmin`\n",
    "```"
   ]
  },
  {
   "cell_type": "code",
   "execution_count": 194,
   "id": "9bf6ad81",
   "metadata": {
    "id": "9bf6ad81",
    "slideshow": {
     "slide_type": "fragment"
    }
   },
   "outputs": [
    {
     "data": {
      "text/plain": [
       "3     Shoshana\n",
       "10       Yaniv\n",
       "5         Omer\n",
       "11         Tom\n",
       "Name: Name, dtype: object"
      ]
     },
     "execution_count": 194,
     "metadata": {},
     "output_type": "execute_result"
    }
   ],
   "source": [
    "df.loc[df.groupby([\"Degree\"])['Programming'].idxmin(), 'Name']"
   ]
  }
 ],
 "metadata": {
  "celltoolbar": "Slideshow",
  "colab": {
   "provenance": []
  },
  "kernelspec": {
   "display_name": "Python 3 (ipykernel)",
   "language": "python",
   "name": "python3"
  },
  "language_info": {
   "codemirror_mode": {
    "name": "ipython",
    "version": 3
   },
   "file_extension": ".py",
   "mimetype": "text/x-python",
   "name": "python",
   "nbconvert_exporter": "python",
   "pygments_lexer": "ipython3",
   "version": "3.11.12"
  }
 },
 "nbformat": 4,
 "nbformat_minor": 5
}
