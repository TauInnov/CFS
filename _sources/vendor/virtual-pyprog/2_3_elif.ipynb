{
 "cells": [
  {
   "cell_type": "code",
   "execution_count": null,
   "id": "9ce324cd-a8f2-427d-8357-48a383eae9fc",
   "metadata": {
    "tags": [
     "remove-cell"
    ]
   },
   "outputs": [],
   "source": [
    "%%html\n",
    "<script>\n",
    "(function() {\n",
    "  // Create the toggle button\n",
    "  const rtlButton = document.createElement(\"button\");\n",
    "  rtlButton.textContent = \"Toggle LTR\";\n",
    "  rtlButton.id = \"top-rtl-toggle\";\n",
    "  rtlButton.style.marginLeft = \"8px\";\n",
    "  rtlButton.style.padding = \"4px 10px\";\n",
    "  rtlButton.style.fontSize = \"14px\";\n",
    "  rtlButton.style.cursor = \"pointer\";\n",
    "\n",
    "  // State\n",
    "  var rtlActive = false;\n",
    "\n",
    "  // Styling function\n",
    "  var applyStyleToEditor = (editor) => {\n",
    "    if (!editor) return;\n",
    "    var direction = getComputedStyle(editor).getPropertyValue('direction')=='rtl' ? 'ltr' : 'rtl';\n",
    "    var text_align = getComputedStyle(editor).getPropertyValue('text-align')=='right' ? 'left' : 'right';\n",
    "    editor.style.setProperty('direction', direction, 'important');\n",
    "    editor.style.setProperty('text-align', text_align, 'important');\n",
    "  };\n",
    "\n",
    "  // Toggle logic\n",
    "  rtlButton.onclick = () => {\n",
    "    rtlActive = !rtlActive;\n",
    "    rtlButton.textContent = rtlActive ? \"Toggle LTR\" : \"Toggle RTL\";\n",
    "    document.querySelectorAll('.jp-MarkdownCell .jp-InputArea-editor').forEach(applyStyleToEditor);\n",
    "    document.querySelectorAll('.jp-RenderedHTMLCommon code, .jp-RenderedHTMLCommon code span').forEach(applyStyleToEditor);\n",
    "    document.querySelectorAll('jp-RenderedHTMLCommon, .jp-RenderedHTMLCommon *').forEach(applyStyleToEditor);\n",
    "  };\n",
    "\n",
    "  // Watch for focus into editing Markdown cells\n",
    "  // document.addEventListener('focusin', (event) => {\n",
    "  //   const editor = event.target.closest('.jp-MarkdownCell .jp-InputArea-editor');\n",
    "  //    if (editor) applyStyleToEditor(editor);\n",
    "  // });\n",
    "\n",
    "  // Insert into top toolbar if not already present\n",
    "  var insertIntoToolbar = () => {\n",
    "    const toolbar = document.querySelector('.jp-NotebookPanel-toolbar');\n",
    "    if (toolbar && !document.getElementById(\"top-rtl-toggle\")) {\n",
    "      toolbar.appendChild(rtlButton);\n",
    "    } else {\n",
    "      // Try again in a moment if toolbar isn't ready yet\n",
    "      setTimeout(insertIntoToolbar, 300);\n",
    "    }\n",
    "  };\n",
    "\n",
    "  insertIntoToolbar();\n",
    "})();\n",
    "</script>"
   ]
  },
  {
   "cell_type": "code",
   "execution_count": null,
   "id": "2d7af840",
   "metadata": {
    "slideshow": {
     "slide_type": "skip"
    },
    "tags": [
     "remove-cell"
    ]
   },
   "outputs": [],
   "source": [
    "%%html\n",
    "<!-- <style>\n",
    "  table {display: inline-block}\n",
    "</style> -->\n"
   ]
  },
  {
   "cell_type": "markdown",
   "id": "cd933852-2a7b-46e5-bfa2-6e11dc79af05",
   "metadata": {},
   "source": [
    "## תחביר `if-elif-else`"
   ]
  },
  {
   "cell_type": "markdown",
   "id": "fd1a2308-a236-4100-96b6-cb53e689734f",
   "metadata": {},
   "source": [
    "כאשר יש לנו הרבה תנאים מקוננים במבנה של if...else, התוכנית שלנו עלולה \"להימתח\" ימינה בצורה מוגזמת:\n",
    "```python\n",
    "if תנאי 1:\n",
    "\t\n",
    "else:\n",
    "\tif תנאי 2:\n",
    "\t\t\n",
    "\telse:\n",
    "\t\tif תנאי 3:\n",
    "\t\t\t\n",
    "\t\telse:\n",
    "\t\t\tif תנאי 4:\n",
    "\t\t\t\t\n",
    "\t\t\telse:\n",
    "```\n",
    "\n",
    "כדי להימנע מזה, בפייתון ניתן לקצר את:\n",
    "```python\n",
    "else:\n",
    "    if תנאי: \n",
    "```\n",
    "באופן הבא:\n",
    "```python\n",
    "elif תנאי: \n",
    "```\n",
    "כלומר elif הוא קיצור של else ומייד אחריו if.\n",
    "\n",
    "התוכנית שלעיל תיראה כך:\n",
    "```python\n",
    "if תנאי 1:\n",
    "elif תנאי 2:\n",
    "elif תנאי 3:\n",
    "elif תנאי 4:\n",
    "```"
   ]
  },
  {
   "cell_type": "markdown",
   "id": "18922026-2906-4219-830b-5ea27004eae8",
   "metadata": {},
   "source": [
    "### בחנו את עצמכם"
   ]
  },
  {
   "cell_type": "markdown",
   "id": "8c84a5a4-0b24-417e-8abe-07853790bf2d",
   "metadata": {},
   "source": [
    "להלן קטע קוד:\n",
    "``` python\n",
    "if \"a\" in word:\n",
    "    print(\"a\")\n",
    "elif \"b\" in word:\n",
    "    print(\"b\")\n",
    "elif \"c\" in word:\n",
    "    print(\"c\")\n",
    "else:\n",
    "    print(\"nothing\")\n",
    "```"
   ]
  },
  {
   "cell_type": "code",
   "execution_count": null,
   "id": "f8f12bc3-e9bb-428f-9457-78c39c08a200",
   "metadata": {
    "tags": [
     "remove-input"
    ]
   },
   "outputs": [],
   "source": [
    "import json\n",
    "from jupyterquiz import display_quiz\n",
    "example = \\\n",
    "'''\n",
    "   [{\n",
    "    \n",
    "        \"question\": \"מה יודפס עבור word='abc'?\",\n",
    "        \"type\": \"many_choice\",\n",
    "        \"answers\": [\n",
    "            {\n",
    "                \"answer\": \"a\",\n",
    "                \"correct\": true,\n",
    "                \"feedback\": \"נכון!\"\n",
    "            },\n",
    "            {\n",
    "                \"answer\": \"a+b+c\",\n",
    "                \"correct\": false,\n",
    "                \"feedback\": \"לא נכון\"\n",
    "            },\n",
    "            { \n",
    "                \"answer\": \"b+c\",\n",
    "                \"correct\": false,\n",
    "                \"feedback\": \"לא נכון\"\n",
    "\n",
    "            },\n",
    "            { \n",
    "                \"answer\": \"nothing\",\n",
    "                \"correct\": false,\n",
    "                \"feedback\": \"לא נכון\"\n",
    "\n",
    "            }\n",
    "        ]\n",
    "    }]\n",
    "'''\n",
    "myquiz = json.loads(example)\n",
    "display_quiz(myquiz)"
   ]
  },
  {
   "cell_type": "code",
   "execution_count": null,
   "id": "83fecf67-38e7-485f-a74a-778b9f22e855",
   "metadata": {
    "tags": [
     "remove-input"
    ]
   },
   "outputs": [],
   "source": [
    "import json\n",
    "from jupyterquiz import display_quiz\n",
    "example = \\\n",
    "'''\n",
    "   [{\n",
    "    \n",
    "        \"question\": \"מה יודפס עבור word='ac'?\",\n",
    "        \"type\": \"many_choice\",\n",
    "        \"answers\": [\n",
    "            {\n",
    "                \"answer\": \"a\",\n",
    "                \"correct\": true,\n",
    "                \"feedback\": \"נכון!\"\n",
    "            },\n",
    "            {\n",
    "                \"answer\": \"a+b+c\",\n",
    "                \"correct\": false,\n",
    "                \"feedback\": \"לא נכון\"\n",
    "            },\n",
    "            { \n",
    "                \"answer\": \"b+c\",\n",
    "                \"correct\": false,\n",
    "                \"feedback\": \"לא נכון\"\n",
    "\n",
    "            },\n",
    "            { \n",
    "                \"answer\": \"nothing\",\n",
    "                \"correct\": false,\n",
    "                \"feedback\": \"לא נכון\"\n",
    "\n",
    "            }\n",
    "        ]\n",
    "    }]\n",
    "'''\n",
    "myquiz = json.loads(example)\n",
    "display_quiz(myquiz)"
   ]
  },
  {
   "cell_type": "code",
   "execution_count": null,
   "id": "05e98ea7-c4e4-4a7c-9cc8-bcf4cded6b65",
   "metadata": {
    "tags": [
     "remove-input"
    ]
   },
   "outputs": [],
   "source": [
    "import json\n",
    "from jupyterquiz import display_quiz\n",
    "example = \\\n",
    "'''\n",
    "   [{\n",
    "    \n",
    "        \"question\": \"מה יודפס עבור word='bc'?\",\n",
    "        \"type\": \"many_choice\",\n",
    "        \"answers\": [\n",
    "            {\n",
    "                \"answer\": \"b\",\n",
    "                \"correct\": true,\n",
    "                \"feedback\": \"נכון!\"\n",
    "            },\n",
    "            {\n",
    "                \"answer\": \"a+b+c\",\n",
    "                \"correct\": false,\n",
    "                \"feedback\": \"לא נכון\"\n",
    "            },\n",
    "            { \n",
    "                \"answer\": \"b+c\",\n",
    "                \"correct\": false,\n",
    "                \"feedback\": \"לא נכון\"\n",
    "\n",
    "            },\n",
    "            { \n",
    "                \"answer\": \"nothing\",\n",
    "                \"correct\": false,\n",
    "                \"feedback\": \"לא נכון\"\n",
    "\n",
    "            }\n",
    "        ]\n",
    "    }]\n",
    "'''\n",
    "myquiz = json.loads(example)\n",
    "display_quiz(myquiz)"
   ]
  }
 ],
 "metadata": {
  "celltoolbar": "Slideshow",
  "kernelspec": {
   "display_name": "Python 3 (ipykernel)",
   "language": "python",
   "name": "python3"
  },
  "language_info": {
   "codemirror_mode": {
    "name": "ipython",
    "version": 3
   },
   "file_extension": ".py",
   "mimetype": "text/x-python",
   "name": "python",
   "nbconvert_exporter": "python",
   "pygments_lexer": "ipython3",
   "version": "3.13.5"
  }
 },
 "nbformat": 4,
 "nbformat_minor": 5
}
