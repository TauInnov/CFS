{
 "cells": [
  {
   "cell_type": "markdown",
   "id": "396172c2",
   "metadata": {
    "slideshow": {
     "slide_type": "subslide"
    }
   },
   "source": [
    "# המרות בין טיפוסים"
   ]
  },
  {
   "cell_type": "markdown",
   "id": "023e168f-83f5-4e5f-afc3-d3b11e6bf29d",
   "metadata": {},
   "source": [
    "נניח שאנחנו רוצים לבדוק כמה ספרות יש במספר כלשהו. לדוגמא - ב10 יש שתי ספרות, וב256 יש שלוש ספרות.\n",
    "אם נחשוב על המספר כ־`int`, זה לא ממש פשוט. לא ניתן לבצע `len` על ערך מסוג `int`. למעשה, כרגע אין בידינו את הכלים לבדוק זאת (אך בהמשך הקורס נלמד אותם ואף נחזור לשאלה הזו).\n",
    "\n",
    "מצד שני, אם היינו יכולים לקבל את המספר 10 כמחרוזת \"10\", אז יש לנו את הפקודה `len` וזה נהיה פשוט מאוד!"
   ]
  },
  {
   "cell_type": "markdown",
   "id": "d1b3c304-b482-4f5f-acb5-0c849cd8ac51",
   "metadata": {},
   "source": [
    "אפשר לבצע המרה באמצעות שם הטיפוס עצמו, כפונקציה:"
   ]
  },
  {
   "cell_type": "code",
   "execution_count": 3,
   "id": "aa86db88-1c46-4b25-8abe-200104b7565c",
   "metadata": {},
   "outputs": [
    {
     "name": "stdout",
     "output_type": "stream",
     "text": [
      "<class 'int'>\n",
      "<class 'str'>\n",
      "5\n"
     ]
    }
   ],
   "source": [
    "num = 12345\n",
    "print(type(num))\n",
    "\n",
    "num = str(num)\n",
    "print(type(num))"
   ]
  },
  {
   "cell_type": "markdown",
   "id": "bdeca8d6-29d6-49a5-917c-db02a8162451",
   "metadata": {},
   "source": [
    "וכך נוכל לספור את כמות הספרות:"
   ]
  },
  {
   "cell_type": "code",
   "execution_count": 4,
   "id": "7649335f-77e2-440a-84e7-80bea33130c0",
   "metadata": {},
   "outputs": [
    {
     "name": "stdout",
     "output_type": "stream",
     "text": [
      "5\n"
     ]
    }
   ],
   "source": [
    "num = 12345\n",
    "print(len(str(num)))"
   ]
  },
  {
   "cell_type": "markdown",
   "id": "1c8fbb84-84bc-4171-b4f1-722c325650cd",
   "metadata": {},
   "source": [
    "#### אילו טיפוסים ניתן להמיר?"
   ]
  },
  {
   "cell_type": "markdown",
   "id": "557d9bbb-d3b8-48f0-b707-005a1bfcd040",
   "metadata": {},
   "source": [
    "באופן עקרוני, ניתן לנסות לבצע המרה מכל טיפוס לכל טיפוס. ההמרה תתבצע בהצלחה רק אם הערך שאותו מנסים למהיר \"הגיוני\" עבור טיפוס אליו מנסים להמיר.\n",
    "לדוגמה:\n",
    "- את המחרוזת \"12\" נוכל להמיר לטיפוסים `int` ו`float`\n",
    "- את המחרוזת \"10.5\" נוכל להמיר בהצלחה ל`float` בלבד\n",
    "- את המחרוזת \"hello world\" לא ניתן להמיר בהצלחה באף אחד מהטיפוסים המספריים.\n",
    "\n",
    "בהמשך נלמד עוד סוגים - וכמובן שניתן לנסות לבצע המרה גם לטיפוסים הללו."
   ]
  },
  {
   "cell_type": "markdown",
   "id": "8de04467-c25e-44ac-9315-a647e83a82eb",
   "metadata": {},
   "source": [
    "<h4 style=\"color:purple\">\n",
    "התנסו בעצמכם\n",
    "</h4>"
   ]
  },
  {
   "cell_type": "code",
   "execution_count": null,
   "id": "e2e01820",
   "metadata": {
    "execution": {
     "iopub.execute_input": "2025-03-10T09:57:49.536865Z",
     "iopub.status.busy": "2025-03-10T09:57:49.536482Z",
     "iopub.status.idle": "2025-03-10T09:57:49.541281Z",
     "shell.execute_reply": "2025-03-10T09:57:49.540613Z"
    },
    "slideshow": {
     "slide_type": "fragment"
    }
   },
   "outputs": [],
   "source": [
    "num = 123\n",
    "print(num, type(num))\n",
    "num_str = str(num)\n",
    "print(num, type(num))\n",
    "num_float = float(num)\n",
    "print(num_float, type(num_float))"
   ]
  },
  {
   "cell_type": "markdown",
   "id": "316c91e6-823f-47de-93eb-c30f2a01c051",
   "metadata": {},
   "source": [
    "מה יקרה אם ניסיון המרה נכשל? מה יקרה אם ננסה להמיר לטיפוס לא מתאים?"
   ]
  },
  {
   "cell_type": "code",
   "execution_count": null,
   "id": "98211ffe-8888-4921-97f3-8854a22d3b88",
   "metadata": {},
   "outputs": [],
   "source": [
    "# Your code here"
   ]
  },
  {
   "cell_type": "markdown",
   "id": "9f228e2f-02f5-430a-bffb-9a0a975bef58",
   "metadata": {},
   "source": [
    "האם ניתן להמיר `float` לא שלם ל`int`? בדקו זאת!"
   ]
  },
  {
   "cell_type": "code",
   "execution_count": null,
   "id": "9cd6039a-5c23-4f51-94ce-a5b6085e9c07",
   "metadata": {},
   "outputs": [],
   "source": [
    "# Your code here"
   ]
  },
  {
   "cell_type": "markdown",
   "id": "8996ba4b-0fc5-41b6-8a64-12a163503ede",
   "metadata": {},
   "source": [
    "אילו טיפוסים ניתן להמיר לבוליאני? לאילו טיפוסים ניתן להמיר ערך בוליאני?"
   ]
  },
  {
   "cell_type": "code",
   "execution_count": 50,
   "id": "33806dc1-759e-4e4d-a972-4de529225d98",
   "metadata": {},
   "outputs": [
    {
     "name": "stdout",
     "output_type": "stream",
     "text": [
      "1\n",
      "False\n"
     ]
    }
   ],
   "source": [
    "print(int(True))\n",
    "print(bool(0))\n",
    "\n",
    "# Try converting more values and see what happens!"
   ]
  }
 ],
 "metadata": {
  "celltoolbar": "Slideshow",
  "kernelspec": {
   "display_name": "Python 3 (ipykernel)",
   "language": "python",
   "name": "python3"
  },
  "language_info": {
   "codemirror_mode": {
    "name": "ipython",
    "version": 3
   },
   "file_extension": ".py",
   "mimetype": "text/x-python",
   "name": "python",
   "nbconvert_exporter": "python",
   "pygments_lexer": "ipython3",
   "version": "3.13.5"
  }
 },
 "nbformat": 4,
 "nbformat_minor": 5
}
